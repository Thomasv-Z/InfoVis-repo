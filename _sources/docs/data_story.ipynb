{
 "cells": [
  {
   "attachments": {},
   "cell_type": "markdown",
   "metadata": {
    "id": "4lkQ0f0xgTFU"
   },
   "source": [
    "# **A data driven analysis of the Refugee Crisis**"
   ]
  },
  {
   "attachments": {},
   "cell_type": "markdown",
   "metadata": {},
   "source": [
    "Niffyn Trouw - 14625970<br>\n",
    "Max Kowalchuk – 14032031<br>\n",
    "Thomas van Zuilen - 14746646"
   ]
  },
  {
   "attachments": {},
   "cell_type": "markdown",
   "metadata": {
    "id": "rEn5rstPgb__"
   },
   "source": [
    "# Introduction\n",
    "\n",
    "The refugee crisis has been an ongoing topic for decades, causing divides amongst many people across all corners of the world. The refugee crisis entails the forced displacement of large groups of people. It is a complex humanitarian challenge, often caused by both historical as well as current geopolitical conflicts and divisions.\n",
    "\n",
    "The refugee crisis has many different perspectives, when it comes to the causes, as well as the effects, and the correct way of tackling it.\n",
    "\n",
    "A common disagreement in this topic regards asylum procedure. One perspective is that the asylum procedure is effective, or good in some countries. Arguments made for this are for example that some countries house a much larger portion of refugees than others. Of course, there are many more nuanced stances and statistics. In order to demonstrate the effectiveness of the asylum procedure, it is essential to assess the number of refugee applications received and the corresponding processing rates within a specific timeframe.\n",
    "\n",
    "The (generally) opposing stance is that asylum systems like much adjustment to help the problem, or that they even worsen the problem. For many countries the seeking of an asylum, or rather the process of being assigned to one can take absurdly long and/or convoluted. This can result in the accumulation of the queue for refugees, thus worsening the crisis. In order to find out the possible reasons for this, the total number of refugees worldwide and the countries to which they are sent should be illustrated, as some countries may receive too many refugees than others. The logistics of the distribution process can also be inefficient by making it needlessly distant for refugees to travel compared to their country of origin."
   ]
  },
  {
   "attachments": {},
   "cell_type": "markdown",
   "metadata": {
    "id": "XabjsLoqLib6"
   },
   "source": [
    "# Dataset and preprocessing\n",
    "\n",
    "**Dataset**\n",
    "\n",
    "For this data story we use mostly refugee data from the UN High Commissioner for Refugees (UNHCR). This is data on uprooted populations and asylum processing. It can be downloaded here: [Refugee Data](https://www.kaggle.com/datasets/unitednations/refugee-data).\n",
    "\n",
    " The dataset consists of 6 csv's with varying data, regarding many demographics around the refugee crisis for many different countries, such as the movement of displaced persons, the amount per month, progress through the refugee system, the location of origin and destination, etc. Besides this data, there is also data regarding the outcomes and responses of asylum petitions for different countries.\n",
    "\n",
    "We also use some open data from the Centraal Bureau voor de Statistiek (CBS), regarding asylum applications and family reunification; nationality, sex and age, in the Netherlands. It can be downloaded here: [CBS regarding asylum applications](https://opendata.cbs.nl/statline/#/CBS/nl/dataset83102ned/table).\n",
    "\n",
    "This table contains data on the numbers of submitted asylum applications and following family members (following family members) per month, quarter and year, distinguished by the nationality, gender and age group of the asylum seeker and following family member. In addition to the total number of requests, the first and subsequent requests are also included. As of 2016, the first requests include relocation. Figures are available from January 2013. The figures shown concern asylum seekers who have been formally identified and registered.\n",
    "\n",
    "\n",
    "**Preprocessing**\n",
    "\n",
    "Using the data from the \"asylum_seekers_monthly.csv\" file, we created an overview of the countries of asylum and the number of monthly asylum seekers. By grouping and summing the data by country of origin, we focused on the total number of incoming asylum seekers by country of asylum. This approach allows us to understand the size of the refugee flow by country, without focusing on individual countries of origin.\n",
    "\n",
    "Using the \"asylum_seekers.csv\" file, we aggregated data by country of origin and country of asylum. We looked at three key variables: the number of new asylum applications per year, the total number of pending applications at the beginning of the year, and the total number of pending applications at the end of the year. This information gives us insight into the dynamics of asylum applications and the situation of asylum seekers over an entire year."
   ]
  },
  {
   "cell_type": "code",
   "execution_count": 10,
   "metadata": {
    "colab": {
     "base_uri": "https://localhost:8080/",
     "height": 38
    },
    "id": "w0QHHv8aBG9s",
    "outputId": "ed5c5afc-ffa9-4920-a9b6-ae99087807bb",
    "tags": [
     "hide-input"
    ]
   },
   "outputs": [],
   "source": [
    "import plotly.graph_objs as go\n",
    "import plotly.express as px\n",
    "import pandas as pd\n",
    "import io\n",
    "import matplotlib.pyplot as plt\n",
    "import numpy as np"
   ]
  },
  {
   "attachments": {},
   "cell_type": "markdown",
   "metadata": {},
   "source": [
    "### Asylum applications across all countries 2000-2017"
   ]
  },
  {
   "cell_type": "code",
   "execution_count": 11,
   "metadata": {
    "colab": {
     "base_uri": "https://localhost:8080/",
     "height": 628
    },
    "id": "rM5ys99n02fR",
    "outputId": "64d60c8f-4835-4ec4-9096-15f7a211e8b5",
    "tags": [
     "hide-input"
    ]
   },
   "outputs": [
    {
     "data": {
      "application/vnd.plotly.v1+json": {
       "config": {
        "plotlyServerURL": "https://plot.ly"
       },
       "data": [
        {
         "name": "Pending end of year",
         "type": "scatter",
         "x": [
          2000,
          2001,
          2002,
          2003,
          2004,
          2005,
          2006,
          2007,
          2008,
          2009,
          2010,
          2011,
          2012,
          2013,
          2014,
          2015,
          2016
         ],
         "y": [
          3499106,
          3688378,
          4079510,
          4207952,
          3767608,
          3413132,
          3089686,
          2866794,
          2964802,
          3660326,
          3364416,
          3459732,
          3666964,
          4165656,
          6225352,
          9535458,
          10916084
         ]
        },
        {
         "name": "Applied during year",
         "type": "scatter",
         "x": [
          2000,
          2001,
          2002,
          2003,
          2004,
          2005,
          2006,
          2007,
          2008,
          2009,
          2010,
          2011,
          2012,
          2013,
          2014,
          2015,
          2016
         ],
         "y": [
          2186090,
          1836312,
          1897072,
          1680472,
          1362318,
          1348010,
          1214922,
          1286930,
          1729884,
          1871206,
          1661928,
          1728464,
          1846310,
          2122148,
          3233130,
          6082398,
          4161200
         ]
        }
       ],
       "layout": {
        "annotations": [
         {
          "font": {
           "size": 10
          },
          "showarrow": false,
          "text": "The total number of recorded applications of asylum seekers summed over all countries between 2000 and 2017,<br> as well as the amount of applications still pending, i.e. not processed, at the end of the year.",
          "width": 600,
          "x": 0.5,
          "xref": "paper",
          "y": -0.28,
          "yref": "paper"
         }
        ],
        "template": {
         "data": {
          "bar": [
           {
            "error_x": {
             "color": "#2a3f5f"
            },
            "error_y": {
             "color": "#2a3f5f"
            },
            "marker": {
             "line": {
              "color": "#E5ECF6",
              "width": 0.5
             },
             "pattern": {
              "fillmode": "overlay",
              "size": 10,
              "solidity": 0.2
             }
            },
            "type": "bar"
           }
          ],
          "barpolar": [
           {
            "marker": {
             "line": {
              "color": "#E5ECF6",
              "width": 0.5
             },
             "pattern": {
              "fillmode": "overlay",
              "size": 10,
              "solidity": 0.2
             }
            },
            "type": "barpolar"
           }
          ],
          "carpet": [
           {
            "aaxis": {
             "endlinecolor": "#2a3f5f",
             "gridcolor": "white",
             "linecolor": "white",
             "minorgridcolor": "white",
             "startlinecolor": "#2a3f5f"
            },
            "baxis": {
             "endlinecolor": "#2a3f5f",
             "gridcolor": "white",
             "linecolor": "white",
             "minorgridcolor": "white",
             "startlinecolor": "#2a3f5f"
            },
            "type": "carpet"
           }
          ],
          "choropleth": [
           {
            "colorbar": {
             "outlinewidth": 0,
             "ticks": ""
            },
            "type": "choropleth"
           }
          ],
          "contour": [
           {
            "colorbar": {
             "outlinewidth": 0,
             "ticks": ""
            },
            "colorscale": [
             [
              0,
              "#0d0887"
             ],
             [
              0.1111111111111111,
              "#46039f"
             ],
             [
              0.2222222222222222,
              "#7201a8"
             ],
             [
              0.3333333333333333,
              "#9c179e"
             ],
             [
              0.4444444444444444,
              "#bd3786"
             ],
             [
              0.5555555555555556,
              "#d8576b"
             ],
             [
              0.6666666666666666,
              "#ed7953"
             ],
             [
              0.7777777777777778,
              "#fb9f3a"
             ],
             [
              0.8888888888888888,
              "#fdca26"
             ],
             [
              1,
              "#f0f921"
             ]
            ],
            "type": "contour"
           }
          ],
          "contourcarpet": [
           {
            "colorbar": {
             "outlinewidth": 0,
             "ticks": ""
            },
            "type": "contourcarpet"
           }
          ],
          "heatmap": [
           {
            "colorbar": {
             "outlinewidth": 0,
             "ticks": ""
            },
            "colorscale": [
             [
              0,
              "#0d0887"
             ],
             [
              0.1111111111111111,
              "#46039f"
             ],
             [
              0.2222222222222222,
              "#7201a8"
             ],
             [
              0.3333333333333333,
              "#9c179e"
             ],
             [
              0.4444444444444444,
              "#bd3786"
             ],
             [
              0.5555555555555556,
              "#d8576b"
             ],
             [
              0.6666666666666666,
              "#ed7953"
             ],
             [
              0.7777777777777778,
              "#fb9f3a"
             ],
             [
              0.8888888888888888,
              "#fdca26"
             ],
             [
              1,
              "#f0f921"
             ]
            ],
            "type": "heatmap"
           }
          ],
          "heatmapgl": [
           {
            "colorbar": {
             "outlinewidth": 0,
             "ticks": ""
            },
            "colorscale": [
             [
              0,
              "#0d0887"
             ],
             [
              0.1111111111111111,
              "#46039f"
             ],
             [
              0.2222222222222222,
              "#7201a8"
             ],
             [
              0.3333333333333333,
              "#9c179e"
             ],
             [
              0.4444444444444444,
              "#bd3786"
             ],
             [
              0.5555555555555556,
              "#d8576b"
             ],
             [
              0.6666666666666666,
              "#ed7953"
             ],
             [
              0.7777777777777778,
              "#fb9f3a"
             ],
             [
              0.8888888888888888,
              "#fdca26"
             ],
             [
              1,
              "#f0f921"
             ]
            ],
            "type": "heatmapgl"
           }
          ],
          "histogram": [
           {
            "marker": {
             "pattern": {
              "fillmode": "overlay",
              "size": 10,
              "solidity": 0.2
             }
            },
            "type": "histogram"
           }
          ],
          "histogram2d": [
           {
            "colorbar": {
             "outlinewidth": 0,
             "ticks": ""
            },
            "colorscale": [
             [
              0,
              "#0d0887"
             ],
             [
              0.1111111111111111,
              "#46039f"
             ],
             [
              0.2222222222222222,
              "#7201a8"
             ],
             [
              0.3333333333333333,
              "#9c179e"
             ],
             [
              0.4444444444444444,
              "#bd3786"
             ],
             [
              0.5555555555555556,
              "#d8576b"
             ],
             [
              0.6666666666666666,
              "#ed7953"
             ],
             [
              0.7777777777777778,
              "#fb9f3a"
             ],
             [
              0.8888888888888888,
              "#fdca26"
             ],
             [
              1,
              "#f0f921"
             ]
            ],
            "type": "histogram2d"
           }
          ],
          "histogram2dcontour": [
           {
            "colorbar": {
             "outlinewidth": 0,
             "ticks": ""
            },
            "colorscale": [
             [
              0,
              "#0d0887"
             ],
             [
              0.1111111111111111,
              "#46039f"
             ],
             [
              0.2222222222222222,
              "#7201a8"
             ],
             [
              0.3333333333333333,
              "#9c179e"
             ],
             [
              0.4444444444444444,
              "#bd3786"
             ],
             [
              0.5555555555555556,
              "#d8576b"
             ],
             [
              0.6666666666666666,
              "#ed7953"
             ],
             [
              0.7777777777777778,
              "#fb9f3a"
             ],
             [
              0.8888888888888888,
              "#fdca26"
             ],
             [
              1,
              "#f0f921"
             ]
            ],
            "type": "histogram2dcontour"
           }
          ],
          "mesh3d": [
           {
            "colorbar": {
             "outlinewidth": 0,
             "ticks": ""
            },
            "type": "mesh3d"
           }
          ],
          "parcoords": [
           {
            "line": {
             "colorbar": {
              "outlinewidth": 0,
              "ticks": ""
             }
            },
            "type": "parcoords"
           }
          ],
          "pie": [
           {
            "automargin": true,
            "type": "pie"
           }
          ],
          "scatter": [
           {
            "fillpattern": {
             "fillmode": "overlay",
             "size": 10,
             "solidity": 0.2
            },
            "type": "scatter"
           }
          ],
          "scatter3d": [
           {
            "line": {
             "colorbar": {
              "outlinewidth": 0,
              "ticks": ""
             }
            },
            "marker": {
             "colorbar": {
              "outlinewidth": 0,
              "ticks": ""
             }
            },
            "type": "scatter3d"
           }
          ],
          "scattercarpet": [
           {
            "marker": {
             "colorbar": {
              "outlinewidth": 0,
              "ticks": ""
             }
            },
            "type": "scattercarpet"
           }
          ],
          "scattergeo": [
           {
            "marker": {
             "colorbar": {
              "outlinewidth": 0,
              "ticks": ""
             }
            },
            "type": "scattergeo"
           }
          ],
          "scattergl": [
           {
            "marker": {
             "colorbar": {
              "outlinewidth": 0,
              "ticks": ""
             }
            },
            "type": "scattergl"
           }
          ],
          "scattermapbox": [
           {
            "marker": {
             "colorbar": {
              "outlinewidth": 0,
              "ticks": ""
             }
            },
            "type": "scattermapbox"
           }
          ],
          "scatterpolar": [
           {
            "marker": {
             "colorbar": {
              "outlinewidth": 0,
              "ticks": ""
             }
            },
            "type": "scatterpolar"
           }
          ],
          "scatterpolargl": [
           {
            "marker": {
             "colorbar": {
              "outlinewidth": 0,
              "ticks": ""
             }
            },
            "type": "scatterpolargl"
           }
          ],
          "scatterternary": [
           {
            "marker": {
             "colorbar": {
              "outlinewidth": 0,
              "ticks": ""
             }
            },
            "type": "scatterternary"
           }
          ],
          "surface": [
           {
            "colorbar": {
             "outlinewidth": 0,
             "ticks": ""
            },
            "colorscale": [
             [
              0,
              "#0d0887"
             ],
             [
              0.1111111111111111,
              "#46039f"
             ],
             [
              0.2222222222222222,
              "#7201a8"
             ],
             [
              0.3333333333333333,
              "#9c179e"
             ],
             [
              0.4444444444444444,
              "#bd3786"
             ],
             [
              0.5555555555555556,
              "#d8576b"
             ],
             [
              0.6666666666666666,
              "#ed7953"
             ],
             [
              0.7777777777777778,
              "#fb9f3a"
             ],
             [
              0.8888888888888888,
              "#fdca26"
             ],
             [
              1,
              "#f0f921"
             ]
            ],
            "type": "surface"
           }
          ],
          "table": [
           {
            "cells": {
             "fill": {
              "color": "#EBF0F8"
             },
             "line": {
              "color": "white"
             }
            },
            "header": {
             "fill": {
              "color": "#C8D4E3"
             },
             "line": {
              "color": "white"
             }
            },
            "type": "table"
           }
          ]
         },
         "layout": {
          "annotationdefaults": {
           "arrowcolor": "#2a3f5f",
           "arrowhead": 0,
           "arrowwidth": 1
          },
          "autotypenumbers": "strict",
          "coloraxis": {
           "colorbar": {
            "outlinewidth": 0,
            "ticks": ""
           }
          },
          "colorscale": {
           "diverging": [
            [
             0,
             "#8e0152"
            ],
            [
             0.1,
             "#c51b7d"
            ],
            [
             0.2,
             "#de77ae"
            ],
            [
             0.3,
             "#f1b6da"
            ],
            [
             0.4,
             "#fde0ef"
            ],
            [
             0.5,
             "#f7f7f7"
            ],
            [
             0.6,
             "#e6f5d0"
            ],
            [
             0.7,
             "#b8e186"
            ],
            [
             0.8,
             "#7fbc41"
            ],
            [
             0.9,
             "#4d9221"
            ],
            [
             1,
             "#276419"
            ]
           ],
           "sequential": [
            [
             0,
             "#0d0887"
            ],
            [
             0.1111111111111111,
             "#46039f"
            ],
            [
             0.2222222222222222,
             "#7201a8"
            ],
            [
             0.3333333333333333,
             "#9c179e"
            ],
            [
             0.4444444444444444,
             "#bd3786"
            ],
            [
             0.5555555555555556,
             "#d8576b"
            ],
            [
             0.6666666666666666,
             "#ed7953"
            ],
            [
             0.7777777777777778,
             "#fb9f3a"
            ],
            [
             0.8888888888888888,
             "#fdca26"
            ],
            [
             1,
             "#f0f921"
            ]
           ],
           "sequentialminus": [
            [
             0,
             "#0d0887"
            ],
            [
             0.1111111111111111,
             "#46039f"
            ],
            [
             0.2222222222222222,
             "#7201a8"
            ],
            [
             0.3333333333333333,
             "#9c179e"
            ],
            [
             0.4444444444444444,
             "#bd3786"
            ],
            [
             0.5555555555555556,
             "#d8576b"
            ],
            [
             0.6666666666666666,
             "#ed7953"
            ],
            [
             0.7777777777777778,
             "#fb9f3a"
            ],
            [
             0.8888888888888888,
             "#fdca26"
            ],
            [
             1,
             "#f0f921"
            ]
           ]
          },
          "colorway": [
           "#636efa",
           "#EF553B",
           "#00cc96",
           "#ab63fa",
           "#FFA15A",
           "#19d3f3",
           "#FF6692",
           "#B6E880",
           "#FF97FF",
           "#FECB52"
          ],
          "font": {
           "color": "#2a3f5f"
          },
          "geo": {
           "bgcolor": "white",
           "lakecolor": "white",
           "landcolor": "#E5ECF6",
           "showlakes": true,
           "showland": true,
           "subunitcolor": "white"
          },
          "hoverlabel": {
           "align": "left"
          },
          "hovermode": "closest",
          "mapbox": {
           "style": "light"
          },
          "paper_bgcolor": "white",
          "plot_bgcolor": "#E5ECF6",
          "polar": {
           "angularaxis": {
            "gridcolor": "white",
            "linecolor": "white",
            "ticks": ""
           },
           "bgcolor": "#E5ECF6",
           "radialaxis": {
            "gridcolor": "white",
            "linecolor": "white",
            "ticks": ""
           }
          },
          "scene": {
           "xaxis": {
            "backgroundcolor": "#E5ECF6",
            "gridcolor": "white",
            "gridwidth": 2,
            "linecolor": "white",
            "showbackground": true,
            "ticks": "",
            "zerolinecolor": "white"
           },
           "yaxis": {
            "backgroundcolor": "#E5ECF6",
            "gridcolor": "white",
            "gridwidth": 2,
            "linecolor": "white",
            "showbackground": true,
            "ticks": "",
            "zerolinecolor": "white"
           },
           "zaxis": {
            "backgroundcolor": "#E5ECF6",
            "gridcolor": "white",
            "gridwidth": 2,
            "linecolor": "white",
            "showbackground": true,
            "ticks": "",
            "zerolinecolor": "white"
           }
          },
          "shapedefaults": {
           "line": {
            "color": "#2a3f5f"
           }
          },
          "ternary": {
           "aaxis": {
            "gridcolor": "white",
            "linecolor": "white",
            "ticks": ""
           },
           "baxis": {
            "gridcolor": "white",
            "linecolor": "white",
            "ticks": ""
           },
           "bgcolor": "#E5ECF6",
           "caxis": {
            "gridcolor": "white",
            "linecolor": "white",
            "ticks": ""
           }
          },
          "title": {
           "x": 0.05
          },
          "xaxis": {
           "automargin": true,
           "gridcolor": "white",
           "linecolor": "white",
           "ticks": "",
           "title": {
            "standoff": 15
           },
           "zerolinecolor": "white",
           "zerolinewidth": 2
          },
          "yaxis": {
           "automargin": true,
           "gridcolor": "white",
           "linecolor": "white",
           "ticks": "",
           "title": {
            "standoff": 15
           },
           "zerolinecolor": "white",
           "zerolinewidth": 2
          }
         }
        },
        "title": {
         "text": "Asylum applications across all countries 2000-2017"
        },
        "xaxis": {
         "tickmode": "array",
         "ticktext": [
          "2000",
          "2002",
          "2004",
          "2006",
          "2008",
          "2010",
          "2012",
          "2014",
          "2016"
         ],
         "tickvals": [
          2000,
          2002,
          2004,
          2006,
          2008,
          2010,
          2012,
          2014,
          2016
         ],
         "title": {
          "text": "Year"
         }
        },
        "yaxis": {
         "tickvals": [
          0,
          2000000,
          4000000,
          6000000,
          8000000,
          10000000
         ],
         "title": {
          "text": "Number of asylum seekers"
         }
        }
       }
      }
     },
     "metadata": {},
     "output_type": "display_data"
    }
   ],
   "source": [
    "# Read the CSV file into a DataFrame\n",
    "apypc_df = pd.read_csv(\"data/applied_pending_yearly_per_country.csv\")\n",
    "\n",
    "# Create the figure\n",
    "fig = go.Figure()\n",
    "\n",
    "# Add traces for each line\n",
    "fig.add_trace(go.Scatter(x=apypc_df[\"Year\"], y=apypc_df.filter(regex='end').sum(axis=1), name=\"Pending end of year\"))\n",
    "fig.add_trace(go.Scatter(x=apypc_df[\"Year\"], y=apypc_df.filter(regex='Applied').sum(axis=1), name=\"Applied during year\"))\n",
    "\n",
    "# Set labels and titles\n",
    "fig.update_layout(\n",
    "    xaxis_title=\"Year\",\n",
    "    yaxis_title=\"Number of asylum seekers\",\n",
    "    title=\"Asylum applications across all countries 2000-2017\"\n",
    ")\n",
    "\n",
    "# Set x-axis tick labels\n",
    "fig.update_xaxes(\n",
    "    tickmode=\"array\",\n",
    "    tickvals=[2000, 2002, 2004, 2006, 2008, 2010, 2012, 2014, 2016],\n",
    "    ticktext=[str(year) for year in range(2000, 2017, 2)]\n",
    ")\n",
    "\n",
    "# Set y-axis tick labels\n",
    "fig.update_yaxes(tickvals=list(range(0, 10000001, 2000000)))\n",
    "\n",
    "# Add text\n",
    "txt = \"The total number of recorded applications of asylum seekers summed over all countries between 2000 and 2017,<br> as well as the amount of applications still pending, i.e. not processed, at the end of the year.\"\n",
    "fig.add_annotation(\n",
    "    text=txt,\n",
    "    xref=\"paper\", yref=\"paper\",\n",
    "    x=0.5, y=-0.28,\n",
    "    showarrow=False,\n",
    "    font=dict(size=10),\n",
    "    width=600\n",
    ")\n",
    "\n",
    "# Display the plot\n",
    "fig.show()\n"
   ]
  },
  {
   "attachments": {},
   "cell_type": "markdown",
   "metadata": {},
   "source": [
    "To place the current refugee situation (or past situation, seeing as the data goes until 2017) in context: \n",
    "\n",
    "The period of 2014-2015 witnessed a notable surge in asylum requests worldwide, primarily attributed to military conflicts in the Middle East, notably the Syrian civil war. Consequently, there was a substantial influx of refugees into European countries, as depicted in the graph below. This data is collected by the the UN High Commissioner for Refugees (UNHCR) in the 'applied_pending_yearly_per_country.csv file'.\n",
    "\n",
    "In the image above we see global counts for asylum application from the years 2000 to 2017. The graph makes a destinction between newly applied asylum seekers in that year and asylum requests that are still pending at the end of the year. One can see in the graph that from the year 2000 to 2012, both these statistics remained relatively stable. This means that, although there is an application queue, each year about the same amount of people are processes as there are new people entering the queue. However, we see the surge that was mentioned earlier very clearly in the years 2014 and onwards. The amount of applications each year rises dramatically. The asylum systems of the world are not capable of handling this. Whilst the applications increase, the processing stays the same, which is why we see an exponential increase in applications still pending at the end of the year. This shows that the current refugee systems and approaches are not equiped for a refugee crsis, and need adjustment."
   ]
  },
  {
   "attachments": {},
   "cell_type": "markdown",
   "metadata": {},
   "source": [
    "### Asylum applications in Netherlands 2000-2017"
   ]
  },
  {
   "cell_type": "code",
   "execution_count": 12,
   "metadata": {
    "tags": [
     "hide-input"
    ]
   },
   "outputs": [
    {
     "data": {
      "application/vnd.plotly.v1+json": {
       "config": {
        "plotlyServerURL": "https://plot.ly"
       },
       "data": [
        {
         "name": "pending end-year",
         "type": "scatter",
         "x": [
          0,
          1,
          2,
          3,
          4,
          5,
          6,
          7,
          8,
          9,
          10,
          11,
          12,
          13,
          14,
          15,
          16
         ],
         "y": [
          84466,
          78550,
          58159,
          44672,
          28452,
          14664,
          13118,
          5840,
          9743,
          16245,
          13053,
          10420,
          10420,
          0,
          6940,
          28051,
          10319
         ]
        },
        {
         "name": "Applied during year",
         "type": "scatter",
         "x": [
          0,
          1,
          2,
          3,
          4,
          5,
          6,
          7,
          8,
          9,
          10,
          11,
          12,
          13,
          14,
          15,
          16
         ],
         "y": [
          43895,
          32579,
          18667,
          13402,
          9782,
          12347,
          14465,
          7102,
          13399,
          14905,
          15148,
          14631,
          13102,
          17189,
          24533,
          45101,
          21205
         ]
        }
       ],
       "layout": {
        "showlegend": true,
        "template": {
         "data": {
          "bar": [
           {
            "error_x": {
             "color": "#2a3f5f"
            },
            "error_y": {
             "color": "#2a3f5f"
            },
            "marker": {
             "line": {
              "color": "#E5ECF6",
              "width": 0.5
             },
             "pattern": {
              "fillmode": "overlay",
              "size": 10,
              "solidity": 0.2
             }
            },
            "type": "bar"
           }
          ],
          "barpolar": [
           {
            "marker": {
             "line": {
              "color": "#E5ECF6",
              "width": 0.5
             },
             "pattern": {
              "fillmode": "overlay",
              "size": 10,
              "solidity": 0.2
             }
            },
            "type": "barpolar"
           }
          ],
          "carpet": [
           {
            "aaxis": {
             "endlinecolor": "#2a3f5f",
             "gridcolor": "white",
             "linecolor": "white",
             "minorgridcolor": "white",
             "startlinecolor": "#2a3f5f"
            },
            "baxis": {
             "endlinecolor": "#2a3f5f",
             "gridcolor": "white",
             "linecolor": "white",
             "minorgridcolor": "white",
             "startlinecolor": "#2a3f5f"
            },
            "type": "carpet"
           }
          ],
          "choropleth": [
           {
            "colorbar": {
             "outlinewidth": 0,
             "ticks": ""
            },
            "type": "choropleth"
           }
          ],
          "contour": [
           {
            "colorbar": {
             "outlinewidth": 0,
             "ticks": ""
            },
            "colorscale": [
             [
              0,
              "#0d0887"
             ],
             [
              0.1111111111111111,
              "#46039f"
             ],
             [
              0.2222222222222222,
              "#7201a8"
             ],
             [
              0.3333333333333333,
              "#9c179e"
             ],
             [
              0.4444444444444444,
              "#bd3786"
             ],
             [
              0.5555555555555556,
              "#d8576b"
             ],
             [
              0.6666666666666666,
              "#ed7953"
             ],
             [
              0.7777777777777778,
              "#fb9f3a"
             ],
             [
              0.8888888888888888,
              "#fdca26"
             ],
             [
              1,
              "#f0f921"
             ]
            ],
            "type": "contour"
           }
          ],
          "contourcarpet": [
           {
            "colorbar": {
             "outlinewidth": 0,
             "ticks": ""
            },
            "type": "contourcarpet"
           }
          ],
          "heatmap": [
           {
            "colorbar": {
             "outlinewidth": 0,
             "ticks": ""
            },
            "colorscale": [
             [
              0,
              "#0d0887"
             ],
             [
              0.1111111111111111,
              "#46039f"
             ],
             [
              0.2222222222222222,
              "#7201a8"
             ],
             [
              0.3333333333333333,
              "#9c179e"
             ],
             [
              0.4444444444444444,
              "#bd3786"
             ],
             [
              0.5555555555555556,
              "#d8576b"
             ],
             [
              0.6666666666666666,
              "#ed7953"
             ],
             [
              0.7777777777777778,
              "#fb9f3a"
             ],
             [
              0.8888888888888888,
              "#fdca26"
             ],
             [
              1,
              "#f0f921"
             ]
            ],
            "type": "heatmap"
           }
          ],
          "heatmapgl": [
           {
            "colorbar": {
             "outlinewidth": 0,
             "ticks": ""
            },
            "colorscale": [
             [
              0,
              "#0d0887"
             ],
             [
              0.1111111111111111,
              "#46039f"
             ],
             [
              0.2222222222222222,
              "#7201a8"
             ],
             [
              0.3333333333333333,
              "#9c179e"
             ],
             [
              0.4444444444444444,
              "#bd3786"
             ],
             [
              0.5555555555555556,
              "#d8576b"
             ],
             [
              0.6666666666666666,
              "#ed7953"
             ],
             [
              0.7777777777777778,
              "#fb9f3a"
             ],
             [
              0.8888888888888888,
              "#fdca26"
             ],
             [
              1,
              "#f0f921"
             ]
            ],
            "type": "heatmapgl"
           }
          ],
          "histogram": [
           {
            "marker": {
             "pattern": {
              "fillmode": "overlay",
              "size": 10,
              "solidity": 0.2
             }
            },
            "type": "histogram"
           }
          ],
          "histogram2d": [
           {
            "colorbar": {
             "outlinewidth": 0,
             "ticks": ""
            },
            "colorscale": [
             [
              0,
              "#0d0887"
             ],
             [
              0.1111111111111111,
              "#46039f"
             ],
             [
              0.2222222222222222,
              "#7201a8"
             ],
             [
              0.3333333333333333,
              "#9c179e"
             ],
             [
              0.4444444444444444,
              "#bd3786"
             ],
             [
              0.5555555555555556,
              "#d8576b"
             ],
             [
              0.6666666666666666,
              "#ed7953"
             ],
             [
              0.7777777777777778,
              "#fb9f3a"
             ],
             [
              0.8888888888888888,
              "#fdca26"
             ],
             [
              1,
              "#f0f921"
             ]
            ],
            "type": "histogram2d"
           }
          ],
          "histogram2dcontour": [
           {
            "colorbar": {
             "outlinewidth": 0,
             "ticks": ""
            },
            "colorscale": [
             [
              0,
              "#0d0887"
             ],
             [
              0.1111111111111111,
              "#46039f"
             ],
             [
              0.2222222222222222,
              "#7201a8"
             ],
             [
              0.3333333333333333,
              "#9c179e"
             ],
             [
              0.4444444444444444,
              "#bd3786"
             ],
             [
              0.5555555555555556,
              "#d8576b"
             ],
             [
              0.6666666666666666,
              "#ed7953"
             ],
             [
              0.7777777777777778,
              "#fb9f3a"
             ],
             [
              0.8888888888888888,
              "#fdca26"
             ],
             [
              1,
              "#f0f921"
             ]
            ],
            "type": "histogram2dcontour"
           }
          ],
          "mesh3d": [
           {
            "colorbar": {
             "outlinewidth": 0,
             "ticks": ""
            },
            "type": "mesh3d"
           }
          ],
          "parcoords": [
           {
            "line": {
             "colorbar": {
              "outlinewidth": 0,
              "ticks": ""
             }
            },
            "type": "parcoords"
           }
          ],
          "pie": [
           {
            "automargin": true,
            "type": "pie"
           }
          ],
          "scatter": [
           {
            "fillpattern": {
             "fillmode": "overlay",
             "size": 10,
             "solidity": 0.2
            },
            "type": "scatter"
           }
          ],
          "scatter3d": [
           {
            "line": {
             "colorbar": {
              "outlinewidth": 0,
              "ticks": ""
             }
            },
            "marker": {
             "colorbar": {
              "outlinewidth": 0,
              "ticks": ""
             }
            },
            "type": "scatter3d"
           }
          ],
          "scattercarpet": [
           {
            "marker": {
             "colorbar": {
              "outlinewidth": 0,
              "ticks": ""
             }
            },
            "type": "scattercarpet"
           }
          ],
          "scattergeo": [
           {
            "marker": {
             "colorbar": {
              "outlinewidth": 0,
              "ticks": ""
             }
            },
            "type": "scattergeo"
           }
          ],
          "scattergl": [
           {
            "marker": {
             "colorbar": {
              "outlinewidth": 0,
              "ticks": ""
             }
            },
            "type": "scattergl"
           }
          ],
          "scattermapbox": [
           {
            "marker": {
             "colorbar": {
              "outlinewidth": 0,
              "ticks": ""
             }
            },
            "type": "scattermapbox"
           }
          ],
          "scatterpolar": [
           {
            "marker": {
             "colorbar": {
              "outlinewidth": 0,
              "ticks": ""
             }
            },
            "type": "scatterpolar"
           }
          ],
          "scatterpolargl": [
           {
            "marker": {
             "colorbar": {
              "outlinewidth": 0,
              "ticks": ""
             }
            },
            "type": "scatterpolargl"
           }
          ],
          "scatterternary": [
           {
            "marker": {
             "colorbar": {
              "outlinewidth": 0,
              "ticks": ""
             }
            },
            "type": "scatterternary"
           }
          ],
          "surface": [
           {
            "colorbar": {
             "outlinewidth": 0,
             "ticks": ""
            },
            "colorscale": [
             [
              0,
              "#0d0887"
             ],
             [
              0.1111111111111111,
              "#46039f"
             ],
             [
              0.2222222222222222,
              "#7201a8"
             ],
             [
              0.3333333333333333,
              "#9c179e"
             ],
             [
              0.4444444444444444,
              "#bd3786"
             ],
             [
              0.5555555555555556,
              "#d8576b"
             ],
             [
              0.6666666666666666,
              "#ed7953"
             ],
             [
              0.7777777777777778,
              "#fb9f3a"
             ],
             [
              0.8888888888888888,
              "#fdca26"
             ],
             [
              1,
              "#f0f921"
             ]
            ],
            "type": "surface"
           }
          ],
          "table": [
           {
            "cells": {
             "fill": {
              "color": "#EBF0F8"
             },
             "line": {
              "color": "white"
             }
            },
            "header": {
             "fill": {
              "color": "#C8D4E3"
             },
             "line": {
              "color": "white"
             }
            },
            "type": "table"
           }
          ]
         },
         "layout": {
          "annotationdefaults": {
           "arrowcolor": "#2a3f5f",
           "arrowhead": 0,
           "arrowwidth": 1
          },
          "autotypenumbers": "strict",
          "coloraxis": {
           "colorbar": {
            "outlinewidth": 0,
            "ticks": ""
           }
          },
          "colorscale": {
           "diverging": [
            [
             0,
             "#8e0152"
            ],
            [
             0.1,
             "#c51b7d"
            ],
            [
             0.2,
             "#de77ae"
            ],
            [
             0.3,
             "#f1b6da"
            ],
            [
             0.4,
             "#fde0ef"
            ],
            [
             0.5,
             "#f7f7f7"
            ],
            [
             0.6,
             "#e6f5d0"
            ],
            [
             0.7,
             "#b8e186"
            ],
            [
             0.8,
             "#7fbc41"
            ],
            [
             0.9,
             "#4d9221"
            ],
            [
             1,
             "#276419"
            ]
           ],
           "sequential": [
            [
             0,
             "#0d0887"
            ],
            [
             0.1111111111111111,
             "#46039f"
            ],
            [
             0.2222222222222222,
             "#7201a8"
            ],
            [
             0.3333333333333333,
             "#9c179e"
            ],
            [
             0.4444444444444444,
             "#bd3786"
            ],
            [
             0.5555555555555556,
             "#d8576b"
            ],
            [
             0.6666666666666666,
             "#ed7953"
            ],
            [
             0.7777777777777778,
             "#fb9f3a"
            ],
            [
             0.8888888888888888,
             "#fdca26"
            ],
            [
             1,
             "#f0f921"
            ]
           ],
           "sequentialminus": [
            [
             0,
             "#0d0887"
            ],
            [
             0.1111111111111111,
             "#46039f"
            ],
            [
             0.2222222222222222,
             "#7201a8"
            ],
            [
             0.3333333333333333,
             "#9c179e"
            ],
            [
             0.4444444444444444,
             "#bd3786"
            ],
            [
             0.5555555555555556,
             "#d8576b"
            ],
            [
             0.6666666666666666,
             "#ed7953"
            ],
            [
             0.7777777777777778,
             "#fb9f3a"
            ],
            [
             0.8888888888888888,
             "#fdca26"
            ],
            [
             1,
             "#f0f921"
            ]
           ]
          },
          "colorway": [
           "#636efa",
           "#EF553B",
           "#00cc96",
           "#ab63fa",
           "#FFA15A",
           "#19d3f3",
           "#FF6692",
           "#B6E880",
           "#FF97FF",
           "#FECB52"
          ],
          "font": {
           "color": "#2a3f5f"
          },
          "geo": {
           "bgcolor": "white",
           "lakecolor": "white",
           "landcolor": "#E5ECF6",
           "showlakes": true,
           "showland": true,
           "subunitcolor": "white"
          },
          "hoverlabel": {
           "align": "left"
          },
          "hovermode": "closest",
          "mapbox": {
           "style": "light"
          },
          "paper_bgcolor": "white",
          "plot_bgcolor": "#E5ECF6",
          "polar": {
           "angularaxis": {
            "gridcolor": "white",
            "linecolor": "white",
            "ticks": ""
           },
           "bgcolor": "#E5ECF6",
           "radialaxis": {
            "gridcolor": "white",
            "linecolor": "white",
            "ticks": ""
           }
          },
          "scene": {
           "xaxis": {
            "backgroundcolor": "#E5ECF6",
            "gridcolor": "white",
            "gridwidth": 2,
            "linecolor": "white",
            "showbackground": true,
            "ticks": "",
            "zerolinecolor": "white"
           },
           "yaxis": {
            "backgroundcolor": "#E5ECF6",
            "gridcolor": "white",
            "gridwidth": 2,
            "linecolor": "white",
            "showbackground": true,
            "ticks": "",
            "zerolinecolor": "white"
           },
           "zaxis": {
            "backgroundcolor": "#E5ECF6",
            "gridcolor": "white",
            "gridwidth": 2,
            "linecolor": "white",
            "showbackground": true,
            "ticks": "",
            "zerolinecolor": "white"
           }
          },
          "shapedefaults": {
           "line": {
            "color": "#2a3f5f"
           }
          },
          "ternary": {
           "aaxis": {
            "gridcolor": "white",
            "linecolor": "white",
            "ticks": ""
           },
           "baxis": {
            "gridcolor": "white",
            "linecolor": "white",
            "ticks": ""
           },
           "bgcolor": "#E5ECF6",
           "caxis": {
            "gridcolor": "white",
            "linecolor": "white",
            "ticks": ""
           }
          },
          "title": {
           "x": 0.05
          },
          "xaxis": {
           "automargin": true,
           "gridcolor": "white",
           "linecolor": "white",
           "ticks": "",
           "title": {
            "standoff": 15
           },
           "zerolinecolor": "white",
           "zerolinewidth": 2
          },
          "yaxis": {
           "automargin": true,
           "gridcolor": "white",
           "linecolor": "white",
           "ticks": "",
           "title": {
            "standoff": 15
           },
           "zerolinecolor": "white",
           "zerolinewidth": 2
          }
         }
        },
        "title": {
         "text": "Asylum applications in Netherlands 2000-2017"
        },
        "xaxis": {
         "tickmode": "array",
         "ticktext": [
          0,
          1,
          2,
          3,
          4,
          5,
          6,
          7,
          8,
          9,
          10,
          11,
          12,
          13,
          14,
          15,
          16
         ],
         "tickvals": [
          0,
          1,
          2,
          3,
          4,
          5,
          6,
          7,
          8,
          9,
          10,
          11,
          12,
          13,
          14,
          15,
          16
         ],
         "title": {
          "text": "Year"
         }
        },
        "yaxis": {
         "title": {
          "text": "Number of asylum seekers"
         }
        }
       }
      }
     },
     "metadata": {},
     "output_type": "display_data"
    }
   ],
   "source": [
    "# Create a figure\n",
    "fig = go.Figure()\n",
    "\n",
    "# Add traces for each line\n",
    "fig.add_trace(go.Scatter(x=apypc_df.index, y=apypc_df[\"('pending end-year', 'Netherlands')\"], name=\"pending end-year\"))\n",
    "fig.add_trace(go.Scatter(x=apypc_df.index, y=apypc_df[\"('Applied during year', 'Netherlands')\"], name=\"Applied during year\"))\n",
    "\n",
    "# Set x-axis and y-axis labels\n",
    "fig.update_layout(xaxis_title=\"Year\", yaxis_title=\"Number of asylum seekers\")\n",
    "\n",
    "# Set the title\n",
    "fig.update_layout(title=\"Asylum applications in Netherlands 2000-2017\")\n",
    "\n",
    "# Set x-axis tick labels\n",
    "fig.update_layout(\n",
    "    xaxis=dict(\n",
    "        tickmode='array',\n",
    "        tickvals=list(range(len(apypc_df.index))),\n",
    "        ticktext=list(apypc_df.index)\n",
    "    )\n",
    ")\n",
    "\n",
    "# Show the legend\n",
    "fig.update_layout(showlegend=True)\n",
    "\n",
    "# Display the plot\n",
    "fig.show()"
   ]
  },
  {
   "attachments": {},
   "cell_type": "markdown",
   "metadata": {},
   "source": [
    "On the other side of the coin, one could make different interpretations when looking at just the asylum applications for one country, for example, the Netherlands.\n",
    "\n",
    "The figure above illustrates the efficiency of the asylum system in the Netherlands. From 2000 to 2006, there was a significant decrease in the number of pending end-of-year requests, despite a high influx of new requests throughout the year. This indicates that a large number of requests were successfully processed during this period. The subsequent years also demonstrate that the Netherlands consistently managed to keep the number of pending requests at the end of the year relatively low, even when faced with a surge in applicants in 2015. We see that when looking at just one country, one could assume that this is very easy to handle.\n",
    "\n",
    "However, it is important to note that this graph alone can be misleading when assessing the overall efficiency of the Dutch asylum system. Compared to other countries such as Germany, France, Italy, and Greece, as shown in previous graphs, the Netherlands has received a relatively smaller number of applicants overall. This could imply that the perceived efficiency of the Dutch asylum system may be partly attributed to the lower volume of requests they have had to handle."
   ]
  },
  {
   "attachments": {},
   "cell_type": "markdown",
   "metadata": {},
   "source": [
    "### Asylum seekers in Europe 2015-2017"
   ]
  },
  {
   "cell_type": "code",
   "execution_count": 13,
   "metadata": {
    "colab": {
     "base_uri": "https://localhost:8080/",
     "height": 517
    },
    "id": "iODvWwAtCy1g",
    "outputId": "cf948a74-8274-4628-f931-2a8491c49497",
    "tags": [
     "hide-input"
    ]
   },
   "outputs": [
    {
     "data": {
      "application/vnd.plotly.v1+json": {
       "config": {
        "plotlyServerURL": "https://plot.ly"
       },
       "data": [
        {
         "marker": {
          "color": "rgb(102,194,165)"
         },
         "name": "2015",
         "type": "bar",
         "x": [
          "Austria",
          "Belgium",
          "Bulgaria",
          "Czech Rep.",
          "Denmark",
          "Finland",
          "France",
          "Germany",
          "Greece",
          "Hungary",
          "Luxembourg",
          "Netherlands",
          "Norway",
          "Poland",
          "Portugal",
          "Spain",
          "Sweden",
          "Switzerland",
          "Turkey",
          "United Kingdom",
          "Iceland",
          "Italy"
         ],
         "y": [
          85617,
          38695,
          20163,
          1245,
          21225,
          32271,
          74296,
          441899,
          11365,
          174430,
          2300,
          43099,
          30523,
          10254,
          896,
          13366,
          156459,
          38123,
          133585,
          39968,
          355,
          83243
         ]
        },
        {
         "marker": {
          "color": "rgb(252,141,98)"
         },
         "name": "2016",
         "type": "bar",
         "x": [
          "Austria",
          "Belgium",
          "Bulgaria",
          "Czech Rep.",
          "Denmark",
          "Finland",
          "France",
          "Germany",
          "Greece",
          "Hungary",
          "Luxembourg",
          "Netherlands",
          "Norway",
          "Poland",
          "Portugal",
          "Spain",
          "Sweden",
          "Switzerland",
          "Turkey",
          "United Kingdom",
          "Iceland",
          "Italy"
         ],
         "y": [
          39952,
          13988,
          18737,
          899,
          5698,
          4727,
          70240,
          721778,
          12796,
          27891,
          1529,
          17965,
          2872,
          9137,
          1077,
          15563,
          21641,
          25195,
          77474,
          37370,
          872,
          121593
         ]
        },
        {
         "marker": {
          "color": "rgb(141,160,203)"
         },
         "name": "2017",
         "type": "bar",
         "x": [
          "Austria",
          "Belgium",
          "Bulgaria",
          "Czech Rep.",
          "Denmark",
          "Finland",
          "France",
          "Germany",
          "Greece",
          "Hungary",
          "Luxembourg",
          "Netherlands",
          "Norway",
          "Poland",
          "Portugal",
          "Spain",
          "Sweden",
          "Switzerland",
          "Turkey",
          "United Kingdom",
          "Iceland",
          "Italy"
         ],
         "y": [
          9209,
          5692,
          1633,
          349,
          1006,
          0,
          35997,
          77308,
          0,
          786,
          818,
          5467,
          1731,
          1335,
          403,
          8745,
          6740,
          6695,
          35647,
          8219,
          258,
          46135
         ]
        }
       ],
       "layout": {
        "height": 500,
        "template": {
         "data": {
          "bar": [
           {
            "error_x": {
             "color": "#2a3f5f"
            },
            "error_y": {
             "color": "#2a3f5f"
            },
            "marker": {
             "line": {
              "color": "#E5ECF6",
              "width": 0.5
             },
             "pattern": {
              "fillmode": "overlay",
              "size": 10,
              "solidity": 0.2
             }
            },
            "type": "bar"
           }
          ],
          "barpolar": [
           {
            "marker": {
             "line": {
              "color": "#E5ECF6",
              "width": 0.5
             },
             "pattern": {
              "fillmode": "overlay",
              "size": 10,
              "solidity": 0.2
             }
            },
            "type": "barpolar"
           }
          ],
          "carpet": [
           {
            "aaxis": {
             "endlinecolor": "#2a3f5f",
             "gridcolor": "white",
             "linecolor": "white",
             "minorgridcolor": "white",
             "startlinecolor": "#2a3f5f"
            },
            "baxis": {
             "endlinecolor": "#2a3f5f",
             "gridcolor": "white",
             "linecolor": "white",
             "minorgridcolor": "white",
             "startlinecolor": "#2a3f5f"
            },
            "type": "carpet"
           }
          ],
          "choropleth": [
           {
            "colorbar": {
             "outlinewidth": 0,
             "ticks": ""
            },
            "type": "choropleth"
           }
          ],
          "contour": [
           {
            "colorbar": {
             "outlinewidth": 0,
             "ticks": ""
            },
            "colorscale": [
             [
              0,
              "#0d0887"
             ],
             [
              0.1111111111111111,
              "#46039f"
             ],
             [
              0.2222222222222222,
              "#7201a8"
             ],
             [
              0.3333333333333333,
              "#9c179e"
             ],
             [
              0.4444444444444444,
              "#bd3786"
             ],
             [
              0.5555555555555556,
              "#d8576b"
             ],
             [
              0.6666666666666666,
              "#ed7953"
             ],
             [
              0.7777777777777778,
              "#fb9f3a"
             ],
             [
              0.8888888888888888,
              "#fdca26"
             ],
             [
              1,
              "#f0f921"
             ]
            ],
            "type": "contour"
           }
          ],
          "contourcarpet": [
           {
            "colorbar": {
             "outlinewidth": 0,
             "ticks": ""
            },
            "type": "contourcarpet"
           }
          ],
          "heatmap": [
           {
            "colorbar": {
             "outlinewidth": 0,
             "ticks": ""
            },
            "colorscale": [
             [
              0,
              "#0d0887"
             ],
             [
              0.1111111111111111,
              "#46039f"
             ],
             [
              0.2222222222222222,
              "#7201a8"
             ],
             [
              0.3333333333333333,
              "#9c179e"
             ],
             [
              0.4444444444444444,
              "#bd3786"
             ],
             [
              0.5555555555555556,
              "#d8576b"
             ],
             [
              0.6666666666666666,
              "#ed7953"
             ],
             [
              0.7777777777777778,
              "#fb9f3a"
             ],
             [
              0.8888888888888888,
              "#fdca26"
             ],
             [
              1,
              "#f0f921"
             ]
            ],
            "type": "heatmap"
           }
          ],
          "heatmapgl": [
           {
            "colorbar": {
             "outlinewidth": 0,
             "ticks": ""
            },
            "colorscale": [
             [
              0,
              "#0d0887"
             ],
             [
              0.1111111111111111,
              "#46039f"
             ],
             [
              0.2222222222222222,
              "#7201a8"
             ],
             [
              0.3333333333333333,
              "#9c179e"
             ],
             [
              0.4444444444444444,
              "#bd3786"
             ],
             [
              0.5555555555555556,
              "#d8576b"
             ],
             [
              0.6666666666666666,
              "#ed7953"
             ],
             [
              0.7777777777777778,
              "#fb9f3a"
             ],
             [
              0.8888888888888888,
              "#fdca26"
             ],
             [
              1,
              "#f0f921"
             ]
            ],
            "type": "heatmapgl"
           }
          ],
          "histogram": [
           {
            "marker": {
             "pattern": {
              "fillmode": "overlay",
              "size": 10,
              "solidity": 0.2
             }
            },
            "type": "histogram"
           }
          ],
          "histogram2d": [
           {
            "colorbar": {
             "outlinewidth": 0,
             "ticks": ""
            },
            "colorscale": [
             [
              0,
              "#0d0887"
             ],
             [
              0.1111111111111111,
              "#46039f"
             ],
             [
              0.2222222222222222,
              "#7201a8"
             ],
             [
              0.3333333333333333,
              "#9c179e"
             ],
             [
              0.4444444444444444,
              "#bd3786"
             ],
             [
              0.5555555555555556,
              "#d8576b"
             ],
             [
              0.6666666666666666,
              "#ed7953"
             ],
             [
              0.7777777777777778,
              "#fb9f3a"
             ],
             [
              0.8888888888888888,
              "#fdca26"
             ],
             [
              1,
              "#f0f921"
             ]
            ],
            "type": "histogram2d"
           }
          ],
          "histogram2dcontour": [
           {
            "colorbar": {
             "outlinewidth": 0,
             "ticks": ""
            },
            "colorscale": [
             [
              0,
              "#0d0887"
             ],
             [
              0.1111111111111111,
              "#46039f"
             ],
             [
              0.2222222222222222,
              "#7201a8"
             ],
             [
              0.3333333333333333,
              "#9c179e"
             ],
             [
              0.4444444444444444,
              "#bd3786"
             ],
             [
              0.5555555555555556,
              "#d8576b"
             ],
             [
              0.6666666666666666,
              "#ed7953"
             ],
             [
              0.7777777777777778,
              "#fb9f3a"
             ],
             [
              0.8888888888888888,
              "#fdca26"
             ],
             [
              1,
              "#f0f921"
             ]
            ],
            "type": "histogram2dcontour"
           }
          ],
          "mesh3d": [
           {
            "colorbar": {
             "outlinewidth": 0,
             "ticks": ""
            },
            "type": "mesh3d"
           }
          ],
          "parcoords": [
           {
            "line": {
             "colorbar": {
              "outlinewidth": 0,
              "ticks": ""
             }
            },
            "type": "parcoords"
           }
          ],
          "pie": [
           {
            "automargin": true,
            "type": "pie"
           }
          ],
          "scatter": [
           {
            "fillpattern": {
             "fillmode": "overlay",
             "size": 10,
             "solidity": 0.2
            },
            "type": "scatter"
           }
          ],
          "scatter3d": [
           {
            "line": {
             "colorbar": {
              "outlinewidth": 0,
              "ticks": ""
             }
            },
            "marker": {
             "colorbar": {
              "outlinewidth": 0,
              "ticks": ""
             }
            },
            "type": "scatter3d"
           }
          ],
          "scattercarpet": [
           {
            "marker": {
             "colorbar": {
              "outlinewidth": 0,
              "ticks": ""
             }
            },
            "type": "scattercarpet"
           }
          ],
          "scattergeo": [
           {
            "marker": {
             "colorbar": {
              "outlinewidth": 0,
              "ticks": ""
             }
            },
            "type": "scattergeo"
           }
          ],
          "scattergl": [
           {
            "marker": {
             "colorbar": {
              "outlinewidth": 0,
              "ticks": ""
             }
            },
            "type": "scattergl"
           }
          ],
          "scattermapbox": [
           {
            "marker": {
             "colorbar": {
              "outlinewidth": 0,
              "ticks": ""
             }
            },
            "type": "scattermapbox"
           }
          ],
          "scatterpolar": [
           {
            "marker": {
             "colorbar": {
              "outlinewidth": 0,
              "ticks": ""
             }
            },
            "type": "scatterpolar"
           }
          ],
          "scatterpolargl": [
           {
            "marker": {
             "colorbar": {
              "outlinewidth": 0,
              "ticks": ""
             }
            },
            "type": "scatterpolargl"
           }
          ],
          "scatterternary": [
           {
            "marker": {
             "colorbar": {
              "outlinewidth": 0,
              "ticks": ""
             }
            },
            "type": "scatterternary"
           }
          ],
          "surface": [
           {
            "colorbar": {
             "outlinewidth": 0,
             "ticks": ""
            },
            "colorscale": [
             [
              0,
              "#0d0887"
             ],
             [
              0.1111111111111111,
              "#46039f"
             ],
             [
              0.2222222222222222,
              "#7201a8"
             ],
             [
              0.3333333333333333,
              "#9c179e"
             ],
             [
              0.4444444444444444,
              "#bd3786"
             ],
             [
              0.5555555555555556,
              "#d8576b"
             ],
             [
              0.6666666666666666,
              "#ed7953"
             ],
             [
              0.7777777777777778,
              "#fb9f3a"
             ],
             [
              0.8888888888888888,
              "#fdca26"
             ],
             [
              1,
              "#f0f921"
             ]
            ],
            "type": "surface"
           }
          ],
          "table": [
           {
            "cells": {
             "fill": {
              "color": "#EBF0F8"
             },
             "line": {
              "color": "white"
             }
            },
            "header": {
             "fill": {
              "color": "#C8D4E3"
             },
             "line": {
              "color": "white"
             }
            },
            "type": "table"
           }
          ]
         },
         "layout": {
          "annotationdefaults": {
           "arrowcolor": "#2a3f5f",
           "arrowhead": 0,
           "arrowwidth": 1
          },
          "autotypenumbers": "strict",
          "coloraxis": {
           "colorbar": {
            "outlinewidth": 0,
            "ticks": ""
           }
          },
          "colorscale": {
           "diverging": [
            [
             0,
             "#8e0152"
            ],
            [
             0.1,
             "#c51b7d"
            ],
            [
             0.2,
             "#de77ae"
            ],
            [
             0.3,
             "#f1b6da"
            ],
            [
             0.4,
             "#fde0ef"
            ],
            [
             0.5,
             "#f7f7f7"
            ],
            [
             0.6,
             "#e6f5d0"
            ],
            [
             0.7,
             "#b8e186"
            ],
            [
             0.8,
             "#7fbc41"
            ],
            [
             0.9,
             "#4d9221"
            ],
            [
             1,
             "#276419"
            ]
           ],
           "sequential": [
            [
             0,
             "#0d0887"
            ],
            [
             0.1111111111111111,
             "#46039f"
            ],
            [
             0.2222222222222222,
             "#7201a8"
            ],
            [
             0.3333333333333333,
             "#9c179e"
            ],
            [
             0.4444444444444444,
             "#bd3786"
            ],
            [
             0.5555555555555556,
             "#d8576b"
            ],
            [
             0.6666666666666666,
             "#ed7953"
            ],
            [
             0.7777777777777778,
             "#fb9f3a"
            ],
            [
             0.8888888888888888,
             "#fdca26"
            ],
            [
             1,
             "#f0f921"
            ]
           ],
           "sequentialminus": [
            [
             0,
             "#0d0887"
            ],
            [
             0.1111111111111111,
             "#46039f"
            ],
            [
             0.2222222222222222,
             "#7201a8"
            ],
            [
             0.3333333333333333,
             "#9c179e"
            ],
            [
             0.4444444444444444,
             "#bd3786"
            ],
            [
             0.5555555555555556,
             "#d8576b"
            ],
            [
             0.6666666666666666,
             "#ed7953"
            ],
            [
             0.7777777777777778,
             "#fb9f3a"
            ],
            [
             0.8888888888888888,
             "#fdca26"
            ],
            [
             1,
             "#f0f921"
            ]
           ]
          },
          "colorway": [
           "#636efa",
           "#EF553B",
           "#00cc96",
           "#ab63fa",
           "#FFA15A",
           "#19d3f3",
           "#FF6692",
           "#B6E880",
           "#FF97FF",
           "#FECB52"
          ],
          "font": {
           "color": "#2a3f5f"
          },
          "geo": {
           "bgcolor": "white",
           "lakecolor": "white",
           "landcolor": "#E5ECF6",
           "showlakes": true,
           "showland": true,
           "subunitcolor": "white"
          },
          "hoverlabel": {
           "align": "left"
          },
          "hovermode": "closest",
          "mapbox": {
           "style": "light"
          },
          "paper_bgcolor": "white",
          "plot_bgcolor": "#E5ECF6",
          "polar": {
           "angularaxis": {
            "gridcolor": "white",
            "linecolor": "white",
            "ticks": ""
           },
           "bgcolor": "#E5ECF6",
           "radialaxis": {
            "gridcolor": "white",
            "linecolor": "white",
            "ticks": ""
           }
          },
          "scene": {
           "xaxis": {
            "backgroundcolor": "#E5ECF6",
            "gridcolor": "white",
            "gridwidth": 2,
            "linecolor": "white",
            "showbackground": true,
            "ticks": "",
            "zerolinecolor": "white"
           },
           "yaxis": {
            "backgroundcolor": "#E5ECF6",
            "gridcolor": "white",
            "gridwidth": 2,
            "linecolor": "white",
            "showbackground": true,
            "ticks": "",
            "zerolinecolor": "white"
           },
           "zaxis": {
            "backgroundcolor": "#E5ECF6",
            "gridcolor": "white",
            "gridwidth": 2,
            "linecolor": "white",
            "showbackground": true,
            "ticks": "",
            "zerolinecolor": "white"
           }
          },
          "shapedefaults": {
           "line": {
            "color": "#2a3f5f"
           }
          },
          "ternary": {
           "aaxis": {
            "gridcolor": "white",
            "linecolor": "white",
            "ticks": ""
           },
           "baxis": {
            "gridcolor": "white",
            "linecolor": "white",
            "ticks": ""
           },
           "bgcolor": "#E5ECF6",
           "caxis": {
            "gridcolor": "white",
            "linecolor": "white",
            "ticks": ""
           }
          },
          "title": {
           "x": 0.05
          },
          "xaxis": {
           "automargin": true,
           "gridcolor": "white",
           "linecolor": "white",
           "ticks": "",
           "title": {
            "standoff": 15
           },
           "zerolinecolor": "white",
           "zerolinewidth": 2
          },
          "yaxis": {
           "automargin": true,
           "gridcolor": "white",
           "linecolor": "white",
           "ticks": "",
           "title": {
            "standoff": 15
           },
           "zerolinecolor": "white",
           "zerolinewidth": 2
          }
         }
        },
        "title": {
         "text": "<b>Asylum seekers in Europe 2015-2017</b>"
        },
        "xaxis": {
         "title": {
          "font": {
           "size": 20
          },
          "text": "Country<br><sup>The total number of new asylum seekers in European countries between 2015 and 2017.</sup>"
         },
         "type": "category"
        },
        "yaxis": {
         "title": {
          "text": "Number of new asylum seekers"
         }
        }
       }
      }
     },
     "metadata": {},
     "output_type": "display_data"
    }
   ],
   "source": [
    "# Read the CSV file into a DataFrame\n",
    "pmpc_df = pd.read_csv(\"data/processed_monthly_per_country.csv\", sep=\",\", low_memory=False)\n",
    "\n",
    "# Rename the column for the United Kingdom\n",
    "pmpc_df = pmpc_df.rename(columns={\"United Kingdom of Great Britain and Northern Ireland\": \"United Kingdom\"})\n",
    "\n",
    "# Remove unwanted columns\n",
    "columns_to_drop = ['Canada', 'Liechtenstein', 'Rep. of Korea', 'New Zealand', 'USA (EOIR)', 'USA (INS/DHS)',\n",
    "                   'Japan', 'Canada', 'Liechtenstein', 'Rep. of Korea', 'New Zealand', 'USA (EOIR)', 'USA (INS/DHS)',\n",
    "                   'The former Yugoslav Rep. of Macedonia', 'Serbia and Kosovo: S/RES/1244 (1999)', 'Albania',\n",
    "                   'Lithuania', 'Montenegro', 'Bosnia and Herzegovina', 'Estonia', 'Slovakia', 'Japan', \"Cyprus\",\n",
    "                   \"Latvia\", \"Malta\", \"Croatia\", \"Slovenia\", \"Romania\", \"Ireland\", \"Australia\"]\n",
    "pmpc_df = pmpc_df.drop(columns_to_drop, axis=1)\n",
    "\n",
    "# Create trace for each year\n",
    "trace = [\n",
    "    go.Bar(\n",
    "        name='2015',\n",
    "        x=pmpc_df.columns[2:],\n",
    "        y=pmpc_df[pmpc_df.Year == 2015].iloc[:, 2:].sum(),\n",
    "        marker_color='rgb(102,194,165)'\n",
    "    ),\n",
    "    go.Bar(\n",
    "        name='2016',\n",
    "        x=pmpc_df.columns[2:],\n",
    "        y=pmpc_df[pmpc_df.Year == 2016].iloc[:, 2:].sum(),\n",
    "        marker_color='rgb(252,141,98)'\n",
    "    ),\n",
    "    go.Bar(\n",
    "        name='2017',\n",
    "        x=pmpc_df.columns[2:],\n",
    "        y=pmpc_df[pmpc_df.Year == 2017].iloc[:, 2:].sum(),\n",
    "        marker_color='rgb(141,160,203)'\n",
    "    )\n",
    "]\n",
    "\n",
    "# Set layout for the plot\n",
    "layout = go.Layout(\n",
    "    xaxis=go.layout.XAxis(\n",
    "        type='category'\n",
    "    )\n",
    ")\n",
    "\n",
    "# Create the figure\n",
    "fig = go.Figure(data=trace, layout=layout)\n",
    "\n",
    "# Update layout and display the plot\n",
    "fig.update_layout(\n",
    "    title='<b>Asylum seekers in Europe 2015-2017</b>',\n",
    "    yaxis=dict(\n",
    "        title='Number of new asylum seekers'\n",
    "    ),\n",
    "    xaxis=dict(\n",
    "        title='Country<br><sup>The total number of new asylum seekers in European countries between 2015 and 2017.</sup>',\n",
    "        titlefont_size=20,\n",
    "    ),\n",
    "    height=500\n",
    ")\n",
    "\n",
    "# Show the plot\n",
    "fig.show()"
   ]
  },
  {
   "attachments": {},
   "cell_type": "markdown",
   "metadata": {},
   "source": [
    "The graph presented above shows a significant divergence among European nations concerning the influx of asylum seekers. Various factors contribute to this contrast, including the size of the countries, their appeal to refugees, and the demand for a younger workforce, as seen in the data of Germany.  Collaboration between nations is necessary to effectively manage the issues caused by the refugee crisis. By pooling resources, sharing best practices, and coordinating efforts, European countries can collectively provide more support to displaced individuals seeking asylum. This collaboration should go beyond mere burden-sharing, countries must also enforce the same policies and strategies.\n",
    "\n",
    "Better cooperation can create a more equal distribution of responsibilities among countries, ensuring that the burden of hosting and providing assistance to refugees is shared more fairly. It also enables the pooling of expertise and resources to improve reception and integration processes, thereby facilitating the successful integration of refugees into European communities. Countries should also collaborate to tackle the root issues. By working together, countries can contribute to stability and peacebuilding in unsafe regions. This support can focus on sustainable development, fostering good governance, and promoting economic opportunities in countries of origin to reduce the reasons of displacement."
   ]
  },
  {
   "attachments": {},
   "cell_type": "markdown",
   "metadata": {},
   "source": [
    "### The Netherlands, initial asylum seekers Origins 2023 april"
   ]
  },
  {
   "cell_type": "code",
   "execution_count": 14,
   "metadata": {
    "colab": {
     "base_uri": "https://localhost:8080/",
     "height": 617
    },
    "id": "PmwlhAYMm2gj",
    "outputId": "951b9475-2f6f-4802-9c79-16f91340efc5",
    "tags": [
     "hide-input"
    ]
   },
   "outputs": [
    {
     "data": {
      "application/vnd.plotly.v1+json": {
       "config": {
        "plotlyServerURL": "https://plot.ly"
       },
       "data": [
        {
         "domain": {
          "x": [
           0,
           1
          ],
          "y": [
           0,
           1
          ]
         },
         "hole": 0.6,
         "hovertemplate": "Nationaliteit=%{label}<br>2023 april*=%{value}<extra></extra>",
         "labels": [
          "Afghaans ",
          "Algerijns ",
          "Chinees ",
          "Egyptisch ",
          "Eritrees ",
          "Ethiopisch ",
          "Gambiaans ",
          "Indiaas ",
          "Iraaks ",
          "Iraans ",
          "Jemenitisch ",
          "Marokkaans ",
          "Nigeriaans ",
          "Oekraïens ",
          "Pakistaans ",
          "Russisch ",
          "Soedanees ",
          "Somalisch ",
          "Syrisch ",
          "Tunesisch ",
          "Turks ",
          "Wit-Russisch ",
          "Onbekend",
          "Staatloos"
         ],
         "legendgroup": "",
         "name": "",
         "showlegend": true,
         "textinfo": "percent+label",
         "textposition": "inside",
         "type": "pie",
         "values": [
          40,
          90,
          20,
          15,
          105,
          20,
          5,
          15,
          195,
          105,
          220,
          50,
          55,
          35,
          40,
          30,
          10,
          140,
          585,
          25,
          150,
          5,
          80,
          5
         ]
        }
       ],
       "layout": {
        "annotations": [
         {
          "font": {
           "size": 15
          },
          "showarrow": false,
          "text": "The ratio of the origins of initial asylum seekers arriving in the Netherlands during April 2023.",
          "x": 0.5,
          "y": -0.1
         },
         {
          "font": {
           "size": 15
          },
          "showarrow": false,
          "text": "These are people who travel first and are not following family, for example.",
          "x": 0.5,
          "y": -0.15
         }
        ],
        "height": 600,
        "legend": {
         "tracegroupgap": 0
        },
        "piecolorway": [
         "#4C78A8",
         "#F58518",
         "#EECA3B",
         "#54A24B",
         "#E45756",
         "#72B7B2"
        ],
        "showlegend": false,
        "template": {
         "data": {
          "bar": [
           {
            "error_x": {
             "color": "#2a3f5f"
            },
            "error_y": {
             "color": "#2a3f5f"
            },
            "marker": {
             "line": {
              "color": "#E5ECF6",
              "width": 0.5
             },
             "pattern": {
              "fillmode": "overlay",
              "size": 10,
              "solidity": 0.2
             }
            },
            "type": "bar"
           }
          ],
          "barpolar": [
           {
            "marker": {
             "line": {
              "color": "#E5ECF6",
              "width": 0.5
             },
             "pattern": {
              "fillmode": "overlay",
              "size": 10,
              "solidity": 0.2
             }
            },
            "type": "barpolar"
           }
          ],
          "carpet": [
           {
            "aaxis": {
             "endlinecolor": "#2a3f5f",
             "gridcolor": "white",
             "linecolor": "white",
             "minorgridcolor": "white",
             "startlinecolor": "#2a3f5f"
            },
            "baxis": {
             "endlinecolor": "#2a3f5f",
             "gridcolor": "white",
             "linecolor": "white",
             "minorgridcolor": "white",
             "startlinecolor": "#2a3f5f"
            },
            "type": "carpet"
           }
          ],
          "choropleth": [
           {
            "colorbar": {
             "outlinewidth": 0,
             "ticks": ""
            },
            "type": "choropleth"
           }
          ],
          "contour": [
           {
            "colorbar": {
             "outlinewidth": 0,
             "ticks": ""
            },
            "colorscale": [
             [
              0,
              "#0d0887"
             ],
             [
              0.1111111111111111,
              "#46039f"
             ],
             [
              0.2222222222222222,
              "#7201a8"
             ],
             [
              0.3333333333333333,
              "#9c179e"
             ],
             [
              0.4444444444444444,
              "#bd3786"
             ],
             [
              0.5555555555555556,
              "#d8576b"
             ],
             [
              0.6666666666666666,
              "#ed7953"
             ],
             [
              0.7777777777777778,
              "#fb9f3a"
             ],
             [
              0.8888888888888888,
              "#fdca26"
             ],
             [
              1,
              "#f0f921"
             ]
            ],
            "type": "contour"
           }
          ],
          "contourcarpet": [
           {
            "colorbar": {
             "outlinewidth": 0,
             "ticks": ""
            },
            "type": "contourcarpet"
           }
          ],
          "heatmap": [
           {
            "colorbar": {
             "outlinewidth": 0,
             "ticks": ""
            },
            "colorscale": [
             [
              0,
              "#0d0887"
             ],
             [
              0.1111111111111111,
              "#46039f"
             ],
             [
              0.2222222222222222,
              "#7201a8"
             ],
             [
              0.3333333333333333,
              "#9c179e"
             ],
             [
              0.4444444444444444,
              "#bd3786"
             ],
             [
              0.5555555555555556,
              "#d8576b"
             ],
             [
              0.6666666666666666,
              "#ed7953"
             ],
             [
              0.7777777777777778,
              "#fb9f3a"
             ],
             [
              0.8888888888888888,
              "#fdca26"
             ],
             [
              1,
              "#f0f921"
             ]
            ],
            "type": "heatmap"
           }
          ],
          "heatmapgl": [
           {
            "colorbar": {
             "outlinewidth": 0,
             "ticks": ""
            },
            "colorscale": [
             [
              0,
              "#0d0887"
             ],
             [
              0.1111111111111111,
              "#46039f"
             ],
             [
              0.2222222222222222,
              "#7201a8"
             ],
             [
              0.3333333333333333,
              "#9c179e"
             ],
             [
              0.4444444444444444,
              "#bd3786"
             ],
             [
              0.5555555555555556,
              "#d8576b"
             ],
             [
              0.6666666666666666,
              "#ed7953"
             ],
             [
              0.7777777777777778,
              "#fb9f3a"
             ],
             [
              0.8888888888888888,
              "#fdca26"
             ],
             [
              1,
              "#f0f921"
             ]
            ],
            "type": "heatmapgl"
           }
          ],
          "histogram": [
           {
            "marker": {
             "pattern": {
              "fillmode": "overlay",
              "size": 10,
              "solidity": 0.2
             }
            },
            "type": "histogram"
           }
          ],
          "histogram2d": [
           {
            "colorbar": {
             "outlinewidth": 0,
             "ticks": ""
            },
            "colorscale": [
             [
              0,
              "#0d0887"
             ],
             [
              0.1111111111111111,
              "#46039f"
             ],
             [
              0.2222222222222222,
              "#7201a8"
             ],
             [
              0.3333333333333333,
              "#9c179e"
             ],
             [
              0.4444444444444444,
              "#bd3786"
             ],
             [
              0.5555555555555556,
              "#d8576b"
             ],
             [
              0.6666666666666666,
              "#ed7953"
             ],
             [
              0.7777777777777778,
              "#fb9f3a"
             ],
             [
              0.8888888888888888,
              "#fdca26"
             ],
             [
              1,
              "#f0f921"
             ]
            ],
            "type": "histogram2d"
           }
          ],
          "histogram2dcontour": [
           {
            "colorbar": {
             "outlinewidth": 0,
             "ticks": ""
            },
            "colorscale": [
             [
              0,
              "#0d0887"
             ],
             [
              0.1111111111111111,
              "#46039f"
             ],
             [
              0.2222222222222222,
              "#7201a8"
             ],
             [
              0.3333333333333333,
              "#9c179e"
             ],
             [
              0.4444444444444444,
              "#bd3786"
             ],
             [
              0.5555555555555556,
              "#d8576b"
             ],
             [
              0.6666666666666666,
              "#ed7953"
             ],
             [
              0.7777777777777778,
              "#fb9f3a"
             ],
             [
              0.8888888888888888,
              "#fdca26"
             ],
             [
              1,
              "#f0f921"
             ]
            ],
            "type": "histogram2dcontour"
           }
          ],
          "mesh3d": [
           {
            "colorbar": {
             "outlinewidth": 0,
             "ticks": ""
            },
            "type": "mesh3d"
           }
          ],
          "parcoords": [
           {
            "line": {
             "colorbar": {
              "outlinewidth": 0,
              "ticks": ""
             }
            },
            "type": "parcoords"
           }
          ],
          "pie": [
           {
            "automargin": true,
            "type": "pie"
           }
          ],
          "scatter": [
           {
            "fillpattern": {
             "fillmode": "overlay",
             "size": 10,
             "solidity": 0.2
            },
            "type": "scatter"
           }
          ],
          "scatter3d": [
           {
            "line": {
             "colorbar": {
              "outlinewidth": 0,
              "ticks": ""
             }
            },
            "marker": {
             "colorbar": {
              "outlinewidth": 0,
              "ticks": ""
             }
            },
            "type": "scatter3d"
           }
          ],
          "scattercarpet": [
           {
            "marker": {
             "colorbar": {
              "outlinewidth": 0,
              "ticks": ""
             }
            },
            "type": "scattercarpet"
           }
          ],
          "scattergeo": [
           {
            "marker": {
             "colorbar": {
              "outlinewidth": 0,
              "ticks": ""
             }
            },
            "type": "scattergeo"
           }
          ],
          "scattergl": [
           {
            "marker": {
             "colorbar": {
              "outlinewidth": 0,
              "ticks": ""
             }
            },
            "type": "scattergl"
           }
          ],
          "scattermapbox": [
           {
            "marker": {
             "colorbar": {
              "outlinewidth": 0,
              "ticks": ""
             }
            },
            "type": "scattermapbox"
           }
          ],
          "scatterpolar": [
           {
            "marker": {
             "colorbar": {
              "outlinewidth": 0,
              "ticks": ""
             }
            },
            "type": "scatterpolar"
           }
          ],
          "scatterpolargl": [
           {
            "marker": {
             "colorbar": {
              "outlinewidth": 0,
              "ticks": ""
             }
            },
            "type": "scatterpolargl"
           }
          ],
          "scatterternary": [
           {
            "marker": {
             "colorbar": {
              "outlinewidth": 0,
              "ticks": ""
             }
            },
            "type": "scatterternary"
           }
          ],
          "surface": [
           {
            "colorbar": {
             "outlinewidth": 0,
             "ticks": ""
            },
            "colorscale": [
             [
              0,
              "#0d0887"
             ],
             [
              0.1111111111111111,
              "#46039f"
             ],
             [
              0.2222222222222222,
              "#7201a8"
             ],
             [
              0.3333333333333333,
              "#9c179e"
             ],
             [
              0.4444444444444444,
              "#bd3786"
             ],
             [
              0.5555555555555556,
              "#d8576b"
             ],
             [
              0.6666666666666666,
              "#ed7953"
             ],
             [
              0.7777777777777778,
              "#fb9f3a"
             ],
             [
              0.8888888888888888,
              "#fdca26"
             ],
             [
              1,
              "#f0f921"
             ]
            ],
            "type": "surface"
           }
          ],
          "table": [
           {
            "cells": {
             "fill": {
              "color": "#EBF0F8"
             },
             "line": {
              "color": "white"
             }
            },
            "header": {
             "fill": {
              "color": "#C8D4E3"
             },
             "line": {
              "color": "white"
             }
            },
            "type": "table"
           }
          ]
         },
         "layout": {
          "annotationdefaults": {
           "arrowcolor": "#2a3f5f",
           "arrowhead": 0,
           "arrowwidth": 1
          },
          "autotypenumbers": "strict",
          "coloraxis": {
           "colorbar": {
            "outlinewidth": 0,
            "ticks": ""
           }
          },
          "colorscale": {
           "diverging": [
            [
             0,
             "#8e0152"
            ],
            [
             0.1,
             "#c51b7d"
            ],
            [
             0.2,
             "#de77ae"
            ],
            [
             0.3,
             "#f1b6da"
            ],
            [
             0.4,
             "#fde0ef"
            ],
            [
             0.5,
             "#f7f7f7"
            ],
            [
             0.6,
             "#e6f5d0"
            ],
            [
             0.7,
             "#b8e186"
            ],
            [
             0.8,
             "#7fbc41"
            ],
            [
             0.9,
             "#4d9221"
            ],
            [
             1,
             "#276419"
            ]
           ],
           "sequential": [
            [
             0,
             "#0d0887"
            ],
            [
             0.1111111111111111,
             "#46039f"
            ],
            [
             0.2222222222222222,
             "#7201a8"
            ],
            [
             0.3333333333333333,
             "#9c179e"
            ],
            [
             0.4444444444444444,
             "#bd3786"
            ],
            [
             0.5555555555555556,
             "#d8576b"
            ],
            [
             0.6666666666666666,
             "#ed7953"
            ],
            [
             0.7777777777777778,
             "#fb9f3a"
            ],
            [
             0.8888888888888888,
             "#fdca26"
            ],
            [
             1,
             "#f0f921"
            ]
           ],
           "sequentialminus": [
            [
             0,
             "#0d0887"
            ],
            [
             0.1111111111111111,
             "#46039f"
            ],
            [
             0.2222222222222222,
             "#7201a8"
            ],
            [
             0.3333333333333333,
             "#9c179e"
            ],
            [
             0.4444444444444444,
             "#bd3786"
            ],
            [
             0.5555555555555556,
             "#d8576b"
            ],
            [
             0.6666666666666666,
             "#ed7953"
            ],
            [
             0.7777777777777778,
             "#fb9f3a"
            ],
            [
             0.8888888888888888,
             "#fdca26"
            ],
            [
             1,
             "#f0f921"
            ]
           ]
          },
          "colorway": [
           "#636efa",
           "#EF553B",
           "#00cc96",
           "#ab63fa",
           "#FFA15A",
           "#19d3f3",
           "#FF6692",
           "#B6E880",
           "#FF97FF",
           "#FECB52"
          ],
          "font": {
           "color": "#2a3f5f"
          },
          "geo": {
           "bgcolor": "white",
           "lakecolor": "white",
           "landcolor": "#E5ECF6",
           "showlakes": true,
           "showland": true,
           "subunitcolor": "white"
          },
          "hoverlabel": {
           "align": "left"
          },
          "hovermode": "closest",
          "mapbox": {
           "style": "light"
          },
          "paper_bgcolor": "white",
          "plot_bgcolor": "#E5ECF6",
          "polar": {
           "angularaxis": {
            "gridcolor": "white",
            "linecolor": "white",
            "ticks": ""
           },
           "bgcolor": "#E5ECF6",
           "radialaxis": {
            "gridcolor": "white",
            "linecolor": "white",
            "ticks": ""
           }
          },
          "scene": {
           "xaxis": {
            "backgroundcolor": "#E5ECF6",
            "gridcolor": "white",
            "gridwidth": 2,
            "linecolor": "white",
            "showbackground": true,
            "ticks": "",
            "zerolinecolor": "white"
           },
           "yaxis": {
            "backgroundcolor": "#E5ECF6",
            "gridcolor": "white",
            "gridwidth": 2,
            "linecolor": "white",
            "showbackground": true,
            "ticks": "",
            "zerolinecolor": "white"
           },
           "zaxis": {
            "backgroundcolor": "#E5ECF6",
            "gridcolor": "white",
            "gridwidth": 2,
            "linecolor": "white",
            "showbackground": true,
            "ticks": "",
            "zerolinecolor": "white"
           }
          },
          "shapedefaults": {
           "line": {
            "color": "#2a3f5f"
           }
          },
          "ternary": {
           "aaxis": {
            "gridcolor": "white",
            "linecolor": "white",
            "ticks": ""
           },
           "baxis": {
            "gridcolor": "white",
            "linecolor": "white",
            "ticks": ""
           },
           "bgcolor": "#E5ECF6",
           "caxis": {
            "gridcolor": "white",
            "linecolor": "white",
            "ticks": ""
           }
          },
          "title": {
           "x": 0.05
          },
          "xaxis": {
           "automargin": true,
           "gridcolor": "white",
           "linecolor": "white",
           "ticks": "",
           "title": {
            "standoff": 15
           },
           "zerolinecolor": "white",
           "zerolinewidth": 2
          },
          "yaxis": {
           "automargin": true,
           "gridcolor": "white",
           "linecolor": "white",
           "ticks": "",
           "title": {
            "standoff": 15
           },
           "zerolinecolor": "white",
           "zerolinewidth": 2
          }
         }
        },
        "title": {
         "text": "<b>The Netherlands, initial asylum seekers Origins 2023 april</b>"
        }
       }
      }
     },
     "metadata": {},
     "output_type": "display_data"
    }
   ],
   "source": [
    "# Read the CSV file into a DataFrame\n",
    "anngl_df = pd.read_csv(\"data/Asielverzoeken_en_nareizigers__nationaliteit__geslacht_en_leeftijd_18062023_133350.csv\", low_memory=False, sep=';')\n",
    "\n",
    "# Define color palette for the pie chart\n",
    "colors = ['#4C78A8', '#F58518', '#EECA3B', '#54A24B', '#E45756', '#72B7B2']\n",
    "\n",
    "# Create the pie chart using Plotly Express\n",
    "fig = px.pie(\n",
    "    anngl_df[anngl_df[\"Onderwerp\"] == \"Eerste asielverzoeken (personen)\"][1:],\n",
    "    values='2023 april*',\n",
    "    names='Nationaliteit',\n",
    "    color_discrete_sequence=colors,\n",
    "    hole=0.6,\n",
    "    height=600,\n",
    "    title=\"<b>The Netherlands, initial asylum seekers Origins 2023 april</b>\",\n",
    "    labels={'x': \"Fruits<br><sup>Fruit sales in the month of January</sup>\"}\n",
    ")\n",
    "\n",
    "# Update chart layout\n",
    "fig.update(layout_showlegend=False)\n",
    "fig.update_traces(textposition='inside', textinfo='percent+label')\n",
    "fig.update_layout(\n",
    "    height=600,\n",
    "    annotations=[\n",
    "        dict(\n",
    "            text='The ratio of the origins of initial asylum seekers arriving in the Netherlands during April 2023.',\n",
    "            x=0.5,\n",
    "            y=-0.1,\n",
    "            font_size=15,\n",
    "            showarrow=False\n",
    "        ),\n",
    "        dict(\n",
    "            text='These are people who travel first and are not following family, for example.',\n",
    "            x=0.5,\n",
    "            y=-0.15,\n",
    "            font_size=15,\n",
    "            showarrow=False\n",
    "        )\n",
    "    ]\n",
    ")"
   ]
  },
  {
   "attachments": {},
   "cell_type": "markdown",
   "metadata": {},
   "source": [
    "The figure above shows a pie chart showing the origin of current asylum seekers in the Netherlands. Remarkably, only four countries account for about 50 percent of the total number of asylum seekers. This finding underscores the need for a pragmatic approach to the problem, one that emphasizes addressing the root causes of migration rather than focusing only on destination countries. This specific topic of debate has been fought over since the beginning of the refugee crisis. The most long term way of dealing with such a crisis of too many refugees is to prevent the refugees from having to leave their home country. By focusing on the root causes, we can provide a more sustainable solution and encourage people to stay in their home countries through infrastructure development, job creation, or conflict management.\n",
    "\n",
    "This topic is quite controversial, as many people on the other side believe we should not interfere in these countries of origin. The countries themselves often do not want any influence from the countries their refugees move to. Not to mention, there are many historical examples of foreign countries interfering in this manner, where they end up only making the situation worse. Many people are of the opinion that the countries of origin are none of their business, while others think that they become involved the moment refugees arrive in their country."
   ]
  },
  {
   "attachments": {},
   "cell_type": "markdown",
   "metadata": {},
   "source": [
    "### The Netherlands, follow up travelers Origins 2023 april"
   ]
  },
  {
   "cell_type": "code",
   "execution_count": 15,
   "metadata": {
    "colab": {
     "base_uri": "https://localhost:8080/",
     "height": 617
    },
    "id": "8uVfuuWTpus7",
    "outputId": "962be9da-3102-47ee-ce3c-49a1a1d3918e",
    "tags": [
     "hide-input"
    ]
   },
   "outputs": [
    {
     "data": {
      "application/vnd.plotly.v1+json": {
       "config": {
        "plotlyServerURL": "https://plot.ly"
       },
       "data": [
        {
         "domain": {
          "x": [
           0,
           1
          ],
          "y": [
           0,
           1
          ]
         },
         "hole": 0.8,
         "hovertemplate": "Nationaliteit=%{label}<br>2023 april*=%{value}<extra></extra>",
         "labels": [
          "Afghaans ",
          "Algerijns ",
          "Chinees ",
          "Egyptisch ",
          "Eritrees ",
          "Ethiopisch ",
          "Gambiaans ",
          "Indiaas ",
          "Iraaks ",
          "Iraans ",
          "Jemenitisch ",
          "Marokkaans ",
          "Nigeriaans ",
          "Oekraïens ",
          "Pakistaans ",
          "Russisch ",
          "Soedanees ",
          "Somalisch ",
          "Syrisch ",
          "Tunesisch ",
          "Turks ",
          "Wit-Russisch ",
          "Onbekend",
          "Staatloos"
         ],
         "legendgroup": "",
         "name": "",
         "showlegend": true,
         "textinfo": "percent+label",
         "textposition": "inside",
         "type": "pie",
         "values": [
          20,
          0,
          5,
          0,
          30,
          0,
          0,
          0,
          20,
          5,
          20,
          0,
          5,
          0,
          0,
          0,
          0,
          0,
          575,
          0,
          105,
          0,
          5,
          10
         ]
        }
       ],
       "layout": {
        "annotations": [
         {
          "font": {
           "size": 15
          },
          "showarrow": false,
          "text": "The ratio of the origins of follow up asylum seekers arriving in the Netherlands during April 2023.",
          "x": 0.5,
          "y": -0.1
         },
         {
          "font": {
           "size": 15
          },
          "showarrow": false,
          "text": "These are people who do not travel first, and are often following family.",
          "x": 0.5,
          "y": -0.15
         }
        ],
        "height": 600,
        "legend": {
         "tracegroupgap": 0
        },
        "piecolorway": [
         "#4C78A8",
         "#F58518",
         "#EECA3B",
         "#54A24B",
         "#E45756",
         "#72B7B2"
        ],
        "showlegend": false,
        "template": {
         "data": {
          "bar": [
           {
            "error_x": {
             "color": "#2a3f5f"
            },
            "error_y": {
             "color": "#2a3f5f"
            },
            "marker": {
             "line": {
              "color": "#E5ECF6",
              "width": 0.5
             },
             "pattern": {
              "fillmode": "overlay",
              "size": 10,
              "solidity": 0.2
             }
            },
            "type": "bar"
           }
          ],
          "barpolar": [
           {
            "marker": {
             "line": {
              "color": "#E5ECF6",
              "width": 0.5
             },
             "pattern": {
              "fillmode": "overlay",
              "size": 10,
              "solidity": 0.2
             }
            },
            "type": "barpolar"
           }
          ],
          "carpet": [
           {
            "aaxis": {
             "endlinecolor": "#2a3f5f",
             "gridcolor": "white",
             "linecolor": "white",
             "minorgridcolor": "white",
             "startlinecolor": "#2a3f5f"
            },
            "baxis": {
             "endlinecolor": "#2a3f5f",
             "gridcolor": "white",
             "linecolor": "white",
             "minorgridcolor": "white",
             "startlinecolor": "#2a3f5f"
            },
            "type": "carpet"
           }
          ],
          "choropleth": [
           {
            "colorbar": {
             "outlinewidth": 0,
             "ticks": ""
            },
            "type": "choropleth"
           }
          ],
          "contour": [
           {
            "colorbar": {
             "outlinewidth": 0,
             "ticks": ""
            },
            "colorscale": [
             [
              0,
              "#0d0887"
             ],
             [
              0.1111111111111111,
              "#46039f"
             ],
             [
              0.2222222222222222,
              "#7201a8"
             ],
             [
              0.3333333333333333,
              "#9c179e"
             ],
             [
              0.4444444444444444,
              "#bd3786"
             ],
             [
              0.5555555555555556,
              "#d8576b"
             ],
             [
              0.6666666666666666,
              "#ed7953"
             ],
             [
              0.7777777777777778,
              "#fb9f3a"
             ],
             [
              0.8888888888888888,
              "#fdca26"
             ],
             [
              1,
              "#f0f921"
             ]
            ],
            "type": "contour"
           }
          ],
          "contourcarpet": [
           {
            "colorbar": {
             "outlinewidth": 0,
             "ticks": ""
            },
            "type": "contourcarpet"
           }
          ],
          "heatmap": [
           {
            "colorbar": {
             "outlinewidth": 0,
             "ticks": ""
            },
            "colorscale": [
             [
              0,
              "#0d0887"
             ],
             [
              0.1111111111111111,
              "#46039f"
             ],
             [
              0.2222222222222222,
              "#7201a8"
             ],
             [
              0.3333333333333333,
              "#9c179e"
             ],
             [
              0.4444444444444444,
              "#bd3786"
             ],
             [
              0.5555555555555556,
              "#d8576b"
             ],
             [
              0.6666666666666666,
              "#ed7953"
             ],
             [
              0.7777777777777778,
              "#fb9f3a"
             ],
             [
              0.8888888888888888,
              "#fdca26"
             ],
             [
              1,
              "#f0f921"
             ]
            ],
            "type": "heatmap"
           }
          ],
          "heatmapgl": [
           {
            "colorbar": {
             "outlinewidth": 0,
             "ticks": ""
            },
            "colorscale": [
             [
              0,
              "#0d0887"
             ],
             [
              0.1111111111111111,
              "#46039f"
             ],
             [
              0.2222222222222222,
              "#7201a8"
             ],
             [
              0.3333333333333333,
              "#9c179e"
             ],
             [
              0.4444444444444444,
              "#bd3786"
             ],
             [
              0.5555555555555556,
              "#d8576b"
             ],
             [
              0.6666666666666666,
              "#ed7953"
             ],
             [
              0.7777777777777778,
              "#fb9f3a"
             ],
             [
              0.8888888888888888,
              "#fdca26"
             ],
             [
              1,
              "#f0f921"
             ]
            ],
            "type": "heatmapgl"
           }
          ],
          "histogram": [
           {
            "marker": {
             "pattern": {
              "fillmode": "overlay",
              "size": 10,
              "solidity": 0.2
             }
            },
            "type": "histogram"
           }
          ],
          "histogram2d": [
           {
            "colorbar": {
             "outlinewidth": 0,
             "ticks": ""
            },
            "colorscale": [
             [
              0,
              "#0d0887"
             ],
             [
              0.1111111111111111,
              "#46039f"
             ],
             [
              0.2222222222222222,
              "#7201a8"
             ],
             [
              0.3333333333333333,
              "#9c179e"
             ],
             [
              0.4444444444444444,
              "#bd3786"
             ],
             [
              0.5555555555555556,
              "#d8576b"
             ],
             [
              0.6666666666666666,
              "#ed7953"
             ],
             [
              0.7777777777777778,
              "#fb9f3a"
             ],
             [
              0.8888888888888888,
              "#fdca26"
             ],
             [
              1,
              "#f0f921"
             ]
            ],
            "type": "histogram2d"
           }
          ],
          "histogram2dcontour": [
           {
            "colorbar": {
             "outlinewidth": 0,
             "ticks": ""
            },
            "colorscale": [
             [
              0,
              "#0d0887"
             ],
             [
              0.1111111111111111,
              "#46039f"
             ],
             [
              0.2222222222222222,
              "#7201a8"
             ],
             [
              0.3333333333333333,
              "#9c179e"
             ],
             [
              0.4444444444444444,
              "#bd3786"
             ],
             [
              0.5555555555555556,
              "#d8576b"
             ],
             [
              0.6666666666666666,
              "#ed7953"
             ],
             [
              0.7777777777777778,
              "#fb9f3a"
             ],
             [
              0.8888888888888888,
              "#fdca26"
             ],
             [
              1,
              "#f0f921"
             ]
            ],
            "type": "histogram2dcontour"
           }
          ],
          "mesh3d": [
           {
            "colorbar": {
             "outlinewidth": 0,
             "ticks": ""
            },
            "type": "mesh3d"
           }
          ],
          "parcoords": [
           {
            "line": {
             "colorbar": {
              "outlinewidth": 0,
              "ticks": ""
             }
            },
            "type": "parcoords"
           }
          ],
          "pie": [
           {
            "automargin": true,
            "type": "pie"
           }
          ],
          "scatter": [
           {
            "fillpattern": {
             "fillmode": "overlay",
             "size": 10,
             "solidity": 0.2
            },
            "type": "scatter"
           }
          ],
          "scatter3d": [
           {
            "line": {
             "colorbar": {
              "outlinewidth": 0,
              "ticks": ""
             }
            },
            "marker": {
             "colorbar": {
              "outlinewidth": 0,
              "ticks": ""
             }
            },
            "type": "scatter3d"
           }
          ],
          "scattercarpet": [
           {
            "marker": {
             "colorbar": {
              "outlinewidth": 0,
              "ticks": ""
             }
            },
            "type": "scattercarpet"
           }
          ],
          "scattergeo": [
           {
            "marker": {
             "colorbar": {
              "outlinewidth": 0,
              "ticks": ""
             }
            },
            "type": "scattergeo"
           }
          ],
          "scattergl": [
           {
            "marker": {
             "colorbar": {
              "outlinewidth": 0,
              "ticks": ""
             }
            },
            "type": "scattergl"
           }
          ],
          "scattermapbox": [
           {
            "marker": {
             "colorbar": {
              "outlinewidth": 0,
              "ticks": ""
             }
            },
            "type": "scattermapbox"
           }
          ],
          "scatterpolar": [
           {
            "marker": {
             "colorbar": {
              "outlinewidth": 0,
              "ticks": ""
             }
            },
            "type": "scatterpolar"
           }
          ],
          "scatterpolargl": [
           {
            "marker": {
             "colorbar": {
              "outlinewidth": 0,
              "ticks": ""
             }
            },
            "type": "scatterpolargl"
           }
          ],
          "scatterternary": [
           {
            "marker": {
             "colorbar": {
              "outlinewidth": 0,
              "ticks": ""
             }
            },
            "type": "scatterternary"
           }
          ],
          "surface": [
           {
            "colorbar": {
             "outlinewidth": 0,
             "ticks": ""
            },
            "colorscale": [
             [
              0,
              "#0d0887"
             ],
             [
              0.1111111111111111,
              "#46039f"
             ],
             [
              0.2222222222222222,
              "#7201a8"
             ],
             [
              0.3333333333333333,
              "#9c179e"
             ],
             [
              0.4444444444444444,
              "#bd3786"
             ],
             [
              0.5555555555555556,
              "#d8576b"
             ],
             [
              0.6666666666666666,
              "#ed7953"
             ],
             [
              0.7777777777777778,
              "#fb9f3a"
             ],
             [
              0.8888888888888888,
              "#fdca26"
             ],
             [
              1,
              "#f0f921"
             ]
            ],
            "type": "surface"
           }
          ],
          "table": [
           {
            "cells": {
             "fill": {
              "color": "#EBF0F8"
             },
             "line": {
              "color": "white"
             }
            },
            "header": {
             "fill": {
              "color": "#C8D4E3"
             },
             "line": {
              "color": "white"
             }
            },
            "type": "table"
           }
          ]
         },
         "layout": {
          "annotationdefaults": {
           "arrowcolor": "#2a3f5f",
           "arrowhead": 0,
           "arrowwidth": 1
          },
          "autotypenumbers": "strict",
          "coloraxis": {
           "colorbar": {
            "outlinewidth": 0,
            "ticks": ""
           }
          },
          "colorscale": {
           "diverging": [
            [
             0,
             "#8e0152"
            ],
            [
             0.1,
             "#c51b7d"
            ],
            [
             0.2,
             "#de77ae"
            ],
            [
             0.3,
             "#f1b6da"
            ],
            [
             0.4,
             "#fde0ef"
            ],
            [
             0.5,
             "#f7f7f7"
            ],
            [
             0.6,
             "#e6f5d0"
            ],
            [
             0.7,
             "#b8e186"
            ],
            [
             0.8,
             "#7fbc41"
            ],
            [
             0.9,
             "#4d9221"
            ],
            [
             1,
             "#276419"
            ]
           ],
           "sequential": [
            [
             0,
             "#0d0887"
            ],
            [
             0.1111111111111111,
             "#46039f"
            ],
            [
             0.2222222222222222,
             "#7201a8"
            ],
            [
             0.3333333333333333,
             "#9c179e"
            ],
            [
             0.4444444444444444,
             "#bd3786"
            ],
            [
             0.5555555555555556,
             "#d8576b"
            ],
            [
             0.6666666666666666,
             "#ed7953"
            ],
            [
             0.7777777777777778,
             "#fb9f3a"
            ],
            [
             0.8888888888888888,
             "#fdca26"
            ],
            [
             1,
             "#f0f921"
            ]
           ],
           "sequentialminus": [
            [
             0,
             "#0d0887"
            ],
            [
             0.1111111111111111,
             "#46039f"
            ],
            [
             0.2222222222222222,
             "#7201a8"
            ],
            [
             0.3333333333333333,
             "#9c179e"
            ],
            [
             0.4444444444444444,
             "#bd3786"
            ],
            [
             0.5555555555555556,
             "#d8576b"
            ],
            [
             0.6666666666666666,
             "#ed7953"
            ],
            [
             0.7777777777777778,
             "#fb9f3a"
            ],
            [
             0.8888888888888888,
             "#fdca26"
            ],
            [
             1,
             "#f0f921"
            ]
           ]
          },
          "colorway": [
           "#636efa",
           "#EF553B",
           "#00cc96",
           "#ab63fa",
           "#FFA15A",
           "#19d3f3",
           "#FF6692",
           "#B6E880",
           "#FF97FF",
           "#FECB52"
          ],
          "font": {
           "color": "#2a3f5f"
          },
          "geo": {
           "bgcolor": "white",
           "lakecolor": "white",
           "landcolor": "#E5ECF6",
           "showlakes": true,
           "showland": true,
           "subunitcolor": "white"
          },
          "hoverlabel": {
           "align": "left"
          },
          "hovermode": "closest",
          "mapbox": {
           "style": "light"
          },
          "paper_bgcolor": "white",
          "plot_bgcolor": "#E5ECF6",
          "polar": {
           "angularaxis": {
            "gridcolor": "white",
            "linecolor": "white",
            "ticks": ""
           },
           "bgcolor": "#E5ECF6",
           "radialaxis": {
            "gridcolor": "white",
            "linecolor": "white",
            "ticks": ""
           }
          },
          "scene": {
           "xaxis": {
            "backgroundcolor": "#E5ECF6",
            "gridcolor": "white",
            "gridwidth": 2,
            "linecolor": "white",
            "showbackground": true,
            "ticks": "",
            "zerolinecolor": "white"
           },
           "yaxis": {
            "backgroundcolor": "#E5ECF6",
            "gridcolor": "white",
            "gridwidth": 2,
            "linecolor": "white",
            "showbackground": true,
            "ticks": "",
            "zerolinecolor": "white"
           },
           "zaxis": {
            "backgroundcolor": "#E5ECF6",
            "gridcolor": "white",
            "gridwidth": 2,
            "linecolor": "white",
            "showbackground": true,
            "ticks": "",
            "zerolinecolor": "white"
           }
          },
          "shapedefaults": {
           "line": {
            "color": "#2a3f5f"
           }
          },
          "ternary": {
           "aaxis": {
            "gridcolor": "white",
            "linecolor": "white",
            "ticks": ""
           },
           "baxis": {
            "gridcolor": "white",
            "linecolor": "white",
            "ticks": ""
           },
           "bgcolor": "#E5ECF6",
           "caxis": {
            "gridcolor": "white",
            "linecolor": "white",
            "ticks": ""
           }
          },
          "title": {
           "x": 0.05
          },
          "xaxis": {
           "automargin": true,
           "gridcolor": "white",
           "linecolor": "white",
           "ticks": "",
           "title": {
            "standoff": 15
           },
           "zerolinecolor": "white",
           "zerolinewidth": 2
          },
          "yaxis": {
           "automargin": true,
           "gridcolor": "white",
           "linecolor": "white",
           "ticks": "",
           "title": {
            "standoff": 15
           },
           "zerolinecolor": "white",
           "zerolinewidth": 2
          }
         }
        },
        "title": {
         "text": "<b>The Netherlands, follow up travelers Origins 2023 april</b>"
        }
       }
      }
     },
     "metadata": {},
     "output_type": "display_data"
    }
   ],
   "source": [
    "# Define the colors for the pie chart\n",
    "colors = ['#4C78A8', '#F58518', '#EECA3B', '#54A24B', '#E45756', '#72B7B2']\n",
    "\n",
    "# Filter the dataframe and create a pie chart\n",
    "fig = px.pie(\n",
    "    anngl_df[anngl_df[\"Onderwerp\"] == \"Nareizigers (personen)\"][1:],\n",
    "    values='2023 april*',\n",
    "    names='Nationaliteit',\n",
    "    color_discrete_sequence=colors,\n",
    "    hole=0.8,\n",
    "    height=600,\n",
    "    title=\"<b>The Netherlands, follow up travelers Origins 2023 april</b>\"\n",
    ")\n",
    "\n",
    "# Hide the legend\n",
    "fig.update(layout_showlegend=False)\n",
    "\n",
    "# Set the text position and information to show in the chart\n",
    "fig.update_traces(textposition='inside', textinfo='percent+label')\n",
    "\n",
    "# Set the height and add annotations to the chart\n",
    "fig.update_layout(\n",
    "    height=600,\n",
    "    annotations=[\n",
    "        dict(\n",
    "            text='The ratio of the origins of follow up asylum seekers arriving in the Netherlands during April 2023.',\n",
    "            x=0.5, y=-0.1, font_size=15, showarrow=False\n",
    "        ),\n",
    "        dict(\n",
    "            text='These are people who do not travel first, and are often following family.',\n",
    "            x=0.5, y=-0.15, font_size=15, showarrow=False\n",
    "        )\n",
    "    ]\n",
    ")"
   ]
  },
  {
   "attachments": {},
   "cell_type": "markdown",
   "metadata": {},
   "source": [
    "There should be stricter rules on follow up travel. As we can see, almost three quarter of follow up travelers that arrive in the Netherlands come from the same country. This also supports the idea of tackling the issue at its roots, or more specifically per country, for the countries that make up the majority of asylum seekers.\n",
    "\n",
    "Implementing stricter rules on follow-up travel is essential for effective immigration management. The data reveals that nearly three-quarters of follow-up travelers arriving in the Netherlands originate from the same country. This observation highlights the necessity of addressing the underlying issue directly at its source. This should be done on a country-by-country basis, particularly in relation to those nations that have the majority of asylum seekers.\n",
    "\n",
    "By establishing stricter regulations on follow-up travel, authorities can gain better control over the influx of migrants and implement more targeted measures. Focusing efforts on specific countries allows for a more tailored and efficient approach to addressing the root causes of migration. It enables policymakers to concentrate resources, support, and assistance in regions that require immediate attention such as war-torn areas or nations suffering from economic difficulties.\n",
    "\n",
    "Implementing stricter rules on follow-up travel can help prevent abuses of the asylum system, such as \"asylum shopping,\" where individuals exploit multiple countries' systems to increase their chances of gaining refugee status. By targeting countries that contribute to the majority of asylum seekers, policymakers can work collaboratively with international partners to address the underlying issues, promote stability, and provide sustainable solutions to alleviate the root causes of displacement."
   ]
  },
  {
   "attachments": {},
   "cell_type": "markdown",
   "metadata": {},
   "source": [
    "### Yearly asylum seekers in the Netherlands"
   ]
  },
  {
   "cell_type": "code",
   "execution_count": 16,
   "metadata": {
    "colab": {
     "base_uri": "https://localhost:8080/",
     "height": 417
    },
    "id": "yeBpYCEZZjBU",
    "outputId": "d96b3c3e-3128-4dcf-e3b6-ae8338ccf7dc",
    "tags": [
     "hide-input"
    ]
   },
   "outputs": [
    {
     "data": {
      "application/vnd.plotly.v1+json": {
       "config": {
        "plotlyServerURL": "https://plot.ly"
       },
       "data": [
        {
         "type": "bar",
         "x": [
          1999,
          2000,
          2001,
          2002,
          2003,
          2004,
          2005,
          2006,
          2007,
          2008,
          2009,
          2010,
          2011,
          2012,
          2013,
          2014,
          2015,
          2016,
          2017
         ],
         "y": [
          39300,
          43892,
          32579,
          18667,
          13402,
          9782,
          12347,
          14465,
          7102,
          13399,
          14905,
          13333,
          11590,
          9664,
          14399,
          21811,
          43099,
          17965,
          5467
         ]
        }
       ],
       "layout": {
        "height": 400,
        "template": {
         "data": {
          "bar": [
           {
            "error_x": {
             "color": "#2a3f5f"
            },
            "error_y": {
             "color": "#2a3f5f"
            },
            "marker": {
             "line": {
              "color": "#E5ECF6",
              "width": 0.5
             },
             "pattern": {
              "fillmode": "overlay",
              "size": 10,
              "solidity": 0.2
             }
            },
            "type": "bar"
           }
          ],
          "barpolar": [
           {
            "marker": {
             "line": {
              "color": "#E5ECF6",
              "width": 0.5
             },
             "pattern": {
              "fillmode": "overlay",
              "size": 10,
              "solidity": 0.2
             }
            },
            "type": "barpolar"
           }
          ],
          "carpet": [
           {
            "aaxis": {
             "endlinecolor": "#2a3f5f",
             "gridcolor": "white",
             "linecolor": "white",
             "minorgridcolor": "white",
             "startlinecolor": "#2a3f5f"
            },
            "baxis": {
             "endlinecolor": "#2a3f5f",
             "gridcolor": "white",
             "linecolor": "white",
             "minorgridcolor": "white",
             "startlinecolor": "#2a3f5f"
            },
            "type": "carpet"
           }
          ],
          "choropleth": [
           {
            "colorbar": {
             "outlinewidth": 0,
             "ticks": ""
            },
            "type": "choropleth"
           }
          ],
          "contour": [
           {
            "colorbar": {
             "outlinewidth": 0,
             "ticks": ""
            },
            "colorscale": [
             [
              0,
              "#0d0887"
             ],
             [
              0.1111111111111111,
              "#46039f"
             ],
             [
              0.2222222222222222,
              "#7201a8"
             ],
             [
              0.3333333333333333,
              "#9c179e"
             ],
             [
              0.4444444444444444,
              "#bd3786"
             ],
             [
              0.5555555555555556,
              "#d8576b"
             ],
             [
              0.6666666666666666,
              "#ed7953"
             ],
             [
              0.7777777777777778,
              "#fb9f3a"
             ],
             [
              0.8888888888888888,
              "#fdca26"
             ],
             [
              1,
              "#f0f921"
             ]
            ],
            "type": "contour"
           }
          ],
          "contourcarpet": [
           {
            "colorbar": {
             "outlinewidth": 0,
             "ticks": ""
            },
            "type": "contourcarpet"
           }
          ],
          "heatmap": [
           {
            "colorbar": {
             "outlinewidth": 0,
             "ticks": ""
            },
            "colorscale": [
             [
              0,
              "#0d0887"
             ],
             [
              0.1111111111111111,
              "#46039f"
             ],
             [
              0.2222222222222222,
              "#7201a8"
             ],
             [
              0.3333333333333333,
              "#9c179e"
             ],
             [
              0.4444444444444444,
              "#bd3786"
             ],
             [
              0.5555555555555556,
              "#d8576b"
             ],
             [
              0.6666666666666666,
              "#ed7953"
             ],
             [
              0.7777777777777778,
              "#fb9f3a"
             ],
             [
              0.8888888888888888,
              "#fdca26"
             ],
             [
              1,
              "#f0f921"
             ]
            ],
            "type": "heatmap"
           }
          ],
          "heatmapgl": [
           {
            "colorbar": {
             "outlinewidth": 0,
             "ticks": ""
            },
            "colorscale": [
             [
              0,
              "#0d0887"
             ],
             [
              0.1111111111111111,
              "#46039f"
             ],
             [
              0.2222222222222222,
              "#7201a8"
             ],
             [
              0.3333333333333333,
              "#9c179e"
             ],
             [
              0.4444444444444444,
              "#bd3786"
             ],
             [
              0.5555555555555556,
              "#d8576b"
             ],
             [
              0.6666666666666666,
              "#ed7953"
             ],
             [
              0.7777777777777778,
              "#fb9f3a"
             ],
             [
              0.8888888888888888,
              "#fdca26"
             ],
             [
              1,
              "#f0f921"
             ]
            ],
            "type": "heatmapgl"
           }
          ],
          "histogram": [
           {
            "marker": {
             "pattern": {
              "fillmode": "overlay",
              "size": 10,
              "solidity": 0.2
             }
            },
            "type": "histogram"
           }
          ],
          "histogram2d": [
           {
            "colorbar": {
             "outlinewidth": 0,
             "ticks": ""
            },
            "colorscale": [
             [
              0,
              "#0d0887"
             ],
             [
              0.1111111111111111,
              "#46039f"
             ],
             [
              0.2222222222222222,
              "#7201a8"
             ],
             [
              0.3333333333333333,
              "#9c179e"
             ],
             [
              0.4444444444444444,
              "#bd3786"
             ],
             [
              0.5555555555555556,
              "#d8576b"
             ],
             [
              0.6666666666666666,
              "#ed7953"
             ],
             [
              0.7777777777777778,
              "#fb9f3a"
             ],
             [
              0.8888888888888888,
              "#fdca26"
             ],
             [
              1,
              "#f0f921"
             ]
            ],
            "type": "histogram2d"
           }
          ],
          "histogram2dcontour": [
           {
            "colorbar": {
             "outlinewidth": 0,
             "ticks": ""
            },
            "colorscale": [
             [
              0,
              "#0d0887"
             ],
             [
              0.1111111111111111,
              "#46039f"
             ],
             [
              0.2222222222222222,
              "#7201a8"
             ],
             [
              0.3333333333333333,
              "#9c179e"
             ],
             [
              0.4444444444444444,
              "#bd3786"
             ],
             [
              0.5555555555555556,
              "#d8576b"
             ],
             [
              0.6666666666666666,
              "#ed7953"
             ],
             [
              0.7777777777777778,
              "#fb9f3a"
             ],
             [
              0.8888888888888888,
              "#fdca26"
             ],
             [
              1,
              "#f0f921"
             ]
            ],
            "type": "histogram2dcontour"
           }
          ],
          "mesh3d": [
           {
            "colorbar": {
             "outlinewidth": 0,
             "ticks": ""
            },
            "type": "mesh3d"
           }
          ],
          "parcoords": [
           {
            "line": {
             "colorbar": {
              "outlinewidth": 0,
              "ticks": ""
             }
            },
            "type": "parcoords"
           }
          ],
          "pie": [
           {
            "automargin": true,
            "type": "pie"
           }
          ],
          "scatter": [
           {
            "fillpattern": {
             "fillmode": "overlay",
             "size": 10,
             "solidity": 0.2
            },
            "type": "scatter"
           }
          ],
          "scatter3d": [
           {
            "line": {
             "colorbar": {
              "outlinewidth": 0,
              "ticks": ""
             }
            },
            "marker": {
             "colorbar": {
              "outlinewidth": 0,
              "ticks": ""
             }
            },
            "type": "scatter3d"
           }
          ],
          "scattercarpet": [
           {
            "marker": {
             "colorbar": {
              "outlinewidth": 0,
              "ticks": ""
             }
            },
            "type": "scattercarpet"
           }
          ],
          "scattergeo": [
           {
            "marker": {
             "colorbar": {
              "outlinewidth": 0,
              "ticks": ""
             }
            },
            "type": "scattergeo"
           }
          ],
          "scattergl": [
           {
            "marker": {
             "colorbar": {
              "outlinewidth": 0,
              "ticks": ""
             }
            },
            "type": "scattergl"
           }
          ],
          "scattermapbox": [
           {
            "marker": {
             "colorbar": {
              "outlinewidth": 0,
              "ticks": ""
             }
            },
            "type": "scattermapbox"
           }
          ],
          "scatterpolar": [
           {
            "marker": {
             "colorbar": {
              "outlinewidth": 0,
              "ticks": ""
             }
            },
            "type": "scatterpolar"
           }
          ],
          "scatterpolargl": [
           {
            "marker": {
             "colorbar": {
              "outlinewidth": 0,
              "ticks": ""
             }
            },
            "type": "scatterpolargl"
           }
          ],
          "scatterternary": [
           {
            "marker": {
             "colorbar": {
              "outlinewidth": 0,
              "ticks": ""
             }
            },
            "type": "scatterternary"
           }
          ],
          "surface": [
           {
            "colorbar": {
             "outlinewidth": 0,
             "ticks": ""
            },
            "colorscale": [
             [
              0,
              "#0d0887"
             ],
             [
              0.1111111111111111,
              "#46039f"
             ],
             [
              0.2222222222222222,
              "#7201a8"
             ],
             [
              0.3333333333333333,
              "#9c179e"
             ],
             [
              0.4444444444444444,
              "#bd3786"
             ],
             [
              0.5555555555555556,
              "#d8576b"
             ],
             [
              0.6666666666666666,
              "#ed7953"
             ],
             [
              0.7777777777777778,
              "#fb9f3a"
             ],
             [
              0.8888888888888888,
              "#fdca26"
             ],
             [
              1,
              "#f0f921"
             ]
            ],
            "type": "surface"
           }
          ],
          "table": [
           {
            "cells": {
             "fill": {
              "color": "#EBF0F8"
             },
             "line": {
              "color": "white"
             }
            },
            "header": {
             "fill": {
              "color": "#C8D4E3"
             },
             "line": {
              "color": "white"
             }
            },
            "type": "table"
           }
          ]
         },
         "layout": {
          "annotationdefaults": {
           "arrowcolor": "#2a3f5f",
           "arrowhead": 0,
           "arrowwidth": 1
          },
          "autotypenumbers": "strict",
          "coloraxis": {
           "colorbar": {
            "outlinewidth": 0,
            "ticks": ""
           }
          },
          "colorscale": {
           "diverging": [
            [
             0,
             "#8e0152"
            ],
            [
             0.1,
             "#c51b7d"
            ],
            [
             0.2,
             "#de77ae"
            ],
            [
             0.3,
             "#f1b6da"
            ],
            [
             0.4,
             "#fde0ef"
            ],
            [
             0.5,
             "#f7f7f7"
            ],
            [
             0.6,
             "#e6f5d0"
            ],
            [
             0.7,
             "#b8e186"
            ],
            [
             0.8,
             "#7fbc41"
            ],
            [
             0.9,
             "#4d9221"
            ],
            [
             1,
             "#276419"
            ]
           ],
           "sequential": [
            [
             0,
             "#0d0887"
            ],
            [
             0.1111111111111111,
             "#46039f"
            ],
            [
             0.2222222222222222,
             "#7201a8"
            ],
            [
             0.3333333333333333,
             "#9c179e"
            ],
            [
             0.4444444444444444,
             "#bd3786"
            ],
            [
             0.5555555555555556,
             "#d8576b"
            ],
            [
             0.6666666666666666,
             "#ed7953"
            ],
            [
             0.7777777777777778,
             "#fb9f3a"
            ],
            [
             0.8888888888888888,
             "#fdca26"
            ],
            [
             1,
             "#f0f921"
            ]
           ],
           "sequentialminus": [
            [
             0,
             "#0d0887"
            ],
            [
             0.1111111111111111,
             "#46039f"
            ],
            [
             0.2222222222222222,
             "#7201a8"
            ],
            [
             0.3333333333333333,
             "#9c179e"
            ],
            [
             0.4444444444444444,
             "#bd3786"
            ],
            [
             0.5555555555555556,
             "#d8576b"
            ],
            [
             0.6666666666666666,
             "#ed7953"
            ],
            [
             0.7777777777777778,
             "#fb9f3a"
            ],
            [
             0.8888888888888888,
             "#fdca26"
            ],
            [
             1,
             "#f0f921"
            ]
           ]
          },
          "colorway": [
           "#636efa",
           "#EF553B",
           "#00cc96",
           "#ab63fa",
           "#FFA15A",
           "#19d3f3",
           "#FF6692",
           "#B6E880",
           "#FF97FF",
           "#FECB52"
          ],
          "font": {
           "color": "#2a3f5f"
          },
          "geo": {
           "bgcolor": "white",
           "lakecolor": "white",
           "landcolor": "#E5ECF6",
           "showlakes": true,
           "showland": true,
           "subunitcolor": "white"
          },
          "hoverlabel": {
           "align": "left"
          },
          "hovermode": "closest",
          "mapbox": {
           "style": "light"
          },
          "paper_bgcolor": "white",
          "plot_bgcolor": "#E5ECF6",
          "polar": {
           "angularaxis": {
            "gridcolor": "white",
            "linecolor": "white",
            "ticks": ""
           },
           "bgcolor": "#E5ECF6",
           "radialaxis": {
            "gridcolor": "white",
            "linecolor": "white",
            "ticks": ""
           }
          },
          "scene": {
           "xaxis": {
            "backgroundcolor": "#E5ECF6",
            "gridcolor": "white",
            "gridwidth": 2,
            "linecolor": "white",
            "showbackground": true,
            "ticks": "",
            "zerolinecolor": "white"
           },
           "yaxis": {
            "backgroundcolor": "#E5ECF6",
            "gridcolor": "white",
            "gridwidth": 2,
            "linecolor": "white",
            "showbackground": true,
            "ticks": "",
            "zerolinecolor": "white"
           },
           "zaxis": {
            "backgroundcolor": "#E5ECF6",
            "gridcolor": "white",
            "gridwidth": 2,
            "linecolor": "white",
            "showbackground": true,
            "ticks": "",
            "zerolinecolor": "white"
           }
          },
          "shapedefaults": {
           "line": {
            "color": "#2a3f5f"
           }
          },
          "ternary": {
           "aaxis": {
            "gridcolor": "white",
            "linecolor": "white",
            "ticks": ""
           },
           "baxis": {
            "gridcolor": "white",
            "linecolor": "white",
            "ticks": ""
           },
           "bgcolor": "#E5ECF6",
           "caxis": {
            "gridcolor": "white",
            "linecolor": "white",
            "ticks": ""
           }
          },
          "title": {
           "x": 0.05
          },
          "xaxis": {
           "automargin": true,
           "gridcolor": "white",
           "linecolor": "white",
           "ticks": "",
           "title": {
            "standoff": 15
           },
           "zerolinecolor": "white",
           "zerolinewidth": 2
          },
          "yaxis": {
           "automargin": true,
           "gridcolor": "white",
           "linecolor": "white",
           "ticks": "",
           "title": {
            "standoff": 15
           },
           "zerolinecolor": "white",
           "zerolinewidth": 2
          }
         }
        },
        "title": {
         "text": "<b>Yearly asylum seekers in the Netherlands</b>"
        },
        "xaxis": {
         "title": {
          "font": {
           "size": 20
          },
          "text": "Year<br><sup>The total number of new asylum seekers arriving in the Netherlands between 1999 and 2017.</sup>"
         }
        },
        "yaxis": {
         "title": {
          "text": "Number of new asylum seekers"
         }
        }
       }
      }
     },
     "metadata": {},
     "output_type": "display_data"
    }
   ],
   "source": [
    "# Create a bar chart using Plotly Express\n",
    "trace = go.Bar(\n",
    "    x = pmpc_df['Year'].unique(),\n",
    "    y = pmpc_df.groupby(pmpc_df.Year)['Netherlands'].sum()\n",
    ")\n",
    "fig = go.Figure(trace)\n",
    "\n",
    "# Update chart layout\n",
    "fig.update_layout(\n",
    "    title='<b>Yearly asylum seekers in the Netherlands</b>',\n",
    "    yaxis=dict(\n",
    "        title='Number of new asylum seekers',\n",
    "    ),\n",
    "    xaxis=dict(\n",
    "        title='Year<br><sup>The total number of new asylum seekers arriving in the Netherlands between 1999 and 2017.</sup>',\n",
    "        titlefont_size=20,\n",
    "    ),\n",
    "    height=400,\n",
    ")\n",
    "# Display the figure\n",
    "fig.show()"
   ]
  },
  {
   "cell_type": "code",
   "execution_count": 17,
   "metadata": {
    "tags": [
     "hide-input"
    ]
   },
   "outputs": [
    {
     "data": {
      "application/vnd.plotly.v1+json": {
       "config": {
        "plotlyServerURL": "https://plot.ly"
       },
       "data": [
        {
         "geo": "geo",
         "hovertemplate": "<b>%{hovertext}</b><br><br>Year-Month=1999-January<br>Country=%{location}<br>Refugees=%{marker.color}<extra></extra>",
         "hovertext": [
          "Austria",
          "Belgium",
          "Bulgaria",
          "Czech Rep.",
          "Denmark",
          "Finland",
          "France",
          "Germany",
          "Greece",
          "Hungary",
          "Luxembourg",
          "Netherlands",
          "Norway",
          "Poland",
          "Portugal",
          "Spain",
          "Sweden",
          "Switzerland",
          "Turkey",
          "United Kingdom",
          "Iceland",
          "Italy"
         ],
         "legendgroup": "",
         "locationmode": "country names",
         "locations": [
          "Austria",
          "Belgium",
          "Bulgaria",
          "Czech Rep.",
          "Denmark",
          "Finland",
          "France",
          "Germany",
          "Greece",
          "Hungary",
          "Luxembourg",
          "Netherlands",
          "Norway",
          "Poland",
          "Portugal",
          "Spain",
          "Sweden",
          "Switzerland",
          "Turkey",
          "United Kingdom",
          "Iceland",
          "Italy"
         ],
         "marker": {
          "color": [
           1366,
           1956,
           81,
           602,
           675,
           101,
           1760,
           8216,
           167,
           907,
           241,
           3556,
           548,
           226,
           34,
           664,
           942,
           3953,
           514,
           4710,
           0,
           0
          ],
          "coloraxis": "coloraxis",
          "sizemin": 3,
          "sizemode": "area",
          "sizeref": 1,
          "symbol": "circle"
         },
         "mode": "markers",
         "name": "",
         "showlegend": false,
         "type": "scattergeo"
        }
       ],
       "frames": [
        {
         "data": [
          {
           "geo": "geo",
           "hovertemplate": "<b>%{hovertext}</b><br><br>Year-Month=1999-January<br>Country=%{location}<br>Refugees=%{marker.color}<extra></extra>",
           "hovertext": [
            "Austria",
            "Belgium",
            "Bulgaria",
            "Czech Rep.",
            "Denmark",
            "Finland",
            "France",
            "Germany",
            "Greece",
            "Hungary",
            "Luxembourg",
            "Netherlands",
            "Norway",
            "Poland",
            "Portugal",
            "Spain",
            "Sweden",
            "Switzerland",
            "Turkey",
            "United Kingdom",
            "Iceland",
            "Italy"
           ],
           "legendgroup": "",
           "locationmode": "country names",
           "locations": [
            "Austria",
            "Belgium",
            "Bulgaria",
            "Czech Rep.",
            "Denmark",
            "Finland",
            "France",
            "Germany",
            "Greece",
            "Hungary",
            "Luxembourg",
            "Netherlands",
            "Norway",
            "Poland",
            "Portugal",
            "Spain",
            "Sweden",
            "Switzerland",
            "Turkey",
            "United Kingdom",
            "Iceland",
            "Italy"
           ],
           "marker": {
            "color": [
             1366,
             1956,
             81,
             602,
             675,
             101,
             1760,
             8216,
             167,
             907,
             241,
             3556,
             548,
             226,
             34,
             664,
             942,
             3953,
             514,
             4710,
             0,
             0
            ],
            "coloraxis": "coloraxis",
            "symbol": "circle"
           },
           "mode": "markers",
           "name": "",
           "showlegend": false,
           "type": "scattergeo"
          }
         ],
         "name": "1999-January"
        },
        {
         "data": [
          {
           "geo": "geo",
           "hovertemplate": "<b>%{hovertext}</b><br><br>Year-Month=1999-February<br>Country=%{location}<br>Refugees=%{marker.color}<extra></extra>",
           "hovertext": [
            "Austria",
            "Belgium",
            "Bulgaria",
            "Czech Rep.",
            "Denmark",
            "Finland",
            "France",
            "Germany",
            "Greece",
            "Hungary",
            "Luxembourg",
            "Netherlands",
            "Norway",
            "Poland",
            "Portugal",
            "Spain",
            "Sweden",
            "Switzerland",
            "Turkey",
            "United Kingdom",
            "Iceland",
            "Italy"
           ],
           "legendgroup": "",
           "locationmode": "country names",
           "locations": [
            "Austria",
            "Belgium",
            "Bulgaria",
            "Czech Rep.",
            "Denmark",
            "Finland",
            "France",
            "Germany",
            "Greece",
            "Hungary",
            "Luxembourg",
            "Netherlands",
            "Norway",
            "Poland",
            "Portugal",
            "Spain",
            "Sweden",
            "Switzerland",
            "Turkey",
            "United Kingdom",
            "Iceland",
            "Italy"
           ],
           "marker": {
            "color": [
             1150,
             1770,
             75,
             429,
             403,
             89,
             1996,
             7333,
             80,
             671,
             212,
             2645,
             560,
             210,
             17,
             621,
             755,
             3664,
             450,
             4190,
             0,
             0
            ],
            "coloraxis": "coloraxis",
            "symbol": "circle"
           },
           "mode": "markers",
           "name": "",
           "showlegend": false,
           "type": "scattergeo"
          }
         ],
         "name": "1999-February"
        },
        {
         "data": [
          {
           "geo": "geo",
           "hovertemplate": "<b>%{hovertext}</b><br><br>Year-Month=1999-March<br>Country=%{location}<br>Refugees=%{marker.color}<extra></extra>",
           "hovertext": [
            "Austria",
            "Belgium",
            "Bulgaria",
            "Czech Rep.",
            "Denmark",
            "Finland",
            "France",
            "Germany",
            "Greece",
            "Hungary",
            "Luxembourg",
            "Netherlands",
            "Norway",
            "Poland",
            "Portugal",
            "Spain",
            "Sweden",
            "Switzerland",
            "Turkey",
            "United Kingdom",
            "Iceland",
            "Italy"
           ],
           "legendgroup": "",
           "locationmode": "country names",
           "locations": [
            "Austria",
            "Belgium",
            "Bulgaria",
            "Czech Rep.",
            "Denmark",
            "Finland",
            "France",
            "Germany",
            "Greece",
            "Hungary",
            "Luxembourg",
            "Netherlands",
            "Norway",
            "Poland",
            "Portugal",
            "Spain",
            "Sweden",
            "Switzerland",
            "Turkey",
            "United Kingdom",
            "Iceland",
            "Italy"
           ],
           "marker": {
            "color": [
             1373,
             2022,
             121,
             582,
             570,
             98,
             2546,
             7925,
             95,
             1179,
             184,
             2642,
             707,
             296,
             19,
             792,
             851,
             3694,
             446,
             5045,
             0,
             0
            ],
            "coloraxis": "coloraxis",
            "symbol": "circle"
           },
           "mode": "markers",
           "name": "",
           "showlegend": false,
           "type": "scattergeo"
          }
         ],
         "name": "1999-March"
        },
        {
         "data": [
          {
           "geo": "geo",
           "hovertemplate": "<b>%{hovertext}</b><br><br>Year-Month=1999-April<br>Country=%{location}<br>Refugees=%{marker.color}<extra></extra>",
           "hovertext": [
            "Austria",
            "Belgium",
            "Bulgaria",
            "Czech Rep.",
            "Denmark",
            "Finland",
            "France",
            "Germany",
            "Greece",
            "Hungary",
            "Luxembourg",
            "Netherlands",
            "Norway",
            "Poland",
            "Portugal",
            "Spain",
            "Sweden",
            "Switzerland",
            "Turkey",
            "United Kingdom",
            "Iceland",
            "Italy"
           ],
           "legendgroup": "",
           "locationmode": "country names",
           "locations": [
            "Austria",
            "Belgium",
            "Bulgaria",
            "Czech Rep.",
            "Denmark",
            "Finland",
            "France",
            "Germany",
            "Greece",
            "Hungary",
            "Luxembourg",
            "Netherlands",
            "Norway",
            "Poland",
            "Portugal",
            "Spain",
            "Sweden",
            "Switzerland",
            "Turkey",
            "United Kingdom",
            "Iceland",
            "Italy"
           ],
           "marker": {
            "color": [
             1658,
             1886,
             191,
             568,
             641,
             122,
             2358,
             6491,
             66,
             1536,
             333,
             2554,
             888,
             235,
             12,
             687,
             866,
             3159,
             409,
             4905,
             0,
             0
            ],
            "coloraxis": "coloraxis",
            "symbol": "circle"
           },
           "mode": "markers",
           "name": "",
           "showlegend": false,
           "type": "scattergeo"
          }
         ],
         "name": "1999-April"
        },
        {
         "data": [
          {
           "geo": "geo",
           "hovertemplate": "<b>%{hovertext}</b><br><br>Year-Month=1999-May<br>Country=%{location}<br>Refugees=%{marker.color}<extra></extra>",
           "hovertext": [
            "Austria",
            "Belgium",
            "Bulgaria",
            "Czech Rep.",
            "Denmark",
            "Finland",
            "France",
            "Germany",
            "Greece",
            "Hungary",
            "Luxembourg",
            "Netherlands",
            "Norway",
            "Poland",
            "Portugal",
            "Spain",
            "Sweden",
            "Switzerland",
            "Turkey",
            "United Kingdom",
            "Iceland",
            "Italy"
           ],
           "legendgroup": "",
           "locationmode": "country names",
           "locations": [
            "Austria",
            "Belgium",
            "Bulgaria",
            "Czech Rep.",
            "Denmark",
            "Finland",
            "France",
            "Germany",
            "Greece",
            "Hungary",
            "Luxembourg",
            "Netherlands",
            "Norway",
            "Poland",
            "Portugal",
            "Spain",
            "Sweden",
            "Switzerland",
            "Turkey",
            "United Kingdom",
            "Iceland",
            "Italy"
           ],
           "marker": {
            "color": [
             1942,
             2074,
             188,
             603,
             555,
             204,
             2130,
             6911,
             183,
             1459,
             779,
             2929,
             957,
             196,
             21,
             777,
             820,
             4879,
             501,
             5365,
             0,
             0
            ],
            "coloraxis": "coloraxis",
            "symbol": "circle"
           },
           "mode": "markers",
           "name": "",
           "showlegend": false,
           "type": "scattergeo"
          }
         ],
         "name": "1999-May"
        },
        {
         "data": [
          {
           "geo": "geo",
           "hovertemplate": "<b>%{hovertext}</b><br><br>Year-Month=1999-June<br>Country=%{location}<br>Refugees=%{marker.color}<extra></extra>",
           "hovertext": [
            "Austria",
            "Belgium",
            "Bulgaria",
            "Czech Rep.",
            "Denmark",
            "Finland",
            "France",
            "Germany",
            "Greece",
            "Hungary",
            "Luxembourg",
            "Netherlands",
            "Norway",
            "Poland",
            "Portugal",
            "Spain",
            "Sweden",
            "Switzerland",
            "Turkey",
            "United Kingdom",
            "Iceland",
            "Italy"
           ],
           "legendgroup": "",
           "locationmode": "country names",
           "locations": [
            "Austria",
            "Belgium",
            "Bulgaria",
            "Czech Rep.",
            "Denmark",
            "Finland",
            "France",
            "Germany",
            "Greece",
            "Hungary",
            "Luxembourg",
            "Netherlands",
            "Norway",
            "Poland",
            "Portugal",
            "Spain",
            "Sweden",
            "Switzerland",
            "Turkey",
            "United Kingdom",
            "Iceland",
            "Italy"
           ],
           "marker": {
            "color": [
             2663,
             2946,
             147,
             536,
             470,
             486,
             2426,
             9640,
             152,
             997,
             605,
             3101,
             1062,
             180,
             33,
             731,
             860,
             9328,
             549,
             6220,
             0,
             0
            ],
            "coloraxis": "coloraxis",
            "symbol": "circle"
           },
           "mode": "markers",
           "name": "",
           "showlegend": false,
           "type": "scattergeo"
          }
         ],
         "name": "1999-June"
        },
        {
         "data": [
          {
           "geo": "geo",
           "hovertemplate": "<b>%{hovertext}</b><br><br>Year-Month=1999-July<br>Country=%{location}<br>Refugees=%{marker.color}<extra></extra>",
           "hovertext": [
            "Austria",
            "Belgium",
            "Bulgaria",
            "Czech Rep.",
            "Denmark",
            "Finland",
            "France",
            "Germany",
            "Greece",
            "Hungary",
            "Luxembourg",
            "Netherlands",
            "Norway",
            "Poland",
            "Portugal",
            "Spain",
            "Sweden",
            "Switzerland",
            "Turkey",
            "United Kingdom",
            "Iceland",
            "Italy"
           ],
           "legendgroup": "",
           "locationmode": "country names",
           "locations": [
            "Austria",
            "Belgium",
            "Bulgaria",
            "Czech Rep.",
            "Denmark",
            "Finland",
            "France",
            "Germany",
            "Greece",
            "Hungary",
            "Luxembourg",
            "Netherlands",
            "Norway",
            "Poland",
            "Portugal",
            "Spain",
            "Sweden",
            "Switzerland",
            "Turkey",
            "United Kingdom",
            "Iceland",
            "Italy"
           ],
           "marker": {
            "color": [
             1753,
             2774,
             41,
             610,
             516,
             813,
             2894,
             9408,
             65,
             868,
             209,
             3202,
             1211,
             222,
             35,
             695,
             952,
             5556,
             551,
             6595,
             0,
             0
            ],
            "coloraxis": "coloraxis",
            "symbol": "circle"
           },
           "mode": "markers",
           "name": "",
           "showlegend": false,
           "type": "scattergeo"
          }
         ],
         "name": "1999-July"
        },
        {
         "data": [
          {
           "geo": "geo",
           "hovertemplate": "<b>%{hovertext}</b><br><br>Year-Month=1999-August<br>Country=%{location}<br>Refugees=%{marker.color}<extra></extra>",
           "hovertext": [
            "Austria",
            "Belgium",
            "Bulgaria",
            "Czech Rep.",
            "Denmark",
            "Finland",
            "France",
            "Germany",
            "Greece",
            "Hungary",
            "Luxembourg",
            "Netherlands",
            "Norway",
            "Poland",
            "Portugal",
            "Spain",
            "Sweden",
            "Switzerland",
            "Turkey",
            "United Kingdom",
            "Iceland",
            "Italy"
           ],
           "legendgroup": "",
           "locationmode": "country names",
           "locations": [
            "Austria",
            "Belgium",
            "Bulgaria",
            "Czech Rep.",
            "Denmark",
            "Finland",
            "France",
            "Germany",
            "Greece",
            "Hungary",
            "Luxembourg",
            "Netherlands",
            "Norway",
            "Poland",
            "Portugal",
            "Spain",
            "Sweden",
            "Switzerland",
            "Turkey",
            "United Kingdom",
            "Iceland",
            "Italy"
           ],
           "marker": {
            "color": [
             1636,
             4347,
             112,
             582,
             386,
             93,
             2847,
             8905,
             65,
             903,
             79,
             3527,
             1070,
             272,
             21,
             772,
             1044,
             2936,
             633,
             7115,
             0,
             0
            ],
            "coloraxis": "coloraxis",
            "symbol": "circle"
           },
           "mode": "markers",
           "name": "",
           "showlegend": false,
           "type": "scattergeo"
          }
         ],
         "name": "1999-August"
        },
        {
         "data": [
          {
           "geo": "geo",
           "hovertemplate": "<b>%{hovertext}</b><br><br>Year-Month=1999-September<br>Country=%{location}<br>Refugees=%{marker.color}<extra></extra>",
           "hovertext": [
            "Austria",
            "Belgium",
            "Bulgaria",
            "Czech Rep.",
            "Denmark",
            "Finland",
            "France",
            "Germany",
            "Greece",
            "Hungary",
            "Luxembourg",
            "Netherlands",
            "Norway",
            "Poland",
            "Portugal",
            "Spain",
            "Sweden",
            "Switzerland",
            "Turkey",
            "United Kingdom",
            "Iceland",
            "Italy"
           ],
           "legendgroup": "",
           "locationmode": "country names",
           "locations": [
            "Austria",
            "Belgium",
            "Bulgaria",
            "Czech Rep.",
            "Denmark",
            "Finland",
            "France",
            "Germany",
            "Greece",
            "Hungary",
            "Luxembourg",
            "Netherlands",
            "Norway",
            "Poland",
            "Portugal",
            "Spain",
            "Sweden",
            "Switzerland",
            "Turkey",
            "United Kingdom",
            "Iceland",
            "Italy"
           ],
           "marker": {
            "color": [
             1708,
             4747,
             62,
             699,
             406,
             181,
             2861,
             8429,
             257,
             865,
             87,
             3443,
             782,
             209,
             51,
             778,
             1008,
             2101,
             780,
             7365,
             0,
             0
            ],
            "coloraxis": "coloraxis",
            "symbol": "circle"
           },
           "mode": "markers",
           "name": "",
           "showlegend": false,
           "type": "scattergeo"
          }
         ],
         "name": "1999-September"
        },
        {
         "data": [
          {
           "geo": "geo",
           "hovertemplate": "<b>%{hovertext}</b><br><br>Year-Month=1999-October<br>Country=%{location}<br>Refugees=%{marker.color}<extra></extra>",
           "hovertext": [
            "Austria",
            "Belgium",
            "Bulgaria",
            "Czech Rep.",
            "Denmark",
            "Finland",
            "France",
            "Germany",
            "Greece",
            "Hungary",
            "Luxembourg",
            "Netherlands",
            "Norway",
            "Poland",
            "Portugal",
            "Spain",
            "Sweden",
            "Switzerland",
            "Turkey",
            "United Kingdom",
            "Iceland",
            "Italy"
           ],
           "legendgroup": "",
           "locationmode": "country names",
           "locations": [
            "Austria",
            "Belgium",
            "Bulgaria",
            "Czech Rep.",
            "Denmark",
            "Finland",
            "France",
            "Germany",
            "Greece",
            "Hungary",
            "Luxembourg",
            "Netherlands",
            "Norway",
            "Poland",
            "Portugal",
            "Spain",
            "Sweden",
            "Switzerland",
            "Turkey",
            "United Kingdom",
            "Iceland",
            "Italy"
           ],
           "marker": {
            "color": [
             1452,
             3242,
             69,
             553,
             455,
             176,
             2880,
             7505,
             157,
             752,
             46,
             3864,
             722,
             247,
             26,
             707,
             975,
             1811,
             852,
             6295,
             0,
             0
            ],
            "coloraxis": "coloraxis",
            "symbol": "circle"
           },
           "mode": "markers",
           "name": "",
           "showlegend": false,
           "type": "scattergeo"
          }
         ],
         "name": "1999-October"
        },
        {
         "data": [
          {
           "geo": "geo",
           "hovertemplate": "<b>%{hovertext}</b><br><br>Year-Month=1999-November<br>Country=%{location}<br>Refugees=%{marker.color}<extra></extra>",
           "hovertext": [
            "Austria",
            "Belgium",
            "Bulgaria",
            "Czech Rep.",
            "Denmark",
            "Finland",
            "France",
            "Germany",
            "Greece",
            "Hungary",
            "Luxembourg",
            "Netherlands",
            "Norway",
            "Poland",
            "Portugal",
            "Spain",
            "Sweden",
            "Switzerland",
            "Turkey",
            "United Kingdom",
            "Iceland",
            "Italy"
           ],
           "legendgroup": "",
           "locationmode": "country names",
           "locations": [
            "Austria",
            "Belgium",
            "Bulgaria",
            "Czech Rep.",
            "Denmark",
            "Finland",
            "France",
            "Germany",
            "Greece",
            "Hungary",
            "Luxembourg",
            "Netherlands",
            "Norway",
            "Poland",
            "Portugal",
            "Spain",
            "Sweden",
            "Switzerland",
            "Turkey",
            "United Kingdom",
            "Iceland",
            "Italy"
           ],
           "marker": {
            "color": [
             1829,
             3322,
             127,
             723,
             918,
             234,
             2976,
             7476,
             160,
             668,
             91,
             3903,
             646,
             249,
             16,
             637,
             928,
             1934,
             767,
             6415,
             0,
             0
            ],
            "coloraxis": "coloraxis",
            "symbol": "circle"
           },
           "mode": "markers",
           "name": "",
           "showlegend": false,
           "type": "scattergeo"
          }
         ],
         "name": "1999-November"
        },
        {
         "data": [
          {
           "geo": "geo",
           "hovertemplate": "<b>%{hovertext}</b><br><br>Year-Month=1999-December<br>Country=%{location}<br>Refugees=%{marker.color}<extra></extra>",
           "hovertext": [
            "Austria",
            "Belgium",
            "Bulgaria",
            "Czech Rep.",
            "Denmark",
            "Finland",
            "France",
            "Germany",
            "Greece",
            "Hungary",
            "Luxembourg",
            "Netherlands",
            "Norway",
            "Poland",
            "Portugal",
            "Spain",
            "Sweden",
            "Switzerland",
            "Turkey",
            "United Kingdom",
            "Iceland",
            "Italy"
           ],
           "legendgroup": "",
           "locationmode": "country names",
           "locations": [
            "Austria",
            "Belgium",
            "Bulgaria",
            "Czech Rep.",
            "Denmark",
            "Finland",
            "France",
            "Germany",
            "Greece",
            "Hungary",
            "Luxembourg",
            "Netherlands",
            "Norway",
            "Poland",
            "Portugal",
            "Spain",
            "Sweden",
            "Switzerland",
            "Turkey",
            "United Kingdom",
            "Iceland",
            "Italy"
           ],
           "marker": {
            "color": [
             1600,
             4691,
             135,
             727,
             472,
             510,
             3159,
             7092,
             81,
             694,
             46,
             3934,
             1007,
             322,
             22,
             544,
             1230,
             1495,
             770,
             7175,
             0,
             0
            ],
            "coloraxis": "coloraxis",
            "symbol": "circle"
           },
           "mode": "markers",
           "name": "",
           "showlegend": false,
           "type": "scattergeo"
          }
         ],
         "name": "1999-December"
        },
        {
         "data": [
          {
           "geo": "geo",
           "hovertemplate": "<b>%{hovertext}</b><br><br>Year-Month=2000-January<br>Country=%{location}<br>Refugees=%{marker.color}<extra></extra>",
           "hovertext": [
            "Austria",
            "Belgium",
            "Bulgaria",
            "Czech Rep.",
            "Denmark",
            "Finland",
            "France",
            "Germany",
            "Greece",
            "Hungary",
            "Luxembourg",
            "Netherlands",
            "Norway",
            "Poland",
            "Portugal",
            "Spain",
            "Sweden",
            "Switzerland",
            "Turkey",
            "United Kingdom",
            "Iceland",
            "Italy"
           ],
           "legendgroup": "",
           "locationmode": "country names",
           "locations": [
            "Austria",
            "Belgium",
            "Bulgaria",
            "Czech Rep.",
            "Denmark",
            "Finland",
            "France",
            "Germany",
            "Greece",
            "Hungary",
            "Luxembourg",
            "Netherlands",
            "Norway",
            "Poland",
            "Portugal",
            "Spain",
            "Sweden",
            "Switzerland",
            "Turkey",
            "United Kingdom",
            "Iceland",
            "Italy"
           ],
           "marker": {
            "color": [
             1334,
             2896,
             130,
             593,
             738,
             444,
             3286,
             6618,
             158,
             651,
             52,
             4125,
             594,
             155,
             19,
             563,
             980,
             1466,
             321,
             6105,
             0,
             0
            ],
            "coloraxis": "coloraxis",
            "symbol": "circle"
           },
           "mode": "markers",
           "name": "",
           "showlegend": false,
           "type": "scattergeo"
          }
         ],
         "name": "2000-January"
        },
        {
         "data": [
          {
           "geo": "geo",
           "hovertemplate": "<b>%{hovertext}</b><br><br>Year-Month=2000-February<br>Country=%{location}<br>Refugees=%{marker.color}<extra></extra>",
           "hovertext": [
            "Austria",
            "Belgium",
            "Bulgaria",
            "Czech Rep.",
            "Denmark",
            "Finland",
            "France",
            "Germany",
            "Greece",
            "Hungary",
            "Luxembourg",
            "Netherlands",
            "Norway",
            "Poland",
            "Portugal",
            "Spain",
            "Sweden",
            "Switzerland",
            "Turkey",
            "United Kingdom",
            "Iceland",
            "Italy"
           ],
           "legendgroup": "",
           "locationmode": "country names",
           "locations": [
            "Austria",
            "Belgium",
            "Bulgaria",
            "Czech Rep.",
            "Denmark",
            "Finland",
            "France",
            "Germany",
            "Greece",
            "Hungary",
            "Luxembourg",
            "Netherlands",
            "Norway",
            "Poland",
            "Portugal",
            "Spain",
            "Sweden",
            "Switzerland",
            "Turkey",
            "United Kingdom",
            "Iceland",
            "Italy"
           ],
           "marker": {
            "color": [
             1312,
             2385,
             117,
             382,
             1092,
             283,
             3610,
             6117,
             218,
             476,
             40,
             3840,
             575,
             345,
             14,
             682,
             945,
             1387,
             296,
             6100,
             0,
             0
            ],
            "coloraxis": "coloraxis",
            "symbol": "circle"
           },
           "mode": "markers",
           "name": "",
           "showlegend": false,
           "type": "scattergeo"
          }
         ],
         "name": "2000-February"
        },
        {
         "data": [
          {
           "geo": "geo",
           "hovertemplate": "<b>%{hovertext}</b><br><br>Year-Month=2000-March<br>Country=%{location}<br>Refugees=%{marker.color}<extra></extra>",
           "hovertext": [
            "Austria",
            "Belgium",
            "Bulgaria",
            "Czech Rep.",
            "Denmark",
            "Finland",
            "France",
            "Germany",
            "Greece",
            "Hungary",
            "Luxembourg",
            "Netherlands",
            "Norway",
            "Poland",
            "Portugal",
            "Spain",
            "Sweden",
            "Switzerland",
            "Turkey",
            "United Kingdom",
            "Iceland",
            "Italy"
           ],
           "legendgroup": "",
           "locationmode": "country names",
           "locations": [
            "Austria",
            "Belgium",
            "Bulgaria",
            "Czech Rep.",
            "Denmark",
            "Finland",
            "France",
            "Germany",
            "Greece",
            "Hungary",
            "Luxembourg",
            "Netherlands",
            "Norway",
            "Poland",
            "Portugal",
            "Spain",
            "Sweden",
            "Switzerland",
            "Turkey",
            "United Kingdom",
            "Iceland",
            "Italy"
           ],
           "marker": {
            "color": [
             1132,
             2529,
             154,
             513,
             1300,
             289,
             3757,
             6204,
             356,
             873,
             85,
             3571,
             567,
             442,
             15,
             564,
             1077,
             1567,
             347,
             6690,
             0,
             0
            ],
            "coloraxis": "coloraxis",
            "symbol": "circle"
           },
           "mode": "markers",
           "name": "",
           "showlegend": false,
           "type": "scattergeo"
          }
         ],
         "name": "2000-March"
        },
        {
         "data": [
          {
           "geo": "geo",
           "hovertemplate": "<b>%{hovertext}</b><br><br>Year-Month=2000-April<br>Country=%{location}<br>Refugees=%{marker.color}<extra></extra>",
           "hovertext": [
            "Austria",
            "Belgium",
            "Bulgaria",
            "Czech Rep.",
            "Denmark",
            "Finland",
            "France",
            "Germany",
            "Greece",
            "Hungary",
            "Luxembourg",
            "Netherlands",
            "Norway",
            "Poland",
            "Portugal",
            "Spain",
            "Sweden",
            "Switzerland",
            "Turkey",
            "United Kingdom",
            "Iceland",
            "Italy"
           ],
           "legendgroup": "",
           "locationmode": "country names",
           "locations": [
            "Austria",
            "Belgium",
            "Bulgaria",
            "Czech Rep.",
            "Denmark",
            "Finland",
            "France",
            "Germany",
            "Greece",
            "Hungary",
            "Luxembourg",
            "Netherlands",
            "Norway",
            "Poland",
            "Portugal",
            "Spain",
            "Sweden",
            "Switzerland",
            "Turkey",
            "United Kingdom",
            "Iceland",
            "Italy"
           ],
           "marker": {
            "color": [
             1117,
             2545,
             107,
             557,
             502,
             304,
             2829,
             5004,
             87,
             635,
             58,
             3104,
             439,
             306,
             17,
             583,
             873,
             1118,
             360,
             5905,
             0,
             0
            ],
            "coloraxis": "coloraxis",
            "symbol": "circle"
           },
           "mode": "markers",
           "name": "",
           "showlegend": false,
           "type": "scattergeo"
          }
         ],
         "name": "2000-April"
        },
        {
         "data": [
          {
           "geo": "geo",
           "hovertemplate": "<b>%{hovertext}</b><br><br>Year-Month=2000-May<br>Country=%{location}<br>Refugees=%{marker.color}<extra></extra>",
           "hovertext": [
            "Austria",
            "Belgium",
            "Bulgaria",
            "Czech Rep.",
            "Denmark",
            "Finland",
            "France",
            "Germany",
            "Greece",
            "Hungary",
            "Luxembourg",
            "Netherlands",
            "Norway",
            "Poland",
            "Portugal",
            "Spain",
            "Sweden",
            "Switzerland",
            "Turkey",
            "United Kingdom",
            "Iceland",
            "Italy"
           ],
           "legendgroup": "",
           "locationmode": "country names",
           "locations": [
            "Austria",
            "Belgium",
            "Bulgaria",
            "Czech Rep.",
            "Denmark",
            "Finland",
            "France",
            "Germany",
            "Greece",
            "Hungary",
            "Luxembourg",
            "Netherlands",
            "Norway",
            "Poland",
            "Portugal",
            "Spain",
            "Sweden",
            "Switzerland",
            "Turkey",
            "United Kingdom",
            "Iceland",
            "Italy"
           ],
           "marker": {
            "color": [
             1499,
             2849,
             88,
             542,
             774,
             283,
             3056,
             6316,
             293,
             794,
             0,
             3053,
             1792,
             342,
             14,
             627,
             950,
             1555,
             569,
             6185,
             0,
             0
            ],
            "coloraxis": "coloraxis",
            "symbol": "circle"
           },
           "mode": "markers",
           "name": "",
           "showlegend": false,
           "type": "scattergeo"
          }
         ],
         "name": "2000-May"
        },
        {
         "data": [
          {
           "geo": "geo",
           "hovertemplate": "<b>%{hovertext}</b><br><br>Year-Month=2000-June<br>Country=%{location}<br>Refugees=%{marker.color}<extra></extra>",
           "hovertext": [
            "Austria",
            "Belgium",
            "Bulgaria",
            "Czech Rep.",
            "Denmark",
            "Finland",
            "France",
            "Germany",
            "Greece",
            "Hungary",
            "Luxembourg",
            "Netherlands",
            "Norway",
            "Poland",
            "Portugal",
            "Spain",
            "Sweden",
            "Switzerland",
            "Turkey",
            "United Kingdom",
            "Iceland",
            "Italy"
           ],
           "legendgroup": "",
           "locationmode": "country names",
           "locations": [
            "Austria",
            "Belgium",
            "Bulgaria",
            "Czech Rep.",
            "Denmark",
            "Finland",
            "France",
            "Germany",
            "Greece",
            "Hungary",
            "Luxembourg",
            "Netherlands",
            "Norway",
            "Poland",
            "Portugal",
            "Spain",
            "Sweden",
            "Switzerland",
            "Turkey",
            "United Kingdom",
            "Iceland",
            "Italy"
           ],
           "marker": {
            "color": [
             1637,
             2761,
             107,
             939,
             829,
             378,
             2917,
             5747,
             195,
             615,
             73,
             3473,
             2037,
             265,
             25,
             525,
             869,
             1285,
             686,
             5910,
             0,
             0
            ],
            "coloraxis": "coloraxis",
            "symbol": "circle"
           },
           "mode": "markers",
           "name": "",
           "showlegend": false,
           "type": "scattergeo"
          }
         ],
         "name": "2000-June"
        },
        {
         "data": [
          {
           "geo": "geo",
           "hovertemplate": "<b>%{hovertext}</b><br><br>Year-Month=2000-July<br>Country=%{location}<br>Refugees=%{marker.color}<extra></extra>",
           "hovertext": [
            "Austria",
            "Belgium",
            "Bulgaria",
            "Czech Rep.",
            "Denmark",
            "Finland",
            "France",
            "Germany",
            "Greece",
            "Hungary",
            "Luxembourg",
            "Netherlands",
            "Norway",
            "Poland",
            "Portugal",
            "Spain",
            "Sweden",
            "Switzerland",
            "Turkey",
            "United Kingdom",
            "Iceland",
            "Italy"
           ],
           "legendgroup": "",
           "locationmode": "country names",
           "locations": [
            "Austria",
            "Belgium",
            "Bulgaria",
            "Czech Rep.",
            "Denmark",
            "Finland",
            "France",
            "Germany",
            "Greece",
            "Hungary",
            "Luxembourg",
            "Netherlands",
            "Norway",
            "Poland",
            "Portugal",
            "Spain",
            "Sweden",
            "Switzerland",
            "Turkey",
            "United Kingdom",
            "Iceland",
            "Italy"
           ],
           "marker": {
            "color": [
             1870,
             3185,
             107,
             665,
             911,
             459,
             3110,
             6529,
             440,
             656,
             32,
             3702,
             921,
             327,
             25,
             591,
             1107,
             1333,
             858,
             6255,
             0,
             0
            ],
            "coloraxis": "coloraxis",
            "symbol": "circle"
           },
           "mode": "markers",
           "name": "",
           "showlegend": false,
           "type": "scattergeo"
          }
         ],
         "name": "2000-July"
        },
        {
         "data": [
          {
           "geo": "geo",
           "hovertemplate": "<b>%{hovertext}</b><br><br>Year-Month=2000-August<br>Country=%{location}<br>Refugees=%{marker.color}<extra></extra>",
           "hovertext": [
            "Austria",
            "Belgium",
            "Bulgaria",
            "Czech Rep.",
            "Denmark",
            "Finland",
            "France",
            "Germany",
            "Greece",
            "Hungary",
            "Luxembourg",
            "Netherlands",
            "Norway",
            "Poland",
            "Portugal",
            "Spain",
            "Sweden",
            "Switzerland",
            "Turkey",
            "United Kingdom",
            "Iceland",
            "Italy"
           ],
           "legendgroup": "",
           "locationmode": "country names",
           "locations": [
            "Austria",
            "Belgium",
            "Bulgaria",
            "Czech Rep.",
            "Denmark",
            "Finland",
            "France",
            "Germany",
            "Greece",
            "Hungary",
            "Luxembourg",
            "Netherlands",
            "Norway",
            "Poland",
            "Portugal",
            "Spain",
            "Sweden",
            "Switzerland",
            "Turkey",
            "United Kingdom",
            "Iceland",
            "Italy"
           ],
           "marker": {
            "color": [
             1594,
             4446,
             120,
             691,
             864,
             190,
             3229,
             7507,
             77,
             568,
             37,
             3997,
             983,
             364,
             19,
             595,
             1391,
             1507,
             880,
             6610,
             0,
             0
            ],
            "coloraxis": "coloraxis",
            "symbol": "circle"
           },
           "mode": "markers",
           "name": "",
           "showlegend": false,
           "type": "scattergeo"
          }
         ],
         "name": "2000-August"
        },
        {
         "data": [
          {
           "geo": "geo",
           "hovertemplate": "<b>%{hovertext}</b><br><br>Year-Month=2000-September<br>Country=%{location}<br>Refugees=%{marker.color}<extra></extra>",
           "hovertext": [
            "Austria",
            "Belgium",
            "Bulgaria",
            "Czech Rep.",
            "Denmark",
            "Finland",
            "France",
            "Germany",
            "Greece",
            "Hungary",
            "Luxembourg",
            "Netherlands",
            "Norway",
            "Poland",
            "Portugal",
            "Spain",
            "Sweden",
            "Switzerland",
            "Turkey",
            "United Kingdom",
            "Iceland",
            "Italy"
           ],
           "legendgroup": "",
           "locationmode": "country names",
           "locations": [
            "Austria",
            "Belgium",
            "Bulgaria",
            "Czech Rep.",
            "Denmark",
            "Finland",
            "France",
            "Germany",
            "Greece",
            "Hungary",
            "Luxembourg",
            "Netherlands",
            "Norway",
            "Poland",
            "Portugal",
            "Spain",
            "Sweden",
            "Switzerland",
            "Turkey",
            "United Kingdom",
            "Iceland",
            "Italy"
           ],
           "marker": {
            "color": [
             1815,
             4760,
             157,
             749,
             793,
             147,
             2877,
             7166,
             251,
             611,
             67,
             3451,
             1044,
             441,
             14,
             497,
             1467,
             1650,
             967,
             6630,
             0,
             0
            ],
            "coloraxis": "coloraxis",
            "symbol": "circle"
           },
           "mode": "markers",
           "name": "",
           "showlegend": false,
           "type": "scattergeo"
          }
         ],
         "name": "2000-September"
        },
        {
         "data": [
          {
           "geo": "geo",
           "hovertemplate": "<b>%{hovertext}</b><br><br>Year-Month=2000-October<br>Country=%{location}<br>Refugees=%{marker.color}<extra></extra>",
           "hovertext": [
            "Austria",
            "Belgium",
            "Bulgaria",
            "Czech Rep.",
            "Denmark",
            "Finland",
            "France",
            "Germany",
            "Greece",
            "Hungary",
            "Luxembourg",
            "Netherlands",
            "Norway",
            "Poland",
            "Portugal",
            "Spain",
            "Sweden",
            "Switzerland",
            "Turkey",
            "United Kingdom",
            "Iceland",
            "Italy"
           ],
           "legendgroup": "",
           "locationmode": "country names",
           "locations": [
            "Austria",
            "Belgium",
            "Bulgaria",
            "Czech Rep.",
            "Denmark",
            "Finland",
            "France",
            "Germany",
            "Greece",
            "Hungary",
            "Luxembourg",
            "Netherlands",
            "Norway",
            "Poland",
            "Portugal",
            "Spain",
            "Sweden",
            "Switzerland",
            "Turkey",
            "United Kingdom",
            "Iceland",
            "Italy"
           ],
           "marker": {
            "color": [
             1767,
             5287,
             246,
             916,
             906,
             143,
             3553,
             7684,
             129,
             727,
             52,
             3981,
             770,
             450,
             14,
             612,
             1997,
             1731,
             710,
             7030,
             0,
             0
            ],
            "coloraxis": "coloraxis",
            "symbol": "circle"
           },
           "mode": "markers",
           "name": "",
           "showlegend": false,
           "type": "scattergeo"
          }
         ],
         "name": "2000-October"
        },
        {
         "data": [
          {
           "geo": "geo",
           "hovertemplate": "<b>%{hovertext}</b><br><br>Year-Month=2000-November<br>Country=%{location}<br>Refugees=%{marker.color}<extra></extra>",
           "hovertext": [
            "Austria",
            "Belgium",
            "Bulgaria",
            "Czech Rep.",
            "Denmark",
            "Finland",
            "France",
            "Germany",
            "Greece",
            "Hungary",
            "Luxembourg",
            "Netherlands",
            "Norway",
            "Poland",
            "Portugal",
            "Spain",
            "Sweden",
            "Switzerland",
            "Turkey",
            "United Kingdom",
            "Iceland",
            "Italy"
           ],
           "legendgroup": "",
           "locationmode": "country names",
           "locations": [
            "Austria",
            "Belgium",
            "Bulgaria",
            "Czech Rep.",
            "Denmark",
            "Finland",
            "France",
            "Germany",
            "Greece",
            "Hungary",
            "Luxembourg",
            "Netherlands",
            "Norway",
            "Poland",
            "Portugal",
            "Spain",
            "Sweden",
            "Switzerland",
            "Turkey",
            "United Kingdom",
            "Iceland",
            "Italy"
           ],
           "marker": {
            "color": [
             1646,
             4408,
             275,
             1230,
             898,
             137,
             3374,
             7909,
             95,
             661,
             38,
             3927,
             637,
             497,
             16,
             594,
             2130,
             1751,
             607,
             7245,
             0,
             0
            ],
            "coloraxis": "coloraxis",
            "symbol": "circle"
           },
           "mode": "markers",
           "name": "",
           "showlegend": false,
           "type": "scattergeo"
          }
         ],
         "name": "2000-November"
        },
        {
         "data": [
          {
           "geo": "geo",
           "hovertemplate": "<b>%{hovertext}</b><br><br>Year-Month=2000-December<br>Country=%{location}<br>Refugees=%{marker.color}<extra></extra>",
           "hovertext": [
            "Austria",
            "Belgium",
            "Bulgaria",
            "Czech Rep.",
            "Denmark",
            "Finland",
            "France",
            "Germany",
            "Greece",
            "Hungary",
            "Luxembourg",
            "Netherlands",
            "Norway",
            "Poland",
            "Portugal",
            "Spain",
            "Sweden",
            "Switzerland",
            "Turkey",
            "United Kingdom",
            "Iceland",
            "Italy"
           ],
           "legendgroup": "",
           "locationmode": "country names",
           "locations": [
            "Austria",
            "Belgium",
            "Bulgaria",
            "Czech Rep.",
            "Denmark",
            "Finland",
            "France",
            "Germany",
            "Greece",
            "Hungary",
            "Luxembourg",
            "Netherlands",
            "Norway",
            "Poland",
            "Portugal",
            "Spain",
            "Sweden",
            "Switzerland",
            "Turkey",
            "United Kingdom",
            "Iceland",
            "Italy"
           ],
           "marker": {
            "color": [
             1561,
             4640,
             147,
             992,
             470,
             113,
             2990,
             5963,
             705,
             532,
             51,
             3668,
             483,
             462,
             10,
             604,
             2517,
             1356,
             408,
             5815,
             0,
             0
            ],
            "coloraxis": "coloraxis",
            "symbol": "circle"
           },
           "mode": "markers",
           "name": "",
           "showlegend": false,
           "type": "scattergeo"
          }
         ],
         "name": "2000-December"
        },
        {
         "data": [
          {
           "geo": "geo",
           "hovertemplate": "<b>%{hovertext}</b><br><br>Year-Month=2001-January<br>Country=%{location}<br>Refugees=%{marker.color}<extra></extra>",
           "hovertext": [
            "Austria",
            "Belgium",
            "Bulgaria",
            "Czech Rep.",
            "Denmark",
            "Finland",
            "France",
            "Germany",
            "Greece",
            "Hungary",
            "Luxembourg",
            "Netherlands",
            "Norway",
            "Poland",
            "Portugal",
            "Spain",
            "Sweden",
            "Switzerland",
            "Turkey",
            "United Kingdom",
            "Iceland",
            "Italy"
           ],
           "legendgroup": "",
           "locationmode": "country names",
           "locations": [
            "Austria",
            "Belgium",
            "Bulgaria",
            "Czech Rep.",
            "Denmark",
            "Finland",
            "France",
            "Germany",
            "Greece",
            "Hungary",
            "Luxembourg",
            "Netherlands",
            "Norway",
            "Poland",
            "Portugal",
            "Spain",
            "Sweden",
            "Switzerland",
            "Turkey",
            "United Kingdom",
            "Iceland",
            "Italy"
           ],
           "marker": {
            "color": [
             1876,
             3239,
             197,
             1228,
             1166,
             122,
             3015,
             7583,
             121,
             580,
             59,
             3697,
             483,
             342,
             24,
             833,
             1735,
             1655,
             343,
             6845,
             1,
             0
            ],
            "coloraxis": "coloraxis",
            "symbol": "circle"
           },
           "mode": "markers",
           "name": "",
           "showlegend": false,
           "type": "scattergeo"
          }
         ],
         "name": "2001-January"
        },
        {
         "data": [
          {
           "geo": "geo",
           "hovertemplate": "<b>%{hovertext}</b><br><br>Year-Month=2001-February<br>Country=%{location}<br>Refugees=%{marker.color}<extra></extra>",
           "hovertext": [
            "Austria",
            "Belgium",
            "Bulgaria",
            "Czech Rep.",
            "Denmark",
            "Finland",
            "France",
            "Germany",
            "Greece",
            "Hungary",
            "Luxembourg",
            "Netherlands",
            "Norway",
            "Poland",
            "Portugal",
            "Spain",
            "Sweden",
            "Switzerland",
            "Turkey",
            "United Kingdom",
            "Iceland",
            "Italy"
           ],
           "legendgroup": "",
           "locationmode": "country names",
           "locations": [
            "Austria",
            "Belgium",
            "Bulgaria",
            "Czech Rep.",
            "Denmark",
            "Finland",
            "France",
            "Germany",
            "Greece",
            "Hungary",
            "Luxembourg",
            "Netherlands",
            "Norway",
            "Poland",
            "Portugal",
            "Spain",
            "Sweden",
            "Switzerland",
            "Turkey",
            "United Kingdom",
            "Iceland",
            "Italy"
           ],
           "marker": {
            "color": [
             2394,
             1734,
             229,
             1222,
             897,
             109,
             3771,
             6220,
             106,
             506,
             49,
             2805,
             502,
             333,
             17,
             810,
             1290,
             1375,
             273,
             5955,
             1,
             0
            ],
            "coloraxis": "coloraxis",
            "symbol": "circle"
           },
           "mode": "markers",
           "name": "",
           "showlegend": false,
           "type": "scattergeo"
          }
         ],
         "name": "2001-February"
        },
        {
         "data": [
          {
           "geo": "geo",
           "hovertemplate": "<b>%{hovertext}</b><br><br>Year-Month=2001-March<br>Country=%{location}<br>Refugees=%{marker.color}<extra></extra>",
           "hovertext": [
            "Austria",
            "Belgium",
            "Bulgaria",
            "Czech Rep.",
            "Denmark",
            "Finland",
            "France",
            "Germany",
            "Greece",
            "Hungary",
            "Luxembourg",
            "Netherlands",
            "Norway",
            "Poland",
            "Portugal",
            "Spain",
            "Sweden",
            "Switzerland",
            "Turkey",
            "United Kingdom",
            "Iceland",
            "Italy"
           ],
           "legendgroup": "",
           "locationmode": "country names",
           "locations": [
            "Austria",
            "Belgium",
            "Bulgaria",
            "Czech Rep.",
            "Denmark",
            "Finland",
            "France",
            "Germany",
            "Greece",
            "Hungary",
            "Luxembourg",
            "Netherlands",
            "Norway",
            "Poland",
            "Portugal",
            "Spain",
            "Sweden",
            "Switzerland",
            "Turkey",
            "United Kingdom",
            "Iceland",
            "Italy"
           ],
           "marker": {
            "color": [
             3208,
             1788,
             145,
             1632,
             968,
             169,
             4545,
             7251,
             241,
             769,
             57,
             3086,
             557,
             303,
             18,
             745,
             1297,
             1282,
             443,
             6160,
             3,
             0
            ],
            "coloraxis": "coloraxis",
            "symbol": "circle"
           },
           "mode": "markers",
           "name": "",
           "showlegend": false,
           "type": "scattergeo"
          }
         ],
         "name": "2001-March"
        },
        {
         "data": [
          {
           "geo": "geo",
           "hovertemplate": "<b>%{hovertext}</b><br><br>Year-Month=2001-April<br>Country=%{location}<br>Refugees=%{marker.color}<extra></extra>",
           "hovertext": [
            "Austria",
            "Belgium",
            "Bulgaria",
            "Czech Rep.",
            "Denmark",
            "Finland",
            "France",
            "Germany",
            "Greece",
            "Hungary",
            "Luxembourg",
            "Netherlands",
            "Norway",
            "Poland",
            "Portugal",
            "Spain",
            "Sweden",
            "Switzerland",
            "Turkey",
            "United Kingdom",
            "Iceland",
            "Italy"
           ],
           "legendgroup": "",
           "locationmode": "country names",
           "locations": [
            "Austria",
            "Belgium",
            "Bulgaria",
            "Czech Rep.",
            "Denmark",
            "Finland",
            "France",
            "Germany",
            "Greece",
            "Hungary",
            "Luxembourg",
            "Netherlands",
            "Norway",
            "Poland",
            "Portugal",
            "Spain",
            "Sweden",
            "Switzerland",
            "Turkey",
            "United Kingdom",
            "Iceland",
            "Italy"
           ],
           "marker": {
            "color": [
             2840,
             1773,
             119,
             1537,
             1030,
             172,
             4067,
             6182,
             92,
             686,
             47,
             2781,
             619,
             301,
             21,
             683,
             1280,
             1313,
             441,
             5035,
             10,
             0
            ],
            "coloraxis": "coloraxis",
            "symbol": "circle"
           },
           "mode": "markers",
           "name": "",
           "showlegend": false,
           "type": "scattergeo"
          }
         ],
         "name": "2001-April"
        },
        {
         "data": [
          {
           "geo": "geo",
           "hovertemplate": "<b>%{hovertext}</b><br><br>Year-Month=2001-May<br>Country=%{location}<br>Refugees=%{marker.color}<extra></extra>",
           "hovertext": [
            "Austria",
            "Belgium",
            "Bulgaria",
            "Czech Rep.",
            "Denmark",
            "Finland",
            "France",
            "Germany",
            "Greece",
            "Hungary",
            "Luxembourg",
            "Netherlands",
            "Norway",
            "Poland",
            "Portugal",
            "Spain",
            "Sweden",
            "Switzerland",
            "Turkey",
            "United Kingdom",
            "Iceland",
            "Italy"
           ],
           "legendgroup": "",
           "locationmode": "country names",
           "locations": [
            "Austria",
            "Belgium",
            "Bulgaria",
            "Czech Rep.",
            "Denmark",
            "Finland",
            "France",
            "Germany",
            "Greece",
            "Hungary",
            "Luxembourg",
            "Netherlands",
            "Norway",
            "Poland",
            "Portugal",
            "Spain",
            "Sweden",
            "Switzerland",
            "Turkey",
            "United Kingdom",
            "Iceland",
            "Italy"
           ],
           "marker": {
            "color": [
             2523,
             1960,
             194,
             1596,
             953,
             90,
             4066,
             6941,
             171,
             600,
             50,
             2549,
             776,
             369,
             18,
             631,
             1580,
             1540,
             485,
             5285,
             3,
             0
            ],
            "coloraxis": "coloraxis",
            "symbol": "circle"
           },
           "mode": "markers",
           "name": "",
           "showlegend": false,
           "type": "scattergeo"
          }
         ],
         "name": "2001-May"
        },
        {
         "data": [
          {
           "geo": "geo",
           "hovertemplate": "<b>%{hovertext}</b><br><br>Year-Month=2001-June<br>Country=%{location}<br>Refugees=%{marker.color}<extra></extra>",
           "hovertext": [
            "Austria",
            "Belgium",
            "Bulgaria",
            "Czech Rep.",
            "Denmark",
            "Finland",
            "France",
            "Germany",
            "Greece",
            "Hungary",
            "Luxembourg",
            "Netherlands",
            "Norway",
            "Poland",
            "Portugal",
            "Spain",
            "Sweden",
            "Switzerland",
            "Turkey",
            "United Kingdom",
            "Iceland",
            "Italy"
           ],
           "legendgroup": "",
           "locationmode": "country names",
           "locations": [
            "Austria",
            "Belgium",
            "Bulgaria",
            "Czech Rep.",
            "Denmark",
            "Finland",
            "France",
            "Germany",
            "Greece",
            "Hungary",
            "Luxembourg",
            "Netherlands",
            "Norway",
            "Poland",
            "Portugal",
            "Spain",
            "Sweden",
            "Switzerland",
            "Turkey",
            "United Kingdom",
            "Iceland",
            "Italy"
           ],
           "marker": {
            "color": [
             2150,
             1879,
             206,
             1692,
             842,
             111,
             3794,
             6609,
             431,
             701,
             59,
             2219,
             1113,
             547,
             18,
             640,
             1571,
             1512,
             531,
             5340,
             5,
             0
            ],
            "coloraxis": "coloraxis",
            "symbol": "circle"
           },
           "mode": "markers",
           "name": "",
           "showlegend": false,
           "type": "scattergeo"
          }
         ],
         "name": "2001-June"
        },
        {
         "data": [
          {
           "geo": "geo",
           "hovertemplate": "<b>%{hovertext}</b><br><br>Year-Month=2001-July<br>Country=%{location}<br>Refugees=%{marker.color}<extra></extra>",
           "hovertext": [
            "Austria",
            "Belgium",
            "Bulgaria",
            "Czech Rep.",
            "Denmark",
            "Finland",
            "France",
            "Germany",
            "Greece",
            "Hungary",
            "Luxembourg",
            "Netherlands",
            "Norway",
            "Poland",
            "Portugal",
            "Spain",
            "Sweden",
            "Switzerland",
            "Turkey",
            "United Kingdom",
            "Iceland",
            "Italy"
           ],
           "legendgroup": "",
           "locationmode": "country names",
           "locations": [
            "Austria",
            "Belgium",
            "Bulgaria",
            "Czech Rep.",
            "Denmark",
            "Finland",
            "France",
            "Germany",
            "Greece",
            "Hungary",
            "Luxembourg",
            "Netherlands",
            "Norway",
            "Poland",
            "Portugal",
            "Spain",
            "Sweden",
            "Switzerland",
            "Turkey",
            "United Kingdom",
            "Iceland",
            "Italy"
           ],
           "marker": {
            "color": [
             2420,
             2096,
             190,
             1609,
             1084,
             177,
             4195,
             8093,
             519,
             917,
             57,
             2475,
             1862,
             223,
             25,
             736,
             2065,
             1863,
             648,
             5960,
             1,
             0
            ],
            "coloraxis": "coloraxis",
            "symbol": "circle"
           },
           "mode": "markers",
           "name": "",
           "showlegend": false,
           "type": "scattergeo"
          }
         ],
         "name": "2001-July"
        },
        {
         "data": [
          {
           "geo": "geo",
           "hovertemplate": "<b>%{hovertext}</b><br><br>Year-Month=2001-August<br>Country=%{location}<br>Refugees=%{marker.color}<extra></extra>",
           "hovertext": [
            "Austria",
            "Belgium",
            "Bulgaria",
            "Czech Rep.",
            "Denmark",
            "Finland",
            "France",
            "Germany",
            "Greece",
            "Hungary",
            "Luxembourg",
            "Netherlands",
            "Norway",
            "Poland",
            "Portugal",
            "Spain",
            "Sweden",
            "Switzerland",
            "Turkey",
            "United Kingdom",
            "Iceland",
            "Italy"
           ],
           "legendgroup": "",
           "locationmode": "country names",
           "locations": [
            "Austria",
            "Belgium",
            "Bulgaria",
            "Czech Rep.",
            "Denmark",
            "Finland",
            "France",
            "Germany",
            "Greece",
            "Hungary",
            "Luxembourg",
            "Netherlands",
            "Norway",
            "Poland",
            "Portugal",
            "Spain",
            "Sweden",
            "Switzerland",
            "Turkey",
            "United Kingdom",
            "Iceland",
            "Italy"
           ],
           "marker": {
            "color": [
             2457,
             2349,
             232,
             1775,
             1403,
             198,
             3666,
             9138,
             618,
             1028,
             75,
             2462,
             2211,
             332,
             25,
             619,
             2569,
             1819,
             586,
             6505,
             3,
             0
            ],
            "coloraxis": "coloraxis",
            "symbol": "circle"
           },
           "mode": "markers",
           "name": "",
           "showlegend": false,
           "type": "scattergeo"
          }
         ],
         "name": "2001-August"
        },
        {
         "data": [
          {
           "geo": "geo",
           "hovertemplate": "<b>%{hovertext}</b><br><br>Year-Month=2001-September<br>Country=%{location}<br>Refugees=%{marker.color}<extra></extra>",
           "hovertext": [
            "Austria",
            "Belgium",
            "Bulgaria",
            "Czech Rep.",
            "Denmark",
            "Finland",
            "France",
            "Germany",
            "Greece",
            "Hungary",
            "Luxembourg",
            "Netherlands",
            "Norway",
            "Poland",
            "Portugal",
            "Spain",
            "Sweden",
            "Switzerland",
            "Turkey",
            "United Kingdom",
            "Iceland",
            "Italy"
           ],
           "legendgroup": "",
           "locationmode": "country names",
           "locations": [
            "Austria",
            "Belgium",
            "Bulgaria",
            "Czech Rep.",
            "Denmark",
            "Finland",
            "France",
            "Germany",
            "Greece",
            "Hungary",
            "Luxembourg",
            "Netherlands",
            "Norway",
            "Poland",
            "Portugal",
            "Spain",
            "Sweden",
            "Switzerland",
            "Turkey",
            "United Kingdom",
            "Iceland",
            "Italy"
           ],
           "marker": {
            "color": [
             2514,
             2053,
             230,
             1488,
             1171,
             118,
             3328,
             8000,
             607,
             925,
             64,
             2551,
             2022,
             438,
             6,
             841,
             2454,
             1755,
             722,
             6050,
             23,
             0
            ],
            "coloraxis": "coloraxis",
            "symbol": "circle"
           },
           "mode": "markers",
           "name": "",
           "showlegend": false,
           "type": "scattergeo"
          }
         ],
         "name": "2001-September"
        },
        {
         "data": [
          {
           "geo": "geo",
           "hovertemplate": "<b>%{hovertext}</b><br><br>Year-Month=2001-October<br>Country=%{location}<br>Refugees=%{marker.color}<extra></extra>",
           "hovertext": [
            "Austria",
            "Belgium",
            "Bulgaria",
            "Czech Rep.",
            "Denmark",
            "Finland",
            "France",
            "Germany",
            "Greece",
            "Hungary",
            "Luxembourg",
            "Netherlands",
            "Norway",
            "Poland",
            "Portugal",
            "Spain",
            "Sweden",
            "Switzerland",
            "Turkey",
            "United Kingdom",
            "Iceland",
            "Italy"
           ],
           "legendgroup": "",
           "locationmode": "country names",
           "locations": [
            "Austria",
            "Belgium",
            "Bulgaria",
            "Czech Rep.",
            "Denmark",
            "Finland",
            "France",
            "Germany",
            "Greece",
            "Hungary",
            "Luxembourg",
            "Netherlands",
            "Norway",
            "Poland",
            "Portugal",
            "Spain",
            "Sweden",
            "Switzerland",
            "Turkey",
            "United Kingdom",
            "Iceland",
            "Italy"
           ],
           "marker": {
            "color": [
             2788,
             2277,
             291,
             1492,
             1138,
             164,
             4441,
             8764,
             426,
             1285,
             57,
             3401,
             1702,
             384,
             19,
             978,
             2800,
             1929,
             703,
             6425,
             0,
             0
            ],
            "coloraxis": "coloraxis",
            "symbol": "circle"
           },
           "mode": "markers",
           "name": "",
           "showlegend": false,
           "type": "scattergeo"
          }
         ],
         "name": "2001-October"
        },
        {
         "data": [
          {
           "geo": "geo",
           "hovertemplate": "<b>%{hovertext}</b><br><br>Year-Month=2001-November<br>Country=%{location}<br>Refugees=%{marker.color}<extra></extra>",
           "hovertext": [
            "Austria",
            "Belgium",
            "Bulgaria",
            "Czech Rep.",
            "Denmark",
            "Finland",
            "France",
            "Germany",
            "Greece",
            "Hungary",
            "Luxembourg",
            "Netherlands",
            "Norway",
            "Poland",
            "Portugal",
            "Spain",
            "Sweden",
            "Switzerland",
            "Turkey",
            "United Kingdom",
            "Iceland",
            "Italy"
           ],
           "legendgroup": "",
           "locationmode": "country names",
           "locations": [
            "Austria",
            "Belgium",
            "Bulgaria",
            "Czech Rep.",
            "Denmark",
            "Finland",
            "France",
            "Germany",
            "Greece",
            "Hungary",
            "Luxembourg",
            "Netherlands",
            "Norway",
            "Poland",
            "Portugal",
            "Spain",
            "Sweden",
            "Switzerland",
            "Turkey",
            "United Kingdom",
            "Iceland",
            "Italy"
           ],
           "marker": {
            "color": [
             2582,
             1714,
             226,
             1350,
             1038,
             102,
             4238,
             8006,
             544,
             938,
             53,
             2399,
             1440,
             457,
             15,
             859,
             2306,
             1864,
             448,
             5765,
             1,
             0
            ],
            "coloraxis": "coloraxis",
            "symbol": "circle"
           },
           "mode": "markers",
           "name": "",
           "showlegend": false,
           "type": "scattergeo"
          }
         ],
         "name": "2001-November"
        },
        {
         "data": [
          {
           "geo": "geo",
           "hovertemplate": "<b>%{hovertext}</b><br><br>Year-Month=2001-December<br>Country=%{location}<br>Refugees=%{marker.color}<extra></extra>",
           "hovertext": [
            "Austria",
            "Belgium",
            "Bulgaria",
            "Czech Rep.",
            "Denmark",
            "Finland",
            "France",
            "Germany",
            "Greece",
            "Hungary",
            "Luxembourg",
            "Netherlands",
            "Norway",
            "Poland",
            "Portugal",
            "Spain",
            "Sweden",
            "Switzerland",
            "Turkey",
            "United Kingdom",
            "Iceland",
            "Italy"
           ],
           "legendgroup": "",
           "locationmode": "country names",
           "locations": [
            "Austria",
            "Belgium",
            "Bulgaria",
            "Czech Rep.",
            "Denmark",
            "Finland",
            "France",
            "Germany",
            "Greece",
            "Hungary",
            "Luxembourg",
            "Netherlands",
            "Norway",
            "Poland",
            "Portugal",
            "Spain",
            "Sweden",
            "Switzerland",
            "Turkey",
            "United Kingdom",
            "Iceland",
            "Italy"
           ],
           "marker": {
            "color": [
             2383,
             1687,
             168,
             1416,
             713,
             119,
             4137,
             5576,
             1623,
             619,
             62,
             2154,
             1497,
             504,
             28,
             844,
             2566,
             1497,
             299,
             5485,
             0,
             0
            ],
            "coloraxis": "coloraxis",
            "symbol": "circle"
           },
           "mode": "markers",
           "name": "",
           "showlegend": false,
           "type": "scattergeo"
          }
         ],
         "name": "2001-December"
        },
        {
         "data": [
          {
           "geo": "geo",
           "hovertemplate": "<b>%{hovertext}</b><br><br>Year-Month=2002-January<br>Country=%{location}<br>Refugees=%{marker.color}<extra></extra>",
           "hovertext": [
            "Austria",
            "Belgium",
            "Bulgaria",
            "Czech Rep.",
            "Denmark",
            "Finland",
            "France",
            "Germany",
            "Greece",
            "Hungary",
            "Luxembourg",
            "Netherlands",
            "Norway",
            "Poland",
            "Portugal",
            "Spain",
            "Sweden",
            "Switzerland",
            "Turkey",
            "United Kingdom",
            "Iceland",
            "Italy"
           ],
           "legendgroup": "",
           "locationmode": "country names",
           "locations": [
            "Austria",
            "Belgium",
            "Bulgaria",
            "Czech Rep.",
            "Denmark",
            "Finland",
            "France",
            "Germany",
            "Greece",
            "Hungary",
            "Luxembourg",
            "Netherlands",
            "Norway",
            "Poland",
            "Portugal",
            "Spain",
            "Sweden",
            "Switzerland",
            "Turkey",
            "United Kingdom",
            "Iceland",
            "Italy"
           ],
           "marker": {
            "color": [
             2956,
             1858,
             350,
             1332,
             773,
             171,
             4032,
             7762,
             589,
             612,
             47,
             2377,
             1513,
             227,
             28,
             959,
             2637,
             1909,
             263,
             7884,
             7,
             0
            ],
            "coloraxis": "coloraxis",
            "symbol": "circle"
           },
           "mode": "markers",
           "name": "",
           "showlegend": false,
           "type": "scattergeo"
          }
         ],
         "name": "2002-January"
        },
        {
         "data": [
          {
           "geo": "geo",
           "hovertemplate": "<b>%{hovertext}</b><br><br>Year-Month=2002-February<br>Country=%{location}<br>Refugees=%{marker.color}<extra></extra>",
           "hovertext": [
            "Austria",
            "Belgium",
            "Bulgaria",
            "Czech Rep.",
            "Denmark",
            "Finland",
            "France",
            "Germany",
            "Greece",
            "Hungary",
            "Luxembourg",
            "Netherlands",
            "Norway",
            "Poland",
            "Portugal",
            "Spain",
            "Sweden",
            "Switzerland",
            "Turkey",
            "United Kingdom",
            "Iceland",
            "Italy"
           ],
           "legendgroup": "",
           "locationmode": "country names",
           "locations": [
            "Austria",
            "Belgium",
            "Bulgaria",
            "Czech Rep.",
            "Denmark",
            "Finland",
            "France",
            "Germany",
            "Greece",
            "Hungary",
            "Luxembourg",
            "Netherlands",
            "Norway",
            "Poland",
            "Portugal",
            "Spain",
            "Sweden",
            "Switzerland",
            "Turkey",
            "United Kingdom",
            "Iceland",
            "Italy"
           ],
           "marker": {
            "color": [
             2401,
             1394,
             324,
             678,
             646,
             120,
             4116,
             5771,
             435,
             527,
             39,
             1972,
             1385,
             292,
             12,
             801,
             2242,
             1654,
             245,
             7500,
             1,
             0
            ],
            "coloraxis": "coloraxis",
            "symbol": "circle"
           },
           "mode": "markers",
           "name": "",
           "showlegend": false,
           "type": "scattergeo"
          }
         ],
         "name": "2002-February"
        },
        {
         "data": [
          {
           "geo": "geo",
           "hovertemplate": "<b>%{hovertext}</b><br><br>Year-Month=2002-March<br>Country=%{location}<br>Refugees=%{marker.color}<extra></extra>",
           "hovertext": [
            "Austria",
            "Belgium",
            "Bulgaria",
            "Czech Rep.",
            "Denmark",
            "Finland",
            "France",
            "Germany",
            "Greece",
            "Hungary",
            "Luxembourg",
            "Netherlands",
            "Norway",
            "Poland",
            "Portugal",
            "Spain",
            "Sweden",
            "Switzerland",
            "Turkey",
            "United Kingdom",
            "Iceland",
            "Italy"
           ],
           "legendgroup": "",
           "locationmode": "country names",
           "locations": [
            "Austria",
            "Belgium",
            "Bulgaria",
            "Czech Rep.",
            "Denmark",
            "Finland",
            "France",
            "Germany",
            "Greece",
            "Hungary",
            "Luxembourg",
            "Netherlands",
            "Norway",
            "Poland",
            "Portugal",
            "Spain",
            "Sweden",
            "Switzerland",
            "Turkey",
            "United Kingdom",
            "Iceland",
            "Italy"
           ],
           "marker": {
            "color": [
             2310,
             1433,
             417,
             719,
             671,
             106,
             4629,
             5697,
             508,
             536,
             71,
             1950,
             1472,
             349,
             18,
             723,
             2357,
             1671,
             201,
             7488,
             0,
             0
            ],
            "coloraxis": "coloraxis",
            "symbol": "circle"
           },
           "mode": "markers",
           "name": "",
           "showlegend": false,
           "type": "scattergeo"
          }
         ],
         "name": "2002-March"
        },
        {
         "data": [
          {
           "geo": "geo",
           "hovertemplate": "<b>%{hovertext}</b><br><br>Year-Month=2002-April<br>Country=%{location}<br>Refugees=%{marker.color}<extra></extra>",
           "hovertext": [
            "Austria",
            "Belgium",
            "Bulgaria",
            "Czech Rep.",
            "Denmark",
            "Finland",
            "France",
            "Germany",
            "Greece",
            "Hungary",
            "Luxembourg",
            "Netherlands",
            "Norway",
            "Poland",
            "Portugal",
            "Spain",
            "Sweden",
            "Switzerland",
            "Turkey",
            "United Kingdom",
            "Iceland",
            "Italy"
           ],
           "legendgroup": "",
           "locationmode": "country names",
           "locations": [
            "Austria",
            "Belgium",
            "Bulgaria",
            "Czech Rep.",
            "Denmark",
            "Finland",
            "France",
            "Germany",
            "Greece",
            "Hungary",
            "Luxembourg",
            "Netherlands",
            "Norway",
            "Poland",
            "Portugal",
            "Spain",
            "Sweden",
            "Switzerland",
            "Turkey",
            "United Kingdom",
            "Iceland",
            "Italy"
           ],
           "marker": {
            "color": [
             3051,
             1520,
             474,
             761,
             563,
             196,
             4107,
             6019,
             133,
             544,
             64,
             1767,
             1255,
             298,
             22,
             414,
             2495,
             1996,
             296,
             7802,
             0,
             0
            ],
            "coloraxis": "coloraxis",
            "symbol": "circle"
           },
           "mode": "markers",
           "name": "",
           "showlegend": false,
           "type": "scattergeo"
          }
         ],
         "name": "2002-April"
        },
        {
         "data": [
          {
           "geo": "geo",
           "hovertemplate": "<b>%{hovertext}</b><br><br>Year-Month=2002-May<br>Country=%{location}<br>Refugees=%{marker.color}<extra></extra>",
           "hovertext": [
            "Austria",
            "Belgium",
            "Bulgaria",
            "Czech Rep.",
            "Denmark",
            "Finland",
            "France",
            "Germany",
            "Greece",
            "Hungary",
            "Luxembourg",
            "Netherlands",
            "Norway",
            "Poland",
            "Portugal",
            "Spain",
            "Sweden",
            "Switzerland",
            "Turkey",
            "United Kingdom",
            "Iceland",
            "Italy"
           ],
           "legendgroup": "",
           "locationmode": "country names",
           "locations": [
            "Austria",
            "Belgium",
            "Bulgaria",
            "Czech Rep.",
            "Denmark",
            "Finland",
            "France",
            "Germany",
            "Greece",
            "Hungary",
            "Luxembourg",
            "Netherlands",
            "Norway",
            "Poland",
            "Portugal",
            "Spain",
            "Sweden",
            "Switzerland",
            "Turkey",
            "United Kingdom",
            "Iceland",
            "Italy"
           ],
           "marker": {
            "color": [
             2812,
             1489,
             373,
             607,
             468,
             400,
             4189,
             5346,
             192,
             461,
             78,
             1590,
             1236,
             350,
             30,
             542,
             2688,
             2084,
             389,
             9098,
             25,
             0
            ],
            "coloraxis": "coloraxis",
            "symbol": "circle"
           },
           "mode": "markers",
           "name": "",
           "showlegend": false,
           "type": "scattergeo"
          }
         ],
         "name": "2002-May"
        },
        {
         "data": [
          {
           "geo": "geo",
           "hovertemplate": "<b>%{hovertext}</b><br><br>Year-Month=2002-June<br>Country=%{location}<br>Refugees=%{marker.color}<extra></extra>",
           "hovertext": [
            "Austria",
            "Belgium",
            "Bulgaria",
            "Czech Rep.",
            "Denmark",
            "Finland",
            "France",
            "Germany",
            "Greece",
            "Hungary",
            "Luxembourg",
            "Netherlands",
            "Norway",
            "Poland",
            "Portugal",
            "Spain",
            "Sweden",
            "Switzerland",
            "Turkey",
            "United Kingdom",
            "Iceland",
            "Italy"
           ],
           "legendgroup": "",
           "locationmode": "country names",
           "locations": [
            "Austria",
            "Belgium",
            "Bulgaria",
            "Czech Rep.",
            "Denmark",
            "Finland",
            "France",
            "Germany",
            "Greece",
            "Hungary",
            "Luxembourg",
            "Netherlands",
            "Norway",
            "Poland",
            "Portugal",
            "Spain",
            "Sweden",
            "Switzerland",
            "Turkey",
            "United Kingdom",
            "Iceland",
            "Italy"
           ],
           "marker": {
            "color": [
             2894,
             1335,
             117,
             525,
             407,
             547,
             3993,
             5664,
             426,
             440,
             95,
             1479,
             1301,
             273,
             7,
             311,
             2195,
             1720,
             347,
             7988,
             11,
             0
            ],
            "coloraxis": "coloraxis",
            "symbol": "circle"
           },
           "mode": "markers",
           "name": "",
           "showlegend": false,
           "type": "scattergeo"
          }
         ],
         "name": "2002-June"
        },
        {
         "data": [
          {
           "geo": "geo",
           "hovertemplate": "<b>%{hovertext}</b><br><br>Year-Month=2002-July<br>Country=%{location}<br>Refugees=%{marker.color}<extra></extra>",
           "hovertext": [
            "Austria",
            "Belgium",
            "Bulgaria",
            "Czech Rep.",
            "Denmark",
            "Finland",
            "France",
            "Germany",
            "Greece",
            "Hungary",
            "Luxembourg",
            "Netherlands",
            "Norway",
            "Poland",
            "Portugal",
            "Spain",
            "Sweden",
            "Switzerland",
            "Turkey",
            "United Kingdom",
            "Iceland",
            "Italy"
           ],
           "legendgroup": "",
           "locationmode": "country names",
           "locations": [
            "Austria",
            "Belgium",
            "Bulgaria",
            "Czech Rep.",
            "Denmark",
            "Finland",
            "France",
            "Germany",
            "Greece",
            "Hungary",
            "Luxembourg",
            "Netherlands",
            "Norway",
            "Poland",
            "Portugal",
            "Spain",
            "Sweden",
            "Switzerland",
            "Turkey",
            "United Kingdom",
            "Iceland",
            "Italy"
           ],
           "marker": {
            "color": [
             3537,
             1564,
             137,
             580,
             373,
             290,
             4903,
             5947,
             555,
             565,
             87,
             1419,
             1652,
             409,
             8,
             355,
             2830,
             2277,
             369,
             9704,
             22,
             0
            ],
            "coloraxis": "coloraxis",
            "symbol": "circle"
           },
           "mode": "markers",
           "name": "",
           "showlegend": false,
           "type": "scattergeo"
          }
         ],
         "name": "2002-July"
        },
        {
         "data": [
          {
           "geo": "geo",
           "hovertemplate": "<b>%{hovertext}</b><br><br>Year-Month=2002-August<br>Country=%{location}<br>Refugees=%{marker.color}<extra></extra>",
           "hovertext": [
            "Austria",
            "Belgium",
            "Bulgaria",
            "Czech Rep.",
            "Denmark",
            "Finland",
            "France",
            "Germany",
            "Greece",
            "Hungary",
            "Luxembourg",
            "Netherlands",
            "Norway",
            "Poland",
            "Portugal",
            "Spain",
            "Sweden",
            "Switzerland",
            "Turkey",
            "United Kingdom",
            "Iceland",
            "Italy"
           ],
           "legendgroup": "",
           "locationmode": "country names",
           "locations": [
            "Austria",
            "Belgium",
            "Bulgaria",
            "Czech Rep.",
            "Denmark",
            "Finland",
            "France",
            "Germany",
            "Greece",
            "Hungary",
            "Luxembourg",
            "Netherlands",
            "Norway",
            "Poland",
            "Portugal",
            "Spain",
            "Sweden",
            "Switzerland",
            "Turkey",
            "United Kingdom",
            "Iceland",
            "Italy"
           ],
           "marker": {
            "color": [
             3257,
             1669,
             109,
             580,
             371,
             309,
             3793,
             5780,
             708,
             726,
             66,
             1350,
             1691,
             399,
             55,
             304,
             3368,
             2213,
             408,
             8759,
             10,
             0
            ],
            "coloraxis": "coloraxis",
            "symbol": "circle"
           },
           "mode": "markers",
           "name": "",
           "showlegend": false,
           "type": "scattergeo"
          }
         ],
         "name": "2002-August"
        },
        {
         "data": [
          {
           "geo": "geo",
           "hovertemplate": "<b>%{hovertext}</b><br><br>Year-Month=2002-September<br>Country=%{location}<br>Refugees=%{marker.color}<extra></extra>",
           "hovertext": [
            "Austria",
            "Belgium",
            "Bulgaria",
            "Czech Rep.",
            "Denmark",
            "Finland",
            "France",
            "Germany",
            "Greece",
            "Hungary",
            "Luxembourg",
            "Netherlands",
            "Norway",
            "Poland",
            "Portugal",
            "Spain",
            "Sweden",
            "Switzerland",
            "Turkey",
            "United Kingdom",
            "Iceland",
            "Italy"
           ],
           "legendgroup": "",
           "locationmode": "country names",
           "locations": [
            "Austria",
            "Belgium",
            "Bulgaria",
            "Czech Rep.",
            "Denmark",
            "Finland",
            "France",
            "Germany",
            "Greece",
            "Hungary",
            "Luxembourg",
            "Netherlands",
            "Norway",
            "Poland",
            "Portugal",
            "Spain",
            "Sweden",
            "Switzerland",
            "Turkey",
            "United Kingdom",
            "Iceland",
            "Italy"
           ],
           "marker": {
            "color": [
             4506,
             1770,
             166,
             599,
             393,
             305,
             3474,
             6286,
             589,
             637,
             125,
             1432,
             1746,
             504,
             24,
             397,
             3175,
             2384,
             524,
             9427,
             18,
             0
            ],
            "coloraxis": "coloraxis",
            "symbol": "circle"
           },
           "mode": "markers",
           "name": "",
           "showlegend": false,
           "type": "scattergeo"
          }
         ],
         "name": "2002-September"
        },
        {
         "data": [
          {
           "geo": "geo",
           "hovertemplate": "<b>%{hovertext}</b><br><br>Year-Month=2002-October<br>Country=%{location}<br>Refugees=%{marker.color}<extra></extra>",
           "hovertext": [
            "Austria",
            "Belgium",
            "Bulgaria",
            "Czech Rep.",
            "Denmark",
            "Finland",
            "France",
            "Germany",
            "Greece",
            "Hungary",
            "Luxembourg",
            "Netherlands",
            "Norway",
            "Poland",
            "Portugal",
            "Spain",
            "Sweden",
            "Switzerland",
            "Turkey",
            "United Kingdom",
            "Iceland",
            "Italy"
           ],
           "legendgroup": "",
           "locationmode": "country names",
           "locations": [
            "Austria",
            "Belgium",
            "Bulgaria",
            "Czech Rep.",
            "Denmark",
            "Finland",
            "France",
            "Germany",
            "Greece",
            "Hungary",
            "Luxembourg",
            "Netherlands",
            "Norway",
            "Poland",
            "Portugal",
            "Spain",
            "Sweden",
            "Switzerland",
            "Turkey",
            "United Kingdom",
            "Iceland",
            "Italy"
           ],
           "marker": {
            "color": [
             3099,
             1843,
             199,
             767,
             499,
             359,
             4872,
             6568,
             444,
             639,
             108,
             1374,
             1771,
             604,
             15,
             542,
             3122,
             2789,
             589,
             10648,
             13,
             0
            ],
            "coloraxis": "coloraxis",
            "symbol": "circle"
           },
           "mode": "markers",
           "name": "",
           "showlegend": false,
           "type": "scattergeo"
          }
         ],
         "name": "2002-October"
        },
        {
         "data": [
          {
           "geo": "geo",
           "hovertemplate": "<b>%{hovertext}</b><br><br>Year-Month=2002-November<br>Country=%{location}<br>Refugees=%{marker.color}<extra></extra>",
           "hovertext": [
            "Austria",
            "Belgium",
            "Bulgaria",
            "Czech Rep.",
            "Denmark",
            "Finland",
            "France",
            "Germany",
            "Greece",
            "Hungary",
            "Luxembourg",
            "Netherlands",
            "Norway",
            "Poland",
            "Portugal",
            "Spain",
            "Sweden",
            "Switzerland",
            "Turkey",
            "United Kingdom",
            "Iceland",
            "Italy"
           ],
           "legendgroup": "",
           "locationmode": "country names",
           "locations": [
            "Austria",
            "Belgium",
            "Bulgaria",
            "Czech Rep.",
            "Denmark",
            "Finland",
            "France",
            "Germany",
            "Greece",
            "Hungary",
            "Luxembourg",
            "Netherlands",
            "Norway",
            "Poland",
            "Portugal",
            "Spain",
            "Sweden",
            "Switzerland",
            "Turkey",
            "United Kingdom",
            "Iceland",
            "Italy"
           ],
           "marker": {
            "color": [
             2663,
             1391,
             160,
             606,
             400,
             148,
             4135,
             5510,
             616,
             406,
             105,
             1037,
             1238,
             519,
             13,
             448,
             2837,
             2153,
             365,
             8925,
             1,
             0
            ],
            "coloraxis": "coloraxis",
            "symbol": "circle"
           },
           "mode": "markers",
           "name": "",
           "showlegend": false,
           "type": "scattergeo"
          }
         ],
         "name": "2002-November"
        },
        {
         "data": [
          {
           "geo": "geo",
           "hovertemplate": "<b>%{hovertext}</b><br><br>Year-Month=2002-December<br>Country=%{location}<br>Refugees=%{marker.color}<extra></extra>",
           "hovertext": [
            "Austria",
            "Belgium",
            "Bulgaria",
            "Czech Rep.",
            "Denmark",
            "Finland",
            "France",
            "Germany",
            "Greece",
            "Hungary",
            "Luxembourg",
            "Netherlands",
            "Norway",
            "Poland",
            "Portugal",
            "Spain",
            "Sweden",
            "Switzerland",
            "Turkey",
            "United Kingdom",
            "Iceland",
            "Italy"
           ],
           "legendgroup": "",
           "locationmode": "country names",
           "locations": [
            "Austria",
            "Belgium",
            "Bulgaria",
            "Czech Rep.",
            "Denmark",
            "Finland",
            "France",
            "Germany",
            "Greece",
            "Hungary",
            "Luxembourg",
            "Netherlands",
            "Norway",
            "Poland",
            "Portugal",
            "Spain",
            "Sweden",
            "Switzerland",
            "Turkey",
            "United Kingdom",
            "Iceland",
            "Italy"
           ],
           "marker": {
            "color": [
             3497,
             1539,
             62,
             681,
             383,
             182,
             4555,
             4694,
             469,
             319,
             158,
             920,
             1220,
             442,
             13,
             383,
             3065,
             1580,
             331,
             7857,
             9,
             0
            ],
            "coloraxis": "coloraxis",
            "symbol": "circle"
           },
           "mode": "markers",
           "name": "",
           "showlegend": false,
           "type": "scattergeo"
          }
         ],
         "name": "2002-December"
        },
        {
         "data": [
          {
           "geo": "geo",
           "hovertemplate": "<b>%{hovertext}</b><br><br>Year-Month=2003-January<br>Country=%{location}<br>Refugees=%{marker.color}<extra></extra>",
           "hovertext": [
            "Austria",
            "Belgium",
            "Bulgaria",
            "Czech Rep.",
            "Denmark",
            "Finland",
            "France",
            "Germany",
            "Greece",
            "Hungary",
            "Luxembourg",
            "Netherlands",
            "Norway",
            "Poland",
            "Portugal",
            "Spain",
            "Sweden",
            "Switzerland",
            "Turkey",
            "United Kingdom",
            "Iceland",
            "Italy"
           ],
           "legendgroup": "",
           "locationmode": "country names",
           "locations": [
            "Austria",
            "Belgium",
            "Bulgaria",
            "Czech Rep.",
            "Denmark",
            "Finland",
            "France",
            "Germany",
            "Greece",
            "Hungary",
            "Luxembourg",
            "Netherlands",
            "Norway",
            "Poland",
            "Portugal",
            "Spain",
            "Sweden",
            "Switzerland",
            "Turkey",
            "United Kingdom",
            "Iceland",
            "Italy"
           ],
           "marker": {
            "color": [
             2506,
             1449,
             167,
             685,
             405,
             282,
             4188,
             6124,
             615,
             228,
             79,
             1234,
             1205,
             364,
             11,
             764,
             3127,
             2043,
             253,
             8886,
             4,
             0
            ],
            "coloraxis": "coloraxis",
            "symbol": "circle"
           },
           "mode": "markers",
           "name": "",
           "showlegend": false,
           "type": "scattergeo"
          }
         ],
         "name": "2003-January"
        },
        {
         "data": [
          {
           "geo": "geo",
           "hovertemplate": "<b>%{hovertext}</b><br><br>Year-Month=2003-February<br>Country=%{location}<br>Refugees=%{marker.color}<extra></extra>",
           "hovertext": [
            "Austria",
            "Belgium",
            "Bulgaria",
            "Czech Rep.",
            "Denmark",
            "Finland",
            "France",
            "Germany",
            "Greece",
            "Hungary",
            "Luxembourg",
            "Netherlands",
            "Norway",
            "Poland",
            "Portugal",
            "Spain",
            "Sweden",
            "Switzerland",
            "Turkey",
            "United Kingdom",
            "Iceland",
            "Italy"
           ],
           "legendgroup": "",
           "locationmode": "country names",
           "locations": [
            "Austria",
            "Belgium",
            "Bulgaria",
            "Czech Rep.",
            "Denmark",
            "Finland",
            "France",
            "Germany",
            "Greece",
            "Hungary",
            "Luxembourg",
            "Netherlands",
            "Norway",
            "Poland",
            "Portugal",
            "Spain",
            "Sweden",
            "Switzerland",
            "Turkey",
            "United Kingdom",
            "Iceland",
            "Italy"
           ],
           "marker": {
            "color": [
             1867,
             1103,
             137,
             704,
             422,
             341,
             5041,
             4486,
             871,
             234,
             107,
             1042,
             1203,
             337,
             5,
             411,
             2500,
             1540,
             216,
             4969,
             9,
             0
            ],
            "coloraxis": "coloraxis",
            "symbol": "circle"
           },
           "mode": "markers",
           "name": "",
           "showlegend": false,
           "type": "scattergeo"
          }
         ],
         "name": "2003-February"
        },
        {
         "data": [
          {
           "geo": "geo",
           "hovertemplate": "<b>%{hovertext}</b><br><br>Year-Month=2003-March<br>Country=%{location}<br>Refugees=%{marker.color}<extra></extra>",
           "hovertext": [
            "Austria",
            "Belgium",
            "Bulgaria",
            "Czech Rep.",
            "Denmark",
            "Finland",
            "France",
            "Germany",
            "Greece",
            "Hungary",
            "Luxembourg",
            "Netherlands",
            "Norway",
            "Poland",
            "Portugal",
            "Spain",
            "Sweden",
            "Switzerland",
            "Turkey",
            "United Kingdom",
            "Iceland",
            "Italy"
           ],
           "legendgroup": "",
           "locationmode": "country names",
           "locations": [
            "Austria",
            "Belgium",
            "Bulgaria",
            "Czech Rep.",
            "Denmark",
            "Finland",
            "France",
            "Germany",
            "Greece",
            "Hungary",
            "Luxembourg",
            "Netherlands",
            "Norway",
            "Poland",
            "Portugal",
            "Spain",
            "Sweden",
            "Switzerland",
            "Turkey",
            "United Kingdom",
            "Iceland",
            "Italy"
           ],
           "marker": {
            "color": [
             2271,
             1276,
             122,
             588,
             395,
             194,
             5056,
             4329,
             760,
             183,
             112,
             1398,
             1301,
             706,
             6,
             372,
             2315,
             1511,
             485,
             5274,
             6,
             0
            ],
            "coloraxis": "coloraxis",
            "symbol": "circle"
           },
           "mode": "markers",
           "name": "",
           "showlegend": false,
           "type": "scattergeo"
          }
         ],
         "name": "2003-March"
        },
        {
         "data": [
          {
           "geo": "geo",
           "hovertemplate": "<b>%{hovertext}</b><br><br>Year-Month=2003-April<br>Country=%{location}<br>Refugees=%{marker.color}<extra></extra>",
           "hovertext": [
            "Austria",
            "Belgium",
            "Bulgaria",
            "Czech Rep.",
            "Denmark",
            "Finland",
            "France",
            "Germany",
            "Greece",
            "Hungary",
            "Luxembourg",
            "Netherlands",
            "Norway",
            "Poland",
            "Portugal",
            "Spain",
            "Sweden",
            "Switzerland",
            "Turkey",
            "United Kingdom",
            "Iceland",
            "Italy"
           ],
           "legendgroup": "",
           "locationmode": "country names",
           "locations": [
            "Austria",
            "Belgium",
            "Bulgaria",
            "Czech Rep.",
            "Denmark",
            "Finland",
            "France",
            "Germany",
            "Greece",
            "Hungary",
            "Luxembourg",
            "Netherlands",
            "Norway",
            "Poland",
            "Portugal",
            "Spain",
            "Sweden",
            "Switzerland",
            "Turkey",
            "United Kingdom",
            "Iceland",
            "Italy"
           ],
           "marker": {
            "color": [
             2440,
             1188,
             69,
             1188,
             344,
             171,
             5261,
             4012,
             666,
             131,
             127,
             1570,
             1124,
             372,
             18,
             332,
             2006,
             1475,
             322,
             4371,
             5,
             0
            ],
            "coloraxis": "coloraxis",
            "symbol": "circle"
           },
           "mode": "markers",
           "name": "",
           "showlegend": false,
           "type": "scattergeo"
          }
         ],
         "name": "2003-April"
        },
        {
         "data": [
          {
           "geo": "geo",
           "hovertemplate": "<b>%{hovertext}</b><br><br>Year-Month=2003-May<br>Country=%{location}<br>Refugees=%{marker.color}<extra></extra>",
           "hovertext": [
            "Austria",
            "Belgium",
            "Bulgaria",
            "Czech Rep.",
            "Denmark",
            "Finland",
            "France",
            "Germany",
            "Greece",
            "Hungary",
            "Luxembourg",
            "Netherlands",
            "Norway",
            "Poland",
            "Portugal",
            "Spain",
            "Sweden",
            "Switzerland",
            "Turkey",
            "United Kingdom",
            "Iceland",
            "Italy"
           ],
           "legendgroup": "",
           "locationmode": "country names",
           "locations": [
            "Austria",
            "Belgium",
            "Bulgaria",
            "Czech Rep.",
            "Denmark",
            "Finland",
            "France",
            "Germany",
            "Greece",
            "Hungary",
            "Luxembourg",
            "Netherlands",
            "Norway",
            "Poland",
            "Portugal",
            "Spain",
            "Sweden",
            "Switzerland",
            "Turkey",
            "United Kingdom",
            "Iceland",
            "Italy"
           ],
           "marker": {
            "color": [
             2787,
             1115,
             94,
             965,
             383,
             171,
             3534,
             3758,
             1047,
             153,
             107,
             1391,
             1126,
             527,
             10,
             395,
             1936,
             1467,
             332,
             3965,
             5,
             0
            ],
            "coloraxis": "coloraxis",
            "symbol": "circle"
           },
           "mode": "markers",
           "name": "",
           "showlegend": false,
           "type": "scattergeo"
          }
         ],
         "name": "2003-May"
        },
        {
         "data": [
          {
           "geo": "geo",
           "hovertemplate": "<b>%{hovertext}</b><br><br>Year-Month=2003-June<br>Country=%{location}<br>Refugees=%{marker.color}<extra></extra>",
           "hovertext": [
            "Austria",
            "Belgium",
            "Bulgaria",
            "Czech Rep.",
            "Denmark",
            "Finland",
            "France",
            "Germany",
            "Greece",
            "Hungary",
            "Luxembourg",
            "Netherlands",
            "Norway",
            "Poland",
            "Portugal",
            "Spain",
            "Sweden",
            "Switzerland",
            "Turkey",
            "United Kingdom",
            "Iceland",
            "Italy"
           ],
           "legendgroup": "",
           "locationmode": "country names",
           "locations": [
            "Austria",
            "Belgium",
            "Bulgaria",
            "Czech Rep.",
            "Denmark",
            "Finland",
            "France",
            "Germany",
            "Greece",
            "Hungary",
            "Luxembourg",
            "Netherlands",
            "Norway",
            "Poland",
            "Portugal",
            "Spain",
            "Sweden",
            "Switzerland",
            "Turkey",
            "United Kingdom",
            "Iceland",
            "Italy"
           ],
           "marker": {
            "color": [
             2898,
             1279,
             93,
             895,
             376,
             269,
             4796,
             3653,
             879,
             238,
             120,
             831,
             1229,
             415,
             12,
             345,
             2256,
             1480,
             275,
             4374,
             2,
             0
            ],
            "coloraxis": "coloraxis",
            "symbol": "circle"
           },
           "mode": "markers",
           "name": "",
           "showlegend": false,
           "type": "scattergeo"
          }
         ],
         "name": "2003-June"
        },
        {
         "data": [
          {
           "geo": "geo",
           "hovertemplate": "<b>%{hovertext}</b><br><br>Year-Month=2003-July<br>Country=%{location}<br>Refugees=%{marker.color}<extra></extra>",
           "hovertext": [
            "Austria",
            "Belgium",
            "Bulgaria",
            "Czech Rep.",
            "Denmark",
            "Finland",
            "France",
            "Germany",
            "Greece",
            "Hungary",
            "Luxembourg",
            "Netherlands",
            "Norway",
            "Poland",
            "Portugal",
            "Spain",
            "Sweden",
            "Switzerland",
            "Turkey",
            "United Kingdom",
            "Iceland",
            "Italy"
           ],
           "legendgroup": "",
           "locationmode": "country names",
           "locations": [
            "Austria",
            "Belgium",
            "Bulgaria",
            "Czech Rep.",
            "Denmark",
            "Finland",
            "France",
            "Germany",
            "Greece",
            "Hungary",
            "Luxembourg",
            "Netherlands",
            "Norway",
            "Poland",
            "Portugal",
            "Spain",
            "Sweden",
            "Switzerland",
            "Turkey",
            "United Kingdom",
            "Iceland",
            "Italy"
           ],
           "marker": {
            "color": [
             3148,
             1545,
             139,
             926,
             327,
             192,
             5090,
             4528,
             390,
             239,
             138,
             1127,
             1344,
             496,
             5,
             456,
             2649,
             1703,
             393,
             4982,
             12,
             0
            ],
            "coloraxis": "coloraxis",
            "symbol": "circle"
           },
           "mode": "markers",
           "name": "",
           "showlegend": false,
           "type": "scattergeo"
          }
         ],
         "name": "2003-July"
        },
        {
         "data": [
          {
           "geo": "geo",
           "hovertemplate": "<b>%{hovertext}</b><br><br>Year-Month=2003-August<br>Country=%{location}<br>Refugees=%{marker.color}<extra></extra>",
           "hovertext": [
            "Austria",
            "Belgium",
            "Bulgaria",
            "Czech Rep.",
            "Denmark",
            "Finland",
            "France",
            "Germany",
            "Greece",
            "Hungary",
            "Luxembourg",
            "Netherlands",
            "Norway",
            "Poland",
            "Portugal",
            "Spain",
            "Sweden",
            "Switzerland",
            "Turkey",
            "United Kingdom",
            "Iceland",
            "Italy"
           ],
           "legendgroup": "",
           "locationmode": "country names",
           "locations": [
            "Austria",
            "Belgium",
            "Bulgaria",
            "Czech Rep.",
            "Denmark",
            "Finland",
            "France",
            "Germany",
            "Greece",
            "Hungary",
            "Luxembourg",
            "Netherlands",
            "Norway",
            "Poland",
            "Portugal",
            "Spain",
            "Sweden",
            "Switzerland",
            "Turkey",
            "United Kingdom",
            "Iceland",
            "Italy"
           ],
           "marker": {
            "color": [
             3194,
             1394,
             57,
             1167,
             458,
             262,
             4621,
             3548,
             239,
             215,
             89,
             989,
             1828,
             615,
             3,
             478,
             3138,
             1755,
             345,
             4749,
             10,
             0
            ],
            "coloraxis": "coloraxis",
            "symbol": "circle"
           },
           "mode": "markers",
           "name": "",
           "showlegend": false,
           "type": "scattergeo"
          }
         ],
         "name": "2003-August"
        },
        {
         "data": [
          {
           "geo": "geo",
           "hovertemplate": "<b>%{hovertext}</b><br><br>Year-Month=2003-September<br>Country=%{location}<br>Refugees=%{marker.color}<extra></extra>",
           "hovertext": [
            "Austria",
            "Belgium",
            "Bulgaria",
            "Czech Rep.",
            "Denmark",
            "Finland",
            "France",
            "Germany",
            "Greece",
            "Hungary",
            "Luxembourg",
            "Netherlands",
            "Norway",
            "Poland",
            "Portugal",
            "Spain",
            "Sweden",
            "Switzerland",
            "Turkey",
            "United Kingdom",
            "Iceland",
            "Italy"
           ],
           "legendgroup": "",
           "locationmode": "country names",
           "locations": [
            "Austria",
            "Belgium",
            "Bulgaria",
            "Czech Rep.",
            "Denmark",
            "Finland",
            "France",
            "Germany",
            "Greece",
            "Hungary",
            "Luxembourg",
            "Netherlands",
            "Norway",
            "Poland",
            "Portugal",
            "Spain",
            "Sweden",
            "Switzerland",
            "Turkey",
            "United Kingdom",
            "Iceland",
            "Italy"
           ],
           "marker": {
            "color": [
             3456,
             1674,
             85,
             965,
             421,
             260,
             4803,
             4418,
             1325,
             283,
             135,
             1103,
             1850,
             1220,
             8,
             572,
             3158,
             1743,
             448,
             5266,
             9,
             0
            ],
            "coloraxis": "coloraxis",
            "symbol": "circle"
           },
           "mode": "markers",
           "name": "",
           "showlegend": false,
           "type": "scattergeo"
          }
         ],
         "name": "2003-September"
        },
        {
         "data": [
          {
           "geo": "geo",
           "hovertemplate": "<b>%{hovertext}</b><br><br>Year-Month=2003-October<br>Country=%{location}<br>Refugees=%{marker.color}<extra></extra>",
           "hovertext": [
            "Austria",
            "Belgium",
            "Bulgaria",
            "Czech Rep.",
            "Denmark",
            "Finland",
            "France",
            "Germany",
            "Greece",
            "Hungary",
            "Luxembourg",
            "Netherlands",
            "Norway",
            "Poland",
            "Portugal",
            "Spain",
            "Sweden",
            "Switzerland",
            "Turkey",
            "United Kingdom",
            "Iceland",
            "Italy"
           ],
           "legendgroup": "",
           "locationmode": "country names",
           "locations": [
            "Austria",
            "Belgium",
            "Bulgaria",
            "Czech Rep.",
            "Denmark",
            "Finland",
            "France",
            "Germany",
            "Greece",
            "Hungary",
            "Luxembourg",
            "Netherlands",
            "Norway",
            "Poland",
            "Portugal",
            "Spain",
            "Sweden",
            "Switzerland",
            "Turkey",
            "United Kingdom",
            "Iceland",
            "Italy"
           ],
           "marker": {
            "color": [
             3684,
             1627,
             149,
             1553,
             369,
             350,
             5911,
             4343,
             479,
             203,
             151,
             1015,
             1448,
             634,
             4,
             547,
             3094,
             1817,
             413,
             5000,
             9,
             0
            ],
            "coloraxis": "coloraxis",
            "symbol": "circle"
           },
           "mode": "markers",
           "name": "",
           "showlegend": false,
           "type": "scattergeo"
          }
         ],
         "name": "2003-October"
        },
        {
         "data": [
          {
           "geo": "geo",
           "hovertemplate": "<b>%{hovertext}</b><br><br>Year-Month=2003-November<br>Country=%{location}<br>Refugees=%{marker.color}<extra></extra>",
           "hovertext": [
            "Austria",
            "Belgium",
            "Bulgaria",
            "Czech Rep.",
            "Denmark",
            "Finland",
            "France",
            "Germany",
            "Greece",
            "Hungary",
            "Luxembourg",
            "Netherlands",
            "Norway",
            "Poland",
            "Portugal",
            "Spain",
            "Sweden",
            "Switzerland",
            "Turkey",
            "United Kingdom",
            "Iceland",
            "Italy"
           ],
           "legendgroup": "",
           "locationmode": "country names",
           "locations": [
            "Austria",
            "Belgium",
            "Bulgaria",
            "Czech Rep.",
            "Denmark",
            "Finland",
            "France",
            "Germany",
            "Greece",
            "Hungary",
            "Luxembourg",
            "Netherlands",
            "Norway",
            "Poland",
            "Portugal",
            "Spain",
            "Sweden",
            "Switzerland",
            "Turkey",
            "United Kingdom",
            "Iceland",
            "Italy"
           ],
           "marker": {
            "color": [
             1989,
             1558,
             109,
             997,
             349,
             358,
             5309,
             3830,
             577,
             181,
             194,
             931,
             1076,
             523,
             11,
             588,
             2465,
             1609,
             382,
             3898,
             5,
             0
            ],
            "coloraxis": "coloraxis",
            "symbol": "circle"
           },
           "mode": "markers",
           "name": "",
           "showlegend": false,
           "type": "scattergeo"
          }
         ],
         "name": "2003-November"
        },
        {
         "data": [
          {
           "geo": "geo",
           "hovertemplate": "<b>%{hovertext}</b><br><br>Year-Month=2003-December<br>Country=%{location}<br>Refugees=%{marker.color}<extra></extra>",
           "hovertext": [
            "Austria",
            "Belgium",
            "Bulgaria",
            "Czech Rep.",
            "Denmark",
            "Finland",
            "France",
            "Germany",
            "Greece",
            "Hungary",
            "Luxembourg",
            "Netherlands",
            "Norway",
            "Poland",
            "Portugal",
            "Spain",
            "Sweden",
            "Switzerland",
            "Turkey",
            "United Kingdom",
            "Iceland",
            "Italy"
           ],
           "legendgroup": "",
           "locationmode": "country names",
           "locations": [
            "Austria",
            "Belgium",
            "Bulgaria",
            "Czech Rep.",
            "Denmark",
            "Finland",
            "France",
            "Germany",
            "Greece",
            "Hungary",
            "Luxembourg",
            "Netherlands",
            "Norway",
            "Poland",
            "Portugal",
            "Spain",
            "Sweden",
            "Switzerland",
            "Turkey",
            "United Kingdom",
            "Iceland",
            "Italy"
           ],
           "marker": {
            "color": [
             2102,
             1732,
             328,
             761,
             308,
             371,
             5688,
             3416,
             330,
             113,
             195,
             771,
             1226,
             712,
             14,
             507,
             2711,
             1401,
             421,
             4313,
             4,
             0
            ],
            "coloraxis": "coloraxis",
            "symbol": "circle"
           },
           "mode": "markers",
           "name": "",
           "showlegend": false,
           "type": "scattergeo"
          }
         ],
         "name": "2003-December"
        },
        {
         "data": [
          {
           "geo": "geo",
           "hovertemplate": "<b>%{hovertext}</b><br><br>Year-Month=2004-January<br>Country=%{location}<br>Refugees=%{marker.color}<extra></extra>",
           "hovertext": [
            "Austria",
            "Belgium",
            "Bulgaria",
            "Czech Rep.",
            "Denmark",
            "Finland",
            "France",
            "Germany",
            "Greece",
            "Hungary",
            "Luxembourg",
            "Netherlands",
            "Norway",
            "Poland",
            "Portugal",
            "Spain",
            "Sweden",
            "Switzerland",
            "Turkey",
            "United Kingdom",
            "Iceland",
            "Italy"
           ],
           "legendgroup": "",
           "locationmode": "country names",
           "locations": [
            "Austria",
            "Belgium",
            "Bulgaria",
            "Czech Rep.",
            "Denmark",
            "Finland",
            "France",
            "Germany",
            "Greece",
            "Hungary",
            "Luxembourg",
            "Netherlands",
            "Norway",
            "Poland",
            "Portugal",
            "Spain",
            "Sweden",
            "Switzerland",
            "Turkey",
            "United Kingdom",
            "Iceland",
            "Italy"
           ],
           "marker": {
            "color": [
             1533,
             1310,
             67,
             552,
             324,
             177,
             4390,
             3767,
             225,
             108,
             133,
             976,
             763,
             433,
             8,
             476,
             2310,
             1498,
             174,
             3626,
             1,
             0
            ],
            "coloraxis": "coloraxis",
            "symbol": "circle"
           },
           "mode": "markers",
           "name": "",
           "showlegend": false,
           "type": "scattergeo"
          }
         ],
         "name": "2004-January"
        },
        {
         "data": [
          {
           "geo": "geo",
           "hovertemplate": "<b>%{hovertext}</b><br><br>Year-Month=2004-February<br>Country=%{location}<br>Refugees=%{marker.color}<extra></extra>",
           "hovertext": [
            "Austria",
            "Belgium",
            "Bulgaria",
            "Czech Rep.",
            "Denmark",
            "Finland",
            "France",
            "Germany",
            "Greece",
            "Hungary",
            "Luxembourg",
            "Netherlands",
            "Norway",
            "Poland",
            "Portugal",
            "Spain",
            "Sweden",
            "Switzerland",
            "Turkey",
            "United Kingdom",
            "Iceland",
            "Italy"
           ],
           "legendgroup": "",
           "locationmode": "country names",
           "locations": [
            "Austria",
            "Belgium",
            "Bulgaria",
            "Czech Rep.",
            "Denmark",
            "Finland",
            "France",
            "Germany",
            "Greece",
            "Hungary",
            "Luxembourg",
            "Netherlands",
            "Norway",
            "Poland",
            "Portugal",
            "Spain",
            "Sweden",
            "Switzerland",
            "Turkey",
            "United Kingdom",
            "Iceland",
            "Italy"
           ],
           "marker": {
            "color": [
             1839,
             1159,
             86,
             588,
             299,
             293,
             5404,
             2989,
             410,
             130,
             193,
             836,
             687,
             379,
             5,
             449,
             1942,
             1328,
             131,
             3501,
             12,
             0
            ],
            "coloraxis": "coloraxis",
            "symbol": "circle"
           },
           "mode": "markers",
           "name": "",
           "showlegend": false,
           "type": "scattergeo"
          }
         ],
         "name": "2004-February"
        },
        {
         "data": [
          {
           "geo": "geo",
           "hovertemplate": "<b>%{hovertext}</b><br><br>Year-Month=2004-March<br>Country=%{location}<br>Refugees=%{marker.color}<extra></extra>",
           "hovertext": [
            "Austria",
            "Belgium",
            "Bulgaria",
            "Czech Rep.",
            "Denmark",
            "Finland",
            "France",
            "Germany",
            "Greece",
            "Hungary",
            "Luxembourg",
            "Netherlands",
            "Norway",
            "Poland",
            "Portugal",
            "Spain",
            "Sweden",
            "Switzerland",
            "Turkey",
            "United Kingdom",
            "Iceland",
            "Italy"
           ],
           "legendgroup": "",
           "locationmode": "country names",
           "locations": [
            "Austria",
            "Belgium",
            "Bulgaria",
            "Czech Rep.",
            "Denmark",
            "Finland",
            "France",
            "Germany",
            "Greece",
            "Hungary",
            "Luxembourg",
            "Netherlands",
            "Norway",
            "Poland",
            "Portugal",
            "Spain",
            "Sweden",
            "Switzerland",
            "Turkey",
            "United Kingdom",
            "Iceland",
            "Italy"
           ],
           "marker": {
            "color": [
             2550,
             1447,
             114,
             988,
             296,
             580,
             6010,
             3411,
             374,
             129,
             188,
             940,
             734,
             505,
             3,
             555,
             1980,
             1598,
             201,
             3604,
             4,
             0
            ],
            "coloraxis": "coloraxis",
            "symbol": "circle"
           },
           "mode": "markers",
           "name": "",
           "showlegend": false,
           "type": "scattergeo"
          }
         ],
         "name": "2004-March"
        },
        {
         "data": [
          {
           "geo": "geo",
           "hovertemplate": "<b>%{hovertext}</b><br><br>Year-Month=2004-April<br>Country=%{location}<br>Refugees=%{marker.color}<extra></extra>",
           "hovertext": [
            "Austria",
            "Belgium",
            "Bulgaria",
            "Czech Rep.",
            "Denmark",
            "Finland",
            "France",
            "Germany",
            "Greece",
            "Hungary",
            "Luxembourg",
            "Netherlands",
            "Norway",
            "Poland",
            "Portugal",
            "Spain",
            "Sweden",
            "Switzerland",
            "Turkey",
            "United Kingdom",
            "Iceland",
            "Italy"
           ],
           "legendgroup": "",
           "locationmode": "country names",
           "locations": [
            "Austria",
            "Belgium",
            "Bulgaria",
            "Czech Rep.",
            "Denmark",
            "Finland",
            "France",
            "Germany",
            "Greece",
            "Hungary",
            "Luxembourg",
            "Netherlands",
            "Norway",
            "Poland",
            "Portugal",
            "Spain",
            "Sweden",
            "Switzerland",
            "Turkey",
            "United Kingdom",
            "Iceland",
            "Italy"
           ],
           "marker": {
            "color": [
             3136,
             1295,
             56,
             602,
             235,
             182,
             5079,
             3015,
             732,
             161,
             141,
             681,
             552,
             982,
             10,
             414,
             1798,
             1294,
             166,
             3095,
             2,
             0
            ],
            "coloraxis": "coloraxis",
            "symbol": "circle"
           },
           "mode": "markers",
           "name": "",
           "showlegend": false,
           "type": "scattergeo"
          }
         ],
         "name": "2004-April"
        },
        {
         "data": [
          {
           "geo": "geo",
           "hovertemplate": "<b>%{hovertext}</b><br><br>Year-Month=2004-May<br>Country=%{location}<br>Refugees=%{marker.color}<extra></extra>",
           "hovertext": [
            "Austria",
            "Belgium",
            "Bulgaria",
            "Czech Rep.",
            "Denmark",
            "Finland",
            "France",
            "Germany",
            "Greece",
            "Hungary",
            "Luxembourg",
            "Netherlands",
            "Norway",
            "Poland",
            "Portugal",
            "Spain",
            "Sweden",
            "Switzerland",
            "Turkey",
            "United Kingdom",
            "Iceland",
            "Italy"
           ],
           "legendgroup": "",
           "locationmode": "country names",
           "locations": [
            "Austria",
            "Belgium",
            "Bulgaria",
            "Czech Rep.",
            "Denmark",
            "Finland",
            "France",
            "Germany",
            "Greece",
            "Hungary",
            "Luxembourg",
            "Netherlands",
            "Norway",
            "Poland",
            "Portugal",
            "Spain",
            "Sweden",
            "Switzerland",
            "Turkey",
            "United Kingdom",
            "Iceland",
            "Italy"
           ],
           "marker": {
            "color": [
             1292,
             1032,
             106,
             420,
             304,
             207,
             4203,
             2609,
             531,
             104,
             136,
             627,
             630,
             355,
             15,
             436,
             1521,
             1043,
             268,
             3007,
             12,
             0
            ],
            "coloraxis": "coloraxis",
            "symbol": "circle"
           },
           "mode": "markers",
           "name": "",
           "showlegend": false,
           "type": "scattergeo"
          }
         ],
         "name": "2004-May"
        },
        {
         "data": [
          {
           "geo": "geo",
           "hovertemplate": "<b>%{hovertext}</b><br><br>Year-Month=2004-June<br>Country=%{location}<br>Refugees=%{marker.color}<extra></extra>",
           "hovertext": [
            "Austria",
            "Belgium",
            "Bulgaria",
            "Czech Rep.",
            "Denmark",
            "Finland",
            "France",
            "Germany",
            "Greece",
            "Hungary",
            "Luxembourg",
            "Netherlands",
            "Norway",
            "Poland",
            "Portugal",
            "Spain",
            "Sweden",
            "Switzerland",
            "Turkey",
            "United Kingdom",
            "Iceland",
            "Italy"
           ],
           "legendgroup": "",
           "locationmode": "country names",
           "locations": [
            "Austria",
            "Belgium",
            "Bulgaria",
            "Czech Rep.",
            "Denmark",
            "Finland",
            "France",
            "Germany",
            "Greece",
            "Hungary",
            "Luxembourg",
            "Netherlands",
            "Norway",
            "Poland",
            "Portugal",
            "Spain",
            "Sweden",
            "Switzerland",
            "Turkey",
            "United Kingdom",
            "Iceland",
            "Italy"
           ],
           "marker": {
            "color": [
             2110,
             1155,
             88,
             317,
             287,
             260,
             4887,
             2895,
             484,
             113,
             127,
             772,
             623,
             433,
             5,
             377,
             1894,
             1118,
             296,
             3205,
             6,
             0
            ],
            "coloraxis": "coloraxis",
            "symbol": "circle"
           },
           "mode": "markers",
           "name": "",
           "showlegend": false,
           "type": "scattergeo"
          }
         ],
         "name": "2004-June"
        },
        {
         "data": [
          {
           "geo": "geo",
           "hovertemplate": "<b>%{hovertext}</b><br><br>Year-Month=2004-July<br>Country=%{location}<br>Refugees=%{marker.color}<extra></extra>",
           "hovertext": [
            "Austria",
            "Belgium",
            "Bulgaria",
            "Czech Rep.",
            "Denmark",
            "Finland",
            "France",
            "Germany",
            "Greece",
            "Hungary",
            "Luxembourg",
            "Netherlands",
            "Norway",
            "Poland",
            "Portugal",
            "Spain",
            "Sweden",
            "Switzerland",
            "Turkey",
            "United Kingdom",
            "Iceland",
            "Italy"
           ],
           "legendgroup": "",
           "locationmode": "country names",
           "locations": [
            "Austria",
            "Belgium",
            "Bulgaria",
            "Czech Rep.",
            "Denmark",
            "Finland",
            "France",
            "Germany",
            "Greece",
            "Hungary",
            "Luxembourg",
            "Netherlands",
            "Norway",
            "Poland",
            "Portugal",
            "Spain",
            "Sweden",
            "Switzerland",
            "Turkey",
            "United Kingdom",
            "Iceland",
            "Italy"
           ],
           "marker": {
            "color": [
             1852,
             1175,
             54,
             354,
             247,
             280,
             4831,
             2907,
             274,
             90,
             127,
             672,
             703,
             630,
             11,
             339,
             1843,
             1104,
             722,
             3466,
             8,
             0
            ],
            "coloraxis": "coloraxis",
            "symbol": "circle"
           },
           "mode": "markers",
           "name": "",
           "showlegend": false,
           "type": "scattergeo"
          }
         ],
         "name": "2004-July"
        },
        {
         "data": [
          {
           "geo": "geo",
           "hovertemplate": "<b>%{hovertext}</b><br><br>Year-Month=2004-August<br>Country=%{location}<br>Refugees=%{marker.color}<extra></extra>",
           "hovertext": [
            "Austria",
            "Belgium",
            "Bulgaria",
            "Czech Rep.",
            "Denmark",
            "Finland",
            "France",
            "Germany",
            "Greece",
            "Hungary",
            "Luxembourg",
            "Netherlands",
            "Norway",
            "Poland",
            "Portugal",
            "Spain",
            "Sweden",
            "Switzerland",
            "Turkey",
            "United Kingdom",
            "Iceland",
            "Italy"
           ],
           "legendgroup": "",
           "locationmode": "country names",
           "locations": [
            "Austria",
            "Belgium",
            "Bulgaria",
            "Czech Rep.",
            "Denmark",
            "Finland",
            "France",
            "Germany",
            "Greece",
            "Hungary",
            "Luxembourg",
            "Netherlands",
            "Norway",
            "Poland",
            "Portugal",
            "Spain",
            "Sweden",
            "Switzerland",
            "Turkey",
            "United Kingdom",
            "Iceland",
            "Italy"
           ],
           "marker": {
            "color": [
             2041,
             1220,
             74,
             301,
             300,
             364,
             4324,
             2943,
             192,
             199,
             112,
             787,
             741,
             573,
             7,
             298,
             2164,
             1018,
             498,
             3304,
             4,
             0
            ],
            "coloraxis": "coloraxis",
            "symbol": "circle"
           },
           "mode": "markers",
           "name": "",
           "showlegend": false,
           "type": "scattergeo"
          }
         ],
         "name": "2004-August"
        },
        {
         "data": [
          {
           "geo": "geo",
           "hovertemplate": "<b>%{hovertext}</b><br><br>Year-Month=2004-September<br>Country=%{location}<br>Refugees=%{marker.color}<extra></extra>",
           "hovertext": [
            "Austria",
            "Belgium",
            "Bulgaria",
            "Czech Rep.",
            "Denmark",
            "Finland",
            "France",
            "Germany",
            "Greece",
            "Hungary",
            "Luxembourg",
            "Netherlands",
            "Norway",
            "Poland",
            "Portugal",
            "Spain",
            "Sweden",
            "Switzerland",
            "Turkey",
            "United Kingdom",
            "Iceland",
            "Italy"
           ],
           "legendgroup": "",
           "locationmode": "country names",
           "locations": [
            "Austria",
            "Belgium",
            "Bulgaria",
            "Czech Rep.",
            "Denmark",
            "Finland",
            "France",
            "Germany",
            "Greece",
            "Hungary",
            "Luxembourg",
            "Netherlands",
            "Norway",
            "Poland",
            "Portugal",
            "Spain",
            "Sweden",
            "Switzerland",
            "Turkey",
            "United Kingdom",
            "Iceland",
            "Italy"
           ],
           "marker": {
            "color": [
             2351,
             1277,
             120,
             283,
             292,
             282,
             4817,
             2768,
             228,
             182,
             117,
             849,
             754,
             942,
             16,
             492,
             2203,
             941,
             520,
             3713,
             10,
             0
            ],
            "coloraxis": "coloraxis",
            "symbol": "circle"
           },
           "mode": "markers",
           "name": "",
           "showlegend": false,
           "type": "scattergeo"
          }
         ],
         "name": "2004-September"
        },
        {
         "data": [
          {
           "geo": "geo",
           "hovertemplate": "<b>%{hovertext}</b><br><br>Year-Month=2004-October<br>Country=%{location}<br>Refugees=%{marker.color}<extra></extra>",
           "hovertext": [
            "Austria",
            "Belgium",
            "Bulgaria",
            "Czech Rep.",
            "Denmark",
            "Finland",
            "France",
            "Germany",
            "Greece",
            "Hungary",
            "Luxembourg",
            "Netherlands",
            "Norway",
            "Poland",
            "Portugal",
            "Spain",
            "Sweden",
            "Switzerland",
            "Turkey",
            "United Kingdom",
            "Iceland",
            "Italy"
           ],
           "legendgroup": "",
           "locationmode": "country names",
           "locations": [
            "Austria",
            "Belgium",
            "Bulgaria",
            "Czech Rep.",
            "Denmark",
            "Finland",
            "France",
            "Germany",
            "Greece",
            "Hungary",
            "Luxembourg",
            "Netherlands",
            "Norway",
            "Poland",
            "Portugal",
            "Spain",
            "Sweden",
            "Switzerland",
            "Turkey",
            "United Kingdom",
            "Iceland",
            "Italy"
           ],
           "marker": {
            "color": [
             2170,
             1304,
             119,
             378,
             220,
             260,
             4766,
             2898,
             294,
             134,
             98,
             904,
             626,
             852,
             7,
             791,
             1833,
             915,
             216,
             3370,
             4,
             0
            ],
            "coloraxis": "coloraxis",
            "symbol": "circle"
           },
           "mode": "markers",
           "name": "",
           "showlegend": false,
           "type": "scattergeo"
          }
         ],
         "name": "2004-October"
        },
        {
         "data": [
          {
           "geo": "geo",
           "hovertemplate": "<b>%{hovertext}</b><br><br>Year-Month=2004-November<br>Country=%{location}<br>Refugees=%{marker.color}<extra></extra>",
           "hovertext": [
            "Austria",
            "Belgium",
            "Bulgaria",
            "Czech Rep.",
            "Denmark",
            "Finland",
            "France",
            "Germany",
            "Greece",
            "Hungary",
            "Luxembourg",
            "Netherlands",
            "Norway",
            "Poland",
            "Portugal",
            "Spain",
            "Sweden",
            "Switzerland",
            "Turkey",
            "United Kingdom",
            "Iceland",
            "Italy"
           ],
           "legendgroup": "",
           "locationmode": "country names",
           "locations": [
            "Austria",
            "Belgium",
            "Bulgaria",
            "Czech Rep.",
            "Denmark",
            "Finland",
            "France",
            "Germany",
            "Greece",
            "Hungary",
            "Luxembourg",
            "Netherlands",
            "Norway",
            "Poland",
            "Portugal",
            "Spain",
            "Sweden",
            "Switzerland",
            "Turkey",
            "United Kingdom",
            "Iceland",
            "Italy"
           ],
           "marker": {
            "color": [
             1891,
             1398,
             141,
             370,
             200,
             319,
             4341,
             2665,
             391,
             143,
             95,
             956,
             572,
             958,
             14,
             405,
             1773,
             829,
             281,
             3451,
             3,
             0
            ],
            "coloraxis": "coloraxis",
            "symbol": "circle"
           },
           "mode": "markers",
           "name": "",
           "showlegend": false,
           "type": "scattergeo"
          }
         ],
         "name": "2004-November"
        },
        {
         "data": [
          {
           "geo": "geo",
           "hovertemplate": "<b>%{hovertext}</b><br><br>Year-Month=2004-December<br>Country=%{location}<br>Refugees=%{marker.color}<extra></extra>",
           "hovertext": [
            "Austria",
            "Belgium",
            "Bulgaria",
            "Czech Rep.",
            "Denmark",
            "Finland",
            "France",
            "Germany",
            "Greece",
            "Hungary",
            "Luxembourg",
            "Netherlands",
            "Norway",
            "Poland",
            "Portugal",
            "Spain",
            "Sweden",
            "Switzerland",
            "Turkey",
            "United Kingdom",
            "Iceland",
            "Italy"
           ],
           "legendgroup": "",
           "locationmode": "country names",
           "locations": [
            "Austria",
            "Belgium",
            "Bulgaria",
            "Czech Rep.",
            "Denmark",
            "Finland",
            "France",
            "Germany",
            "Greece",
            "Hungary",
            "Luxembourg",
            "Netherlands",
            "Norway",
            "Poland",
            "Portugal",
            "Spain",
            "Sweden",
            "Switzerland",
            "Turkey",
            "United Kingdom",
            "Iceland",
            "Italy"
           ],
           "marker": {
            "color": [
             1911,
             1586,
             102,
             307,
             218,
             447,
             5525,
             2746,
             331,
             107,
             110,
             782,
             560,
             1035,
             6,
             337,
             1900,
             787,
             453,
             3281,
             9,
             0
            ],
            "coloraxis": "coloraxis",
            "symbol": "circle"
           },
           "mode": "markers",
           "name": "",
           "showlegend": false,
           "type": "scattergeo"
          }
         ],
         "name": "2004-December"
        },
        {
         "data": [
          {
           "geo": "geo",
           "hovertemplate": "<b>%{hovertext}</b><br><br>Year-Month=2005-January<br>Country=%{location}<br>Refugees=%{marker.color}<extra></extra>",
           "hovertext": [
            "Austria",
            "Belgium",
            "Bulgaria",
            "Czech Rep.",
            "Denmark",
            "Finland",
            "France",
            "Germany",
            "Greece",
            "Hungary",
            "Luxembourg",
            "Netherlands",
            "Norway",
            "Poland",
            "Portugal",
            "Spain",
            "Sweden",
            "Switzerland",
            "Turkey",
            "United Kingdom",
            "Iceland",
            "Italy"
           ],
           "legendgroup": "",
           "locationmode": "country names",
           "locations": [
            "Austria",
            "Belgium",
            "Bulgaria",
            "Czech Rep.",
            "Denmark",
            "Finland",
            "France",
            "Germany",
            "Greece",
            "Hungary",
            "Luxembourg",
            "Netherlands",
            "Norway",
            "Poland",
            "Portugal",
            "Spain",
            "Sweden",
            "Switzerland",
            "Turkey",
            "United Kingdom",
            "Iceland",
            "Italy"
           ],
           "marker": {
            "color": [
             1355,
             1285,
             81,
             346,
             192,
             321,
             4734,
             2338,
             443,
             96,
             56,
             886,
             472,
             512,
             9,
             317,
             1426,
             741,
             249,
             3160,
             4,
             0
            ],
            "coloraxis": "coloraxis",
            "symbol": "circle"
           },
           "mode": "markers",
           "name": "",
           "showlegend": false,
           "type": "scattergeo"
          }
         ],
         "name": "2005-January"
        },
        {
         "data": [
          {
           "geo": "geo",
           "hovertemplate": "<b>%{hovertext}</b><br><br>Year-Month=2005-February<br>Country=%{location}<br>Refugees=%{marker.color}<extra></extra>",
           "hovertext": [
            "Austria",
            "Belgium",
            "Bulgaria",
            "Czech Rep.",
            "Denmark",
            "Finland",
            "France",
            "Germany",
            "Greece",
            "Hungary",
            "Luxembourg",
            "Netherlands",
            "Norway",
            "Poland",
            "Portugal",
            "Spain",
            "Sweden",
            "Switzerland",
            "Turkey",
            "United Kingdom",
            "Iceland",
            "Italy"
           ],
           "legendgroup": "",
           "locationmode": "country names",
           "locations": [
            "Austria",
            "Belgium",
            "Bulgaria",
            "Czech Rep.",
            "Denmark",
            "Finland",
            "France",
            "Germany",
            "Greece",
            "Hungary",
            "Luxembourg",
            "Netherlands",
            "Norway",
            "Poland",
            "Portugal",
            "Spain",
            "Sweden",
            "Switzerland",
            "Turkey",
            "United Kingdom",
            "Iceland",
            "Italy"
           ],
           "marker": {
            "color": [
             1238,
             1286,
             40,
             297,
             265,
             284,
             4405,
             2101,
             827,
             109,
             84,
             933,
             380,
             342,
             13,
             457,
             1406,
             620,
             186,
             2598,
             5,
             0
            ],
            "coloraxis": "coloraxis",
            "symbol": "circle"
           },
           "mode": "markers",
           "name": "",
           "showlegend": false,
           "type": "scattergeo"
          }
         ],
         "name": "2005-February"
        },
        {
         "data": [
          {
           "geo": "geo",
           "hovertemplate": "<b>%{hovertext}</b><br><br>Year-Month=2005-March<br>Country=%{location}<br>Refugees=%{marker.color}<extra></extra>",
           "hovertext": [
            "Austria",
            "Belgium",
            "Bulgaria",
            "Czech Rep.",
            "Denmark",
            "Finland",
            "France",
            "Germany",
            "Greece",
            "Hungary",
            "Luxembourg",
            "Netherlands",
            "Norway",
            "Poland",
            "Portugal",
            "Spain",
            "Sweden",
            "Switzerland",
            "Turkey",
            "United Kingdom",
            "Iceland",
            "Italy"
           ],
           "legendgroup": "",
           "locationmode": "country names",
           "locations": [
            "Austria",
            "Belgium",
            "Bulgaria",
            "Czech Rep.",
            "Denmark",
            "Finland",
            "France",
            "Germany",
            "Greece",
            "Hungary",
            "Luxembourg",
            "Netherlands",
            "Norway",
            "Poland",
            "Portugal",
            "Spain",
            "Sweden",
            "Switzerland",
            "Turkey",
            "United Kingdom",
            "Iceland",
            "Italy"
           ],
           "marker": {
            "color": [
             1610,
             1466,
             89,
             307,
             253,
             306,
             4776,
             2223,
             1546,
             198,
             94,
             877,
             347,
             350,
             8,
             637,
             1335,
             746,
             266,
             2500,
             3,
             0
            ],
            "coloraxis": "coloraxis",
            "symbol": "circle"
           },
           "mode": "markers",
           "name": "",
           "showlegend": false,
           "type": "scattergeo"
          }
         ],
         "name": "2005-March"
        },
        {
         "data": [
          {
           "geo": "geo",
           "hovertemplate": "<b>%{hovertext}</b><br><br>Year-Month=2005-April<br>Country=%{location}<br>Refugees=%{marker.color}<extra></extra>",
           "hovertext": [
            "Austria",
            "Belgium",
            "Bulgaria",
            "Czech Rep.",
            "Denmark",
            "Finland",
            "France",
            "Germany",
            "Greece",
            "Hungary",
            "Luxembourg",
            "Netherlands",
            "Norway",
            "Poland",
            "Portugal",
            "Spain",
            "Sweden",
            "Switzerland",
            "Turkey",
            "United Kingdom",
            "Iceland",
            "Italy"
           ],
           "legendgroup": "",
           "locationmode": "country names",
           "locations": [
            "Austria",
            "Belgium",
            "Bulgaria",
            "Czech Rep.",
            "Denmark",
            "Finland",
            "France",
            "Germany",
            "Greece",
            "Hungary",
            "Luxembourg",
            "Netherlands",
            "Norway",
            "Poland",
            "Portugal",
            "Spain",
            "Sweden",
            "Switzerland",
            "Turkey",
            "United Kingdom",
            "Iceland",
            "Italy"
           ],
           "marker": {
            "color": [
             1696,
             1255,
             47,
             280,
             216,
             327,
             4641,
             2266,
             671,
             91,
             75,
             903,
             397,
             383,
             7,
             383,
             1247,
             757,
             247,
             2507,
             6,
             0
            ],
            "coloraxis": "coloraxis",
            "symbol": "circle"
           },
           "mode": "markers",
           "name": "",
           "showlegend": false,
           "type": "scattergeo"
          }
         ],
         "name": "2005-April"
        },
        {
         "data": [
          {
           "geo": "geo",
           "hovertemplate": "<b>%{hovertext}</b><br><br>Year-Month=2005-May<br>Country=%{location}<br>Refugees=%{marker.color}<extra></extra>",
           "hovertext": [
            "Austria",
            "Belgium",
            "Bulgaria",
            "Czech Rep.",
            "Denmark",
            "Finland",
            "France",
            "Germany",
            "Greece",
            "Hungary",
            "Luxembourg",
            "Netherlands",
            "Norway",
            "Poland",
            "Portugal",
            "Spain",
            "Sweden",
            "Switzerland",
            "Turkey",
            "United Kingdom",
            "Iceland",
            "Italy"
           ],
           "legendgroup": "",
           "locationmode": "country names",
           "locations": [
            "Austria",
            "Belgium",
            "Bulgaria",
            "Czech Rep.",
            "Denmark",
            "Finland",
            "France",
            "Germany",
            "Greece",
            "Hungary",
            "Luxembourg",
            "Netherlands",
            "Norway",
            "Poland",
            "Portugal",
            "Spain",
            "Sweden",
            "Switzerland",
            "Turkey",
            "United Kingdom",
            "Iceland",
            "Italy"
           ],
           "marker": {
            "color": [
             1606,
             1206,
             79,
             261,
             213,
             286,
             4270,
             2107,
             638,
             110,
             67,
             747,
             383,
             372,
             5,
             403,
             1269,
             767,
             341,
             2299,
             9,
             0
            ],
            "coloraxis": "coloraxis",
            "symbol": "circle"
           },
           "mode": "markers",
           "name": "",
           "showlegend": false,
           "type": "scattergeo"
          }
         ],
         "name": "2005-May"
        },
        {
         "data": [
          {
           "geo": "geo",
           "hovertemplate": "<b>%{hovertext}</b><br><br>Year-Month=2005-June<br>Country=%{location}<br>Refugees=%{marker.color}<extra></extra>",
           "hovertext": [
            "Austria",
            "Belgium",
            "Bulgaria",
            "Czech Rep.",
            "Denmark",
            "Finland",
            "France",
            "Germany",
            "Greece",
            "Hungary",
            "Luxembourg",
            "Netherlands",
            "Norway",
            "Poland",
            "Portugal",
            "Spain",
            "Sweden",
            "Switzerland",
            "Turkey",
            "United Kingdom",
            "Iceland",
            "Italy"
           ],
           "legendgroup": "",
           "locationmode": "country names",
           "locations": [
            "Austria",
            "Belgium",
            "Bulgaria",
            "Czech Rep.",
            "Denmark",
            "Finland",
            "France",
            "Germany",
            "Greece",
            "Hungary",
            "Luxembourg",
            "Netherlands",
            "Norway",
            "Poland",
            "Portugal",
            "Spain",
            "Sweden",
            "Switzerland",
            "Turkey",
            "United Kingdom",
            "Iceland",
            "Italy"
           ],
           "marker": {
            "color": [
             1670,
             1234,
             70,
             312,
             192,
             264,
             4701,
             2287,
             1420,
             161,
             70,
             938,
             405,
             362,
             4,
             394,
             1297,
             766,
             313,
             2386,
             4,
             0
            ],
            "coloraxis": "coloraxis",
            "symbol": "circle"
           },
           "mode": "markers",
           "name": "",
           "showlegend": false,
           "type": "scattergeo"
          }
         ],
         "name": "2005-June"
        },
        {
         "data": [
          {
           "geo": "geo",
           "hovertemplate": "<b>%{hovertext}</b><br><br>Year-Month=2005-July<br>Country=%{location}<br>Refugees=%{marker.color}<extra></extra>",
           "hovertext": [
            "Austria",
            "Belgium",
            "Bulgaria",
            "Czech Rep.",
            "Denmark",
            "Finland",
            "France",
            "Germany",
            "Greece",
            "Hungary",
            "Luxembourg",
            "Netherlands",
            "Norway",
            "Poland",
            "Portugal",
            "Spain",
            "Sweden",
            "Switzerland",
            "Turkey",
            "United Kingdom",
            "Iceland",
            "Italy"
           ],
           "legendgroup": "",
           "locationmode": "country names",
           "locations": [
            "Austria",
            "Belgium",
            "Bulgaria",
            "Czech Rep.",
            "Denmark",
            "Finland",
            "France",
            "Germany",
            "Greece",
            "Hungary",
            "Luxembourg",
            "Netherlands",
            "Norway",
            "Poland",
            "Portugal",
            "Spain",
            "Sweden",
            "Switzerland",
            "Turkey",
            "United Kingdom",
            "Iceland",
            "Italy"
           ],
           "marker": {
            "color": [
             1774,
             1311,
             82,
             330,
             154,
             367,
             3924,
             2150,
             676,
             165,
             75,
             837,
             426,
             342,
             10,
             321,
             1243,
             714,
             346,
             2359,
             22,
             0
            ],
            "coloraxis": "coloraxis",
            "symbol": "circle"
           },
           "mode": "markers",
           "name": "",
           "showlegend": false,
           "type": "scattergeo"
          }
         ],
         "name": "2005-July"
        },
        {
         "data": [
          {
           "geo": "geo",
           "hovertemplate": "<b>%{hovertext}</b><br><br>Year-Month=2005-August<br>Country=%{location}<br>Refugees=%{marker.color}<extra></extra>",
           "hovertext": [
            "Austria",
            "Belgium",
            "Bulgaria",
            "Czech Rep.",
            "Denmark",
            "Finland",
            "France",
            "Germany",
            "Greece",
            "Hungary",
            "Luxembourg",
            "Netherlands",
            "Norway",
            "Poland",
            "Portugal",
            "Spain",
            "Sweden",
            "Switzerland",
            "Turkey",
            "United Kingdom",
            "Iceland",
            "Italy"
           ],
           "legendgroup": "",
           "locationmode": "country names",
           "locations": [
            "Austria",
            "Belgium",
            "Bulgaria",
            "Czech Rep.",
            "Denmark",
            "Finland",
            "France",
            "Germany",
            "Greece",
            "Hungary",
            "Luxembourg",
            "Netherlands",
            "Norway",
            "Poland",
            "Portugal",
            "Spain",
            "Sweden",
            "Switzerland",
            "Turkey",
            "United Kingdom",
            "Iceland",
            "Italy"
           ],
           "marker": {
            "color": [
             2231,
             1370,
             69,
             489,
             162,
             309,
             3502,
             2423,
             496,
             135,
             59,
             984,
             510,
             474,
             11,
             254,
             1546,
             832,
             284,
             2709,
             10,
             0
            ],
            "coloraxis": "coloraxis",
            "symbol": "circle"
           },
           "mode": "markers",
           "name": "",
           "showlegend": false,
           "type": "scattergeo"
          }
         ],
         "name": "2005-August"
        },
        {
         "data": [
          {
           "geo": "geo",
           "hovertemplate": "<b>%{hovertext}</b><br><br>Year-Month=2005-September<br>Country=%{location}<br>Refugees=%{marker.color}<extra></extra>",
           "hovertext": [
            "Austria",
            "Belgium",
            "Bulgaria",
            "Czech Rep.",
            "Denmark",
            "Finland",
            "France",
            "Germany",
            "Greece",
            "Hungary",
            "Luxembourg",
            "Netherlands",
            "Norway",
            "Poland",
            "Portugal",
            "Spain",
            "Sweden",
            "Switzerland",
            "Turkey",
            "United Kingdom",
            "Iceland",
            "Italy"
           ],
           "legendgroup": "",
           "locationmode": "country names",
           "locations": [
            "Austria",
            "Belgium",
            "Bulgaria",
            "Czech Rep.",
            "Denmark",
            "Finland",
            "France",
            "Germany",
            "Greece",
            "Hungary",
            "Luxembourg",
            "Netherlands",
            "Norway",
            "Poland",
            "Portugal",
            "Spain",
            "Sweden",
            "Switzerland",
            "Turkey",
            "United Kingdom",
            "Iceland",
            "Italy"
           ],
           "marker": {
            "color": [
             2260,
             1423,
             76,
             432,
             185,
             369,
             3788,
             2507,
             464,
             167,
             74,
             1164,
             563,
             660,
             9,
             373,
             1650,
             977,
             495,
             2636,
             7,
             0
            ],
            "coloraxis": "coloraxis",
            "symbol": "circle"
           },
           "mode": "markers",
           "name": "",
           "showlegend": false,
           "type": "scattergeo"
          }
         ],
         "name": "2005-September"
        },
        {
         "data": [
          {
           "geo": "geo",
           "hovertemplate": "<b>%{hovertext}</b><br><br>Year-Month=2005-October<br>Country=%{location}<br>Refugees=%{marker.color}<extra></extra>",
           "hovertext": [
            "Austria",
            "Belgium",
            "Bulgaria",
            "Czech Rep.",
            "Denmark",
            "Finland",
            "France",
            "Germany",
            "Greece",
            "Hungary",
            "Luxembourg",
            "Netherlands",
            "Norway",
            "Poland",
            "Portugal",
            "Spain",
            "Sweden",
            "Switzerland",
            "Turkey",
            "United Kingdom",
            "Iceland",
            "Italy"
           ],
           "legendgroup": "",
           "locationmode": "country names",
           "locations": [
            "Austria",
            "Belgium",
            "Bulgaria",
            "Czech Rep.",
            "Denmark",
            "Finland",
            "France",
            "Germany",
            "Greece",
            "Hungary",
            "Luxembourg",
            "Netherlands",
            "Norway",
            "Poland",
            "Portugal",
            "Spain",
            "Sweden",
            "Switzerland",
            "Turkey",
            "United Kingdom",
            "Iceland",
            "Italy"
           ],
           "marker": {
            "color": [
             2262,
             1368,
             55,
             348,
             145,
             281,
             3941,
             2247,
             452,
             136,
             57,
             1436,
             541,
             523,
             15,
             619,
             1508,
             838,
             364,
             2474,
             5,
             0
            ],
            "coloraxis": "coloraxis",
            "symbol": "circle"
           },
           "mode": "markers",
           "name": "",
           "showlegend": false,
           "type": "scattergeo"
          }
         ],
         "name": "2005-October"
        },
        {
         "data": [
          {
           "geo": "geo",
           "hovertemplate": "<b>%{hovertext}</b><br><br>Year-Month=2005-November<br>Country=%{location}<br>Refugees=%{marker.color}<extra></extra>",
           "hovertext": [
            "Austria",
            "Belgium",
            "Bulgaria",
            "Czech Rep.",
            "Denmark",
            "Finland",
            "France",
            "Germany",
            "Greece",
            "Hungary",
            "Luxembourg",
            "Netherlands",
            "Norway",
            "Poland",
            "Portugal",
            "Spain",
            "Sweden",
            "Switzerland",
            "Turkey",
            "United Kingdom",
            "Iceland",
            "Italy"
           ],
           "legendgroup": "",
           "locationmode": "country names",
           "locations": [
            "Austria",
            "Belgium",
            "Bulgaria",
            "Czech Rep.",
            "Denmark",
            "Finland",
            "France",
            "Germany",
            "Greece",
            "Hungary",
            "Luxembourg",
            "Netherlands",
            "Norway",
            "Poland",
            "Portugal",
            "Spain",
            "Sweden",
            "Switzerland",
            "Turkey",
            "United Kingdom",
            "Iceland",
            "Italy"
           ],
           "marker": {
            "color": [
             2437,
             1358,
             42,
             348,
             150,
             207,
             3197,
             2464,
             714,
             135,
             39,
             1459,
             497,
             431,
             17,
             543,
             1733,
             845,
             327,
             2499,
             5,
             0
            ],
            "coloraxis": "coloraxis",
            "symbol": "circle"
           },
           "mode": "markers",
           "name": "",
           "showlegend": false,
           "type": "scattergeo"
          }
         ],
         "name": "2005-November"
        },
        {
         "data": [
          {
           "geo": "geo",
           "hovertemplate": "<b>%{hovertext}</b><br><br>Year-Month=2005-December<br>Country=%{location}<br>Refugees=%{marker.color}<extra></extra>",
           "hovertext": [
            "Austria",
            "Belgium",
            "Bulgaria",
            "Czech Rep.",
            "Denmark",
            "Finland",
            "France",
            "Germany",
            "Greece",
            "Hungary",
            "Luxembourg",
            "Netherlands",
            "Norway",
            "Poland",
            "Portugal",
            "Spain",
            "Sweden",
            "Switzerland",
            "Turkey",
            "United Kingdom",
            "Iceland",
            "Italy"
           ],
           "legendgroup": "",
           "locationmode": "country names",
           "locations": [
            "Austria",
            "Belgium",
            "Bulgaria",
            "Czech Rep.",
            "Denmark",
            "Finland",
            "France",
            "Germany",
            "Greece",
            "Hungary",
            "Luxembourg",
            "Netherlands",
            "Norway",
            "Poland",
            "Portugal",
            "Spain",
            "Sweden",
            "Switzerland",
            "Turkey",
            "United Kingdom",
            "Iceland",
            "Italy"
           ],
           "marker": {
            "color": [
             2332,
             1395,
             92,
             271,
             133,
             242,
             2992,
             2097,
             703,
             106,
             49,
             1183,
             481,
             685,
             5,
             561,
             1869,
             749,
             479,
             2332,
             9,
             0
            ],
            "coloraxis": "coloraxis",
            "symbol": "circle"
           },
           "mode": "markers",
           "name": "",
           "showlegend": false,
           "type": "scattergeo"
          }
         ],
         "name": "2005-December"
        },
        {
         "data": [
          {
           "geo": "geo",
           "hovertemplate": "<b>%{hovertext}</b><br><br>Year-Month=2006-January<br>Country=%{location}<br>Refugees=%{marker.color}<extra></extra>",
           "hovertext": [
            "Austria",
            "Belgium",
            "Bulgaria",
            "Czech Rep.",
            "Denmark",
            "Finland",
            "France",
            "Germany",
            "Greece",
            "Hungary",
            "Luxembourg",
            "Netherlands",
            "Norway",
            "Poland",
            "Portugal",
            "Spain",
            "Sweden",
            "Switzerland",
            "Turkey",
            "United Kingdom",
            "Iceland",
            "Italy"
           ],
           "legendgroup": "",
           "locationmode": "country names",
           "locations": [
            "Austria",
            "Belgium",
            "Bulgaria",
            "Czech Rep.",
            "Denmark",
            "Finland",
            "France",
            "Germany",
            "Greece",
            "Hungary",
            "Luxembourg",
            "Netherlands",
            "Norway",
            "Poland",
            "Portugal",
            "Spain",
            "Sweden",
            "Switzerland",
            "Turkey",
            "United Kingdom",
            "Iceland",
            "Italy"
           ],
           "marker": {
            "color": [
             1295,
             1038,
             38,
             262,
             224,
             226,
             3178,
             1969,
             713,
             165,
             42,
             1553,
             545,
             266,
             21,
             320,
             1556,
             874,
             246,
             2807,
             6,
             0
            ],
            "coloraxis": "coloraxis",
            "symbol": "circle"
           },
           "mode": "markers",
           "name": "",
           "showlegend": false,
           "type": "scattergeo"
          }
         ],
         "name": "2006-January"
        },
        {
         "data": [
          {
           "geo": "geo",
           "hovertemplate": "<b>%{hovertext}</b><br><br>Year-Month=2006-February<br>Country=%{location}<br>Refugees=%{marker.color}<extra></extra>",
           "hovertext": [
            "Austria",
            "Belgium",
            "Bulgaria",
            "Czech Rep.",
            "Denmark",
            "Finland",
            "France",
            "Germany",
            "Greece",
            "Hungary",
            "Luxembourg",
            "Netherlands",
            "Norway",
            "Poland",
            "Portugal",
            "Spain",
            "Sweden",
            "Switzerland",
            "Turkey",
            "United Kingdom",
            "Iceland",
            "Italy"
           ],
           "legendgroup": "",
           "locationmode": "country names",
           "locations": [
            "Austria",
            "Belgium",
            "Bulgaria",
            "Czech Rep.",
            "Denmark",
            "Finland",
            "France",
            "Germany",
            "Greece",
            "Hungary",
            "Luxembourg",
            "Netherlands",
            "Norway",
            "Poland",
            "Portugal",
            "Spain",
            "Sweden",
            "Switzerland",
            "Turkey",
            "United Kingdom",
            "Iceland",
            "Italy"
           ],
           "marker": {
            "color": [
             971,
             934,
             36,
             235,
             159,
             168,
             3116,
             1779,
             492,
             113,
             32,
             1798,
             339,
             257,
             8,
             343,
             1579,
             663,
             247,
             2277,
             1,
             0
            ],
            "coloraxis": "coloraxis",
            "symbol": "circle"
           },
           "mode": "markers",
           "name": "",
           "showlegend": false,
           "type": "scattergeo"
          }
         ],
         "name": "2006-February"
        },
        {
         "data": [
          {
           "geo": "geo",
           "hovertemplate": "<b>%{hovertext}</b><br><br>Year-Month=2006-March<br>Country=%{location}<br>Refugees=%{marker.color}<extra></extra>",
           "hovertext": [
            "Austria",
            "Belgium",
            "Bulgaria",
            "Czech Rep.",
            "Denmark",
            "Finland",
            "France",
            "Germany",
            "Greece",
            "Hungary",
            "Luxembourg",
            "Netherlands",
            "Norway",
            "Poland",
            "Portugal",
            "Spain",
            "Sweden",
            "Switzerland",
            "Turkey",
            "United Kingdom",
            "Iceland",
            "Italy"
           ],
           "legendgroup": "",
           "locationmode": "country names",
           "locations": [
            "Austria",
            "Belgium",
            "Bulgaria",
            "Czech Rep.",
            "Denmark",
            "Finland",
            "France",
            "Germany",
            "Greece",
            "Hungary",
            "Luxembourg",
            "Netherlands",
            "Norway",
            "Poland",
            "Portugal",
            "Spain",
            "Sweden",
            "Switzerland",
            "Turkey",
            "United Kingdom",
            "Iceland",
            "Italy"
           ],
           "marker": {
            "color": [
             1133,
             988,
             97,
             263,
             183,
             174,
             3006,
             2140,
             331,
             156,
             24,
             1820,
             426,
             278,
             12,
             490,
             1878,
             719,
             303,
             2448,
             0,
             0
            ],
            "coloraxis": "coloraxis",
            "symbol": "circle"
           },
           "mode": "markers",
           "name": "",
           "showlegend": false,
           "type": "scattergeo"
          }
         ],
         "name": "2006-March"
        },
        {
         "data": [
          {
           "geo": "geo",
           "hovertemplate": "<b>%{hovertext}</b><br><br>Year-Month=2006-April<br>Country=%{location}<br>Refugees=%{marker.color}<extra></extra>",
           "hovertext": [
            "Austria",
            "Belgium",
            "Bulgaria",
            "Czech Rep.",
            "Denmark",
            "Finland",
            "France",
            "Germany",
            "Greece",
            "Hungary",
            "Luxembourg",
            "Netherlands",
            "Norway",
            "Poland",
            "Portugal",
            "Spain",
            "Sweden",
            "Switzerland",
            "Turkey",
            "United Kingdom",
            "Iceland",
            "Italy"
           ],
           "legendgroup": "",
           "locationmode": "country names",
           "locations": [
            "Austria",
            "Belgium",
            "Bulgaria",
            "Czech Rep.",
            "Denmark",
            "Finland",
            "France",
            "Germany",
            "Greece",
            "Hungary",
            "Luxembourg",
            "Netherlands",
            "Norway",
            "Poland",
            "Portugal",
            "Spain",
            "Sweden",
            "Switzerland",
            "Turkey",
            "United Kingdom",
            "Iceland",
            "Italy"
           ],
           "marker": {
            "color": [
             945,
             870,
             81,
             218,
             139,
             186,
             2559,
             1500,
             621,
             193,
             32,
             1331,
             333,
             280,
             5,
             406,
             963,
             584,
             334,
             2051,
             2,
             0
            ],
            "coloraxis": "coloraxis",
            "symbol": "circle"
           },
           "mode": "markers",
           "name": "",
           "showlegend": false,
           "type": "scattergeo"
          }
         ],
         "name": "2006-April"
        },
        {
         "data": [
          {
           "geo": "geo",
           "hovertemplate": "<b>%{hovertext}</b><br><br>Year-Month=2006-May<br>Country=%{location}<br>Refugees=%{marker.color}<extra></extra>",
           "hovertext": [
            "Austria",
            "Belgium",
            "Bulgaria",
            "Czech Rep.",
            "Denmark",
            "Finland",
            "France",
            "Germany",
            "Greece",
            "Hungary",
            "Luxembourg",
            "Netherlands",
            "Norway",
            "Poland",
            "Portugal",
            "Spain",
            "Sweden",
            "Switzerland",
            "Turkey",
            "United Kingdom",
            "Iceland",
            "Italy"
           ],
           "legendgroup": "",
           "locationmode": "country names",
           "locations": [
            "Austria",
            "Belgium",
            "Bulgaria",
            "Czech Rep.",
            "Denmark",
            "Finland",
            "France",
            "Germany",
            "Greece",
            "Hungary",
            "Luxembourg",
            "Netherlands",
            "Norway",
            "Poland",
            "Portugal",
            "Spain",
            "Sweden",
            "Switzerland",
            "Turkey",
            "United Kingdom",
            "Iceland",
            "Italy"
           ],
           "marker": {
            "color": [
             1019,
             854,
             61,
             246,
             121,
             179,
             2253,
             1694,
             551,
             181,
             33,
             1268,
             384,
             235,
             6,
             512,
             1483,
             857,
             364,
             2210,
             5,
             0
            ],
            "coloraxis": "coloraxis",
            "symbol": "circle"
           },
           "mode": "markers",
           "name": "",
           "showlegend": false,
           "type": "scattergeo"
          }
         ],
         "name": "2006-May"
        },
        {
         "data": [
          {
           "geo": "geo",
           "hovertemplate": "<b>%{hovertext}</b><br><br>Year-Month=2006-June<br>Country=%{location}<br>Refugees=%{marker.color}<extra></extra>",
           "hovertext": [
            "Austria",
            "Belgium",
            "Bulgaria",
            "Czech Rep.",
            "Denmark",
            "Finland",
            "France",
            "Germany",
            "Greece",
            "Hungary",
            "Luxembourg",
            "Netherlands",
            "Norway",
            "Poland",
            "Portugal",
            "Spain",
            "Sweden",
            "Switzerland",
            "Turkey",
            "United Kingdom",
            "Iceland",
            "Italy"
           ],
           "legendgroup": "",
           "locationmode": "country names",
           "locations": [
            "Austria",
            "Belgium",
            "Bulgaria",
            "Czech Rep.",
            "Denmark",
            "Finland",
            "France",
            "Germany",
            "Greece",
            "Hungary",
            "Luxembourg",
            "Netherlands",
            "Norway",
            "Poland",
            "Portugal",
            "Spain",
            "Sweden",
            "Switzerland",
            "Turkey",
            "United Kingdom",
            "Iceland",
            "Italy"
           ],
           "marker": {
            "color": [
             973,
             834,
             9,
             286,
             128,
             172,
             2335,
             1504,
             723,
             191,
             38,
             1240,
             358,
             356,
             4,
             433,
             1400,
             679,
             354,
             2118,
             2,
             0
            ],
            "coloraxis": "coloraxis",
            "symbol": "circle"
           },
           "mode": "markers",
           "name": "",
           "showlegend": false,
           "type": "scattergeo"
          }
         ],
         "name": "2006-June"
        },
        {
         "data": [
          {
           "geo": "geo",
           "hovertemplate": "<b>%{hovertext}</b><br><br>Year-Month=2006-July<br>Country=%{location}<br>Refugees=%{marker.color}<extra></extra>",
           "hovertext": [
            "Austria",
            "Belgium",
            "Bulgaria",
            "Czech Rep.",
            "Denmark",
            "Finland",
            "France",
            "Germany",
            "Greece",
            "Hungary",
            "Luxembourg",
            "Netherlands",
            "Norway",
            "Poland",
            "Portugal",
            "Spain",
            "Sweden",
            "Switzerland",
            "Turkey",
            "United Kingdom",
            "Iceland",
            "Italy"
           ],
           "legendgroup": "",
           "locationmode": "country names",
           "locations": [
            "Austria",
            "Belgium",
            "Bulgaria",
            "Czech Rep.",
            "Denmark",
            "Finland",
            "France",
            "Germany",
            "Greece",
            "Hungary",
            "Luxembourg",
            "Netherlands",
            "Norway",
            "Poland",
            "Portugal",
            "Spain",
            "Sweden",
            "Switzerland",
            "Turkey",
            "United Kingdom",
            "Iceland",
            "Italy"
           ],
           "marker": {
            "color": [
             1069,
             872,
             16,
             292,
             103,
             194,
             2186,
             1390,
             579,
             221,
             58,
             972,
             457,
             327,
             19,
             403,
             1765,
             675,
             441,
             2215,
             2,
             0
            ],
            "coloraxis": "coloraxis",
            "symbol": "circle"
           },
           "mode": "markers",
           "name": "",
           "showlegend": false,
           "type": "scattergeo"
          }
         ],
         "name": "2006-July"
        },
        {
         "data": [
          {
           "geo": "geo",
           "hovertemplate": "<b>%{hovertext}</b><br><br>Year-Month=2006-August<br>Country=%{location}<br>Refugees=%{marker.color}<extra></extra>",
           "hovertext": [
            "Austria",
            "Belgium",
            "Bulgaria",
            "Czech Rep.",
            "Denmark",
            "Finland",
            "France",
            "Germany",
            "Greece",
            "Hungary",
            "Luxembourg",
            "Netherlands",
            "Norway",
            "Poland",
            "Portugal",
            "Spain",
            "Sweden",
            "Switzerland",
            "Turkey",
            "United Kingdom",
            "Iceland",
            "Italy"
           ],
           "legendgroup": "",
           "locationmode": "country names",
           "locations": [
            "Austria",
            "Belgium",
            "Bulgaria",
            "Czech Rep.",
            "Denmark",
            "Finland",
            "France",
            "Germany",
            "Greece",
            "Hungary",
            "Luxembourg",
            "Netherlands",
            "Norway",
            "Poland",
            "Portugal",
            "Spain",
            "Sweden",
            "Switzerland",
            "Turkey",
            "United Kingdom",
            "Iceland",
            "Italy"
           ],
           "marker": {
            "color": [
             1103,
             954,
             33,
             426,
             166,
             225,
             2024,
             1899,
             410,
             205,
             56,
             958,
             587,
             458,
             15,
             363,
             2338,
             778,
             517,
             2428,
             1,
             0
            ],
            "coloraxis": "coloraxis",
            "symbol": "circle"
           },
           "mode": "markers",
           "name": "",
           "showlegend": false,
           "type": "scattergeo"
          }
         ],
         "name": "2006-August"
        },
        {
         "data": [
          {
           "geo": "geo",
           "hovertemplate": "<b>%{hovertext}</b><br><br>Year-Month=2006-September<br>Country=%{location}<br>Refugees=%{marker.color}<extra></extra>",
           "hovertext": [
            "Austria",
            "Belgium",
            "Bulgaria",
            "Czech Rep.",
            "Denmark",
            "Finland",
            "France",
            "Germany",
            "Greece",
            "Hungary",
            "Luxembourg",
            "Netherlands",
            "Norway",
            "Poland",
            "Portugal",
            "Spain",
            "Sweden",
            "Switzerland",
            "Turkey",
            "United Kingdom",
            "Iceland",
            "Italy"
           ],
           "legendgroup": "",
           "locationmode": "country names",
           "locations": [
            "Austria",
            "Belgium",
            "Bulgaria",
            "Czech Rep.",
            "Denmark",
            "Finland",
            "France",
            "Germany",
            "Greece",
            "Hungary",
            "Luxembourg",
            "Netherlands",
            "Norway",
            "Poland",
            "Portugal",
            "Spain",
            "Sweden",
            "Switzerland",
            "Turkey",
            "United Kingdom",
            "Iceland",
            "Italy"
           ],
           "marker": {
            "color": [
             1183,
             870,
             36,
             193,
             185,
             233,
             2462,
             1631,
             993,
             186,
             57,
             1032,
             472,
             569,
             10,
             428,
             2517,
             872,
             469,
             2460,
             5,
             0
            ],
            "coloraxis": "coloraxis",
            "symbol": "circle"
           },
           "mode": "markers",
           "name": "",
           "showlegend": false,
           "type": "scattergeo"
          }
         ],
         "name": "2006-September"
        },
        {
         "data": [
          {
           "geo": "geo",
           "hovertemplate": "<b>%{hovertext}</b><br><br>Year-Month=2006-October<br>Country=%{location}<br>Refugees=%{marker.color}<extra></extra>",
           "hovertext": [
            "Austria",
            "Belgium",
            "Bulgaria",
            "Czech Rep.",
            "Denmark",
            "Finland",
            "France",
            "Germany",
            "Greece",
            "Hungary",
            "Luxembourg",
            "Netherlands",
            "Norway",
            "Poland",
            "Portugal",
            "Spain",
            "Sweden",
            "Switzerland",
            "Turkey",
            "United Kingdom",
            "Iceland",
            "Italy"
           ],
           "legendgroup": "",
           "locationmode": "country names",
           "locations": [
            "Austria",
            "Belgium",
            "Bulgaria",
            "Czech Rep.",
            "Denmark",
            "Finland",
            "France",
            "Germany",
            "Greece",
            "Hungary",
            "Luxembourg",
            "Netherlands",
            "Norway",
            "Poland",
            "Portugal",
            "Spain",
            "Sweden",
            "Switzerland",
            "Turkey",
            "United Kingdom",
            "Iceland",
            "Italy"
           ],
           "marker": {
            "color": [
             1274,
             1238,
             69,
             235,
             173,
             192,
             2687,
             1842,
             2379,
             169,
             57,
             918,
             493,
             436,
             11,
             628,
             2537,
             1062,
             386,
             2516,
             4,
             0
            ],
            "coloraxis": "coloraxis",
            "symbol": "circle"
           },
           "mode": "markers",
           "name": "",
           "showlegend": false,
           "type": "scattergeo"
          }
         ],
         "name": "2006-October"
        },
        {
         "data": [
          {
           "geo": "geo",
           "hovertemplate": "<b>%{hovertext}</b><br><br>Year-Month=2006-November<br>Country=%{location}<br>Refugees=%{marker.color}<extra></extra>",
           "hovertext": [
            "Austria",
            "Belgium",
            "Bulgaria",
            "Czech Rep.",
            "Denmark",
            "Finland",
            "France",
            "Germany",
            "Greece",
            "Hungary",
            "Luxembourg",
            "Netherlands",
            "Norway",
            "Poland",
            "Portugal",
            "Spain",
            "Sweden",
            "Switzerland",
            "Turkey",
            "United Kingdom",
            "Iceland",
            "Italy"
           ],
           "legendgroup": "",
           "locationmode": "country names",
           "locations": [
            "Austria",
            "Belgium",
            "Bulgaria",
            "Czech Rep.",
            "Denmark",
            "Finland",
            "France",
            "Germany",
            "Greece",
            "Hungary",
            "Luxembourg",
            "Netherlands",
            "Norway",
            "Poland",
            "Portugal",
            "Spain",
            "Sweden",
            "Switzerland",
            "Turkey",
            "United Kingdom",
            "Iceland",
            "Italy"
           ],
           "marker": {
            "color": [
             1178,
             1082,
             40,
             208,
             167,
             172,
             2459,
             1749,
             2855,
             174,
             35,
             910,
             476,
             335,
             7,
             507,
             3181,
             741,
             537,
             2411,
             3,
             0
            ],
            "coloraxis": "coloraxis",
            "symbol": "circle"
           },
           "mode": "markers",
           "name": "",
           "showlegend": false,
           "type": "scattergeo"
          }
         ],
         "name": "2006-November"
        },
        {
         "data": [
          {
           "geo": "geo",
           "hovertemplate": "<b>%{hovertext}</b><br><br>Year-Month=2006-December<br>Country=%{location}<br>Refugees=%{marker.color}<extra></extra>",
           "hovertext": [
            "Austria",
            "Belgium",
            "Bulgaria",
            "Czech Rep.",
            "Denmark",
            "Finland",
            "France",
            "Germany",
            "Greece",
            "Hungary",
            "Luxembourg",
            "Netherlands",
            "Norway",
            "Poland",
            "Portugal",
            "Spain",
            "Sweden",
            "Switzerland",
            "Turkey",
            "United Kingdom",
            "Iceland",
            "Italy"
           ],
           "legendgroup": "",
           "locationmode": "country names",
           "locations": [
            "Austria",
            "Belgium",
            "Bulgaria",
            "Czech Rep.",
            "Denmark",
            "Finland",
            "France",
            "Germany",
            "Greece",
            "Hungary",
            "Luxembourg",
            "Netherlands",
            "Norway",
            "Poland",
            "Portugal",
            "Spain",
            "Sweden",
            "Switzerland",
            "Turkey",
            "United Kingdom",
            "Iceland",
            "Italy"
           ],
           "marker": {
            "color": [
             1206,
             1053,
             51,
             152,
             172,
             167,
             2420,
             1516,
             1620,
             155,
             60,
             665,
             450,
             426,
             10,
             474,
             3124,
             810,
             350,
             1908,
             7,
             0
            ],
            "coloraxis": "coloraxis",
            "symbol": "circle"
           },
           "mode": "markers",
           "name": "",
           "showlegend": false,
           "type": "scattergeo"
          }
         ],
         "name": "2006-December"
        },
        {
         "data": [
          {
           "geo": "geo",
           "hovertemplate": "<b>%{hovertext}</b><br><br>Year-Month=2007-January<br>Country=%{location}<br>Refugees=%{marker.color}<extra></extra>",
           "hovertext": [
            "Austria",
            "Belgium",
            "Bulgaria",
            "Czech Rep.",
            "Denmark",
            "Finland",
            "France",
            "Germany",
            "Greece",
            "Hungary",
            "Luxembourg",
            "Netherlands",
            "Norway",
            "Poland",
            "Portugal",
            "Spain",
            "Sweden",
            "Switzerland",
            "Turkey",
            "United Kingdom",
            "Iceland",
            "Italy"
           ],
           "legendgroup": "",
           "locationmode": "country names",
           "locations": [
            "Austria",
            "Belgium",
            "Bulgaria",
            "Czech Rep.",
            "Denmark",
            "Finland",
            "France",
            "Germany",
            "Greece",
            "Hungary",
            "Luxembourg",
            "Netherlands",
            "Norway",
            "Poland",
            "Portugal",
            "Spain",
            "Sweden",
            "Switzerland",
            "Turkey",
            "United Kingdom",
            "Iceland",
            "Italy"
           ],
           "marker": {
            "color": [
             1082,
             934,
             90,
             153,
             225,
             155,
             2334,
             1663,
             2407,
             197,
             50,
             614,
             434,
             232,
             8,
             707,
             3362,
             986,
             311,
             2361,
             5,
             0
            ],
            "coloraxis": "coloraxis",
            "symbol": "circle"
           },
           "mode": "markers",
           "name": "",
           "showlegend": false,
           "type": "scattergeo"
          }
         ],
         "name": "2007-January"
        },
        {
         "data": [
          {
           "geo": "geo",
           "hovertemplate": "<b>%{hovertext}</b><br><br>Year-Month=2007-February<br>Country=%{location}<br>Refugees=%{marker.color}<extra></extra>",
           "hovertext": [
            "Austria",
            "Belgium",
            "Bulgaria",
            "Czech Rep.",
            "Denmark",
            "Finland",
            "France",
            "Germany",
            "Greece",
            "Hungary",
            "Luxembourg",
            "Netherlands",
            "Norway",
            "Poland",
            "Portugal",
            "Spain",
            "Sweden",
            "Switzerland",
            "Turkey",
            "United Kingdom",
            "Iceland",
            "Italy"
           ],
           "legendgroup": "",
           "locationmode": "country names",
           "locations": [
            "Austria",
            "Belgium",
            "Bulgaria",
            "Czech Rep.",
            "Denmark",
            "Finland",
            "France",
            "Germany",
            "Greece",
            "Hungary",
            "Luxembourg",
            "Netherlands",
            "Norway",
            "Poland",
            "Portugal",
            "Spain",
            "Sweden",
            "Switzerland",
            "Turkey",
            "United Kingdom",
            "Iceland",
            "Italy"
           ],
           "marker": {
            "color": [
             1008,
             787,
             49,
             130,
             186,
             68,
             2617,
             1299,
             2298,
             149,
             30,
             503,
             352,
             246,
             9,
             824,
             2897,
             891,
             315,
             2144,
             3,
             0
            ],
            "coloraxis": "coloraxis",
            "symbol": "circle"
           },
           "mode": "markers",
           "name": "",
           "showlegend": false,
           "type": "scattergeo"
          }
         ],
         "name": "2007-February"
        },
        {
         "data": [
          {
           "geo": "geo",
           "hovertemplate": "<b>%{hovertext}</b><br><br>Year-Month=2007-March<br>Country=%{location}<br>Refugees=%{marker.color}<extra></extra>",
           "hovertext": [
            "Austria",
            "Belgium",
            "Bulgaria",
            "Czech Rep.",
            "Denmark",
            "Finland",
            "France",
            "Germany",
            "Greece",
            "Hungary",
            "Luxembourg",
            "Netherlands",
            "Norway",
            "Poland",
            "Portugal",
            "Spain",
            "Sweden",
            "Switzerland",
            "Turkey",
            "United Kingdom",
            "Iceland",
            "Italy"
           ],
           "legendgroup": "",
           "locationmode": "country names",
           "locations": [
            "Austria",
            "Belgium",
            "Bulgaria",
            "Czech Rep.",
            "Denmark",
            "Finland",
            "France",
            "Germany",
            "Greece",
            "Hungary",
            "Luxembourg",
            "Netherlands",
            "Norway",
            "Poland",
            "Portugal",
            "Spain",
            "Sweden",
            "Switzerland",
            "Turkey",
            "United Kingdom",
            "Iceland",
            "Italy"
           ],
           "marker": {
            "color": [
             974,
             1081,
             92,
             181,
             192,
             85,
             2705,
             1468,
             2741,
             163,
             21,
             543,
             355,
             239,
             50,
             802,
             2969,
             842,
             576,
             2247,
             2,
             0
            ],
            "coloraxis": "coloraxis",
            "symbol": "circle"
           },
           "mode": "markers",
           "name": "",
           "showlegend": false,
           "type": "scattergeo"
          }
         ],
         "name": "2007-March"
        },
        {
         "data": [
          {
           "geo": "geo",
           "hovertemplate": "<b>%{hovertext}</b><br><br>Year-Month=2007-April<br>Country=%{location}<br>Refugees=%{marker.color}<extra></extra>",
           "hovertext": [
            "Austria",
            "Belgium",
            "Bulgaria",
            "Czech Rep.",
            "Denmark",
            "Finland",
            "France",
            "Germany",
            "Greece",
            "Hungary",
            "Luxembourg",
            "Netherlands",
            "Norway",
            "Poland",
            "Portugal",
            "Spain",
            "Sweden",
            "Switzerland",
            "Turkey",
            "United Kingdom",
            "Iceland",
            "Italy"
           ],
           "legendgroup": "",
           "locationmode": "country names",
           "locations": [
            "Austria",
            "Belgium",
            "Bulgaria",
            "Czech Rep.",
            "Denmark",
            "Finland",
            "France",
            "Germany",
            "Greece",
            "Hungary",
            "Luxembourg",
            "Netherlands",
            "Norway",
            "Poland",
            "Portugal",
            "Spain",
            "Sweden",
            "Switzerland",
            "Turkey",
            "United Kingdom",
            "Iceland",
            "Italy"
           ],
           "marker": {
            "color": [
             860,
             908,
             37,
             130,
             122,
             93,
             2417,
             1203,
             2850,
             165,
             37,
             506,
             356,
             185,
             52,
             745,
             2894,
             650,
             546,
             1845,
             0,
             0
            ],
            "coloraxis": "coloraxis",
            "symbol": "circle"
           },
           "mode": "markers",
           "name": "",
           "showlegend": false,
           "type": "scattergeo"
          }
         ],
         "name": "2007-April"
        },
        {
         "data": [
          {
           "geo": "geo",
           "hovertemplate": "<b>%{hovertext}</b><br><br>Year-Month=2007-May<br>Country=%{location}<br>Refugees=%{marker.color}<extra></extra>",
           "hovertext": [
            "Austria",
            "Belgium",
            "Bulgaria",
            "Czech Rep.",
            "Denmark",
            "Finland",
            "France",
            "Germany",
            "Greece",
            "Hungary",
            "Luxembourg",
            "Netherlands",
            "Norway",
            "Poland",
            "Portugal",
            "Spain",
            "Sweden",
            "Switzerland",
            "Turkey",
            "United Kingdom",
            "Iceland",
            "Italy"
           ],
           "legendgroup": "",
           "locationmode": "country names",
           "locations": [
            "Austria",
            "Belgium",
            "Bulgaria",
            "Czech Rep.",
            "Denmark",
            "Finland",
            "France",
            "Germany",
            "Greece",
            "Hungary",
            "Luxembourg",
            "Netherlands",
            "Norway",
            "Poland",
            "Portugal",
            "Spain",
            "Sweden",
            "Switzerland",
            "Turkey",
            "United Kingdom",
            "Iceland",
            "Italy"
           ],
           "marker": {
            "color": [
             857,
             995,
             57,
             114,
             121,
             89,
             2366,
             1347,
             2099,
             240,
             18,
             392,
             348,
             225,
             14,
             580,
             2705,
             847,
             718,
             2152,
             3,
             0
            ],
            "coloraxis": "coloraxis",
            "symbol": "circle"
           },
           "mode": "markers",
           "name": "",
           "showlegend": false,
           "type": "scattergeo"
          }
         ],
         "name": "2007-May"
        },
        {
         "data": [
          {
           "geo": "geo",
           "hovertemplate": "<b>%{hovertext}</b><br><br>Year-Month=2007-June<br>Country=%{location}<br>Refugees=%{marker.color}<extra></extra>",
           "hovertext": [
            "Austria",
            "Belgium",
            "Bulgaria",
            "Czech Rep.",
            "Denmark",
            "Finland",
            "France",
            "Germany",
            "Greece",
            "Hungary",
            "Luxembourg",
            "Netherlands",
            "Norway",
            "Poland",
            "Portugal",
            "Spain",
            "Sweden",
            "Switzerland",
            "Turkey",
            "United Kingdom",
            "Iceland",
            "Italy"
           ],
           "legendgroup": "",
           "locationmode": "country names",
           "locations": [
            "Austria",
            "Belgium",
            "Bulgaria",
            "Czech Rep.",
            "Denmark",
            "Finland",
            "France",
            "Germany",
            "Greece",
            "Hungary",
            "Luxembourg",
            "Netherlands",
            "Norway",
            "Poland",
            "Portugal",
            "Spain",
            "Sweden",
            "Switzerland",
            "Turkey",
            "United Kingdom",
            "Iceland",
            "Italy"
           ],
           "marker": {
            "color": [
             928,
             825,
             115,
             138,
             133,
             114,
             2254,
             1241,
             2199,
             291,
             42,
             475,
             460,
             249,
             10,
             524,
             2794,
             620,
             755,
             1922,
             4,
             0
            ],
            "coloraxis": "coloraxis",
            "symbol": "circle"
           },
           "mode": "markers",
           "name": "",
           "showlegend": false,
           "type": "scattergeo"
          }
         ],
         "name": "2007-June"
        },
        {
         "data": [
          {
           "geo": "geo",
           "hovertemplate": "<b>%{hovertext}</b><br><br>Year-Month=2007-July<br>Country=%{location}<br>Refugees=%{marker.color}<extra></extra>",
           "hovertext": [
            "Austria",
            "Belgium",
            "Bulgaria",
            "Czech Rep.",
            "Denmark",
            "Finland",
            "France",
            "Germany",
            "Greece",
            "Hungary",
            "Luxembourg",
            "Netherlands",
            "Norway",
            "Poland",
            "Portugal",
            "Spain",
            "Sweden",
            "Switzerland",
            "Turkey",
            "United Kingdom",
            "Iceland",
            "Italy"
           ],
           "legendgroup": "",
           "locationmode": "country names",
           "locations": [
            "Austria",
            "Belgium",
            "Bulgaria",
            "Czech Rep.",
            "Denmark",
            "Finland",
            "France",
            "Germany",
            "Greece",
            "Hungary",
            "Luxembourg",
            "Netherlands",
            "Norway",
            "Poland",
            "Portugal",
            "Spain",
            "Sweden",
            "Switzerland",
            "Turkey",
            "United Kingdom",
            "Iceland",
            "Italy"
           ],
           "marker": {
            "color": [
             970,
             822,
             81,
             148,
             86,
             153,
             2520,
             1483,
             1803,
             269,
             31,
             456,
             468,
             246,
             9,
             536,
             2919,
             790,
             808,
             2178,
             7,
             0
            ],
            "coloraxis": "coloraxis",
            "symbol": "circle"
           },
           "mode": "markers",
           "name": "",
           "showlegend": false,
           "type": "scattergeo"
          }
         ],
         "name": "2007-July"
        },
        {
         "data": [
          {
           "geo": "geo",
           "hovertemplate": "<b>%{hovertext}</b><br><br>Year-Month=2007-August<br>Country=%{location}<br>Refugees=%{marker.color}<extra></extra>",
           "hovertext": [
            "Austria",
            "Belgium",
            "Bulgaria",
            "Czech Rep.",
            "Denmark",
            "Finland",
            "France",
            "Germany",
            "Greece",
            "Hungary",
            "Luxembourg",
            "Netherlands",
            "Norway",
            "Poland",
            "Portugal",
            "Spain",
            "Sweden",
            "Switzerland",
            "Turkey",
            "United Kingdom",
            "Iceland",
            "Italy"
           ],
           "legendgroup": "",
           "locationmode": "country names",
           "locations": [
            "Austria",
            "Belgium",
            "Bulgaria",
            "Czech Rep.",
            "Denmark",
            "Finland",
            "France",
            "Germany",
            "Greece",
            "Hungary",
            "Luxembourg",
            "Netherlands",
            "Norway",
            "Poland",
            "Portugal",
            "Spain",
            "Sweden",
            "Switzerland",
            "Turkey",
            "United Kingdom",
            "Iceland",
            "Italy"
           ],
           "marker": {
            "color": [
             989,
             856,
             86,
             172,
             154,
             155,
             2135,
             1918,
             1535,
             273,
             48,
             664,
             696,
             476,
             11,
             452,
             3350,
             680,
             840,
             2352,
             6,
             0
            ],
            "coloraxis": "coloraxis",
            "symbol": "circle"
           },
           "mode": "markers",
           "name": "",
           "showlegend": false,
           "type": "scattergeo"
          }
         ],
         "name": "2007-August"
        },
        {
         "data": [
          {
           "geo": "geo",
           "hovertemplate": "<b>%{hovertext}</b><br><br>Year-Month=2007-September<br>Country=%{location}<br>Refugees=%{marker.color}<extra></extra>",
           "hovertext": [
            "Austria",
            "Belgium",
            "Bulgaria",
            "Czech Rep.",
            "Denmark",
            "Finland",
            "France",
            "Germany",
            "Greece",
            "Hungary",
            "Luxembourg",
            "Netherlands",
            "Norway",
            "Poland",
            "Portugal",
            "Spain",
            "Sweden",
            "Switzerland",
            "Turkey",
            "United Kingdom",
            "Iceland",
            "Italy"
           ],
           "legendgroup": "",
           "locationmode": "country names",
           "locations": [
            "Austria",
            "Belgium",
            "Bulgaria",
            "Czech Rep.",
            "Denmark",
            "Finland",
            "France",
            "Germany",
            "Greece",
            "Hungary",
            "Luxembourg",
            "Netherlands",
            "Norway",
            "Poland",
            "Portugal",
            "Spain",
            "Sweden",
            "Switzerland",
            "Turkey",
            "United Kingdom",
            "Iceland",
            "Italy"
           ],
           "marker": {
            "color": [
             989,
             887,
             65,
             151,
             167,
             143,
             2119,
             1771,
             2118,
             228,
             45,
             725,
             657,
             804,
             17,
             452,
             3154,
             660,
             828,
             2562,
             4,
             0
            ],
            "coloraxis": "coloraxis",
            "symbol": "circle"
           },
           "mode": "markers",
           "name": "",
           "showlegend": false,
           "type": "scattergeo"
          }
         ],
         "name": "2007-September"
        },
        {
         "data": [
          {
           "geo": "geo",
           "hovertemplate": "<b>%{hovertext}</b><br><br>Year-Month=2007-October<br>Country=%{location}<br>Refugees=%{marker.color}<extra></extra>",
           "hovertext": [
            "Austria",
            "Belgium",
            "Bulgaria",
            "Czech Rep.",
            "Denmark",
            "Finland",
            "France",
            "Germany",
            "Greece",
            "Hungary",
            "Luxembourg",
            "Netherlands",
            "Norway",
            "Poland",
            "Portugal",
            "Spain",
            "Sweden",
            "Switzerland",
            "Turkey",
            "United Kingdom",
            "Iceland",
            "Italy"
           ],
           "legendgroup": "",
           "locationmode": "country names",
           "locations": [
            "Austria",
            "Belgium",
            "Bulgaria",
            "Czech Rep.",
            "Denmark",
            "Finland",
            "France",
            "Germany",
            "Greece",
            "Hungary",
            "Luxembourg",
            "Netherlands",
            "Norway",
            "Poland",
            "Portugal",
            "Spain",
            "Sweden",
            "Switzerland",
            "Turkey",
            "United Kingdom",
            "Iceland",
            "Italy"
           ],
           "marker": {
            "color": [
             1082,
             1094,
             125,
             142,
             141,
             133,
             3017,
             1922,
             1764,
             395,
             48,
             850,
             655,
             792,
             23,
             669,
             3472,
             991,
             781,
             2913,
             2,
             0
            ],
            "coloraxis": "coloraxis",
            "symbol": "circle"
           },
           "mode": "markers",
           "name": "",
           "showlegend": false,
           "type": "scattergeo"
          }
         ],
         "name": "2007-October"
        },
        {
         "data": [
          {
           "geo": "geo",
           "hovertemplate": "<b>%{hovertext}</b><br><br>Year-Month=2007-November<br>Country=%{location}<br>Refugees=%{marker.color}<extra></extra>",
           "hovertext": [
            "Austria",
            "Belgium",
            "Bulgaria",
            "Czech Rep.",
            "Denmark",
            "Finland",
            "France",
            "Germany",
            "Greece",
            "Hungary",
            "Luxembourg",
            "Netherlands",
            "Norway",
            "Poland",
            "Portugal",
            "Spain",
            "Sweden",
            "Switzerland",
            "Turkey",
            "United Kingdom",
            "Iceland",
            "Italy"
           ],
           "legendgroup": "",
           "locationmode": "country names",
           "locations": [
            "Austria",
            "Belgium",
            "Bulgaria",
            "Czech Rep.",
            "Denmark",
            "Finland",
            "France",
            "Germany",
            "Greece",
            "Hungary",
            "Luxembourg",
            "Netherlands",
            "Norway",
            "Poland",
            "Portugal",
            "Spain",
            "Sweden",
            "Switzerland",
            "Turkey",
            "United Kingdom",
            "Iceland",
            "Italy"
           ],
           "marker": {
            "color": [
             925,
             990,
             97,
             216,
             128,
             116,
             2211,
             1953,
             1852,
             444,
             22,
             788,
             611,
             1147,
             7,
             726,
             2842,
             877,
             736,
             2838,
             3,
             0
            ],
            "coloraxis": "coloraxis",
            "symbol": "circle"
           },
           "mode": "markers",
           "name": "",
           "showlegend": false,
           "type": "scattergeo"
          }
         ],
         "name": "2007-November"
        },
        {
         "data": [
          {
           "geo": "geo",
           "hovertemplate": "<b>%{hovertext}</b><br><br>Year-Month=2007-December<br>Country=%{location}<br>Refugees=%{marker.color}<extra></extra>",
           "hovertext": [
            "Austria",
            "Belgium",
            "Bulgaria",
            "Czech Rep.",
            "Denmark",
            "Finland",
            "France",
            "Germany",
            "Greece",
            "Hungary",
            "Luxembourg",
            "Netherlands",
            "Norway",
            "Poland",
            "Portugal",
            "Spain",
            "Sweden",
            "Switzerland",
            "Turkey",
            "United Kingdom",
            "Iceland",
            "Italy"
           ],
           "legendgroup": "",
           "locationmode": "country names",
           "locations": [
            "Austria",
            "Belgium",
            "Bulgaria",
            "Czech Rep.",
            "Denmark",
            "Finland",
            "France",
            "Germany",
            "Greece",
            "Hungary",
            "Luxembourg",
            "Netherlands",
            "Norway",
            "Poland",
            "Portugal",
            "Spain",
            "Sweden",
            "Switzerland",
            "Turkey",
            "United Kingdom",
            "Iceland",
            "Italy"
           ],
           "marker": {
            "color": [
             1257,
             936,
             81,
             203,
             217,
             130,
             2463,
             1265,
             1447,
             605,
             34,
             586,
             784,
             2275,
             11,
             446,
             2849,
             689,
             428,
             2389,
             3,
             0
            ],
            "coloraxis": "coloraxis",
            "symbol": "circle"
           },
           "mode": "markers",
           "name": "",
           "showlegend": false,
           "type": "scattergeo"
          }
         ],
         "name": "2007-December"
        },
        {
         "data": [
          {
           "geo": "geo",
           "hovertemplate": "<b>%{hovertext}</b><br><br>Year-Month=2008-January<br>Country=%{location}<br>Refugees=%{marker.color}<extra></extra>",
           "hovertext": [
            "Austria",
            "Belgium",
            "Bulgaria",
            "Czech Rep.",
            "Denmark",
            "Finland",
            "France",
            "Germany",
            "Greece",
            "Hungary",
            "Luxembourg",
            "Netherlands",
            "Norway",
            "Poland",
            "Portugal",
            "Spain",
            "Sweden",
            "Switzerland",
            "Turkey",
            "United Kingdom",
            "Iceland",
            "Italy"
           ],
           "legendgroup": "",
           "locationmode": "country names",
           "locations": [
            "Austria",
            "Belgium",
            "Bulgaria",
            "Czech Rep.",
            "Denmark",
            "Finland",
            "France",
            "Germany",
            "Greece",
            "Hungary",
            "Luxembourg",
            "Netherlands",
            "Norway",
            "Poland",
            "Portugal",
            "Spain",
            "Sweden",
            "Switzerland",
            "Turkey",
            "United Kingdom",
            "Iceland",
            "Italy"
           ],
           "marker": {
            "color": [
             1113,
             1097,
             86,
             212,
             237,
             165,
             2557,
             2397,
             1686,
             241,
             44,
             908,
             826,
             359,
             7,
             372,
             3195,
             901,
             666,
             2707,
             6,
             1532
            ],
            "coloraxis": "coloraxis",
            "symbol": "circle"
           },
           "mode": "markers",
           "name": "",
           "showlegend": false,
           "type": "scattergeo"
          }
         ],
         "name": "2008-January"
        },
        {
         "data": [
          {
           "geo": "geo",
           "hovertemplate": "<b>%{hovertext}</b><br><br>Year-Month=2008-February<br>Country=%{location}<br>Refugees=%{marker.color}<extra></extra>",
           "hovertext": [
            "Austria",
            "Belgium",
            "Bulgaria",
            "Czech Rep.",
            "Denmark",
            "Finland",
            "France",
            "Germany",
            "Greece",
            "Hungary",
            "Luxembourg",
            "Netherlands",
            "Norway",
            "Poland",
            "Portugal",
            "Spain",
            "Sweden",
            "Switzerland",
            "Turkey",
            "United Kingdom",
            "Iceland",
            "Italy"
           ],
           "legendgroup": "",
           "locationmode": "country names",
           "locations": [
            "Austria",
            "Belgium",
            "Bulgaria",
            "Czech Rep.",
            "Denmark",
            "Finland",
            "France",
            "Germany",
            "Greece",
            "Hungary",
            "Luxembourg",
            "Netherlands",
            "Norway",
            "Poland",
            "Portugal",
            "Spain",
            "Sweden",
            "Switzerland",
            "Turkey",
            "United Kingdom",
            "Iceland",
            "Italy"
           ],
           "marker": {
            "color": [
             887,
             918,
             88,
             188,
             167,
             111,
             2774,
             1818,
             1724,
             233,
             26,
             862,
             755,
             634,
             13,
             442,
             2209,
             753,
             919,
             2509,
             7,
             1591
            ],
            "coloraxis": "coloraxis",
            "symbol": "circle"
           },
           "mode": "markers",
           "name": "",
           "showlegend": false,
           "type": "scattergeo"
          }
         ],
         "name": "2008-February"
        },
        {
         "data": [
          {
           "geo": "geo",
           "hovertemplate": "<b>%{hovertext}</b><br><br>Year-Month=2008-March<br>Country=%{location}<br>Refugees=%{marker.color}<extra></extra>",
           "hovertext": [
            "Austria",
            "Belgium",
            "Bulgaria",
            "Czech Rep.",
            "Denmark",
            "Finland",
            "France",
            "Germany",
            "Greece",
            "Hungary",
            "Luxembourg",
            "Netherlands",
            "Norway",
            "Poland",
            "Portugal",
            "Spain",
            "Sweden",
            "Switzerland",
            "Turkey",
            "United Kingdom",
            "Iceland",
            "Italy"
           ],
           "legendgroup": "",
           "locationmode": "country names",
           "locations": [
            "Austria",
            "Belgium",
            "Bulgaria",
            "Czech Rep.",
            "Denmark",
            "Finland",
            "France",
            "Germany",
            "Greece",
            "Hungary",
            "Luxembourg",
            "Netherlands",
            "Norway",
            "Poland",
            "Portugal",
            "Spain",
            "Sweden",
            "Switzerland",
            "Turkey",
            "United Kingdom",
            "Iceland",
            "Italy"
           ],
           "marker": {
            "color": [
             812,
             926,
             62,
             182,
             129,
             119,
             2518,
             1545,
             1506,
             227,
             29,
             886,
             800,
             510,
             11,
             336,
             1645,
             775,
             625,
             2491,
             2,
             1843
            ],
            "coloraxis": "coloraxis",
            "symbol": "circle"
           },
           "mode": "markers",
           "name": "",
           "showlegend": false,
           "type": "scattergeo"
          }
         ],
         "name": "2008-March"
        },
        {
         "data": [
          {
           "geo": "geo",
           "hovertemplate": "<b>%{hovertext}</b><br><br>Year-Month=2008-April<br>Country=%{location}<br>Refugees=%{marker.color}<extra></extra>",
           "hovertext": [
            "Austria",
            "Belgium",
            "Bulgaria",
            "Czech Rep.",
            "Denmark",
            "Finland",
            "France",
            "Germany",
            "Greece",
            "Hungary",
            "Luxembourg",
            "Netherlands",
            "Norway",
            "Poland",
            "Portugal",
            "Spain",
            "Sweden",
            "Switzerland",
            "Turkey",
            "United Kingdom",
            "Iceland",
            "Italy"
           ],
           "legendgroup": "",
           "locationmode": "country names",
           "locations": [
            "Austria",
            "Belgium",
            "Bulgaria",
            "Czech Rep.",
            "Denmark",
            "Finland",
            "France",
            "Germany",
            "Greece",
            "Hungary",
            "Luxembourg",
            "Netherlands",
            "Norway",
            "Poland",
            "Portugal",
            "Spain",
            "Sweden",
            "Switzerland",
            "Turkey",
            "United Kingdom",
            "Iceland",
            "Italy"
           ],
           "marker": {
            "color": [
             888,
             907,
             53,
             137,
             149,
             145,
             2940,
             1694,
             1715,
             173,
             45,
             929,
             813,
             566,
             16,
             444,
             1838,
             976,
             812,
             2269,
             3,
             1734
            ],
            "coloraxis": "coloraxis",
            "symbol": "circle"
           },
           "mode": "markers",
           "name": "",
           "showlegend": false,
           "type": "scattergeo"
          }
         ],
         "name": "2008-April"
        },
        {
         "data": [
          {
           "geo": "geo",
           "hovertemplate": "<b>%{hovertext}</b><br><br>Year-Month=2008-May<br>Country=%{location}<br>Refugees=%{marker.color}<extra></extra>",
           "hovertext": [
            "Austria",
            "Belgium",
            "Bulgaria",
            "Czech Rep.",
            "Denmark",
            "Finland",
            "France",
            "Germany",
            "Greece",
            "Hungary",
            "Luxembourg",
            "Netherlands",
            "Norway",
            "Poland",
            "Portugal",
            "Spain",
            "Sweden",
            "Switzerland",
            "Turkey",
            "United Kingdom",
            "Iceland",
            "Italy"
           ],
           "legendgroup": "",
           "locationmode": "country names",
           "locations": [
            "Austria",
            "Belgium",
            "Bulgaria",
            "Czech Rep.",
            "Denmark",
            "Finland",
            "France",
            "Germany",
            "Greece",
            "Hungary",
            "Luxembourg",
            "Netherlands",
            "Norway",
            "Poland",
            "Portugal",
            "Spain",
            "Sweden",
            "Switzerland",
            "Turkey",
            "United Kingdom",
            "Iceland",
            "Italy"
           ],
           "marker": {
            "color": [
             832,
             899,
             77,
             98,
             153,
             232,
             2391,
             1599,
             1791,
             196,
             21,
             1011,
             952,
             462,
             12,
             420,
             1754,
             814,
             903,
             2186,
             7,
             2125
            ],
            "coloraxis": "coloraxis",
            "symbol": "circle"
           },
           "mode": "markers",
           "name": "",
           "showlegend": false,
           "type": "scattergeo"
          }
         ],
         "name": "2008-May"
        },
        {
         "data": [
          {
           "geo": "geo",
           "hovertemplate": "<b>%{hovertext}</b><br><br>Year-Month=2008-June<br>Country=%{location}<br>Refugees=%{marker.color}<extra></extra>",
           "hovertext": [
            "Austria",
            "Belgium",
            "Bulgaria",
            "Czech Rep.",
            "Denmark",
            "Finland",
            "France",
            "Germany",
            "Greece",
            "Hungary",
            "Luxembourg",
            "Netherlands",
            "Norway",
            "Poland",
            "Portugal",
            "Spain",
            "Sweden",
            "Switzerland",
            "Turkey",
            "United Kingdom",
            "Iceland",
            "Italy"
           ],
           "legendgroup": "",
           "locationmode": "country names",
           "locations": [
            "Austria",
            "Belgium",
            "Bulgaria",
            "Czech Rep.",
            "Denmark",
            "Finland",
            "France",
            "Germany",
            "Greece",
            "Hungary",
            "Luxembourg",
            "Netherlands",
            "Norway",
            "Poland",
            "Portugal",
            "Spain",
            "Sweden",
            "Switzerland",
            "Turkey",
            "United Kingdom",
            "Iceland",
            "Italy"
           ],
           "marker": {
            "color": [
             815,
             971,
             51,
             114,
             146,
             259,
             2844,
             1672,
             1743,
             148,
             33,
             1169,
             1033,
             479,
             34,
             347,
             1629,
             1044,
             914,
             2386,
             9,
             2256
            ],
            "coloraxis": "coloraxis",
            "symbol": "circle"
           },
           "mode": "markers",
           "name": "",
           "showlegend": false,
           "type": "scattergeo"
          }
         ],
         "name": "2008-June"
        },
        {
         "data": [
          {
           "geo": "geo",
           "hovertemplate": "<b>%{hovertext}</b><br><br>Year-Month=2008-July<br>Country=%{location}<br>Refugees=%{marker.color}<extra></extra>",
           "hovertext": [
            "Austria",
            "Belgium",
            "Bulgaria",
            "Czech Rep.",
            "Denmark",
            "Finland",
            "France",
            "Germany",
            "Greece",
            "Hungary",
            "Luxembourg",
            "Netherlands",
            "Norway",
            "Poland",
            "Portugal",
            "Spain",
            "Sweden",
            "Switzerland",
            "Turkey",
            "United Kingdom",
            "Iceland",
            "Italy"
           ],
           "legendgroup": "",
           "locationmode": "country names",
           "locations": [
            "Austria",
            "Belgium",
            "Bulgaria",
            "Czech Rep.",
            "Denmark",
            "Finland",
            "France",
            "Germany",
            "Greece",
            "Hungary",
            "Luxembourg",
            "Netherlands",
            "Norway",
            "Poland",
            "Portugal",
            "Spain",
            "Sweden",
            "Switzerland",
            "Turkey",
            "United Kingdom",
            "Iceland",
            "Italy"
           ],
           "marker": {
            "color": [
             1089,
             1087,
             58,
             115,
             131,
             289,
             2823,
             1793,
             1740,
             160,
             40,
             1269,
             1394,
             491,
             6,
             357,
             1894,
             989,
             1008,
             2753,
             9,
             3134
            ],
            "coloraxis": "coloraxis",
            "symbol": "circle"
           },
           "mode": "markers",
           "name": "",
           "showlegend": false,
           "type": "scattergeo"
          }
         ],
         "name": "2008-July"
        },
        {
         "data": [
          {
           "geo": "geo",
           "hovertemplate": "<b>%{hovertext}</b><br><br>Year-Month=2008-August<br>Country=%{location}<br>Refugees=%{marker.color}<extra></extra>",
           "hovertext": [
            "Austria",
            "Belgium",
            "Bulgaria",
            "Czech Rep.",
            "Denmark",
            "Finland",
            "France",
            "Germany",
            "Greece",
            "Hungary",
            "Luxembourg",
            "Netherlands",
            "Norway",
            "Poland",
            "Portugal",
            "Spain",
            "Sweden",
            "Switzerland",
            "Turkey",
            "United Kingdom",
            "Iceland",
            "Italy"
           ],
           "legendgroup": "",
           "locationmode": "country names",
           "locations": [
            "Austria",
            "Belgium",
            "Bulgaria",
            "Czech Rep.",
            "Denmark",
            "Finland",
            "France",
            "Germany",
            "Greece",
            "Hungary",
            "Luxembourg",
            "Netherlands",
            "Norway",
            "Poland",
            "Portugal",
            "Spain",
            "Sweden",
            "Switzerland",
            "Turkey",
            "United Kingdom",
            "Iceland",
            "Italy"
           ],
           "marker": {
            "color": [
             1163,
             1000,
             37,
             113,
             209,
             418,
             2587,
             1659,
             1421,
             240,
             55,
             1289,
             1647,
             586,
             20,
             290,
             1938,
             1488,
             1250,
             2386,
             6,
             3413
            ],
            "coloraxis": "coloraxis",
            "symbol": "circle"
           },
           "mode": "markers",
           "name": "",
           "showlegend": false,
           "type": "scattergeo"
          }
         ],
         "name": "2008-August"
        },
        {
         "data": [
          {
           "geo": "geo",
           "hovertemplate": "<b>%{hovertext}</b><br><br>Year-Month=2008-September<br>Country=%{location}<br>Refugees=%{marker.color}<extra></extra>",
           "hovertext": [
            "Austria",
            "Belgium",
            "Bulgaria",
            "Czech Rep.",
            "Denmark",
            "Finland",
            "France",
            "Germany",
            "Greece",
            "Hungary",
            "Luxembourg",
            "Netherlands",
            "Norway",
            "Poland",
            "Portugal",
            "Spain",
            "Sweden",
            "Switzerland",
            "Turkey",
            "United Kingdom",
            "Iceland",
            "Italy"
           ],
           "legendgroup": "",
           "locationmode": "country names",
           "locations": [
            "Austria",
            "Belgium",
            "Bulgaria",
            "Czech Rep.",
            "Denmark",
            "Finland",
            "France",
            "Germany",
            "Greece",
            "Hungary",
            "Luxembourg",
            "Netherlands",
            "Norway",
            "Poland",
            "Portugal",
            "Spain",
            "Sweden",
            "Switzerland",
            "Turkey",
            "United Kingdom",
            "Iceland",
            "Italy"
           ],
           "marker": {
            "color": [
             1295,
             1071,
             78,
             121,
             252,
             520,
             3362,
             1965,
             1702,
             394,
             70,
             1446,
             1505,
             949,
             9,
             343,
             2146,
             1578,
             1742,
             2846,
             13,
             3619
            ],
            "coloraxis": "coloraxis",
            "symbol": "circle"
           },
           "mode": "markers",
           "name": "",
           "showlegend": false,
           "type": "scattergeo"
          }
         ],
         "name": "2008-September"
        },
        {
         "data": [
          {
           "geo": "geo",
           "hovertemplate": "<b>%{hovertext}</b><br><br>Year-Month=2008-October<br>Country=%{location}<br>Refugees=%{marker.color}<extra></extra>",
           "hovertext": [
            "Austria",
            "Belgium",
            "Bulgaria",
            "Czech Rep.",
            "Denmark",
            "Finland",
            "France",
            "Germany",
            "Greece",
            "Hungary",
            "Luxembourg",
            "Netherlands",
            "Norway",
            "Poland",
            "Portugal",
            "Spain",
            "Sweden",
            "Switzerland",
            "Turkey",
            "United Kingdom",
            "Iceland",
            "Italy"
           ],
           "legendgroup": "",
           "locationmode": "country names",
           "locations": [
            "Austria",
            "Belgium",
            "Bulgaria",
            "Czech Rep.",
            "Denmark",
            "Finland",
            "France",
            "Germany",
            "Greece",
            "Hungary",
            "Luxembourg",
            "Netherlands",
            "Norway",
            "Poland",
            "Portugal",
            "Spain",
            "Sweden",
            "Switzerland",
            "Turkey",
            "United Kingdom",
            "Iceland",
            "Italy"
           ],
           "marker": {
            "color": [
             1406,
             1190,
             67,
             176,
             252,
             650,
             3833,
             1954,
             1648,
             445,
             35,
             1438,
             1411,
             711,
             15,
             433,
             2193,
             1961,
             1749,
             2815,
             9,
             3301
            ],
            "coloraxis": "coloraxis",
            "symbol": "circle"
           },
           "mode": "markers",
           "name": "",
           "showlegend": false,
           "type": "scattergeo"
          }
         ],
         "name": "2008-October"
        },
        {
         "data": [
          {
           "geo": "geo",
           "hovertemplate": "<b>%{hovertext}</b><br><br>Year-Month=2008-November<br>Country=%{location}<br>Refugees=%{marker.color}<extra></extra>",
           "hovertext": [
            "Austria",
            "Belgium",
            "Bulgaria",
            "Czech Rep.",
            "Denmark",
            "Finland",
            "France",
            "Germany",
            "Greece",
            "Hungary",
            "Luxembourg",
            "Netherlands",
            "Norway",
            "Poland",
            "Portugal",
            "Spain",
            "Sweden",
            "Switzerland",
            "Turkey",
            "United Kingdom",
            "Iceland",
            "Italy"
           ],
           "legendgroup": "",
           "locationmode": "country names",
           "locations": [
            "Austria",
            "Belgium",
            "Bulgaria",
            "Czech Rep.",
            "Denmark",
            "Finland",
            "France",
            "Germany",
            "Greece",
            "Hungary",
            "Luxembourg",
            "Netherlands",
            "Norway",
            "Poland",
            "Portugal",
            "Spain",
            "Sweden",
            "Switzerland",
            "Turkey",
            "United Kingdom",
            "Iceland",
            "Italy"
           ],
           "marker": {
            "color": [
             1242,
             1116,
             49,
             117,
             288,
             551,
             3014,
             1730,
             1429,
             340,
             38,
             1111,
             1393,
             644,
             12,
             366,
             1848,
             1921,
             1427,
             2566,
             6,
             3414
            ],
            "coloraxis": "coloraxis",
            "symbol": "circle"
           },
           "mode": "markers",
           "name": "",
           "showlegend": false,
           "type": "scattergeo"
          }
         ],
         "name": "2008-November"
        },
        {
         "data": [
          {
           "geo": "geo",
           "hovertemplate": "<b>%{hovertext}</b><br><br>Year-Month=2008-December<br>Country=%{location}<br>Refugees=%{marker.color}<extra></extra>",
           "hovertext": [
            "Austria",
            "Belgium",
            "Bulgaria",
            "Czech Rep.",
            "Denmark",
            "Finland",
            "France",
            "Germany",
            "Greece",
            "Hungary",
            "Luxembourg",
            "Netherlands",
            "Norway",
            "Poland",
            "Portugal",
            "Spain",
            "Sweden",
            "Switzerland",
            "Turkey",
            "United Kingdom",
            "Iceland",
            "Italy"
           ],
           "legendgroup": "",
           "locationmode": "country names",
           "locations": [
            "Austria",
            "Belgium",
            "Bulgaria",
            "Czech Rep.",
            "Denmark",
            "Finland",
            "France",
            "Germany",
            "Greece",
            "Hungary",
            "Luxembourg",
            "Netherlands",
            "Norway",
            "Poland",
            "Portugal",
            "Spain",
            "Sweden",
            "Switzerland",
            "Turkey",
            "United Kingdom",
            "Iceland",
            "Italy"
           ],
           "marker": {
            "color": [
             1299,
             1070,
             40,
             117,
             247,
             557,
             3521,
             1545,
             1779,
             321,
             27,
             1081,
             1404,
             812,
             6,
             328,
             2064,
             1978,
             966,
             2633,
             1,
             3202
            ],
            "coloraxis": "coloraxis",
            "symbol": "circle"
           },
           "mode": "markers",
           "name": "",
           "showlegend": false,
           "type": "scattergeo"
          }
         ],
         "name": "2008-December"
        },
        {
         "data": [
          {
           "geo": "geo",
           "hovertemplate": "<b>%{hovertext}</b><br><br>Year-Month=2009-January<br>Country=%{location}<br>Refugees=%{marker.color}<extra></extra>",
           "hovertext": [
            "Austria",
            "Belgium",
            "Bulgaria",
            "Czech Rep.",
            "Denmark",
            "Finland",
            "France",
            "Germany",
            "Greece",
            "Hungary",
            "Luxembourg",
            "Netherlands",
            "Norway",
            "Poland",
            "Portugal",
            "Spain",
            "Sweden",
            "Switzerland",
            "Turkey",
            "United Kingdom",
            "Iceland",
            "Italy"
           ],
           "legendgroup": "",
           "locationmode": "country names",
           "locations": [
            "Austria",
            "Belgium",
            "Bulgaria",
            "Czech Rep.",
            "Denmark",
            "Finland",
            "France",
            "Germany",
            "Greece",
            "Hungary",
            "Luxembourg",
            "Netherlands",
            "Norway",
            "Poland",
            "Portugal",
            "Spain",
            "Sweden",
            "Switzerland",
            "Turkey",
            "United Kingdom",
            "Iceland",
            "Italy"
           ],
           "marker": {
            "color": [
             1213,
             1291,
             71,
             123,
             341,
             550,
             2905,
             2447,
             1557,
             280,
             39,
             1171,
             1299,
             367,
             15,
             291,
             1932,
             2127,
             921,
             3257,
             0,
             1685
            ],
            "coloraxis": "coloraxis",
            "symbol": "circle"
           },
           "mode": "markers",
           "name": "",
           "showlegend": false,
           "type": "scattergeo"
          }
         ],
         "name": "2009-January"
        },
        {
         "data": [
          {
           "geo": "geo",
           "hovertemplate": "<b>%{hovertext}</b><br><br>Year-Month=2009-February<br>Country=%{location}<br>Refugees=%{marker.color}<extra></extra>",
           "hovertext": [
            "Austria",
            "Belgium",
            "Bulgaria",
            "Czech Rep.",
            "Denmark",
            "Finland",
            "France",
            "Germany",
            "Greece",
            "Hungary",
            "Luxembourg",
            "Netherlands",
            "Norway",
            "Poland",
            "Portugal",
            "Spain",
            "Sweden",
            "Switzerland",
            "Turkey",
            "United Kingdom",
            "Iceland",
            "Italy"
           ],
           "legendgroup": "",
           "locationmode": "country names",
           "locations": [
            "Austria",
            "Belgium",
            "Bulgaria",
            "Czech Rep.",
            "Denmark",
            "Finland",
            "France",
            "Germany",
            "Greece",
            "Hungary",
            "Luxembourg",
            "Netherlands",
            "Norway",
            "Poland",
            "Portugal",
            "Spain",
            "Sweden",
            "Switzerland",
            "Turkey",
            "United Kingdom",
            "Iceland",
            "Italy"
           ],
           "marker": {
            "color": [
             1243,
             964,
             66,
             130,
             257,
             489,
             3767,
             2045,
             1590,
             497,
             24,
             1147,
             1148,
             344,
             12,
             339,
             1669,
             1263,
             668,
             3213,
             1,
             1360
            ],
            "coloraxis": "coloraxis",
            "symbol": "circle"
           },
           "mode": "markers",
           "name": "",
           "showlegend": false,
           "type": "scattergeo"
          }
         ],
         "name": "2009-February"
        },
        {
         "data": [
          {
           "geo": "geo",
           "hovertemplate": "<b>%{hovertext}</b><br><br>Year-Month=2009-March<br>Country=%{location}<br>Refugees=%{marker.color}<extra></extra>",
           "hovertext": [
            "Austria",
            "Belgium",
            "Bulgaria",
            "Czech Rep.",
            "Denmark",
            "Finland",
            "France",
            "Germany",
            "Greece",
            "Hungary",
            "Luxembourg",
            "Netherlands",
            "Norway",
            "Poland",
            "Portugal",
            "Spain",
            "Sweden",
            "Switzerland",
            "Turkey",
            "United Kingdom",
            "Iceland",
            "Italy"
           ],
           "legendgroup": "",
           "locationmode": "country names",
           "locations": [
            "Austria",
            "Belgium",
            "Bulgaria",
            "Czech Rep.",
            "Denmark",
            "Finland",
            "France",
            "Germany",
            "Greece",
            "Hungary",
            "Luxembourg",
            "Netherlands",
            "Norway",
            "Poland",
            "Portugal",
            "Spain",
            "Sweden",
            "Switzerland",
            "Turkey",
            "United Kingdom",
            "Iceland",
            "Italy"
           ],
           "marker": {
            "color": [
             1313,
             1069,
             91,
             123,
             346,
             491,
             3643,
             2079,
             1571,
             485,
             31,
             1305,
             1255,
             451,
             16,
             268,
             1731,
             1174,
             874,
             3817,
             3,
             1465
            ],
            "coloraxis": "coloraxis",
            "symbol": "circle"
           },
           "mode": "markers",
           "name": "",
           "showlegend": false,
           "type": "scattergeo"
          }
         ],
         "name": "2009-March"
        },
        {
         "data": [
          {
           "geo": "geo",
           "hovertemplate": "<b>%{hovertext}</b><br><br>Year-Month=2009-April<br>Country=%{location}<br>Refugees=%{marker.color}<extra></extra>",
           "hovertext": [
            "Austria",
            "Belgium",
            "Bulgaria",
            "Czech Rep.",
            "Denmark",
            "Finland",
            "France",
            "Germany",
            "Greece",
            "Hungary",
            "Luxembourg",
            "Netherlands",
            "Norway",
            "Poland",
            "Portugal",
            "Spain",
            "Sweden",
            "Switzerland",
            "Turkey",
            "United Kingdom",
            "Iceland",
            "Italy"
           ],
           "legendgroup": "",
           "locationmode": "country names",
           "locations": [
            "Austria",
            "Belgium",
            "Bulgaria",
            "Czech Rep.",
            "Denmark",
            "Finland",
            "France",
            "Germany",
            "Greece",
            "Hungary",
            "Luxembourg",
            "Netherlands",
            "Norway",
            "Poland",
            "Portugal",
            "Spain",
            "Sweden",
            "Switzerland",
            "Turkey",
            "United Kingdom",
            "Iceland",
            "Italy"
           ],
           "marker": {
            "color": [
             1190,
             1055,
             51,
             134,
             222,
             387,
             3486,
             1958,
             1679,
             348,
             37,
             1233,
             1236,
             470,
             7,
             247,
             1564,
             1080,
             757,
             2810,
             0,
             2270
            ],
            "coloraxis": "coloraxis",
            "symbol": "circle"
           },
           "mode": "markers",
           "name": "",
           "showlegend": false,
           "type": "scattergeo"
          }
         ],
         "name": "2009-April"
        },
        {
         "data": [
          {
           "geo": "geo",
           "hovertemplate": "<b>%{hovertext}</b><br><br>Year-Month=2009-May<br>Country=%{location}<br>Refugees=%{marker.color}<extra></extra>",
           "hovertext": [
            "Austria",
            "Belgium",
            "Bulgaria",
            "Czech Rep.",
            "Denmark",
            "Finland",
            "France",
            "Germany",
            "Greece",
            "Hungary",
            "Luxembourg",
            "Netherlands",
            "Norway",
            "Poland",
            "Portugal",
            "Spain",
            "Sweden",
            "Switzerland",
            "Turkey",
            "United Kingdom",
            "Iceland",
            "Italy"
           ],
           "legendgroup": "",
           "locationmode": "country names",
           "locations": [
            "Austria",
            "Belgium",
            "Bulgaria",
            "Czech Rep.",
            "Denmark",
            "Finland",
            "France",
            "Germany",
            "Greece",
            "Hungary",
            "Luxembourg",
            "Netherlands",
            "Norway",
            "Poland",
            "Portugal",
            "Spain",
            "Sweden",
            "Switzerland",
            "Turkey",
            "United Kingdom",
            "Iceland",
            "Italy"
           ],
           "marker": {
            "color": [
             1223,
             1059,
             57,
             115,
             312,
             395,
             2839,
             1899,
             1717,
             349,
             23,
             1022,
             1455,
             521,
             12,
             217,
             1588,
             957,
             532,
             2275,
             2,
             2370
            ],
            "coloraxis": "coloraxis",
            "symbol": "circle"
           },
           "mode": "markers",
           "name": "",
           "showlegend": false,
           "type": "scattergeo"
          }
         ],
         "name": "2009-May"
        },
        {
         "data": [
          {
           "geo": "geo",
           "hovertemplate": "<b>%{hovertext}</b><br><br>Year-Month=2009-June<br>Country=%{location}<br>Refugees=%{marker.color}<extra></extra>",
           "hovertext": [
            "Austria",
            "Belgium",
            "Bulgaria",
            "Czech Rep.",
            "Denmark",
            "Finland",
            "France",
            "Germany",
            "Greece",
            "Hungary",
            "Luxembourg",
            "Netherlands",
            "Norway",
            "Poland",
            "Portugal",
            "Spain",
            "Sweden",
            "Switzerland",
            "Turkey",
            "United Kingdom",
            "Iceland",
            "Italy"
           ],
           "legendgroup": "",
           "locationmode": "country names",
           "locations": [
            "Austria",
            "Belgium",
            "Bulgaria",
            "Czech Rep.",
            "Denmark",
            "Finland",
            "France",
            "Germany",
            "Greece",
            "Hungary",
            "Luxembourg",
            "Netherlands",
            "Norway",
            "Poland",
            "Portugal",
            "Spain",
            "Sweden",
            "Switzerland",
            "Turkey",
            "United Kingdom",
            "Iceland",
            "Italy"
           ],
           "marker": {
            "color": [
             1299,
             1158,
             75,
             90,
             215,
             487,
             3461,
             2005,
             1663,
             310,
             41,
             1216,
             1501,
             1312,
             24,
             272,
             1873,
             1065,
             531,
             2297,
             6,
             1525
            ],
            "coloraxis": "coloraxis",
            "symbol": "circle"
           },
           "mode": "markers",
           "name": "",
           "showlegend": false,
           "type": "scattergeo"
          }
         ],
         "name": "2009-June"
        },
        {
         "data": [
          {
           "geo": "geo",
           "hovertemplate": "<b>%{hovertext}</b><br><br>Year-Month=2009-July<br>Country=%{location}<br>Refugees=%{marker.color}<extra></extra>",
           "hovertext": [
            "Austria",
            "Belgium",
            "Bulgaria",
            "Czech Rep.",
            "Denmark",
            "Finland",
            "France",
            "Germany",
            "Greece",
            "Hungary",
            "Luxembourg",
            "Netherlands",
            "Norway",
            "Poland",
            "Portugal",
            "Spain",
            "Sweden",
            "Switzerland",
            "Turkey",
            "United Kingdom",
            "Iceland",
            "Italy"
           ],
           "legendgroup": "",
           "locationmode": "country names",
           "locations": [
            "Austria",
            "Belgium",
            "Bulgaria",
            "Czech Rep.",
            "Denmark",
            "Finland",
            "France",
            "Germany",
            "Greece",
            "Hungary",
            "Luxembourg",
            "Netherlands",
            "Norway",
            "Poland",
            "Portugal",
            "Spain",
            "Sweden",
            "Switzerland",
            "Turkey",
            "United Kingdom",
            "Iceland",
            "Italy"
           ],
           "marker": {
            "color": [
             1367,
             1288,
             61,
             105,
             238,
             493,
             3548,
             2606,
             1086,
             480,
             46,
             1171,
             1716,
             1565,
             8,
             240,
             2052,
             1164,
             641,
             2250,
             3,
             1425
            ],
            "coloraxis": "coloraxis",
            "symbol": "circle"
           },
           "mode": "markers",
           "name": "",
           "showlegend": false,
           "type": "scattergeo"
          }
         ],
         "name": "2009-July"
        },
        {
         "data": [
          {
           "geo": "geo",
           "hovertemplate": "<b>%{hovertext}</b><br><br>Year-Month=2009-August<br>Country=%{location}<br>Refugees=%{marker.color}<extra></extra>",
           "hovertext": [
            "Austria",
            "Belgium",
            "Bulgaria",
            "Czech Rep.",
            "Denmark",
            "Finland",
            "France",
            "Germany",
            "Greece",
            "Hungary",
            "Luxembourg",
            "Netherlands",
            "Norway",
            "Poland",
            "Portugal",
            "Spain",
            "Sweden",
            "Switzerland",
            "Turkey",
            "United Kingdom",
            "Iceland",
            "Italy"
           ],
           "legendgroup": "",
           "locationmode": "country names",
           "locations": [
            "Austria",
            "Belgium",
            "Bulgaria",
            "Czech Rep.",
            "Denmark",
            "Finland",
            "France",
            "Germany",
            "Greece",
            "Hungary",
            "Luxembourg",
            "Netherlands",
            "Norway",
            "Poland",
            "Portugal",
            "Spain",
            "Sweden",
            "Switzerland",
            "Turkey",
            "United Kingdom",
            "Iceland",
            "Italy"
           ],
           "marker": {
            "color": [
             1283,
             1354,
             53,
             85,
             328,
             555,
             3173,
             2527,
             496,
             431,
             47,
             1033,
             1756,
             2075,
             7,
             174,
             2389,
             1102,
             594,
             2003,
             11,
             565
            ],
            "coloraxis": "coloraxis",
            "symbol": "circle"
           },
           "mode": "markers",
           "name": "",
           "showlegend": false,
           "type": "scattergeo"
          }
         ],
         "name": "2009-August"
        },
        {
         "data": [
          {
           "geo": "geo",
           "hovertemplate": "<b>%{hovertext}</b><br><br>Year-Month=2009-September<br>Country=%{location}<br>Refugees=%{marker.color}<extra></extra>",
           "hovertext": [
            "Austria",
            "Belgium",
            "Bulgaria",
            "Czech Rep.",
            "Denmark",
            "Finland",
            "France",
            "Germany",
            "Greece",
            "Hungary",
            "Luxembourg",
            "Netherlands",
            "Norway",
            "Poland",
            "Portugal",
            "Spain",
            "Sweden",
            "Switzerland",
            "Turkey",
            "United Kingdom",
            "Iceland",
            "Italy"
           ],
           "legendgroup": "",
           "locationmode": "country names",
           "locations": [
            "Austria",
            "Belgium",
            "Bulgaria",
            "Czech Rep.",
            "Denmark",
            "Finland",
            "France",
            "Germany",
            "Greece",
            "Hungary",
            "Luxembourg",
            "Netherlands",
            "Norway",
            "Poland",
            "Portugal",
            "Spain",
            "Sweden",
            "Switzerland",
            "Turkey",
            "United Kingdom",
            "Iceland",
            "Italy"
           ],
           "marker": {
            "color": [
             1446,
             1643,
             68,
             86,
             384,
             569,
             3463,
             2703,
             1584,
             476,
             61,
             1327,
             1578,
             995,
             9,
             266,
             2204,
             1113,
             668,
             2021,
             1,
             1065
            ],
            "coloraxis": "coloraxis",
            "symbol": "circle"
           },
           "mode": "markers",
           "name": "",
           "showlegend": false,
           "type": "scattergeo"
          }
         ],
         "name": "2009-September"
        },
        {
         "data": [
          {
           "geo": "geo",
           "hovertemplate": "<b>%{hovertext}</b><br><br>Year-Month=2009-October<br>Country=%{location}<br>Refugees=%{marker.color}<extra></extra>",
           "hovertext": [
            "Austria",
            "Belgium",
            "Bulgaria",
            "Czech Rep.",
            "Denmark",
            "Finland",
            "France",
            "Germany",
            "Greece",
            "Hungary",
            "Luxembourg",
            "Netherlands",
            "Norway",
            "Poland",
            "Portugal",
            "Spain",
            "Sweden",
            "Switzerland",
            "Turkey",
            "United Kingdom",
            "Iceland",
            "Italy"
           ],
           "legendgroup": "",
           "locationmode": "country names",
           "locations": [
            "Austria",
            "Belgium",
            "Bulgaria",
            "Czech Rep.",
            "Denmark",
            "Finland",
            "France",
            "Germany",
            "Greece",
            "Hungary",
            "Luxembourg",
            "Netherlands",
            "Norway",
            "Poland",
            "Portugal",
            "Spain",
            "Sweden",
            "Switzerland",
            "Turkey",
            "United Kingdom",
            "Iceland",
            "Italy"
           ],
           "marker": {
            "color": [
             1468,
             1941,
             75,
             99,
             389,
             531,
             4113,
             2692,
             1136,
             519,
             34,
             1573,
             1435,
             890,
             13,
             293,
             2321,
             1162,
             644,
             2228,
             4,
             1295
            ],
            "coloraxis": "coloraxis",
            "symbol": "circle"
           },
           "mode": "markers",
           "name": "",
           "showlegend": false,
           "type": "scattergeo"
          }
         ],
         "name": "2009-October"
        },
        {
         "data": [
          {
           "geo": "geo",
           "hovertemplate": "<b>%{hovertext}</b><br><br>Year-Month=2009-November<br>Country=%{location}<br>Refugees=%{marker.color}<extra></extra>",
           "hovertext": [
            "Austria",
            "Belgium",
            "Bulgaria",
            "Czech Rep.",
            "Denmark",
            "Finland",
            "France",
            "Germany",
            "Greece",
            "Hungary",
            "Luxembourg",
            "Netherlands",
            "Norway",
            "Poland",
            "Portugal",
            "Spain",
            "Sweden",
            "Switzerland",
            "Turkey",
            "United Kingdom",
            "Iceland",
            "Italy"
           ],
           "legendgroup": "",
           "locationmode": "country names",
           "locations": [
            "Austria",
            "Belgium",
            "Bulgaria",
            "Czech Rep.",
            "Denmark",
            "Finland",
            "France",
            "Germany",
            "Greece",
            "Hungary",
            "Luxembourg",
            "Netherlands",
            "Norway",
            "Poland",
            "Portugal",
            "Spain",
            "Sweden",
            "Switzerland",
            "Turkey",
            "United Kingdom",
            "Iceland",
            "Italy"
           ],
           "marker": {
            "color": [
             1319,
             2057,
             99,
             82,
             426,
             474,
             3698,
             2518,
             961,
             253,
             58,
             1468,
             1149,
             695,
             7,
             216,
             2402,
             1241,
             579,
             2101,
             3,
             1850
            ],
            "coloraxis": "coloraxis",
            "symbol": "circle"
           },
           "mode": "markers",
           "name": "",
           "showlegend": false,
           "type": "scattergeo"
          }
         ],
         "name": "2009-November"
        },
        {
         "data": [
          {
           "geo": "geo",
           "hovertemplate": "<b>%{hovertext}</b><br><br>Year-Month=2009-December<br>Country=%{location}<br>Refugees=%{marker.color}<extra></extra>",
           "hovertext": [
            "Austria",
            "Belgium",
            "Bulgaria",
            "Czech Rep.",
            "Denmark",
            "Finland",
            "France",
            "Germany",
            "Greece",
            "Hungary",
            "Luxembourg",
            "Netherlands",
            "Norway",
            "Poland",
            "Portugal",
            "Spain",
            "Sweden",
            "Switzerland",
            "Turkey",
            "United Kingdom",
            "Iceland",
            "Italy"
           ],
           "legendgroup": "",
           "locationmode": "country names",
           "locations": [
            "Austria",
            "Belgium",
            "Bulgaria",
            "Czech Rep.",
            "Denmark",
            "Finland",
            "France",
            "Germany",
            "Greece",
            "Hungary",
            "Luxembourg",
            "Netherlands",
            "Norway",
            "Poland",
            "Portugal",
            "Spain",
            "Sweden",
            "Switzerland",
            "Turkey",
            "United Kingdom",
            "Iceland",
            "Italy"
           ],
           "marker": {
            "color": [
             1457,
             2352,
             86,
             86,
             397,
             567,
             3885,
             2170,
             888,
             244,
             64,
             1239,
             1035,
             907,
             9,
             176,
             2469,
             1044,
             425,
             1568,
             1,
             650
            ],
            "coloraxis": "coloraxis",
            "symbol": "circle"
           },
           "mode": "markers",
           "name": "",
           "showlegend": false,
           "type": "scattergeo"
          }
         ],
         "name": "2009-December"
        },
        {
         "data": [
          {
           "geo": "geo",
           "hovertemplate": "<b>%{hovertext}</b><br><br>Year-Month=2010-January<br>Country=%{location}<br>Refugees=%{marker.color}<extra></extra>",
           "hovertext": [
            "Austria",
            "Belgium",
            "Bulgaria",
            "Czech Rep.",
            "Denmark",
            "Finland",
            "France",
            "Germany",
            "Greece",
            "Hungary",
            "Luxembourg",
            "Netherlands",
            "Norway",
            "Poland",
            "Portugal",
            "Spain",
            "Sweden",
            "Switzerland",
            "Turkey",
            "United Kingdom",
            "Iceland",
            "Italy"
           ],
           "legendgroup": "",
           "locationmode": "country names",
           "locations": [
            "Austria",
            "Belgium",
            "Bulgaria",
            "Czech Rep.",
            "Denmark",
            "Finland",
            "France",
            "Germany",
            "Greece",
            "Hungary",
            "Luxembourg",
            "Netherlands",
            "Norway",
            "Poland",
            "Portugal",
            "Spain",
            "Sweden",
            "Switzerland",
            "Turkey",
            "United Kingdom",
            "Iceland",
            "Italy"
           ],
           "marker": {
            "color": [
             798,
             1602,
             98,
             35,
             408,
             419,
             3320,
             2716,
             652,
             274,
             48,
             1300,
             805,
             389,
             10,
             177,
             2226,
             1083,
             658,
             1727,
             3,
             1011
            ],
            "coloraxis": "coloraxis",
            "symbol": "circle"
           },
           "mode": "markers",
           "name": "",
           "showlegend": false,
           "type": "scattergeo"
          }
         ],
         "name": "2010-January"
        },
        {
         "data": [
          {
           "geo": "geo",
           "hovertemplate": "<b>%{hovertext}</b><br><br>Year-Month=2010-February<br>Country=%{location}<br>Refugees=%{marker.color}<extra></extra>",
           "hovertext": [
            "Austria",
            "Belgium",
            "Bulgaria",
            "Czech Rep.",
            "Denmark",
            "Finland",
            "France",
            "Germany",
            "Greece",
            "Hungary",
            "Luxembourg",
            "Netherlands",
            "Norway",
            "Poland",
            "Portugal",
            "Spain",
            "Sweden",
            "Switzerland",
            "Turkey",
            "United Kingdom",
            "Iceland",
            "Italy"
           ],
           "legendgroup": "",
           "locationmode": "country names",
           "locations": [
            "Austria",
            "Belgium",
            "Bulgaria",
            "Czech Rep.",
            "Denmark",
            "Finland",
            "France",
            "Germany",
            "Greece",
            "Hungary",
            "Luxembourg",
            "Netherlands",
            "Norway",
            "Poland",
            "Portugal",
            "Spain",
            "Sweden",
            "Switzerland",
            "Turkey",
            "United Kingdom",
            "Iceland",
            "Italy"
           ],
           "marker": {
            "color": [
             792,
             2488,
             85,
             41,
             412,
             342,
             4348,
             2453,
             744,
             254,
             53,
             1156,
             681,
             410,
             18,
             230,
             2321,
             1028,
             438,
             1800,
             2,
             675
            ],
            "coloraxis": "coloraxis",
            "symbol": "circle"
           },
           "mode": "markers",
           "name": "",
           "showlegend": false,
           "type": "scattergeo"
          }
         ],
         "name": "2010-February"
        },
        {
         "data": [
          {
           "geo": "geo",
           "hovertemplate": "<b>%{hovertext}</b><br><br>Year-Month=2010-March<br>Country=%{location}<br>Refugees=%{marker.color}<extra></extra>",
           "hovertext": [
            "Austria",
            "Belgium",
            "Bulgaria",
            "Czech Rep.",
            "Denmark",
            "Finland",
            "France",
            "Germany",
            "Greece",
            "Hungary",
            "Luxembourg",
            "Netherlands",
            "Norway",
            "Poland",
            "Portugal",
            "Spain",
            "Sweden",
            "Switzerland",
            "Turkey",
            "United Kingdom",
            "Iceland",
            "Italy"
           ],
           "legendgroup": "",
           "locationmode": "country names",
           "locations": [
            "Austria",
            "Belgium",
            "Bulgaria",
            "Czech Rep.",
            "Denmark",
            "Finland",
            "France",
            "Germany",
            "Greece",
            "Hungary",
            "Luxembourg",
            "Netherlands",
            "Norway",
            "Poland",
            "Portugal",
            "Spain",
            "Sweden",
            "Switzerland",
            "Turkey",
            "United Kingdom",
            "Iceland",
            "Italy"
           ],
           "marker": {
            "color": [
             874,
             1564,
             100,
             53,
             374,
             430,
             4593,
             2716,
             798,
             232,
             17,
             1347,
             867,
             604,
             8,
             225,
             3570,
             1172,
             605,
             1876,
             2,
             1035
            ],
            "coloraxis": "coloraxis",
            "symbol": "circle"
           },
           "mode": "markers",
           "name": "",
           "showlegend": false,
           "type": "scattergeo"
          }
         ],
         "name": "2010-March"
        },
        {
         "data": [
          {
           "geo": "geo",
           "hovertemplate": "<b>%{hovertext}</b><br><br>Year-Month=2010-April<br>Country=%{location}<br>Refugees=%{marker.color}<extra></extra>",
           "hovertext": [
            "Austria",
            "Belgium",
            "Bulgaria",
            "Czech Rep.",
            "Denmark",
            "Finland",
            "France",
            "Germany",
            "Greece",
            "Hungary",
            "Luxembourg",
            "Netherlands",
            "Norway",
            "Poland",
            "Portugal",
            "Spain",
            "Sweden",
            "Switzerland",
            "Turkey",
            "United Kingdom",
            "Iceland",
            "Italy"
           ],
           "legendgroup": "",
           "locationmode": "country names",
           "locations": [
            "Austria",
            "Belgium",
            "Bulgaria",
            "Czech Rep.",
            "Denmark",
            "Finland",
            "France",
            "Germany",
            "Greece",
            "Hungary",
            "Luxembourg",
            "Netherlands",
            "Norway",
            "Poland",
            "Portugal",
            "Spain",
            "Sweden",
            "Switzerland",
            "Turkey",
            "United Kingdom",
            "Iceland",
            "Italy"
           ],
           "marker": {
            "color": [
             757,
             1166,
             76,
             38,
             354,
             314,
             3836,
             2457,
             659,
             241,
             45,
             950,
             527,
             502,
             10,
             198,
             2145,
             1052,
             474,
             1854,
             2,
             728
            ],
            "coloraxis": "coloraxis",
            "symbol": "circle"
           },
           "mode": "markers",
           "name": "",
           "showlegend": false,
           "type": "scattergeo"
          }
         ],
         "name": "2010-April"
        },
        {
         "data": [
          {
           "geo": "geo",
           "hovertemplate": "<b>%{hovertext}</b><br><br>Year-Month=2010-May<br>Country=%{location}<br>Refugees=%{marker.color}<extra></extra>",
           "hovertext": [
            "Austria",
            "Belgium",
            "Bulgaria",
            "Czech Rep.",
            "Denmark",
            "Finland",
            "France",
            "Germany",
            "Greece",
            "Hungary",
            "Luxembourg",
            "Netherlands",
            "Norway",
            "Poland",
            "Portugal",
            "Spain",
            "Sweden",
            "Switzerland",
            "Turkey",
            "United Kingdom",
            "Iceland",
            "Italy"
           ],
           "legendgroup": "",
           "locationmode": "country names",
           "locations": [
            "Austria",
            "Belgium",
            "Bulgaria",
            "Czech Rep.",
            "Denmark",
            "Finland",
            "France",
            "Germany",
            "Greece",
            "Hungary",
            "Luxembourg",
            "Netherlands",
            "Norway",
            "Poland",
            "Portugal",
            "Spain",
            "Sweden",
            "Switzerland",
            "Turkey",
            "United Kingdom",
            "Iceland",
            "Italy"
           ],
           "marker": {
            "color": [
             909,
             1287,
             54,
             34,
             393,
             362,
             3729,
             2417,
             838,
             221,
             47,
             755,
             623,
             487,
             16,
             180,
             1874,
             944,
             540,
             1738,
             4,
             946
            ],
            "coloraxis": "coloraxis",
            "symbol": "circle"
           },
           "mode": "markers",
           "name": "",
           "showlegend": false,
           "type": "scattergeo"
          }
         ],
         "name": "2010-May"
        },
        {
         "data": [
          {
           "geo": "geo",
           "hovertemplate": "<b>%{hovertext}</b><br><br>Year-Month=2010-June<br>Country=%{location}<br>Refugees=%{marker.color}<extra></extra>",
           "hovertext": [
            "Austria",
            "Belgium",
            "Bulgaria",
            "Czech Rep.",
            "Denmark",
            "Finland",
            "France",
            "Germany",
            "Greece",
            "Hungary",
            "Luxembourg",
            "Netherlands",
            "Norway",
            "Poland",
            "Portugal",
            "Spain",
            "Sweden",
            "Switzerland",
            "Turkey",
            "United Kingdom",
            "Iceland",
            "Italy"
           ],
           "legendgroup": "",
           "locationmode": "country names",
           "locations": [
            "Austria",
            "Belgium",
            "Bulgaria",
            "Czech Rep.",
            "Denmark",
            "Finland",
            "France",
            "Germany",
            "Greece",
            "Hungary",
            "Luxembourg",
            "Netherlands",
            "Norway",
            "Poland",
            "Portugal",
            "Spain",
            "Sweden",
            "Switzerland",
            "Turkey",
            "United Kingdom",
            "Iceland",
            "Italy"
           ],
           "marker": {
            "color": [
             899,
             1354,
             83,
             36,
             311,
             371,
             3803,
             2894,
             1010,
             187,
             46,
             893,
             667,
             532,
             15,
             200,
             1914,
             1105,
             620,
             1867,
             4,
             973
            ],
            "coloraxis": "coloraxis",
            "symbol": "circle"
           },
           "mode": "markers",
           "name": "",
           "showlegend": false,
           "type": "scattergeo"
          }
         ],
         "name": "2010-June"
        },
        {
         "data": [
          {
           "geo": "geo",
           "hovertemplate": "<b>%{hovertext}</b><br><br>Year-Month=2010-July<br>Country=%{location}<br>Refugees=%{marker.color}<extra></extra>",
           "hovertext": [
            "Austria",
            "Belgium",
            "Bulgaria",
            "Czech Rep.",
            "Denmark",
            "Finland",
            "France",
            "Germany",
            "Greece",
            "Hungary",
            "Luxembourg",
            "Netherlands",
            "Norway",
            "Poland",
            "Portugal",
            "Spain",
            "Sweden",
            "Switzerland",
            "Turkey",
            "United Kingdom",
            "Iceland",
            "Italy"
           ],
           "legendgroup": "",
           "locationmode": "country names",
           "locations": [
            "Austria",
            "Belgium",
            "Bulgaria",
            "Czech Rep.",
            "Denmark",
            "Finland",
            "France",
            "Germany",
            "Greece",
            "Hungary",
            "Luxembourg",
            "Netherlands",
            "Norway",
            "Poland",
            "Portugal",
            "Spain",
            "Sweden",
            "Switzerland",
            "Turkey",
            "United Kingdom",
            "Iceland",
            "Italy"
           ],
           "marker": {
            "color": [
             906,
             1574,
             93,
             36,
             366,
             316,
             3738,
             3380,
             989,
             480,
             44,
             832,
             836,
             448,
             15,
             252,
             1900,
             969,
             591,
             1780,
             2,
             813
            ],
            "coloraxis": "coloraxis",
            "symbol": "circle"
           },
           "mode": "markers",
           "name": "",
           "showlegend": false,
           "type": "scattergeo"
          }
         ],
         "name": "2010-July"
        },
        {
         "data": [
          {
           "geo": "geo",
           "hovertemplate": "<b>%{hovertext}</b><br><br>Year-Month=2010-August<br>Country=%{location}<br>Refugees=%{marker.color}<extra></extra>",
           "hovertext": [
            "Austria",
            "Belgium",
            "Bulgaria",
            "Czech Rep.",
            "Denmark",
            "Finland",
            "France",
            "Germany",
            "Greece",
            "Hungary",
            "Luxembourg",
            "Netherlands",
            "Norway",
            "Poland",
            "Portugal",
            "Spain",
            "Sweden",
            "Switzerland",
            "Turkey",
            "United Kingdom",
            "Iceland",
            "Italy"
           ],
           "legendgroup": "",
           "locationmode": "country names",
           "locations": [
            "Austria",
            "Belgium",
            "Bulgaria",
            "Czech Rep.",
            "Denmark",
            "Finland",
            "France",
            "Germany",
            "Greece",
            "Hungary",
            "Luxembourg",
            "Netherlands",
            "Norway",
            "Poland",
            "Portugal",
            "Spain",
            "Sweden",
            "Switzerland",
            "Turkey",
            "United Kingdom",
            "Iceland",
            "Italy"
           ],
           "marker": {
            "color": [
             1241,
             1879,
             94,
             58,
             527,
             311,
             3604,
             4101,
             886,
             111,
             51,
             1061,
             936,
             701,
             19,
             254,
             2743,
             1182,
             989,
             1756,
             13,
             513
            ],
            "coloraxis": "coloraxis",
            "symbol": "circle"
           },
           "mode": "markers",
           "name": "",
           "showlegend": false,
           "type": "scattergeo"
          }
         ],
         "name": "2010-August"
        },
        {
         "data": [
          {
           "geo": "geo",
           "hovertemplate": "<b>%{hovertext}</b><br><br>Year-Month=2010-September<br>Country=%{location}<br>Refugees=%{marker.color}<extra></extra>",
           "hovertext": [
            "Austria",
            "Belgium",
            "Bulgaria",
            "Czech Rep.",
            "Denmark",
            "Finland",
            "France",
            "Germany",
            "Greece",
            "Hungary",
            "Luxembourg",
            "Netherlands",
            "Norway",
            "Poland",
            "Portugal",
            "Spain",
            "Sweden",
            "Switzerland",
            "Turkey",
            "United Kingdom",
            "Iceland",
            "Italy"
           ],
           "legendgroup": "",
           "locationmode": "country names",
           "locations": [
            "Austria",
            "Belgium",
            "Bulgaria",
            "Czech Rep.",
            "Denmark",
            "Finland",
            "France",
            "Germany",
            "Greece",
            "Hungary",
            "Luxembourg",
            "Netherlands",
            "Norway",
            "Poland",
            "Portugal",
            "Spain",
            "Sweden",
            "Switzerland",
            "Turkey",
            "United Kingdom",
            "Iceland",
            "Italy"
           ],
           "marker": {
            "color": [
             962,
             2036,
             77,
             25,
             447,
             338,
             3812,
             4769,
             1311,
             115,
             91,
             1244,
             879,
             677,
             15,
             284,
             3874,
             1208,
             1013,
             1930,
             4,
             813
            ],
            "coloraxis": "coloraxis",
            "symbol": "circle"
           },
           "mode": "markers",
           "name": "",
           "showlegend": false,
           "type": "scattergeo"
          }
         ],
         "name": "2010-September"
        },
        {
         "data": [
          {
           "geo": "geo",
           "hovertemplate": "<b>%{hovertext}</b><br><br>Year-Month=2010-October<br>Country=%{location}<br>Refugees=%{marker.color}<extra></extra>",
           "hovertext": [
            "Austria",
            "Belgium",
            "Bulgaria",
            "Czech Rep.",
            "Denmark",
            "Finland",
            "France",
            "Germany",
            "Greece",
            "Hungary",
            "Luxembourg",
            "Netherlands",
            "Norway",
            "Poland",
            "Portugal",
            "Spain",
            "Sweden",
            "Switzerland",
            "Turkey",
            "United Kingdom",
            "Iceland",
            "Italy"
           ],
           "legendgroup": "",
           "locationmode": "country names",
           "locations": [
            "Austria",
            "Belgium",
            "Bulgaria",
            "Czech Rep.",
            "Denmark",
            "Finland",
            "France",
            "Germany",
            "Greece",
            "Hungary",
            "Luxembourg",
            "Netherlands",
            "Norway",
            "Poland",
            "Portugal",
            "Spain",
            "Sweden",
            "Switzerland",
            "Turkey",
            "United Kingdom",
            "Iceland",
            "Italy"
           ],
           "marker": {
            "color": [
             972,
             2314,
             65,
             29,
             531,
             295,
             4609,
             4977,
             1078,
             116,
             97,
             1314,
             888,
             631,
             11,
             241,
             4196,
             1231,
             1001,
             2022,
             11,
             868
            ],
            "coloraxis": "coloraxis",
            "symbol": "circle"
           },
           "mode": "markers",
           "name": "",
           "showlegend": false,
           "type": "scattergeo"
          }
         ],
         "name": "2010-October"
        },
        {
         "data": [
          {
           "geo": "geo",
           "hovertemplate": "<b>%{hovertext}</b><br><br>Year-Month=2010-November<br>Country=%{location}<br>Refugees=%{marker.color}<extra></extra>",
           "hovertext": [
            "Austria",
            "Belgium",
            "Bulgaria",
            "Czech Rep.",
            "Denmark",
            "Finland",
            "France",
            "Germany",
            "Greece",
            "Hungary",
            "Luxembourg",
            "Netherlands",
            "Norway",
            "Poland",
            "Portugal",
            "Spain",
            "Sweden",
            "Switzerland",
            "Turkey",
            "United Kingdom",
            "Iceland",
            "Italy"
           ],
           "legendgroup": "",
           "locationmode": "country names",
           "locations": [
            "Austria",
            "Belgium",
            "Bulgaria",
            "Czech Rep.",
            "Denmark",
            "Finland",
            "France",
            "Germany",
            "Greece",
            "Hungary",
            "Luxembourg",
            "Netherlands",
            "Norway",
            "Poland",
            "Portugal",
            "Spain",
            "Sweden",
            "Switzerland",
            "Turkey",
            "United Kingdom",
            "Iceland",
            "Italy"
           ],
           "marker": {
            "color": [
             997,
             2242,
             93,
             48,
             411,
             242,
             3881,
             4753,
             912,
             131,
             107,
             1432,
             795,
             550,
             7,
             289,
             2832,
             1353,
             985,
             2045,
             1,
             1040
            ],
            "coloraxis": "coloraxis",
            "symbol": "circle"
           },
           "mode": "markers",
           "name": "",
           "showlegend": false,
           "type": "scattergeo"
          }
         ],
         "name": "2010-November"
        },
        {
         "data": [
          {
           "geo": "geo",
           "hovertemplate": "<b>%{hovertext}</b><br><br>Year-Month=2010-December<br>Country=%{location}<br>Refugees=%{marker.color}<extra></extra>",
           "hovertext": [
            "Austria",
            "Belgium",
            "Bulgaria",
            "Czech Rep.",
            "Denmark",
            "Finland",
            "France",
            "Germany",
            "Greece",
            "Hungary",
            "Luxembourg",
            "Netherlands",
            "Norway",
            "Poland",
            "Portugal",
            "Spain",
            "Sweden",
            "Switzerland",
            "Turkey",
            "United Kingdom",
            "Iceland",
            "Italy"
           ],
           "legendgroup": "",
           "locationmode": "country names",
           "locations": [
            "Austria",
            "Belgium",
            "Bulgaria",
            "Czech Rep.",
            "Denmark",
            "Finland",
            "France",
            "Germany",
            "Greece",
            "Hungary",
            "Luxembourg",
            "Netherlands",
            "Norway",
            "Poland",
            "Portugal",
            "Spain",
            "Sweden",
            "Switzerland",
            "Turkey",
            "United Kingdom",
            "Iceland",
            "Italy"
           ],
           "marker": {
            "color": [
             905,
             2243,
             107,
             52,
             431,
             278,
             4518,
             3699,
             396,
             102,
             100,
             1049,
             719,
             609,
             16,
             208,
             2224,
             1194,
             1312,
             1690,
             3,
             637
            ],
            "coloraxis": "coloraxis",
            "symbol": "circle"
           },
           "mode": "markers",
           "name": "",
           "showlegend": false,
           "type": "scattergeo"
          }
         ],
         "name": "2010-December"
        },
        {
         "data": [
          {
           "geo": "geo",
           "hovertemplate": "<b>%{hovertext}</b><br><br>Year-Month=2011-January<br>Country=%{location}<br>Refugees=%{marker.color}<extra></extra>",
           "hovertext": [
            "Austria",
            "Belgium",
            "Bulgaria",
            "Czech Rep.",
            "Denmark",
            "Finland",
            "France",
            "Germany",
            "Greece",
            "Hungary",
            "Luxembourg",
            "Netherlands",
            "Norway",
            "Poland",
            "Portugal",
            "Spain",
            "Sweden",
            "Switzerland",
            "Turkey",
            "United Kingdom",
            "Iceland",
            "Italy"
           ],
           "legendgroup": "",
           "locationmode": "country names",
           "locations": [
            "Austria",
            "Belgium",
            "Bulgaria",
            "Czech Rep.",
            "Denmark",
            "Finland",
            "France",
            "Germany",
            "Greece",
            "Hungary",
            "Luxembourg",
            "Netherlands",
            "Norway",
            "Poland",
            "Portugal",
            "Spain",
            "Sweden",
            "Switzerland",
            "Turkey",
            "United Kingdom",
            "Iceland",
            "Italy"
           ],
           "marker": {
            "color": [
             882,
             1934,
             102,
             36,
             365,
             258,
             4153,
             3901,
             606,
             117,
             116,
             1051,
             766,
             126,
             10,
             238,
             1963,
             1058,
             914,
             2085,
             0,
             842
            ],
            "coloraxis": "coloraxis",
            "symbol": "circle"
           },
           "mode": "markers",
           "name": "",
           "showlegend": false,
           "type": "scattergeo"
          }
         ],
         "name": "2011-January"
        },
        {
         "data": [
          {
           "geo": "geo",
           "hovertemplate": "<b>%{hovertext}</b><br><br>Year-Month=2011-February<br>Country=%{location}<br>Refugees=%{marker.color}<extra></extra>",
           "hovertext": [
            "Austria",
            "Belgium",
            "Bulgaria",
            "Czech Rep.",
            "Denmark",
            "Finland",
            "France",
            "Germany",
            "Greece",
            "Hungary",
            "Luxembourg",
            "Netherlands",
            "Norway",
            "Poland",
            "Portugal",
            "Spain",
            "Sweden",
            "Switzerland",
            "Turkey",
            "United Kingdom",
            "Iceland",
            "Italy"
           ],
           "legendgroup": "",
           "locationmode": "country names",
           "locations": [
            "Austria",
            "Belgium",
            "Bulgaria",
            "Czech Rep.",
            "Denmark",
            "Finland",
            "France",
            "Germany",
            "Greece",
            "Hungary",
            "Luxembourg",
            "Netherlands",
            "Norway",
            "Poland",
            "Portugal",
            "Spain",
            "Sweden",
            "Switzerland",
            "Turkey",
            "United Kingdom",
            "Iceland",
            "Italy"
           ],
           "marker": {
            "color": [
             908,
             1931,
             78,
             32,
             277,
             210,
             4323,
             3370,
             920,
             88,
             147,
             918,
             605,
             259,
             20,
             333,
             1948,
             1062,
             848,
             1925,
             3,
             2495
            ],
            "coloraxis": "coloraxis",
            "symbol": "circle"
           },
           "mode": "markers",
           "name": "",
           "showlegend": false,
           "type": "scattergeo"
          }
         ],
         "name": "2011-February"
        },
        {
         "data": [
          {
           "geo": "geo",
           "hovertemplate": "<b>%{hovertext}</b><br><br>Year-Month=2011-March<br>Country=%{location}<br>Refugees=%{marker.color}<extra></extra>",
           "hovertext": [
            "Austria",
            "Belgium",
            "Bulgaria",
            "Czech Rep.",
            "Denmark",
            "Finland",
            "France",
            "Germany",
            "Greece",
            "Hungary",
            "Luxembourg",
            "Netherlands",
            "Norway",
            "Poland",
            "Portugal",
            "Spain",
            "Sweden",
            "Switzerland",
            "Turkey",
            "United Kingdom",
            "Iceland",
            "Italy"
           ],
           "legendgroup": "",
           "locationmode": "country names",
           "locations": [
            "Austria",
            "Belgium",
            "Bulgaria",
            "Czech Rep.",
            "Denmark",
            "Finland",
            "France",
            "Germany",
            "Greece",
            "Hungary",
            "Luxembourg",
            "Netherlands",
            "Norway",
            "Poland",
            "Portugal",
            "Spain",
            "Sweden",
            "Switzerland",
            "Turkey",
            "United Kingdom",
            "Iceland",
            "Italy"
           ],
           "marker": {
            "color": [
             967,
             2395,
             59,
             42,
             317,
             244,
             4910,
             3625,
             1003,
             136,
             237,
             893,
             640,
             331,
             13,
             366,
             2303,
             1602,
             891,
             2204,
             6,
             2989
            ],
            "coloraxis": "coloraxis",
            "symbol": "circle"
           },
           "mode": "markers",
           "name": "",
           "showlegend": false,
           "type": "scattergeo"
          }
         ],
         "name": "2011-March"
        },
        {
         "data": [
          {
           "geo": "geo",
           "hovertemplate": "<b>%{hovertext}</b><br><br>Year-Month=2011-April<br>Country=%{location}<br>Refugees=%{marker.color}<extra></extra>",
           "hovertext": [
            "Austria",
            "Belgium",
            "Bulgaria",
            "Czech Rep.",
            "Denmark",
            "Finland",
            "France",
            "Germany",
            "Greece",
            "Hungary",
            "Luxembourg",
            "Netherlands",
            "Norway",
            "Poland",
            "Portugal",
            "Spain",
            "Sweden",
            "Switzerland",
            "Turkey",
            "United Kingdom",
            "Iceland",
            "Italy"
           ],
           "legendgroup": "",
           "locationmode": "country names",
           "locations": [
            "Austria",
            "Belgium",
            "Bulgaria",
            "Czech Rep.",
            "Denmark",
            "Finland",
            "France",
            "Germany",
            "Greece",
            "Hungary",
            "Luxembourg",
            "Netherlands",
            "Norway",
            "Poland",
            "Portugal",
            "Spain",
            "Sweden",
            "Switzerland",
            "Turkey",
            "United Kingdom",
            "Iceland",
            "Italy"
           ],
           "marker": {
            "color": [
             980,
             2105,
             47,
             35,
             286,
             200,
             4778,
             3031,
             453,
             164,
             147,
             820,
             627,
             294,
             16,
             430,
             2040,
             1303,
             713,
             1979,
             7,
             2009
            ],
            "coloraxis": "coloraxis",
            "symbol": "circle"
           },
           "mode": "markers",
           "name": "",
           "showlegend": false,
           "type": "scattergeo"
          }
         ],
         "name": "2011-April"
        },
        {
         "data": [
          {
           "geo": "geo",
           "hovertemplate": "<b>%{hovertext}</b><br><br>Year-Month=2011-May<br>Country=%{location}<br>Refugees=%{marker.color}<extra></extra>",
           "hovertext": [
            "Austria",
            "Belgium",
            "Bulgaria",
            "Czech Rep.",
            "Denmark",
            "Finland",
            "France",
            "Germany",
            "Greece",
            "Hungary",
            "Luxembourg",
            "Netherlands",
            "Norway",
            "Poland",
            "Portugal",
            "Spain",
            "Sweden",
            "Switzerland",
            "Turkey",
            "United Kingdom",
            "Iceland",
            "Italy"
           ],
           "legendgroup": "",
           "locationmode": "country names",
           "locations": [
            "Austria",
            "Belgium",
            "Bulgaria",
            "Czech Rep.",
            "Denmark",
            "Finland",
            "France",
            "Germany",
            "Greece",
            "Hungary",
            "Luxembourg",
            "Netherlands",
            "Norway",
            "Poland",
            "Portugal",
            "Spain",
            "Sweden",
            "Switzerland",
            "Turkey",
            "United Kingdom",
            "Iceland",
            "Italy"
           ],
           "marker": {
            "color": [
             996,
             1876,
             24,
             40,
             285,
             225,
             4618,
             3501,
             815,
             105,
             134,
             1049,
             818,
             355,
             22,
             363,
             2378,
             2019,
             785,
             2033,
             14,
             6879
            ],
            "coloraxis": "coloraxis",
            "symbol": "circle"
           },
           "mode": "markers",
           "name": "",
           "showlegend": false,
           "type": "scattergeo"
          }
         ],
         "name": "2011-May"
        },
        {
         "data": [
          {
           "geo": "geo",
           "hovertemplate": "<b>%{hovertext}</b><br><br>Year-Month=2011-June<br>Country=%{location}<br>Refugees=%{marker.color}<extra></extra>",
           "hovertext": [
            "Austria",
            "Belgium",
            "Bulgaria",
            "Czech Rep.",
            "Denmark",
            "Finland",
            "France",
            "Germany",
            "Greece",
            "Hungary",
            "Luxembourg",
            "Netherlands",
            "Norway",
            "Poland",
            "Portugal",
            "Spain",
            "Sweden",
            "Switzerland",
            "Turkey",
            "United Kingdom",
            "Iceland",
            "Italy"
           ],
           "legendgroup": "",
           "locationmode": "country names",
           "locations": [
            "Austria",
            "Belgium",
            "Bulgaria",
            "Czech Rep.",
            "Denmark",
            "Finland",
            "France",
            "Germany",
            "Greece",
            "Hungary",
            "Luxembourg",
            "Netherlands",
            "Norway",
            "Poland",
            "Portugal",
            "Spain",
            "Sweden",
            "Switzerland",
            "Turkey",
            "United Kingdom",
            "Iceland",
            "Italy"
           ],
           "marker": {
            "color": [
             1079,
             1738,
             47,
             29,
             254,
             237,
             4103,
             3255,
             685,
             158,
             114,
             979,
             777,
             387,
             15,
             217,
             1963,
             1436,
             1030,
             2213,
             2,
             6425
            ],
            "coloraxis": "coloraxis",
            "symbol": "circle"
           },
           "mode": "markers",
           "name": "",
           "showlegend": false,
           "type": "scattergeo"
          }
         ],
         "name": "2011-June"
        },
        {
         "data": [
          {
           "geo": "geo",
           "hovertemplate": "<b>%{hovertext}</b><br><br>Year-Month=2011-July<br>Country=%{location}<br>Refugees=%{marker.color}<extra></extra>",
           "hovertext": [
            "Austria",
            "Belgium",
            "Bulgaria",
            "Czech Rep.",
            "Denmark",
            "Finland",
            "France",
            "Germany",
            "Greece",
            "Hungary",
            "Luxembourg",
            "Netherlands",
            "Norway",
            "Poland",
            "Portugal",
            "Spain",
            "Sweden",
            "Switzerland",
            "Turkey",
            "United Kingdom",
            "Iceland",
            "Italy"
           ],
           "legendgroup": "",
           "locationmode": "country names",
           "locations": [
            "Austria",
            "Belgium",
            "Bulgaria",
            "Czech Rep.",
            "Denmark",
            "Finland",
            "France",
            "Germany",
            "Greece",
            "Hungary",
            "Luxembourg",
            "Netherlands",
            "Norway",
            "Poland",
            "Portugal",
            "Spain",
            "Sweden",
            "Switzerland",
            "Turkey",
            "United Kingdom",
            "Iceland",
            "Italy"
           ],
           "marker": {
            "color": [
             1499,
             1848,
             58,
             46,
             256,
             238,
             4202,
             3556,
             989,
             106,
             158,
             1015,
             687,
             373,
             31,
             173,
             2063,
             1468,
             1167,
             2345,
             5,
             4693
            ],
            "coloraxis": "coloraxis",
            "symbol": "circle"
           },
           "mode": "markers",
           "name": "",
           "showlegend": false,
           "type": "scattergeo"
          }
         ],
         "name": "2011-July"
        },
        {
         "data": [
          {
           "geo": "geo",
           "hovertemplate": "<b>%{hovertext}</b><br><br>Year-Month=2011-August<br>Country=%{location}<br>Refugees=%{marker.color}<extra></extra>",
           "hovertext": [
            "Austria",
            "Belgium",
            "Bulgaria",
            "Czech Rep.",
            "Denmark",
            "Finland",
            "France",
            "Germany",
            "Greece",
            "Hungary",
            "Luxembourg",
            "Netherlands",
            "Norway",
            "Poland",
            "Portugal",
            "Spain",
            "Sweden",
            "Switzerland",
            "Turkey",
            "United Kingdom",
            "Iceland",
            "Italy"
           ],
           "legendgroup": "",
           "locationmode": "country names",
           "locations": [
            "Austria",
            "Belgium",
            "Bulgaria",
            "Czech Rep.",
            "Denmark",
            "Finland",
            "France",
            "Germany",
            "Greece",
            "Hungary",
            "Luxembourg",
            "Netherlands",
            "Norway",
            "Poland",
            "Portugal",
            "Spain",
            "Sweden",
            "Switzerland",
            "Turkey",
            "United Kingdom",
            "Iceland",
            "Italy"
           ],
           "marker": {
            "color": [
             1588,
             2339,
             70,
             40,
             275,
             279,
             3680,
             4065,
             650,
             132,
             221,
             1053,
             792,
             589,
             22,
             281,
             2567,
             1485,
             1501,
             2041,
             8,
             4081
            ],
            "coloraxis": "coloraxis",
            "symbol": "circle"
           },
           "mode": "markers",
           "name": "",
           "showlegend": false,
           "type": "scattergeo"
          }
         ],
         "name": "2011-August"
        },
        {
         "data": [
          {
           "geo": "geo",
           "hovertemplate": "<b>%{hovertext}</b><br><br>Year-Month=2011-September<br>Country=%{location}<br>Refugees=%{marker.color}<extra></extra>",
           "hovertext": [
            "Austria",
            "Belgium",
            "Bulgaria",
            "Czech Rep.",
            "Denmark",
            "Finland",
            "France",
            "Germany",
            "Greece",
            "Hungary",
            "Luxembourg",
            "Netherlands",
            "Norway",
            "Poland",
            "Portugal",
            "Spain",
            "Sweden",
            "Switzerland",
            "Turkey",
            "United Kingdom",
            "Iceland",
            "Italy"
           ],
           "legendgroup": "",
           "locationmode": "country names",
           "locations": [
            "Austria",
            "Belgium",
            "Bulgaria",
            "Czech Rep.",
            "Denmark",
            "Finland",
            "France",
            "Germany",
            "Greece",
            "Hungary",
            "Luxembourg",
            "Netherlands",
            "Norway",
            "Poland",
            "Portugal",
            "Spain",
            "Sweden",
            "Switzerland",
            "Turkey",
            "United Kingdom",
            "Iceland",
            "Italy"
           ],
           "marker": {
            "color": [
             1460,
             2629,
             55,
             59,
             342,
             327,
             4183,
             4190,
             789,
             118,
             312,
             1015,
             838,
             525,
             39,
             371,
             2795,
             1774,
             1345,
             2205,
             8,
             3937
            ],
            "coloraxis": "coloraxis",
            "symbol": "circle"
           },
           "mode": "markers",
           "name": "",
           "showlegend": false,
           "type": "scattergeo"
          }
         ],
         "name": "2011-September"
        },
        {
         "data": [
          {
           "geo": "geo",
           "hovertemplate": "<b>%{hovertext}</b><br><br>Year-Month=2011-October<br>Country=%{location}<br>Refugees=%{marker.color}<extra></extra>",
           "hovertext": [
            "Austria",
            "Belgium",
            "Bulgaria",
            "Czech Rep.",
            "Denmark",
            "Finland",
            "France",
            "Germany",
            "Greece",
            "Hungary",
            "Luxembourg",
            "Netherlands",
            "Norway",
            "Poland",
            "Portugal",
            "Spain",
            "Sweden",
            "Switzerland",
            "Turkey",
            "United Kingdom",
            "Iceland",
            "Italy"
           ],
           "legendgroup": "",
           "locationmode": "country names",
           "locations": [
            "Austria",
            "Belgium",
            "Bulgaria",
            "Czech Rep.",
            "Denmark",
            "Finland",
            "France",
            "Germany",
            "Greece",
            "Hungary",
            "Luxembourg",
            "Netherlands",
            "Norway",
            "Poland",
            "Portugal",
            "Spain",
            "Sweden",
            "Switzerland",
            "Turkey",
            "United Kingdom",
            "Iceland",
            "Italy"
           ],
           "marker": {
            "color": [
             1570,
             2718,
             70,
             52,
             402,
             309,
             4583,
             4184,
             742,
             168,
             219,
             1049,
             752,
             720,
             25,
             260,
             3022,
             1826,
             1365,
             2136,
             7,
             2803
            ],
            "coloraxis": "coloraxis",
            "symbol": "circle"
           },
           "mode": "markers",
           "name": "",
           "showlegend": false,
           "type": "scattergeo"
          }
         ],
         "name": "2011-October"
        },
        {
         "data": [
          {
           "geo": "geo",
           "hovertemplate": "<b>%{hovertext}</b><br><br>Year-Month=2011-November<br>Country=%{location}<br>Refugees=%{marker.color}<extra></extra>",
           "hovertext": [
            "Austria",
            "Belgium",
            "Bulgaria",
            "Czech Rep.",
            "Denmark",
            "Finland",
            "France",
            "Germany",
            "Greece",
            "Hungary",
            "Luxembourg",
            "Netherlands",
            "Norway",
            "Poland",
            "Portugal",
            "Spain",
            "Sweden",
            "Switzerland",
            "Turkey",
            "United Kingdom",
            "Iceland",
            "Italy"
           ],
           "legendgroup": "",
           "locationmode": "country names",
           "locations": [
            "Austria",
            "Belgium",
            "Bulgaria",
            "Czech Rep.",
            "Denmark",
            "Finland",
            "France",
            "Germany",
            "Greece",
            "Hungary",
            "Luxembourg",
            "Netherlands",
            "Norway",
            "Poland",
            "Portugal",
            "Spain",
            "Sweden",
            "Switzerland",
            "Turkey",
            "United Kingdom",
            "Iceland",
            "Italy"
           ],
           "marker": {
            "color": [
             1243,
             2272,
             64,
             52,
             353,
             284,
             3921,
             4889,
             873,
             226,
             179,
             956,
             659,
             658,
             15,
             206,
             3112,
             2219,
             1186,
             2563,
             5,
             2001
            ],
            "coloraxis": "coloraxis",
            "symbol": "circle"
           },
           "mode": "markers",
           "name": "",
           "showlegend": false,
           "type": "scattergeo"
          }
         ],
         "name": "2011-November"
        },
        {
         "data": [
          {
           "geo": "geo",
           "hovertemplate": "<b>%{hovertext}</b><br><br>Year-Month=2011-December<br>Country=%{location}<br>Refugees=%{marker.color}<extra></extra>",
           "hovertext": [
            "Austria",
            "Belgium",
            "Bulgaria",
            "Czech Rep.",
            "Denmark",
            "Finland",
            "France",
            "Germany",
            "Greece",
            "Hungary",
            "Luxembourg",
            "Netherlands",
            "Norway",
            "Poland",
            "Portugal",
            "Spain",
            "Sweden",
            "Switzerland",
            "Turkey",
            "United Kingdom",
            "Iceland",
            "Italy"
           ],
           "legendgroup": "",
           "locationmode": "country names",
           "locations": [
            "Austria",
            "Belgium",
            "Bulgaria",
            "Czech Rep.",
            "Denmark",
            "Finland",
            "France",
            "Germany",
            "Greece",
            "Hungary",
            "Luxembourg",
            "Netherlands",
            "Norway",
            "Poland",
            "Portugal",
            "Spain",
            "Sweden",
            "Switzerland",
            "Turkey",
            "United Kingdom",
            "Iceland",
            "Italy"
           ],
           "marker": {
            "color": [
             1254,
             2199,
             31,
             29,
             399,
             274,
             4459,
             4174,
             786,
             175,
             178,
             792,
             723,
             643,
             47,
             176,
             3494,
             2187,
             4276,
             2169,
             8,
             1202
            ],
            "coloraxis": "coloraxis",
            "symbol": "circle"
           },
           "mode": "markers",
           "name": "",
           "showlegend": false,
           "type": "scattergeo"
          }
         ],
         "name": "2011-December"
        },
        {
         "data": [
          {
           "geo": "geo",
           "hovertemplate": "<b>%{hovertext}</b><br><br>Year-Month=2012-January<br>Country=%{location}<br>Refugees=%{marker.color}<extra></extra>",
           "hovertext": [
            "Austria",
            "Belgium",
            "Bulgaria",
            "Czech Rep.",
            "Denmark",
            "Finland",
            "France",
            "Germany",
            "Greece",
            "Hungary",
            "Luxembourg",
            "Netherlands",
            "Norway",
            "Poland",
            "Portugal",
            "Spain",
            "Sweden",
            "Switzerland",
            "Turkey",
            "United Kingdom",
            "Iceland",
            "Italy"
           ],
           "legendgroup": "",
           "locationmode": "country names",
           "locations": [
            "Austria",
            "Belgium",
            "Bulgaria",
            "Czech Rep.",
            "Denmark",
            "Finland",
            "France",
            "Germany",
            "Greece",
            "Hungary",
            "Luxembourg",
            "Netherlands",
            "Norway",
            "Poland",
            "Portugal",
            "Spain",
            "Sweden",
            "Switzerland",
            "Turkey",
            "United Kingdom",
            "Iceland",
            "Italy"
           ],
           "marker": {
            "color": [
             1311,
             1952,
             61,
             45,
             393,
             204,
             4330,
             4667,
             556,
             185,
             223,
             933,
             793,
             392,
             34,
             215,
             2717,
             2316,
             741,
             2204,
             6,
             1157
            ],
            "coloraxis": "coloraxis",
            "symbol": "circle"
           },
           "mode": "markers",
           "name": "",
           "showlegend": false,
           "type": "scattergeo"
          }
         ],
         "name": "2012-January"
        },
        {
         "data": [
          {
           "geo": "geo",
           "hovertemplate": "<b>%{hovertext}</b><br><br>Year-Month=2012-February<br>Country=%{location}<br>Refugees=%{marker.color}<extra></extra>",
           "hovertext": [
            "Austria",
            "Belgium",
            "Bulgaria",
            "Czech Rep.",
            "Denmark",
            "Finland",
            "France",
            "Germany",
            "Greece",
            "Hungary",
            "Luxembourg",
            "Netherlands",
            "Norway",
            "Poland",
            "Portugal",
            "Spain",
            "Sweden",
            "Switzerland",
            "Turkey",
            "United Kingdom",
            "Iceland",
            "Italy"
           ],
           "legendgroup": "",
           "locationmode": "country names",
           "locations": [
            "Austria",
            "Belgium",
            "Bulgaria",
            "Czech Rep.",
            "Denmark",
            "Finland",
            "France",
            "Germany",
            "Greece",
            "Hungary",
            "Luxembourg",
            "Netherlands",
            "Norway",
            "Poland",
            "Portugal",
            "Spain",
            "Sweden",
            "Switzerland",
            "Turkey",
            "United Kingdom",
            "Iceland",
            "Italy"
           ],
           "marker": {
            "color": [
             997,
             1537,
             53,
             54,
             319,
             172,
             4803,
             3916,
             682,
             105,
             133,
             896,
             733,
             445,
             7,
             215,
             2366,
             1935,
             966,
             1840,
             4,
             1169
            ],
            "coloraxis": "coloraxis",
            "symbol": "circle"
           },
           "mode": "markers",
           "name": "",
           "showlegend": false,
           "type": "scattergeo"
          }
         ],
         "name": "2012-February"
        },
        {
         "data": [
          {
           "geo": "geo",
           "hovertemplate": "<b>%{hovertext}</b><br><br>Year-Month=2012-March<br>Country=%{location}<br>Refugees=%{marker.color}<extra></extra>",
           "hovertext": [
            "Austria",
            "Belgium",
            "Bulgaria",
            "Czech Rep.",
            "Denmark",
            "Finland",
            "France",
            "Germany",
            "Greece",
            "Hungary",
            "Luxembourg",
            "Netherlands",
            "Norway",
            "Poland",
            "Portugal",
            "Spain",
            "Sweden",
            "Switzerland",
            "Turkey",
            "United Kingdom",
            "Iceland",
            "Italy"
           ],
           "legendgroup": "",
           "locationmode": "country names",
           "locations": [
            "Austria",
            "Belgium",
            "Bulgaria",
            "Czech Rep.",
            "Denmark",
            "Finland",
            "France",
            "Germany",
            "Greece",
            "Hungary",
            "Luxembourg",
            "Netherlands",
            "Norway",
            "Poland",
            "Portugal",
            "Spain",
            "Sweden",
            "Switzerland",
            "Turkey",
            "United Kingdom",
            "Iceland",
            "Italy"
           ],
           "marker": {
            "color": [
             1219,
             1603,
             52,
             39,
             461,
             202,
             4582,
             3717,
             710,
             167,
             203,
             827,
             816,
             592,
             27,
             213,
             2470,
             1906,
             1445,
             2148,
             3,
             1422
            ],
            "coloraxis": "coloraxis",
            "symbol": "circle"
           },
           "mode": "markers",
           "name": "",
           "showlegend": false,
           "type": "scattergeo"
          }
         ],
         "name": "2012-March"
        },
        {
         "data": [
          {
           "geo": "geo",
           "hovertemplate": "<b>%{hovertext}</b><br><br>Year-Month=2012-April<br>Country=%{location}<br>Refugees=%{marker.color}<extra></extra>",
           "hovertext": [
            "Austria",
            "Belgium",
            "Bulgaria",
            "Czech Rep.",
            "Denmark",
            "Finland",
            "France",
            "Germany",
            "Greece",
            "Hungary",
            "Luxembourg",
            "Netherlands",
            "Norway",
            "Poland",
            "Portugal",
            "Spain",
            "Sweden",
            "Switzerland",
            "Turkey",
            "United Kingdom",
            "Iceland",
            "Italy"
           ],
           "legendgroup": "",
           "locationmode": "country names",
           "locations": [
            "Austria",
            "Belgium",
            "Bulgaria",
            "Czech Rep.",
            "Denmark",
            "Finland",
            "France",
            "Germany",
            "Greece",
            "Hungary",
            "Luxembourg",
            "Netherlands",
            "Norway",
            "Poland",
            "Portugal",
            "Spain",
            "Sweden",
            "Switzerland",
            "Turkey",
            "United Kingdom",
            "Iceland",
            "Italy"
           ],
           "marker": {
            "color": [
             1239,
             1431,
             28,
             22,
             448,
             165,
             4007,
             3283,
             886,
             95,
             195,
             664,
             806,
             610,
             29,
             150,
             2447,
             2128,
             1226,
             1887,
             13,
             1057
            ],
            "coloraxis": "coloraxis",
            "symbol": "circle"
           },
           "mode": "markers",
           "name": "",
           "showlegend": false,
           "type": "scattergeo"
          }
         ],
         "name": "2012-April"
        },
        {
         "data": [
          {
           "geo": "geo",
           "hovertemplate": "<b>%{hovertext}</b><br><br>Year-Month=2012-May<br>Country=%{location}<br>Refugees=%{marker.color}<extra></extra>",
           "hovertext": [
            "Austria",
            "Belgium",
            "Bulgaria",
            "Czech Rep.",
            "Denmark",
            "Finland",
            "France",
            "Germany",
            "Greece",
            "Hungary",
            "Luxembourg",
            "Netherlands",
            "Norway",
            "Poland",
            "Portugal",
            "Spain",
            "Sweden",
            "Switzerland",
            "Turkey",
            "United Kingdom",
            "Iceland",
            "Italy"
           ],
           "legendgroup": "",
           "locationmode": "country names",
           "locations": [
            "Austria",
            "Belgium",
            "Bulgaria",
            "Czech Rep.",
            "Denmark",
            "Finland",
            "France",
            "Germany",
            "Greece",
            "Hungary",
            "Luxembourg",
            "Netherlands",
            "Norway",
            "Poland",
            "Portugal",
            "Spain",
            "Sweden",
            "Switzerland",
            "Turkey",
            "United Kingdom",
            "Iceland",
            "Italy"
           ],
           "marker": {
            "color": [
             1345,
             1505,
             63,
             54,
             428,
             204,
             3918,
             3590,
             718,
             136,
             264,
             607,
             746,
             498,
             37,
             211,
             3242,
             2124,
             1634,
             2350,
             4,
             1516
            ],
            "coloraxis": "coloraxis",
            "symbol": "circle"
           },
           "mode": "markers",
           "name": "",
           "showlegend": false,
           "type": "scattergeo"
          }
         ],
         "name": "2012-May"
        },
        {
         "data": [
          {
           "geo": "geo",
           "hovertemplate": "<b>%{hovertext}</b><br><br>Year-Month=2012-June<br>Country=%{location}<br>Refugees=%{marker.color}<extra></extra>",
           "hovertext": [
            "Austria",
            "Belgium",
            "Bulgaria",
            "Czech Rep.",
            "Denmark",
            "Finland",
            "France",
            "Germany",
            "Greece",
            "Hungary",
            "Luxembourg",
            "Netherlands",
            "Norway",
            "Poland",
            "Portugal",
            "Spain",
            "Sweden",
            "Switzerland",
            "Turkey",
            "United Kingdom",
            "Iceland",
            "Italy"
           ],
           "legendgroup": "",
           "locationmode": "country names",
           "locations": [
            "Austria",
            "Belgium",
            "Bulgaria",
            "Czech Rep.",
            "Denmark",
            "Finland",
            "France",
            "Germany",
            "Greece",
            "Hungary",
            "Luxembourg",
            "Netherlands",
            "Norway",
            "Poland",
            "Portugal",
            "Spain",
            "Sweden",
            "Switzerland",
            "Turkey",
            "United Kingdom",
            "Iceland",
            "Italy"
           ],
           "marker": {
            "color": [
             1229,
             1363,
             64,
             51,
             616,
             244,
             4310,
             4127,
             807,
             132,
             181,
             643,
             918,
             588,
             18,
             291,
             3096,
             2356,
             1864,
             1987,
             6,
             1032
            ],
            "coloraxis": "coloraxis",
            "symbol": "circle"
           },
           "mode": "markers",
           "name": "",
           "showlegend": false,
           "type": "scattergeo"
          }
         ],
         "name": "2012-June"
        },
        {
         "data": [
          {
           "geo": "geo",
           "hovertemplate": "<b>%{hovertext}</b><br><br>Year-Month=2012-July<br>Country=%{location}<br>Refugees=%{marker.color}<extra></extra>",
           "hovertext": [
            "Austria",
            "Belgium",
            "Bulgaria",
            "Czech Rep.",
            "Denmark",
            "Finland",
            "France",
            "Germany",
            "Greece",
            "Hungary",
            "Luxembourg",
            "Netherlands",
            "Norway",
            "Poland",
            "Portugal",
            "Spain",
            "Sweden",
            "Switzerland",
            "Turkey",
            "United Kingdom",
            "Iceland",
            "Italy"
           ],
           "legendgroup": "",
           "locationmode": "country names",
           "locations": [
            "Austria",
            "Belgium",
            "Bulgaria",
            "Czech Rep.",
            "Denmark",
            "Finland",
            "France",
            "Germany",
            "Greece",
            "Hungary",
            "Luxembourg",
            "Netherlands",
            "Norway",
            "Poland",
            "Portugal",
            "Spain",
            "Sweden",
            "Switzerland",
            "Turkey",
            "United Kingdom",
            "Iceland",
            "Italy"
           ],
           "marker": {
            "color": [
             1653,
             1554,
             57,
             25,
             569,
             255,
             4859,
             4752,
             589,
             197,
             235,
             708,
             927,
             812,
             34,
             191,
             4108,
             2615,
             1814,
             2394,
             22,
             1548
            ],
            "coloraxis": "coloraxis",
            "symbol": "circle"
           },
           "mode": "markers",
           "name": "",
           "showlegend": false,
           "type": "scattergeo"
          }
         ],
         "name": "2012-July"
        },
        {
         "data": [
          {
           "geo": "geo",
           "hovertemplate": "<b>%{hovertext}</b><br><br>Year-Month=2012-August<br>Country=%{location}<br>Refugees=%{marker.color}<extra></extra>",
           "hovertext": [
            "Austria",
            "Belgium",
            "Bulgaria",
            "Czech Rep.",
            "Denmark",
            "Finland",
            "France",
            "Germany",
            "Greece",
            "Hungary",
            "Luxembourg",
            "Netherlands",
            "Norway",
            "Poland",
            "Portugal",
            "Spain",
            "Sweden",
            "Switzerland",
            "Turkey",
            "United Kingdom",
            "Iceland",
            "Italy"
           ],
           "legendgroup": "",
           "locationmode": "country names",
           "locations": [
            "Austria",
            "Belgium",
            "Bulgaria",
            "Czech Rep.",
            "Denmark",
            "Finland",
            "France",
            "Germany",
            "Greece",
            "Hungary",
            "Luxembourg",
            "Netherlands",
            "Norway",
            "Poland",
            "Portugal",
            "Spain",
            "Sweden",
            "Switzerland",
            "Turkey",
            "United Kingdom",
            "Iceland",
            "Italy"
           ],
           "marker": {
            "color": [
             1756,
             1479,
             107,
             52,
             504,
             309,
             4502,
             5486,
             751,
             179,
             137,
             791,
             1003,
             869,
             46,
             206,
             4356,
             2605,
             2110,
             2319,
             17,
             1547
            ],
            "coloraxis": "coloraxis",
            "symbol": "circle"
           },
           "mode": "markers",
           "name": "",
           "showlegend": false,
           "type": "scattergeo"
          }
         ],
         "name": "2012-August"
        },
        {
         "data": [
          {
           "geo": "geo",
           "hovertemplate": "<b>%{hovertext}</b><br><br>Year-Month=2012-September<br>Country=%{location}<br>Refugees=%{marker.color}<extra></extra>",
           "hovertext": [
            "Austria",
            "Belgium",
            "Bulgaria",
            "Czech Rep.",
            "Denmark",
            "Finland",
            "France",
            "Germany",
            "Greece",
            "Hungary",
            "Luxembourg",
            "Netherlands",
            "Norway",
            "Poland",
            "Portugal",
            "Spain",
            "Sweden",
            "Switzerland",
            "Turkey",
            "United Kingdom",
            "Iceland",
            "Italy"
           ],
           "legendgroup": "",
           "locationmode": "country names",
           "locations": [
            "Austria",
            "Belgium",
            "Bulgaria",
            "Czech Rep.",
            "Denmark",
            "Finland",
            "France",
            "Germany",
            "Greece",
            "Hungary",
            "Luxembourg",
            "Netherlands",
            "Norway",
            "Poland",
            "Portugal",
            "Spain",
            "Sweden",
            "Switzerland",
            "Turkey",
            "United Kingdom",
            "Iceland",
            "Italy"
           ],
           "marker": {
            "color": [
             1775,
             1656,
             103,
             33,
             513,
             324,
             4252,
             6925,
             744,
             161,
             125,
             718,
             954,
             1254,
             15,
             203,
             4916,
             2092,
             4310,
             2535,
             8,
             1435
            ],
            "coloraxis": "coloraxis",
            "symbol": "circle"
           },
           "mode": "markers",
           "name": "",
           "showlegend": false,
           "type": "scattergeo"
          }
         ],
         "name": "2012-September"
        },
        {
         "data": [
          {
           "geo": "geo",
           "hovertemplate": "<b>%{hovertext}</b><br><br>Year-Month=2012-October<br>Country=%{location}<br>Refugees=%{marker.color}<extra></extra>",
           "hovertext": [
            "Austria",
            "Belgium",
            "Bulgaria",
            "Czech Rep.",
            "Denmark",
            "Finland",
            "France",
            "Germany",
            "Greece",
            "Hungary",
            "Luxembourg",
            "Netherlands",
            "Norway",
            "Poland",
            "Portugal",
            "Spain",
            "Sweden",
            "Switzerland",
            "Turkey",
            "United Kingdom",
            "Iceland",
            "Italy"
           ],
           "legendgroup": "",
           "locationmode": "country names",
           "locations": [
            "Austria",
            "Belgium",
            "Bulgaria",
            "Czech Rep.",
            "Denmark",
            "Finland",
            "France",
            "Germany",
            "Greece",
            "Hungary",
            "Luxembourg",
            "Netherlands",
            "Norway",
            "Poland",
            "Portugal",
            "Spain",
            "Sweden",
            "Switzerland",
            "Turkey",
            "United Kingdom",
            "Iceland",
            "Italy"
           ],
           "marker": {
            "color": [
             2117,
             1758,
             189,
             59,
             629,
             302,
             5724,
             10196,
             1255,
             319,
             167,
             1038,
             1058,
             1206,
             9,
             254,
             5512,
             2213,
             3901,
             2824,
             8,
             2179
            ],
            "coloraxis": "coloraxis",
            "symbol": "circle"
           },
           "mode": "markers",
           "name": "",
           "showlegend": false,
           "type": "scattergeo"
          }
         ],
         "name": "2012-October"
        },
        {
         "data": [
          {
           "geo": "geo",
           "hovertemplate": "<b>%{hovertext}</b><br><br>Year-Month=2012-November<br>Country=%{location}<br>Refugees=%{marker.color}<extra></extra>",
           "hovertext": [
            "Austria",
            "Belgium",
            "Bulgaria",
            "Czech Rep.",
            "Denmark",
            "Finland",
            "France",
            "Germany",
            "Greece",
            "Hungary",
            "Luxembourg",
            "Netherlands",
            "Norway",
            "Poland",
            "Portugal",
            "Spain",
            "Sweden",
            "Switzerland",
            "Turkey",
            "United Kingdom",
            "Iceland",
            "Italy"
           ],
           "legendgroup": "",
           "locationmode": "country names",
           "locations": [
            "Austria",
            "Belgium",
            "Bulgaria",
            "Czech Rep.",
            "Denmark",
            "Finland",
            "France",
            "Germany",
            "Greece",
            "Hungary",
            "Luxembourg",
            "Netherlands",
            "Norway",
            "Poland",
            "Portugal",
            "Spain",
            "Sweden",
            "Switzerland",
            "Turkey",
            "United Kingdom",
            "Iceland",
            "Italy"
           ],
           "marker": {
            "color": [
             1523,
             1388,
             199,
             39,
             663,
             319,
             4655,
             9000,
             1030,
             259,
             120,
             903,
             994,
             944,
             21,
             258,
             4567,
             2194,
             3354,
             2692,
             18,
             2006
            ],
            "coloraxis": "coloraxis",
            "symbol": "circle"
           },
           "mode": "markers",
           "name": "",
           "showlegend": false,
           "type": "scattergeo"
          }
         ],
         "name": "2012-November"
        },
        {
         "data": [
          {
           "geo": "geo",
           "hovertemplate": "<b>%{hovertext}</b><br><br>Year-Month=2012-December<br>Country=%{location}<br>Refugees=%{marker.color}<extra></extra>",
           "hovertext": [
            "Austria",
            "Belgium",
            "Bulgaria",
            "Czech Rep.",
            "Denmark",
            "Finland",
            "France",
            "Germany",
            "Greece",
            "Hungary",
            "Luxembourg",
            "Netherlands",
            "Norway",
            "Poland",
            "Portugal",
            "Spain",
            "Sweden",
            "Switzerland",
            "Turkey",
            "United Kingdom",
            "Iceland",
            "Italy"
           ],
           "legendgroup": "",
           "locationmode": "country names",
           "locations": [
            "Austria",
            "Belgium",
            "Bulgaria",
            "Czech Rep.",
            "Denmark",
            "Finland",
            "France",
            "Germany",
            "Greece",
            "Hungary",
            "Luxembourg",
            "Netherlands",
            "Norway",
            "Poland",
            "Portugal",
            "Spain",
            "Sweden",
            "Switzerland",
            "Turkey",
            "United Kingdom",
            "Iceland",
            "Italy"
           ],
           "marker": {
            "color": [
             1251,
             1300,
             253,
             44,
             598,
             222,
             5313,
             4880,
             849,
             221,
             69,
             936,
             937,
             972,
             18,
             172,
             4090,
             1464,
             3105,
             2230,
             6,
             1284
            ],
            "coloraxis": "coloraxis",
            "symbol": "circle"
           },
           "mode": "markers",
           "name": "",
           "showlegend": false,
           "type": "scattergeo"
          }
         ],
         "name": "2012-December"
        },
        {
         "data": [
          {
           "geo": "geo",
           "hovertemplate": "<b>%{hovertext}</b><br><br>Year-Month=2013-January<br>Country=%{location}<br>Refugees=%{marker.color}<extra></extra>",
           "hovertext": [
            "Austria",
            "Belgium",
            "Bulgaria",
            "Czech Rep.",
            "Denmark",
            "Finland",
            "France",
            "Germany",
            "Greece",
            "Hungary",
            "Luxembourg",
            "Netherlands",
            "Norway",
            "Poland",
            "Portugal",
            "Spain",
            "Sweden",
            "Switzerland",
            "Turkey",
            "United Kingdom",
            "Iceland",
            "Italy"
           ],
           "legendgroup": "",
           "locationmode": "country names",
           "locations": [
            "Austria",
            "Belgium",
            "Bulgaria",
            "Czech Rep.",
            "Denmark",
            "Finland",
            "France",
            "Germany",
            "Greece",
            "Hungary",
            "Luxembourg",
            "Netherlands",
            "Norway",
            "Poland",
            "Portugal",
            "Spain",
            "Sweden",
            "Switzerland",
            "Turkey",
            "United Kingdom",
            "Iceland",
            "Italy"
           ],
           "marker": {
            "color": [
             1208,
             1251,
             243,
             47,
             760,
             255,
             4636,
             7530,
             754,
             285,
             73,
             1305,
             1062,
             617,
             24,
             284,
             3802,
             1953,
             2076,
             2476,
             32,
             1638
            ],
            "coloraxis": "coloraxis",
            "symbol": "circle"
           },
           "mode": "markers",
           "name": "",
           "showlegend": false,
           "type": "scattergeo"
          }
         ],
         "name": "2013-January"
        },
        {
         "data": [
          {
           "geo": "geo",
           "hovertemplate": "<b>%{hovertext}</b><br><br>Year-Month=2013-February<br>Country=%{location}<br>Refugees=%{marker.color}<extra></extra>",
           "hovertext": [
            "Austria",
            "Belgium",
            "Bulgaria",
            "Czech Rep.",
            "Denmark",
            "Finland",
            "France",
            "Germany",
            "Greece",
            "Hungary",
            "Luxembourg",
            "Netherlands",
            "Norway",
            "Poland",
            "Portugal",
            "Spain",
            "Sweden",
            "Switzerland",
            "Turkey",
            "United Kingdom",
            "Iceland",
            "Italy"
           ],
           "legendgroup": "",
           "locationmode": "country names",
           "locations": [
            "Austria",
            "Belgium",
            "Bulgaria",
            "Czech Rep.",
            "Denmark",
            "Finland",
            "France",
            "Germany",
            "Greece",
            "Hungary",
            "Luxembourg",
            "Netherlands",
            "Norway",
            "Poland",
            "Portugal",
            "Spain",
            "Sweden",
            "Switzerland",
            "Turkey",
            "United Kingdom",
            "Iceland",
            "Italy"
           ],
           "marker": {
            "color": [
             1185,
             987,
             213,
             30,
             590,
             205,
             5096,
             5995,
             707,
             662,
             69,
             976,
             795,
             702,
             23,
             447,
             2970,
             1633,
             2735,
             2325,
             21,
             1163
            ],
            "coloraxis": "coloraxis",
            "symbol": "circle"
           },
           "mode": "markers",
           "name": "",
           "showlegend": false,
           "type": "scattergeo"
          }
         ],
         "name": "2013-February"
        },
        {
         "data": [
          {
           "geo": "geo",
           "hovertemplate": "<b>%{hovertext}</b><br><br>Year-Month=2013-March<br>Country=%{location}<br>Refugees=%{marker.color}<extra></extra>",
           "hovertext": [
            "Austria",
            "Belgium",
            "Bulgaria",
            "Czech Rep.",
            "Denmark",
            "Finland",
            "France",
            "Germany",
            "Greece",
            "Hungary",
            "Luxembourg",
            "Netherlands",
            "Norway",
            "Poland",
            "Portugal",
            "Spain",
            "Sweden",
            "Switzerland",
            "Turkey",
            "United Kingdom",
            "Iceland",
            "Italy"
           ],
           "legendgroup": "",
           "locationmode": "country names",
           "locations": [
            "Austria",
            "Belgium",
            "Bulgaria",
            "Czech Rep.",
            "Denmark",
            "Finland",
            "France",
            "Germany",
            "Greece",
            "Hungary",
            "Luxembourg",
            "Netherlands",
            "Norway",
            "Poland",
            "Portugal",
            "Spain",
            "Sweden",
            "Switzerland",
            "Turkey",
            "United Kingdom",
            "Iceland",
            "Italy"
           ],
           "marker": {
            "color": [
             1198,
             1100,
             412,
             52,
             601,
             226,
             5367,
             5790,
             608,
             1322,
             71,
             956,
             963,
             1279,
             24,
             440,
             2964,
             1661,
             2661,
             2350,
             20,
             1867
            ],
            "coloraxis": "coloraxis",
            "symbol": "circle"
           },
           "mode": "markers",
           "name": "",
           "showlegend": false,
           "type": "scattergeo"
          }
         ],
         "name": "2013-March"
        },
        {
         "data": [
          {
           "geo": "geo",
           "hovertemplate": "<b>%{hovertext}</b><br><br>Year-Month=2013-April<br>Country=%{location}<br>Refugees=%{marker.color}<extra></extra>",
           "hovertext": [
            "Austria",
            "Belgium",
            "Bulgaria",
            "Czech Rep.",
            "Denmark",
            "Finland",
            "France",
            "Germany",
            "Greece",
            "Hungary",
            "Luxembourg",
            "Netherlands",
            "Norway",
            "Poland",
            "Portugal",
            "Spain",
            "Sweden",
            "Switzerland",
            "Turkey",
            "United Kingdom",
            "Iceland",
            "Italy"
           ],
           "legendgroup": "",
           "locationmode": "country names",
           "locations": [
            "Austria",
            "Belgium",
            "Bulgaria",
            "Czech Rep.",
            "Denmark",
            "Finland",
            "France",
            "Germany",
            "Greece",
            "Hungary",
            "Luxembourg",
            "Netherlands",
            "Norway",
            "Poland",
            "Portugal",
            "Spain",
            "Sweden",
            "Switzerland",
            "Turkey",
            "United Kingdom",
            "Iceland",
            "Italy"
           ],
           "marker": {
            "color": [
             1405,
             1012,
             249,
             36,
             581,
             228,
             5402,
             7712,
             744,
             1942,
             90,
             1042,
             918,
             1915,
             71,
             406,
             3061,
             1881,
             3076,
             2490,
             16,
             1811
            ],
            "coloraxis": "coloraxis",
            "symbol": "circle"
           },
           "mode": "markers",
           "name": "",
           "showlegend": false,
           "type": "scattergeo"
          }
         ],
         "name": "2013-April"
        },
        {
         "data": [
          {
           "geo": "geo",
           "hovertemplate": "<b>%{hovertext}</b><br><br>Year-Month=2013-May<br>Country=%{location}<br>Refugees=%{marker.color}<extra></extra>",
           "hovertext": [
            "Austria",
            "Belgium",
            "Bulgaria",
            "Czech Rep.",
            "Denmark",
            "Finland",
            "France",
            "Germany",
            "Greece",
            "Hungary",
            "Luxembourg",
            "Netherlands",
            "Norway",
            "Poland",
            "Portugal",
            "Spain",
            "Sweden",
            "Switzerland",
            "Turkey",
            "United Kingdom",
            "Iceland",
            "Italy"
           ],
           "legendgroup": "",
           "locationmode": "country names",
           "locations": [
            "Austria",
            "Belgium",
            "Bulgaria",
            "Czech Rep.",
            "Denmark",
            "Finland",
            "France",
            "Germany",
            "Greece",
            "Hungary",
            "Luxembourg",
            "Netherlands",
            "Norway",
            "Poland",
            "Portugal",
            "Spain",
            "Sweden",
            "Switzerland",
            "Turkey",
            "United Kingdom",
            "Iceland",
            "Italy"
           ],
           "marker": {
            "color": [
             1445,
             949,
             275,
             42,
             508,
             210,
             4659,
             7683,
             594,
             3319,
             65,
             903,
             883,
             2857,
             25,
             447,
             3084,
             1513,
             3068,
             2414,
             9,
             1687
            ],
            "coloraxis": "coloraxis",
            "symbol": "circle"
           },
           "mode": "markers",
           "name": "",
           "showlegend": false,
           "type": "scattergeo"
          }
         ],
         "name": "2013-May"
        },
        {
         "data": [
          {
           "geo": "geo",
           "hovertemplate": "<b>%{hovertext}</b><br><br>Year-Month=2013-June<br>Country=%{location}<br>Refugees=%{marker.color}<extra></extra>",
           "hovertext": [
            "Austria",
            "Belgium",
            "Bulgaria",
            "Czech Rep.",
            "Denmark",
            "Finland",
            "France",
            "Germany",
            "Greece",
            "Hungary",
            "Luxembourg",
            "Netherlands",
            "Norway",
            "Poland",
            "Portugal",
            "Spain",
            "Sweden",
            "Switzerland",
            "Turkey",
            "United Kingdom",
            "Iceland",
            "Italy"
           ],
           "legendgroup": "",
           "locationmode": "country names",
           "locations": [
            "Austria",
            "Belgium",
            "Bulgaria",
            "Czech Rep.",
            "Denmark",
            "Finland",
            "France",
            "Germany",
            "Greece",
            "Hungary",
            "Luxembourg",
            "Netherlands",
            "Norway",
            "Poland",
            "Portugal",
            "Spain",
            "Sweden",
            "Switzerland",
            "Turkey",
            "United Kingdom",
            "Iceland",
            "Italy"
           ],
           "marker": {
            "color": [
             1799,
             979,
             412,
             38,
             534,
             218,
             5093,
             8601,
             536,
             4077,
             84,
             1039,
             997,
             2296,
             35,
             452,
             2978,
             1412,
             3810,
             2426,
             7,
             1928
            ],
            "coloraxis": "coloraxis",
            "symbol": "circle"
           },
           "mode": "markers",
           "name": "",
           "showlegend": false,
           "type": "scattergeo"
          }
         ],
         "name": "2013-June"
        },
        {
         "data": [
          {
           "geo": "geo",
           "hovertemplate": "<b>%{hovertext}</b><br><br>Year-Month=2013-July<br>Country=%{location}<br>Refugees=%{marker.color}<extra></extra>",
           "hovertext": [
            "Austria",
            "Belgium",
            "Bulgaria",
            "Czech Rep.",
            "Denmark",
            "Finland",
            "France",
            "Germany",
            "Greece",
            "Hungary",
            "Luxembourg",
            "Netherlands",
            "Norway",
            "Poland",
            "Portugal",
            "Spain",
            "Sweden",
            "Switzerland",
            "Turkey",
            "United Kingdom",
            "Iceland",
            "Italy"
           ],
           "legendgroup": "",
           "locationmode": "country names",
           "locations": [
            "Austria",
            "Belgium",
            "Bulgaria",
            "Czech Rep.",
            "Denmark",
            "Finland",
            "France",
            "Germany",
            "Greece",
            "Hungary",
            "Luxembourg",
            "Netherlands",
            "Norway",
            "Poland",
            "Portugal",
            "Spain",
            "Sweden",
            "Switzerland",
            "Turkey",
            "United Kingdom",
            "Iceland",
            "Italy"
           ],
           "marker": {
            "color": [
             1802,
             1114,
             434,
             40,
             642,
             257,
             5631,
             9806,
             776,
             2176,
             94,
             1187,
             1400,
             1483,
             39,
             433,
             4061,
             1672,
             3829,
             2749,
             9,
             2358
            ],
            "coloraxis": "coloraxis",
            "symbol": "circle"
           },
           "mode": "markers",
           "name": "",
           "showlegend": false,
           "type": "scattergeo"
          }
         ],
         "name": "2013-July"
        },
        {
         "data": [
          {
           "geo": "geo",
           "hovertemplate": "<b>%{hovertext}</b><br><br>Year-Month=2013-August<br>Country=%{location}<br>Refugees=%{marker.color}<extra></extra>",
           "hovertext": [
            "Austria",
            "Belgium",
            "Bulgaria",
            "Czech Rep.",
            "Denmark",
            "Finland",
            "France",
            "Germany",
            "Greece",
            "Hungary",
            "Luxembourg",
            "Netherlands",
            "Norway",
            "Poland",
            "Portugal",
            "Spain",
            "Sweden",
            "Switzerland",
            "Turkey",
            "United Kingdom",
            "Iceland",
            "Italy"
           ],
           "legendgroup": "",
           "locationmode": "country names",
           "locations": [
            "Austria",
            "Belgium",
            "Bulgaria",
            "Czech Rep.",
            "Denmark",
            "Finland",
            "France",
            "Germany",
            "Greece",
            "Hungary",
            "Luxembourg",
            "Netherlands",
            "Norway",
            "Poland",
            "Portugal",
            "Spain",
            "Sweden",
            "Switzerland",
            "Turkey",
            "United Kingdom",
            "Iceland",
            "Italy"
           ],
           "marker": {
            "color": [
             1352,
             996,
             693,
             66,
             705,
             319,
             4533,
             9830,
             608,
             1100,
             74,
             1081,
             1719,
             882,
             30,
             301,
             4798,
             1418,
             3578,
             2405,
             9,
             2473
            ],
            "coloraxis": "coloraxis",
            "symbol": "circle"
           },
           "mode": "markers",
           "name": "",
           "showlegend": false,
           "type": "scattergeo"
          }
         ],
         "name": "2013-August"
        },
        {
         "data": [
          {
           "geo": "geo",
           "hovertemplate": "<b>%{hovertext}</b><br><br>Year-Month=2013-September<br>Country=%{location}<br>Refugees=%{marker.color}<extra></extra>",
           "hovertext": [
            "Austria",
            "Belgium",
            "Bulgaria",
            "Czech Rep.",
            "Denmark",
            "Finland",
            "France",
            "Germany",
            "Greece",
            "Hungary",
            "Luxembourg",
            "Netherlands",
            "Norway",
            "Poland",
            "Portugal",
            "Spain",
            "Sweden",
            "Switzerland",
            "Turkey",
            "United Kingdom",
            "Iceland",
            "Italy"
           ],
           "legendgroup": "",
           "locationmode": "country names",
           "locations": [
            "Austria",
            "Belgium",
            "Bulgaria",
            "Czech Rep.",
            "Denmark",
            "Finland",
            "France",
            "Germany",
            "Greece",
            "Hungary",
            "Luxembourg",
            "Netherlands",
            "Norway",
            "Poland",
            "Portugal",
            "Spain",
            "Sweden",
            "Switzerland",
            "Turkey",
            "United Kingdom",
            "Iceland",
            "Italy"
           ],
           "marker": {
            "color": [
             1345,
             1193,
             939,
             32,
             686,
             329,
             4506,
             11729,
             676,
             1036,
             111,
             1498,
             1505,
             712,
             54,
             352,
             7767,
             1310,
             5325,
             2612,
             14,
             2401
            ],
            "coloraxis": "coloraxis",
            "symbol": "circle"
           },
           "mode": "markers",
           "name": "",
           "showlegend": false,
           "type": "scattergeo"
          }
         ],
         "name": "2013-September"
        },
        {
         "data": [
          {
           "geo": "geo",
           "hovertemplate": "<b>%{hovertext}</b><br><br>Year-Month=2013-October<br>Country=%{location}<br>Refugees=%{marker.color}<extra></extra>",
           "hovertext": [
            "Austria",
            "Belgium",
            "Bulgaria",
            "Czech Rep.",
            "Denmark",
            "Finland",
            "France",
            "Germany",
            "Greece",
            "Hungary",
            "Luxembourg",
            "Netherlands",
            "Norway",
            "Poland",
            "Portugal",
            "Spain",
            "Sweden",
            "Switzerland",
            "Turkey",
            "United Kingdom",
            "Iceland",
            "Italy"
           ],
           "legendgroup": "",
           "locationmode": "country names",
           "locations": [
            "Austria",
            "Belgium",
            "Bulgaria",
            "Czech Rep.",
            "Denmark",
            "Finland",
            "France",
            "Germany",
            "Greece",
            "Hungary",
            "Luxembourg",
            "Netherlands",
            "Norway",
            "Poland",
            "Portugal",
            "Spain",
            "Sweden",
            "Switzerland",
            "Turkey",
            "United Kingdom",
            "Iceland",
            "Italy"
           ],
           "marker": {
            "color": [
             1693,
             1110,
             1230,
             44,
             753,
             267,
             5836,
             13285,
             833,
             740,
             121,
             1557,
             1211,
             537,
             44,
             354,
             7908,
             1624,
             4406,
             2840,
             15,
             3217
            ],
            "coloraxis": "coloraxis",
            "symbol": "circle"
           },
           "mode": "markers",
           "name": "",
           "showlegend": false,
           "type": "scattergeo"
          }
         ],
         "name": "2013-October"
        },
        {
         "data": [
          {
           "geo": "geo",
           "hovertemplate": "<b>%{hovertext}</b><br><br>Year-Month=2013-November<br>Country=%{location}<br>Refugees=%{marker.color}<extra></extra>",
           "hovertext": [
            "Austria",
            "Belgium",
            "Bulgaria",
            "Czech Rep.",
            "Denmark",
            "Finland",
            "France",
            "Germany",
            "Greece",
            "Hungary",
            "Luxembourg",
            "Netherlands",
            "Norway",
            "Poland",
            "Portugal",
            "Spain",
            "Sweden",
            "Switzerland",
            "Turkey",
            "United Kingdom",
            "Iceland",
            "Italy"
           ],
           "legendgroup": "",
           "locationmode": "country names",
           "locations": [
            "Austria",
            "Belgium",
            "Bulgaria",
            "Czech Rep.",
            "Denmark",
            "Finland",
            "France",
            "Germany",
            "Greece",
            "Hungary",
            "Luxembourg",
            "Netherlands",
            "Norway",
            "Poland",
            "Portugal",
            "Spain",
            "Sweden",
            "Switzerland",
            "Turkey",
            "United Kingdom",
            "Iceland",
            "Italy"
           ],
           "marker": {
            "color": [
             1553,
             955,
             1247,
             36,
             659,
             264,
             4812,
             12401,
             761,
             903,
             84,
             1500,
             997,
             377,
             30,
             316,
             5535,
             1753,
             5174,
             2546,
             11,
             3013
            ],
            "coloraxis": "coloraxis",
            "symbol": "circle"
           },
           "mode": "markers",
           "name": "",
           "showlegend": false,
           "type": "scattergeo"
          }
         ],
         "name": "2013-November"
        },
        {
         "data": [
          {
           "geo": "geo",
           "hovertemplate": "<b>%{hovertext}</b><br><br>Year-Month=2013-December<br>Country=%{location}<br>Refugees=%{marker.color}<extra></extra>",
           "hovertext": [
            "Austria",
            "Belgium",
            "Bulgaria",
            "Czech Rep.",
            "Denmark",
            "Finland",
            "France",
            "Germany",
            "Greece",
            "Hungary",
            "Luxembourg",
            "Netherlands",
            "Norway",
            "Poland",
            "Portugal",
            "Spain",
            "Sweden",
            "Switzerland",
            "Turkey",
            "United Kingdom",
            "Iceland",
            "Italy"
           ],
           "legendgroup": "",
           "locationmode": "country names",
           "locations": [
            "Austria",
            "Belgium",
            "Bulgaria",
            "Czech Rep.",
            "Denmark",
            "Finland",
            "France",
            "Germany",
            "Greece",
            "Hungary",
            "Luxembourg",
            "Netherlands",
            "Norway",
            "Poland",
            "Portugal",
            "Spain",
            "Sweden",
            "Switzerland",
            "Turkey",
            "United Kingdom",
            "Iceland",
            "Italy"
           ],
           "marker": {
            "color": [
             1518,
             857,
             632,
             40,
             521,
             244,
             4890,
             9218,
             628,
             1011,
             52,
             1355,
             825,
             326,
             107,
             269,
             5331,
             1610,
             5069,
             2242,
             9,
             2164
            ],
            "coloraxis": "coloraxis",
            "symbol": "circle"
           },
           "mode": "markers",
           "name": "",
           "showlegend": false,
           "type": "scattergeo"
          }
         ],
         "name": "2013-December"
        },
        {
         "data": [
          {
           "geo": "geo",
           "hovertemplate": "<b>%{hovertext}</b><br><br>Year-Month=2014-January<br>Country=%{location}<br>Refugees=%{marker.color}<extra></extra>",
           "hovertext": [
            "Austria",
            "Belgium",
            "Bulgaria",
            "Czech Rep.",
            "Denmark",
            "Finland",
            "France",
            "Germany",
            "Greece",
            "Hungary",
            "Luxembourg",
            "Netherlands",
            "Norway",
            "Poland",
            "Portugal",
            "Spain",
            "Sweden",
            "Switzerland",
            "Turkey",
            "United Kingdom",
            "Iceland",
            "Italy"
           ],
           "legendgroup": "",
           "locationmode": "country names",
           "locations": [
            "Austria",
            "Belgium",
            "Bulgaria",
            "Czech Rep.",
            "Denmark",
            "Finland",
            "France",
            "Germany",
            "Greece",
            "Hungary",
            "Luxembourg",
            "Netherlands",
            "Norway",
            "Poland",
            "Portugal",
            "Spain",
            "Sweden",
            "Switzerland",
            "Turkey",
            "United Kingdom",
            "Iceland",
            "Italy"
           ],
           "marker": {
            "color": [
             1327,
             1017,
             808,
             39,
             569,
             252,
             4717,
             12928,
             760,
             1225,
             81,
             1380,
             696,
             263,
             19,
             291,
             3953,
             1693,
             3370,
             2508,
             5,
             3375
            ],
            "coloraxis": "coloraxis",
            "symbol": "circle"
           },
           "mode": "markers",
           "name": "",
           "showlegend": false,
           "type": "scattergeo"
          }
         ],
         "name": "2014-January"
        },
        {
         "data": [
          {
           "geo": "geo",
           "hovertemplate": "<b>%{hovertext}</b><br><br>Year-Month=2014-February<br>Country=%{location}<br>Refugees=%{marker.color}<extra></extra>",
           "hovertext": [
            "Austria",
            "Belgium",
            "Bulgaria",
            "Czech Rep.",
            "Denmark",
            "Finland",
            "France",
            "Germany",
            "Greece",
            "Hungary",
            "Luxembourg",
            "Netherlands",
            "Norway",
            "Poland",
            "Portugal",
            "Spain",
            "Sweden",
            "Switzerland",
            "Turkey",
            "United Kingdom",
            "Iceland",
            "Italy"
           ],
           "legendgroup": "",
           "locationmode": "country names",
           "locations": [
            "Austria",
            "Belgium",
            "Bulgaria",
            "Czech Rep.",
            "Denmark",
            "Finland",
            "France",
            "Germany",
            "Greece",
            "Hungary",
            "Luxembourg",
            "Netherlands",
            "Norway",
            "Poland",
            "Portugal",
            "Spain",
            "Sweden",
            "Switzerland",
            "Turkey",
            "United Kingdom",
            "Iceland",
            "Italy"
           ],
           "marker": {
            "color": [
             1030,
             780,
             768,
             38,
             446,
             217,
             4942,
             10175,
             888,
             635,
             68,
             912,
             553,
             223,
             15,
             345,
             3671,
             1363,
             3703,
             2452,
             10,
             3176
            ],
            "coloraxis": "coloraxis",
            "symbol": "circle"
           },
           "mode": "markers",
           "name": "",
           "showlegend": false,
           "type": "scattergeo"
          }
         ],
         "name": "2014-February"
        },
        {
         "data": [
          {
           "geo": "geo",
           "hovertemplate": "<b>%{hovertext}</b><br><br>Year-Month=2014-March<br>Country=%{location}<br>Refugees=%{marker.color}<extra></extra>",
           "hovertext": [
            "Austria",
            "Belgium",
            "Bulgaria",
            "Czech Rep.",
            "Denmark",
            "Finland",
            "France",
            "Germany",
            "Greece",
            "Hungary",
            "Luxembourg",
            "Netherlands",
            "Norway",
            "Poland",
            "Portugal",
            "Spain",
            "Sweden",
            "Switzerland",
            "Turkey",
            "United Kingdom",
            "Iceland",
            "Italy"
           ],
           "legendgroup": "",
           "locationmode": "country names",
           "locations": [
            "Austria",
            "Belgium",
            "Bulgaria",
            "Czech Rep.",
            "Denmark",
            "Finland",
            "France",
            "Germany",
            "Greece",
            "Hungary",
            "Luxembourg",
            "Netherlands",
            "Norway",
            "Poland",
            "Portugal",
            "Spain",
            "Sweden",
            "Switzerland",
            "Turkey",
            "United Kingdom",
            "Iceland",
            "Italy"
           ],
           "marker": {
            "color": [
             1121,
             818,
             393,
             76,
             508,
             219,
             5772,
             10175,
             798,
             577,
             66,
             961,
             656,
             357,
             30,
             408,
             3915,
             1419,
             3993,
             2801,
             5,
             3794
            ],
            "coloraxis": "coloraxis",
            "symbol": "circle"
           },
           "mode": "markers",
           "name": "",
           "showlegend": false,
           "type": "scattergeo"
          }
         ],
         "name": "2014-March"
        },
        {
         "data": [
          {
           "geo": "geo",
           "hovertemplate": "<b>%{hovertext}</b><br><br>Year-Month=2014-April<br>Country=%{location}<br>Refugees=%{marker.color}<extra></extra>",
           "hovertext": [
            "Austria",
            "Belgium",
            "Bulgaria",
            "Czech Rep.",
            "Denmark",
            "Finland",
            "France",
            "Germany",
            "Greece",
            "Hungary",
            "Luxembourg",
            "Netherlands",
            "Norway",
            "Poland",
            "Portugal",
            "Spain",
            "Sweden",
            "Switzerland",
            "Turkey",
            "United Kingdom",
            "Iceland",
            "Italy"
           ],
           "legendgroup": "",
           "locationmode": "country names",
           "locations": [
            "Austria",
            "Belgium",
            "Bulgaria",
            "Czech Rep.",
            "Denmark",
            "Finland",
            "France",
            "Germany",
            "Greece",
            "Hungary",
            "Luxembourg",
            "Netherlands",
            "Norway",
            "Poland",
            "Portugal",
            "Spain",
            "Sweden",
            "Switzerland",
            "Turkey",
            "United Kingdom",
            "Iceland",
            "Italy"
           ],
           "marker": {
            "color": [
             1188,
             902,
             293,
             66,
             614,
             249,
             5406,
             10487,
             842,
             618,
             38,
             2224,
             776,
             377,
             31,
             361,
             4384,
             1372,
             4190,
             2307,
             10,
             4215
            ],
            "coloraxis": "coloraxis",
            "symbol": "circle"
           },
           "mode": "markers",
           "name": "",
           "showlegend": false,
           "type": "scattergeo"
          }
         ],
         "name": "2014-April"
        },
        {
         "data": [
          {
           "geo": "geo",
           "hovertemplate": "<b>%{hovertext}</b><br><br>Year-Month=2014-May<br>Country=%{location}<br>Refugees=%{marker.color}<extra></extra>",
           "hovertext": [
            "Austria",
            "Belgium",
            "Bulgaria",
            "Czech Rep.",
            "Denmark",
            "Finland",
            "France",
            "Germany",
            "Greece",
            "Hungary",
            "Luxembourg",
            "Netherlands",
            "Norway",
            "Poland",
            "Portugal",
            "Spain",
            "Sweden",
            "Switzerland",
            "Turkey",
            "United Kingdom",
            "Iceland",
            "Italy"
           ],
           "legendgroup": "",
           "locationmode": "country names",
           "locations": [
            "Austria",
            "Belgium",
            "Bulgaria",
            "Czech Rep.",
            "Denmark",
            "Finland",
            "France",
            "Germany",
            "Greece",
            "Hungary",
            "Luxembourg",
            "Netherlands",
            "Norway",
            "Poland",
            "Portugal",
            "Spain",
            "Sweden",
            "Switzerland",
            "Turkey",
            "United Kingdom",
            "Iceland",
            "Italy"
           ],
           "marker": {
            "color": [
             1523,
             856,
             517,
             78,
             723,
             217,
             4338,
             11560,
             846,
             693,
             77,
             3258,
             1233,
             442,
             34,
             351,
             5560,
             1572,
             4071,
             2220,
             10,
             5368
            ],
            "coloraxis": "coloraxis",
            "symbol": "circle"
           },
           "mode": "markers",
           "name": "",
           "showlegend": false,
           "type": "scattergeo"
          }
         ],
         "name": "2014-May"
        },
        {
         "data": [
          {
           "geo": "geo",
           "hovertemplate": "<b>%{hovertext}</b><br><br>Year-Month=2014-June<br>Country=%{location}<br>Refugees=%{marker.color}<extra></extra>",
           "hovertext": [
            "Austria",
            "Belgium",
            "Bulgaria",
            "Czech Rep.",
            "Denmark",
            "Finland",
            "France",
            "Germany",
            "Greece",
            "Hungary",
            "Luxembourg",
            "Netherlands",
            "Norway",
            "Poland",
            "Portugal",
            "Spain",
            "Sweden",
            "Switzerland",
            "Turkey",
            "United Kingdom",
            "Iceland",
            "Italy"
           ],
           "legendgroup": "",
           "locationmode": "country names",
           "locations": [
            "Austria",
            "Belgium",
            "Bulgaria",
            "Czech Rep.",
            "Denmark",
            "Finland",
            "France",
            "Germany",
            "Greece",
            "Hungary",
            "Luxembourg",
            "Netherlands",
            "Norway",
            "Poland",
            "Portugal",
            "Spain",
            "Sweden",
            "Switzerland",
            "Turkey",
            "United Kingdom",
            "Iceland",
            "Italy"
           ],
           "marker": {
            "color": [
             1589,
             1048,
             609,
             54,
             1012,
             252,
             4702,
             12509,
             729,
             1088,
             60,
             1702,
             1155,
             504,
             36,
             418,
             7508,
             2096,
             8400,
             2568,
             15,
             4553
            ],
            "coloraxis": "coloraxis",
            "symbol": "circle"
           },
           "mode": "markers",
           "name": "",
           "showlegend": false,
           "type": "scattergeo"
          }
         ],
         "name": "2014-June"
        },
        {
         "data": [
          {
           "geo": "geo",
           "hovertemplate": "<b>%{hovertext}</b><br><br>Year-Month=2014-July<br>Country=%{location}<br>Refugees=%{marker.color}<extra></extra>",
           "hovertext": [
            "Austria",
            "Belgium",
            "Bulgaria",
            "Czech Rep.",
            "Denmark",
            "Finland",
            "France",
            "Germany",
            "Greece",
            "Hungary",
            "Luxembourg",
            "Netherlands",
            "Norway",
            "Poland",
            "Portugal",
            "Spain",
            "Sweden",
            "Switzerland",
            "Turkey",
            "United Kingdom",
            "Iceland",
            "Italy"
           ],
           "legendgroup": "",
           "locationmode": "country names",
           "locations": [
            "Austria",
            "Belgium",
            "Bulgaria",
            "Czech Rep.",
            "Denmark",
            "Finland",
            "France",
            "Germany",
            "Greece",
            "Hungary",
            "Luxembourg",
            "Netherlands",
            "Norway",
            "Poland",
            "Portugal",
            "Spain",
            "Sweden",
            "Switzerland",
            "Turkey",
            "United Kingdom",
            "Iceland",
            "Italy"
           ],
           "marker": {
            "color": [
             2012,
             1220,
             892,
             75,
             1738,
             265,
             5032,
             16809,
             889,
             1498,
             69,
             1998,
             971,
             529,
             44,
             476,
             8899,
             2748,
             10530,
             2992,
             5,
             5607
            ],
            "coloraxis": "coloraxis",
            "symbol": "circle"
           },
           "mode": "markers",
           "name": "",
           "showlegend": false,
           "type": "scattergeo"
          }
         ],
         "name": "2014-July"
        },
        {
         "data": [
          {
           "geo": "geo",
           "hovertemplate": "<b>%{hovertext}</b><br><br>Year-Month=2014-August<br>Country=%{location}<br>Refugees=%{marker.color}<extra></extra>",
           "hovertext": [
            "Austria",
            "Belgium",
            "Bulgaria",
            "Czech Rep.",
            "Denmark",
            "Finland",
            "France",
            "Germany",
            "Greece",
            "Hungary",
            "Luxembourg",
            "Netherlands",
            "Norway",
            "Poland",
            "Portugal",
            "Spain",
            "Sweden",
            "Switzerland",
            "Turkey",
            "United Kingdom",
            "Iceland",
            "Italy"
           ],
           "legendgroup": "",
           "locationmode": "country names",
           "locations": [
            "Austria",
            "Belgium",
            "Bulgaria",
            "Czech Rep.",
            "Denmark",
            "Finland",
            "France",
            "Germany",
            "Greece",
            "Hungary",
            "Luxembourg",
            "Netherlands",
            "Norway",
            "Poland",
            "Portugal",
            "Spain",
            "Sweden",
            "Switzerland",
            "Turkey",
            "United Kingdom",
            "Iceland",
            "Italy"
           ],
           "marker": {
            "color": [
             2256,
             1450,
             1089,
             86,
             2308,
             348,
             3899,
             16026,
             509,
             2105,
             88,
             2124,
             1068,
             564,
             50,
             453,
             8401,
             2382,
             9993,
             2892,
             15,
             5065
            ],
            "coloraxis": "coloraxis",
            "symbol": "circle"
           },
           "mode": "markers",
           "name": "",
           "showlegend": false,
           "type": "scattergeo"
          }
         ],
         "name": "2014-August"
        },
        {
         "data": [
          {
           "geo": "geo",
           "hovertemplate": "<b>%{hovertext}</b><br><br>Year-Month=2014-September<br>Country=%{location}<br>Refugees=%{marker.color}<extra></extra>",
           "hovertext": [
            "Austria",
            "Belgium",
            "Bulgaria",
            "Czech Rep.",
            "Denmark",
            "Finland",
            "France",
            "Germany",
            "Greece",
            "Hungary",
            "Luxembourg",
            "Netherlands",
            "Norway",
            "Poland",
            "Portugal",
            "Spain",
            "Sweden",
            "Switzerland",
            "Turkey",
            "United Kingdom",
            "Iceland",
            "Italy"
           ],
           "legendgroup": "",
           "locationmode": "country names",
           "locations": [
            "Austria",
            "Belgium",
            "Bulgaria",
            "Czech Rep.",
            "Denmark",
            "Finland",
            "France",
            "Germany",
            "Greece",
            "Hungary",
            "Luxembourg",
            "Netherlands",
            "Norway",
            "Poland",
            "Portugal",
            "Spain",
            "Sweden",
            "Switzerland",
            "Turkey",
            "United Kingdom",
            "Iceland",
            "Italy"
           ],
           "marker": {
            "color": [
             3090,
             1710,
             1194,
             126,
             3150,
             392,
             4785,
             17083,
             674,
             4744,
             118,
             2865,
             1274,
             696,
             41,
             548,
             9408,
             2237,
             11771,
             3178,
             20,
             7219
            ],
            "coloraxis": "coloraxis",
            "symbol": "circle"
           },
           "mode": "markers",
           "name": "",
           "showlegend": false,
           "type": "scattergeo"
          }
         ],
         "name": "2014-September"
        },
        {
         "data": [
          {
           "geo": "geo",
           "hovertemplate": "<b>%{hovertext}</b><br><br>Year-Month=2014-October<br>Country=%{location}<br>Refugees=%{marker.color}<extra></extra>",
           "hovertext": [
            "Austria",
            "Belgium",
            "Bulgaria",
            "Czech Rep.",
            "Denmark",
            "Finland",
            "France",
            "Germany",
            "Greece",
            "Hungary",
            "Luxembourg",
            "Netherlands",
            "Norway",
            "Poland",
            "Portugal",
            "Spain",
            "Sweden",
            "Switzerland",
            "Turkey",
            "United Kingdom",
            "Iceland",
            "Italy"
           ],
           "legendgroup": "",
           "locationmode": "country names",
           "locations": [
            "Austria",
            "Belgium",
            "Bulgaria",
            "Czech Rep.",
            "Denmark",
            "Finland",
            "France",
            "Germany",
            "Greece",
            "Hungary",
            "Luxembourg",
            "Netherlands",
            "Norway",
            "Poland",
            "Portugal",
            "Spain",
            "Sweden",
            "Switzerland",
            "Turkey",
            "United Kingdom",
            "Iceland",
            "Italy"
           ],
           "marker": {
            "color": [
             2975,
             1546,
             1388,
             99,
             1862,
             406,
             5555,
             19232,
             888,
             5239,
             122,
             1905,
             1014,
             599,
             41,
             857,
             7552,
             2267,
             9691,
             3269,
             25,
             8890
            ],
            "coloraxis": "coloraxis",
            "symbol": "circle"
           },
           "mode": "markers",
           "name": "",
           "showlegend": false,
           "type": "scattergeo"
          }
         ],
         "name": "2014-October"
        },
        {
         "data": [
          {
           "geo": "geo",
           "hovertemplate": "<b>%{hovertext}</b><br><br>Year-Month=2014-November<br>Country=%{location}<br>Refugees=%{marker.color}<extra></extra>",
           "hovertext": [
            "Austria",
            "Belgium",
            "Bulgaria",
            "Czech Rep.",
            "Denmark",
            "Finland",
            "France",
            "Germany",
            "Greece",
            "Hungary",
            "Luxembourg",
            "Netherlands",
            "Norway",
            "Poland",
            "Portugal",
            "Spain",
            "Sweden",
            "Switzerland",
            "Turkey",
            "United Kingdom",
            "Iceland",
            "Italy"
           ],
           "legendgroup": "",
           "locationmode": "country names",
           "locations": [
            "Austria",
            "Belgium",
            "Bulgaria",
            "Czech Rep.",
            "Denmark",
            "Finland",
            "France",
            "Germany",
            "Greece",
            "Hungary",
            "Luxembourg",
            "Netherlands",
            "Norway",
            "Poland",
            "Portugal",
            "Spain",
            "Sweden",
            "Switzerland",
            "Turkey",
            "United Kingdom",
            "Iceland",
            "Italy"
           ],
           "marker": {
            "color": [
             3540,
             1161,
             1355,
             71,
             1116,
             313,
             4576,
             19029,
             669,
             8869,
             104,
             1253,
             832,
             538,
             61,
             687,
             5524,
             1582,
             9077,
             2633,
             5,
             6787
            ],
            "coloraxis": "coloraxis",
            "symbol": "circle"
           },
           "mode": "markers",
           "name": "",
           "showlegend": false,
           "type": "scattergeo"
          }
         ],
         "name": "2014-November"
        },
        {
         "data": [
          {
           "geo": "geo",
           "hovertemplate": "<b>%{hovertext}</b><br><br>Year-Month=2014-December<br>Country=%{location}<br>Refugees=%{marker.color}<extra></extra>",
           "hovertext": [
            "Austria",
            "Belgium",
            "Bulgaria",
            "Czech Rep.",
            "Denmark",
            "Finland",
            "France",
            "Germany",
            "Greece",
            "Hungary",
            "Luxembourg",
            "Netherlands",
            "Norway",
            "Poland",
            "Portugal",
            "Spain",
            "Sweden",
            "Switzerland",
            "Turkey",
            "United Kingdom",
            "Iceland",
            "Italy"
           ],
           "legendgroup": "",
           "locationmode": "country names",
           "locations": [
            "Austria",
            "Belgium",
            "Bulgaria",
            "Czech Rep.",
            "Denmark",
            "Finland",
            "France",
            "Germany",
            "Greece",
            "Hungary",
            "Luxembourg",
            "Netherlands",
            "Norway",
            "Poland",
            "Portugal",
            "Spain",
            "Sweden",
            "Switzerland",
            "Turkey",
            "United Kingdom",
            "Iceland",
            "Italy"
           ],
           "marker": {
            "color": [
             4051,
             1364,
             1482,
             114,
             769,
             387,
             5301,
             17059,
             957,
             14075,
             82,
             1229,
             735,
             538,
             40,
             700,
             6316,
             1382,
             9031,
             2524,
             35,
             5608
            ],
            "coloraxis": "coloraxis",
            "symbol": "circle"
           },
           "mode": "markers",
           "name": "",
           "showlegend": false,
           "type": "scattergeo"
          }
         ],
         "name": "2014-December"
        },
        {
         "data": [
          {
           "geo": "geo",
           "hovertemplate": "<b>%{hovertext}</b><br><br>Year-Month=2015-January<br>Country=%{location}<br>Refugees=%{marker.color}<extra></extra>",
           "hovertext": [
            "Austria",
            "Belgium",
            "Bulgaria",
            "Czech Rep.",
            "Denmark",
            "Finland",
            "France",
            "Germany",
            "Greece",
            "Hungary",
            "Luxembourg",
            "Netherlands",
            "Norway",
            "Poland",
            "Portugal",
            "Spain",
            "Sweden",
            "Switzerland",
            "Turkey",
            "United Kingdom",
            "Iceland",
            "Italy"
           ],
           "legendgroup": "",
           "locationmode": "country names",
           "locations": [
            "Austria",
            "Belgium",
            "Bulgaria",
            "Czech Rep.",
            "Denmark",
            "Finland",
            "France",
            "Germany",
            "Greece",
            "Hungary",
            "Luxembourg",
            "Netherlands",
            "Norway",
            "Poland",
            "Portugal",
            "Spain",
            "Sweden",
            "Switzerland",
            "Turkey",
            "United Kingdom",
            "Iceland",
            "Italy"
           ],
           "marker": {
            "color": [
             3930,
             1198,
             1056,
             104,
             654,
             306,
             4260,
             22913,
             926,
             11654,
             81,
             884,
             566,
             484,
             48,
             837,
             4352,
             1449,
             5879,
             2899,
             14,
             4741
            ],
            "coloraxis": "coloraxis",
            "symbol": "circle"
           },
           "mode": "markers",
           "name": "",
           "showlegend": false,
           "type": "scattergeo"
          }
         ],
         "name": "2015-January"
        },
        {
         "data": [
          {
           "geo": "geo",
           "hovertemplate": "<b>%{hovertext}</b><br><br>Year-Month=2015-February<br>Country=%{location}<br>Refugees=%{marker.color}<extra></extra>",
           "hovertext": [
            "Austria",
            "Belgium",
            "Bulgaria",
            "Czech Rep.",
            "Denmark",
            "Finland",
            "France",
            "Germany",
            "Greece",
            "Hungary",
            "Luxembourg",
            "Netherlands",
            "Norway",
            "Poland",
            "Portugal",
            "Spain",
            "Sweden",
            "Switzerland",
            "Turkey",
            "United Kingdom",
            "Iceland",
            "Italy"
           ],
           "legendgroup": "",
           "locationmode": "country names",
           "locations": [
            "Austria",
            "Belgium",
            "Bulgaria",
            "Czech Rep.",
            "Denmark",
            "Finland",
            "France",
            "Germany",
            "Greece",
            "Hungary",
            "Luxembourg",
            "Netherlands",
            "Norway",
            "Poland",
            "Portugal",
            "Spain",
            "Sweden",
            "Switzerland",
            "Turkey",
            "United Kingdom",
            "Iceland",
            "Italy"
           ],
           "marker": {
            "color": [
             3059,
             1049,
             1028,
             93,
             473,
             313,
             5344,
             24073,
             895,
             16407,
             87,
             739,
             483,
             470,
             91,
             850,
             3505,
             1309,
             5883,
             2334,
             15,
             5076
            ],
            "coloraxis": "coloraxis",
            "symbol": "circle"
           },
           "mode": "markers",
           "name": "",
           "showlegend": false,
           "type": "scattergeo"
          }
         ],
         "name": "2015-February"
        },
        {
         "data": [
          {
           "geo": "geo",
           "hovertemplate": "<b>%{hovertext}</b><br><br>Year-Month=2015-March<br>Country=%{location}<br>Refugees=%{marker.color}<extra></extra>",
           "hovertext": [
            "Austria",
            "Belgium",
            "Bulgaria",
            "Czech Rep.",
            "Denmark",
            "Finland",
            "France",
            "Germany",
            "Greece",
            "Hungary",
            "Luxembourg",
            "Netherlands",
            "Norway",
            "Poland",
            "Portugal",
            "Spain",
            "Sweden",
            "Switzerland",
            "Turkey",
            "United Kingdom",
            "Iceland",
            "Italy"
           ],
           "legendgroup": "",
           "locationmode": "country names",
           "locations": [
            "Austria",
            "Belgium",
            "Bulgaria",
            "Czech Rep.",
            "Denmark",
            "Finland",
            "France",
            "Germany",
            "Greece",
            "Hungary",
            "Luxembourg",
            "Netherlands",
            "Norway",
            "Poland",
            "Portugal",
            "Spain",
            "Sweden",
            "Switzerland",
            "Turkey",
            "United Kingdom",
            "Iceland",
            "Italy"
           ],
           "marker": {
            "color": [
             2763,
             1161,
             1104,
             171,
             465,
             345,
             6101,
             30012,
             789,
             4750,
             78,
             800,
             486,
             485,
             85,
             1221,
             3563,
             1382,
             6476,
             2555,
             9,
             5432
            ],
            "coloraxis": "coloraxis",
            "symbol": "circle"
           },
           "mode": "markers",
           "name": "",
           "showlegend": false,
           "type": "scattergeo"
          }
         ],
         "name": "2015-March"
        },
        {
         "data": [
          {
           "geo": "geo",
           "hovertemplate": "<b>%{hovertext}</b><br><br>Year-Month=2015-April<br>Country=%{location}<br>Refugees=%{marker.color}<extra></extra>",
           "hovertext": [
            "Austria",
            "Belgium",
            "Bulgaria",
            "Czech Rep.",
            "Denmark",
            "Finland",
            "France",
            "Germany",
            "Greece",
            "Hungary",
            "Luxembourg",
            "Netherlands",
            "Norway",
            "Poland",
            "Portugal",
            "Spain",
            "Sweden",
            "Switzerland",
            "Turkey",
            "United Kingdom",
            "Iceland",
            "Italy"
           ],
           "legendgroup": "",
           "locationmode": "country names",
           "locations": [
            "Austria",
            "Belgium",
            "Bulgaria",
            "Czech Rep.",
            "Denmark",
            "Finland",
            "France",
            "Germany",
            "Greece",
            "Hungary",
            "Luxembourg",
            "Netherlands",
            "Norway",
            "Poland",
            "Portugal",
            "Spain",
            "Sweden",
            "Switzerland",
            "Turkey",
            "United Kingdom",
            "Iceland",
            "Italy"
           ],
           "marker": {
            "color": [
             3696,
             1067,
             1118,
             106,
             564,
             337,
             5464,
             25842,
             854,
             6486,
             64,
             1086,
             524,
             542,
             79,
             1329,
             3406,
             1272,
             7109,
             2030,
             18,
             4502
            ],
            "coloraxis": "coloraxis",
            "symbol": "circle"
           },
           "mode": "markers",
           "name": "",
           "showlegend": false,
           "type": "scattergeo"
          }
         ],
         "name": "2015-April"
        },
        {
         "data": [
          {
           "geo": "geo",
           "hovertemplate": "<b>%{hovertext}</b><br><br>Year-Month=2015-May<br>Country=%{location}<br>Refugees=%{marker.color}<extra></extra>",
           "hovertext": [
            "Austria",
            "Belgium",
            "Bulgaria",
            "Czech Rep.",
            "Denmark",
            "Finland",
            "France",
            "Germany",
            "Greece",
            "Hungary",
            "Luxembourg",
            "Netherlands",
            "Norway",
            "Poland",
            "Portugal",
            "Spain",
            "Sweden",
            "Switzerland",
            "Turkey",
            "United Kingdom",
            "Iceland",
            "Italy"
           ],
           "legendgroup": "",
           "locationmode": "country names",
           "locations": [
            "Austria",
            "Belgium",
            "Bulgaria",
            "Czech Rep.",
            "Denmark",
            "Finland",
            "France",
            "Germany",
            "Greece",
            "Hungary",
            "Luxembourg",
            "Netherlands",
            "Norway",
            "Poland",
            "Portugal",
            "Spain",
            "Sweden",
            "Switzerland",
            "Turkey",
            "United Kingdom",
            "Iceland",
            "Italy"
           ],
           "marker": {
            "color": [
             6183,
             1590,
             1326,
             84,
             914,
             514,
             4493,
             25121,
             1005,
             9800,
             80,
             2252,
             1166,
             523,
             81,
             1057,
             4844,
             2080,
             7186,
             2638,
             7,
             5128
            ],
            "coloraxis": "coloraxis",
            "symbol": "circle"
           },
           "mode": "markers",
           "name": "",
           "showlegend": false,
           "type": "scattergeo"
          }
         ],
         "name": "2015-May"
        },
        {
         "data": [
          {
           "geo": "geo",
           "hovertemplate": "<b>%{hovertext}</b><br><br>Year-Month=2015-June<br>Country=%{location}<br>Refugees=%{marker.color}<extra></extra>",
           "hovertext": [
            "Austria",
            "Belgium",
            "Bulgaria",
            "Czech Rep.",
            "Denmark",
            "Finland",
            "France",
            "Germany",
            "Greece",
            "Hungary",
            "Luxembourg",
            "Netherlands",
            "Norway",
            "Poland",
            "Portugal",
            "Spain",
            "Sweden",
            "Switzerland",
            "Turkey",
            "United Kingdom",
            "Iceland",
            "Italy"
           ],
           "legendgroup": "",
           "locationmode": "country names",
           "locations": [
            "Austria",
            "Belgium",
            "Bulgaria",
            "Czech Rep.",
            "Denmark",
            "Finland",
            "France",
            "Germany",
            "Greece",
            "Hungary",
            "Luxembourg",
            "Netherlands",
            "Norway",
            "Poland",
            "Portugal",
            "Spain",
            "Sweden",
            "Switzerland",
            "Turkey",
            "United Kingdom",
            "Iceland",
            "Italy"
           ],
           "marker": {
            "color": [
             7480,
             2262,
             1606,
             86,
             1077,
             763,
             5315,
             34087,
             1000,
             16387,
             89,
             2937,
             1080,
             699,
             89,
             1299,
             6047,
             3670,
             11166,
             3167,
             23,
             5263
            ],
            "coloraxis": "coloraxis",
            "symbol": "circle"
           },
           "mode": "markers",
           "name": "",
           "showlegend": false,
           "type": "scattergeo"
          }
         ],
         "name": "2015-June"
        },
        {
         "data": [
          {
           "geo": "geo",
           "hovertemplate": "<b>%{hovertext}</b><br><br>Year-Month=2015-July<br>Country=%{location}<br>Refugees=%{marker.color}<extra></extra>",
           "hovertext": [
            "Austria",
            "Belgium",
            "Bulgaria",
            "Czech Rep.",
            "Denmark",
            "Finland",
            "France",
            "Germany",
            "Greece",
            "Hungary",
            "Luxembourg",
            "Netherlands",
            "Norway",
            "Poland",
            "Portugal",
            "Spain",
            "Sweden",
            "Switzerland",
            "Turkey",
            "United Kingdom",
            "Iceland",
            "Italy"
           ],
           "legendgroup": "",
           "locationmode": "country names",
           "locations": [
            "Austria",
            "Belgium",
            "Bulgaria",
            "Czech Rep.",
            "Denmark",
            "Finland",
            "France",
            "Germany",
            "Greece",
            "Hungary",
            "Luxembourg",
            "Netherlands",
            "Norway",
            "Poland",
            "Portugal",
            "Spain",
            "Sweden",
            "Switzerland",
            "Turkey",
            "United Kingdom",
            "Iceland",
            "Italy"
           ],
           "marker": {
            "color": [
             8627,
             3127,
             1849,
             75,
             1063,
             1463,
             5404,
             36507,
             1066,
             30872,
             84,
             2991,
             1349,
             983,
             71,
             1138,
             7517,
             3786,
             13509,
             4428,
             22,
             8511
            ],
            "coloraxis": "coloraxis",
            "symbol": "circle"
           },
           "mode": "markers",
           "name": "",
           "showlegend": false,
           "type": "scattergeo"
          }
         ],
         "name": "2015-July"
        },
        {
         "data": [
          {
           "geo": "geo",
           "hovertemplate": "<b>%{hovertext}</b><br><br>Year-Month=2015-August<br>Country=%{location}<br>Refugees=%{marker.color}<extra></extra>",
           "hovertext": [
            "Austria",
            "Belgium",
            "Bulgaria",
            "Czech Rep.",
            "Denmark",
            "Finland",
            "France",
            "Germany",
            "Greece",
            "Hungary",
            "Luxembourg",
            "Netherlands",
            "Norway",
            "Poland",
            "Portugal",
            "Spain",
            "Sweden",
            "Switzerland",
            "Turkey",
            "United Kingdom",
            "Iceland",
            "Italy"
           ],
           "legendgroup": "",
           "locationmode": "country names",
           "locations": [
            "Austria",
            "Belgium",
            "Bulgaria",
            "Czech Rep.",
            "Denmark",
            "Finland",
            "France",
            "Germany",
            "Greece",
            "Hungary",
            "Luxembourg",
            "Netherlands",
            "Norway",
            "Poland",
            "Portugal",
            "Spain",
            "Sweden",
            "Switzerland",
            "Turkey",
            "United Kingdom",
            "Iceland",
            "Italy"
           ],
           "marker": {
            "color": [
             8380,
             5144,
             1433,
             86,
             1812,
             2872,
             5476,
             36312,
             881,
             46722,
             164,
             5355,
             2282,
             1236,
             76,
             919,
             11280,
             3791,
             13656,
             3742,
             48,
             8775
            ],
            "coloraxis": "coloraxis",
            "symbol": "circle"
           },
           "mode": "markers",
           "name": "",
           "showlegend": false,
           "type": "scattergeo"
          }
         ],
         "name": "2015-August"
        },
        {
         "data": [
          {
           "geo": "geo",
           "hovertemplate": "<b>%{hovertext}</b><br><br>Year-Month=2015-September<br>Country=%{location}<br>Refugees=%{marker.color}<extra></extra>",
           "hovertext": [
            "Austria",
            "Belgium",
            "Bulgaria",
            "Czech Rep.",
            "Denmark",
            "Finland",
            "France",
            "Germany",
            "Greece",
            "Hungary",
            "Luxembourg",
            "Netherlands",
            "Norway",
            "Poland",
            "Portugal",
            "Spain",
            "Sweden",
            "Switzerland",
            "Turkey",
            "United Kingdom",
            "Iceland",
            "Italy"
           ],
           "legendgroup": "",
           "locationmode": "country names",
           "locations": [
            "Austria",
            "Belgium",
            "Bulgaria",
            "Czech Rep.",
            "Denmark",
            "Finland",
            "France",
            "Germany",
            "Greece",
            "Hungary",
            "Luxembourg",
            "Netherlands",
            "Norway",
            "Poland",
            "Portugal",
            "Spain",
            "Sweden",
            "Switzerland",
            "Turkey",
            "United Kingdom",
            "Iceland",
            "Italy"
           ],
           "marker": {
            "color": [
             10474,
             6354,
             2059,
             101,
             2756,
             10824,
             7324,
             44481,
             941,
             30494,
             362,
             6442,
             4897,
             1491,
             70,
             1199,
             23773,
             4415,
             18452,
             4141,
             62,
             11107
            ],
            "coloraxis": "coloraxis",
            "symbol": "circle"
           },
           "mode": "markers",
           "name": "",
           "showlegend": false,
           "type": "scattergeo"
          }
         ],
         "name": "2015-September"
        },
        {
         "data": [
          {
           "geo": "geo",
           "hovertemplate": "<b>%{hovertext}</b><br><br>Year-Month=2015-October<br>Country=%{location}<br>Refugees=%{marker.color}<extra></extra>",
           "hovertext": [
            "Austria",
            "Belgium",
            "Bulgaria",
            "Czech Rep.",
            "Denmark",
            "Finland",
            "France",
            "Germany",
            "Greece",
            "Hungary",
            "Luxembourg",
            "Netherlands",
            "Norway",
            "Poland",
            "Portugal",
            "Spain",
            "Sweden",
            "Switzerland",
            "Turkey",
            "United Kingdom",
            "Iceland",
            "Italy"
           ],
           "legendgroup": "",
           "locationmode": "country names",
           "locations": [
            "Austria",
            "Belgium",
            "Bulgaria",
            "Czech Rep.",
            "Denmark",
            "Finland",
            "France",
            "Germany",
            "Greece",
            "Hungary",
            "Luxembourg",
            "Netherlands",
            "Norway",
            "Poland",
            "Portugal",
            "Spain",
            "Sweden",
            "Switzerland",
            "Turkey",
            "United Kingdom",
            "Iceland",
            "Italy"
           ],
           "marker": {
            "color": [
             12020,
             5379,
             3529,
             113,
             3684,
             7038,
             8640,
             58133,
             847,
             487,
             372,
             9995,
             8575,
             1259,
             68,
             1311,
             38652,
             4642,
             23066,
             5190,
             57,
             10363
            ],
            "coloraxis": "coloraxis",
            "symbol": "circle"
           },
           "mode": "markers",
           "name": "",
           "showlegend": false,
           "type": "scattergeo"
          }
         ],
         "name": "2015-October"
        },
        {
         "data": [
          {
           "geo": "geo",
           "hovertemplate": "<b>%{hovertext}</b><br><br>Year-Month=2015-November<br>Country=%{location}<br>Refugees=%{marker.color}<extra></extra>",
           "hovertext": [
            "Austria",
            "Belgium",
            "Bulgaria",
            "Czech Rep.",
            "Denmark",
            "Finland",
            "France",
            "Germany",
            "Greece",
            "Hungary",
            "Luxembourg",
            "Netherlands",
            "Norway",
            "Poland",
            "Portugal",
            "Spain",
            "Sweden",
            "Switzerland",
            "Turkey",
            "United Kingdom",
            "Iceland",
            "Italy"
           ],
           "legendgroup": "",
           "locationmode": "country names",
           "locations": [
            "Austria",
            "Belgium",
            "Bulgaria",
            "Czech Rep.",
            "Denmark",
            "Finland",
            "France",
            "Germany",
            "Greece",
            "Hungary",
            "Luxembourg",
            "Netherlands",
            "Norway",
            "Poland",
            "Portugal",
            "Spain",
            "Sweden",
            "Switzerland",
            "Turkey",
            "United Kingdom",
            "Iceland",
            "Italy"
           ],
           "marker": {
            "color": [
             11872,
             5485,
             2396,
             116,
             5094,
             5704,
             7881,
             57688,
             1001,
             197,
             423,
             6243,
             8110,
             1097,
             83,
             1340,
             36203,
             5565,
             11820,
             3463,
             44,
             8272
            ],
            "coloraxis": "coloraxis",
            "symbol": "circle"
           },
           "mode": "markers",
           "name": "",
           "showlegend": false,
           "type": "scattergeo"
          }
         ],
         "name": "2015-November"
        },
        {
         "data": [
          {
           "geo": "geo",
           "hovertemplate": "<b>%{hovertext}</b><br><br>Year-Month=2015-December<br>Country=%{location}<br>Refugees=%{marker.color}<extra></extra>",
           "hovertext": [
            "Austria",
            "Belgium",
            "Bulgaria",
            "Czech Rep.",
            "Denmark",
            "Finland",
            "France",
            "Germany",
            "Greece",
            "Hungary",
            "Luxembourg",
            "Netherlands",
            "Norway",
            "Poland",
            "Portugal",
            "Spain",
            "Sweden",
            "Switzerland",
            "Turkey",
            "United Kingdom",
            "Iceland",
            "Italy"
           ],
           "legendgroup": "",
           "locationmode": "country names",
           "locations": [
            "Austria",
            "Belgium",
            "Bulgaria",
            "Czech Rep.",
            "Denmark",
            "Finland",
            "France",
            "Germany",
            "Greece",
            "Hungary",
            "Luxembourg",
            "Netherlands",
            "Norway",
            "Poland",
            "Portugal",
            "Spain",
            "Sweden",
            "Switzerland",
            "Turkey",
            "United Kingdom",
            "Iceland",
            "Italy"
           ],
           "marker": {
            "color": [
             7133,
             4879,
             1659,
             110,
             2669,
             1792,
             8594,
             46730,
             1160,
             174,
             416,
             3375,
             1005,
             985,
             55,
             866,
             13317,
             4762,
             9383,
             3381,
             36,
             6073
            ],
            "coloraxis": "coloraxis",
            "symbol": "circle"
           },
           "mode": "markers",
           "name": "",
           "showlegend": false,
           "type": "scattergeo"
          }
         ],
         "name": "2015-December"
        },
        {
         "data": [
          {
           "geo": "geo",
           "hovertemplate": "<b>%{hovertext}</b><br><br>Year-Month=2016-January<br>Country=%{location}<br>Refugees=%{marker.color}<extra></extra>",
           "hovertext": [
            "Austria",
            "Belgium",
            "Bulgaria",
            "Czech Rep.",
            "Denmark",
            "Finland",
            "France",
            "Germany",
            "Greece",
            "Hungary",
            "Luxembourg",
            "Netherlands",
            "Norway",
            "Poland",
            "Portugal",
            "Spain",
            "Sweden",
            "Switzerland",
            "Turkey",
            "United Kingdom",
            "Iceland",
            "Italy"
           ],
           "legendgroup": "",
           "locationmode": "country names",
           "locations": [
            "Austria",
            "Belgium",
            "Bulgaria",
            "Czech Rep.",
            "Denmark",
            "Finland",
            "France",
            "Germany",
            "Greece",
            "Hungary",
            "Luxembourg",
            "Netherlands",
            "Norway",
            "Poland",
            "Portugal",
            "Spain",
            "Sweden",
            "Switzerland",
            "Turkey",
            "United Kingdom",
            "Iceland",
            "Italy"
           ],
           "marker": {
            "color": [
             5772,
             2341,
             1884,
             85,
             1606,
             922,
             5832,
             57158,
             1004,
             299,
             227,
             2492,
             364,
             517,
             23,
             1043,
             3668,
             3444,
             5654,
             3610,
             43,
             7367
            ],
            "coloraxis": "coloraxis",
            "symbol": "circle"
           },
           "mode": "markers",
           "name": "",
           "showlegend": false,
           "type": "scattergeo"
          }
         ],
         "name": "2016-January"
        },
        {
         "data": [
          {
           "geo": "geo",
           "hovertemplate": "<b>%{hovertext}</b><br><br>Year-Month=2016-February<br>Country=%{location}<br>Refugees=%{marker.color}<extra></extra>",
           "hovertext": [
            "Austria",
            "Belgium",
            "Bulgaria",
            "Czech Rep.",
            "Denmark",
            "Finland",
            "France",
            "Germany",
            "Greece",
            "Hungary",
            "Luxembourg",
            "Netherlands",
            "Norway",
            "Poland",
            "Portugal",
            "Spain",
            "Sweden",
            "Switzerland",
            "Turkey",
            "United Kingdom",
            "Iceland",
            "Italy"
           ],
           "legendgroup": "",
           "locationmode": "country names",
           "locations": [
            "Austria",
            "Belgium",
            "Bulgaria",
            "Czech Rep.",
            "Denmark",
            "Finland",
            "France",
            "Germany",
            "Greece",
            "Hungary",
            "Luxembourg",
            "Netherlands",
            "Norway",
            "Poland",
            "Portugal",
            "Spain",
            "Sweden",
            "Switzerland",
            "Turkey",
            "United Kingdom",
            "Iceland",
            "Italy"
           ],
           "marker": {
            "color": [
             4974,
             1234,
             1130,
             118,
             866,
             774,
             6303,
             72787,
             1272,
             2031,
             91,
             1699,
             233,
             761,
             21,
             922,
             2195,
             2489,
             6390,
             3190,
             25,
             7558
            ],
            "coloraxis": "coloraxis",
            "symbol": "circle"
           },
           "mode": "markers",
           "name": "",
           "showlegend": false,
           "type": "scattergeo"
          }
         ],
         "name": "2016-February"
        },
        {
         "data": [
          {
           "geo": "geo",
           "hovertemplate": "<b>%{hovertext}</b><br><br>Year-Month=2016-March<br>Country=%{location}<br>Refugees=%{marker.color}<extra></extra>",
           "hovertext": [
            "Austria",
            "Belgium",
            "Bulgaria",
            "Czech Rep.",
            "Denmark",
            "Finland",
            "France",
            "Germany",
            "Greece",
            "Hungary",
            "Luxembourg",
            "Netherlands",
            "Norway",
            "Poland",
            "Portugal",
            "Spain",
            "Sweden",
            "Switzerland",
            "Turkey",
            "United Kingdom",
            "Iceland",
            "Italy"
           ],
           "legendgroup": "",
           "locationmode": "country names",
           "locations": [
            "Austria",
            "Belgium",
            "Bulgaria",
            "Czech Rep.",
            "Denmark",
            "Finland",
            "France",
            "Germany",
            "Greece",
            "Hungary",
            "Luxembourg",
            "Netherlands",
            "Norway",
            "Poland",
            "Portugal",
            "Spain",
            "Sweden",
            "Switzerland",
            "Turkey",
            "United Kingdom",
            "Iceland",
            "Italy"
           ],
           "marker": {
            "color": [
             3201,
             968,
             986,
             90,
             431,
             307,
             6143,
             65222,
             2777,
             4401,
             68,
             1177,
             258,
             989,
             143,
             833,
             1670,
             1848,
             8361,
             3054,
             21,
             7265
            ],
            "coloraxis": "coloraxis",
            "symbol": "circle"
           },
           "mode": "markers",
           "name": "",
           "showlegend": false,
           "type": "scattergeo"
          }
         ],
         "name": "2016-March"
        },
        {
         "data": [
          {
           "geo": "geo",
           "hovertemplate": "<b>%{hovertext}</b><br><br>Year-Month=2016-April<br>Country=%{location}<br>Refugees=%{marker.color}<extra></extra>",
           "hovertext": [
            "Austria",
            "Belgium",
            "Bulgaria",
            "Czech Rep.",
            "Denmark",
            "Finland",
            "France",
            "Germany",
            "Greece",
            "Hungary",
            "Luxembourg",
            "Netherlands",
            "Norway",
            "Poland",
            "Portugal",
            "Spain",
            "Sweden",
            "Switzerland",
            "Turkey",
            "United Kingdom",
            "Iceland",
            "Italy"
           ],
           "legendgroup": "",
           "locationmode": "country names",
           "locations": [
            "Austria",
            "Belgium",
            "Bulgaria",
            "Czech Rep.",
            "Denmark",
            "Finland",
            "France",
            "Germany",
            "Greece",
            "Hungary",
            "Luxembourg",
            "Netherlands",
            "Norway",
            "Poland",
            "Portugal",
            "Spain",
            "Sweden",
            "Switzerland",
            "Turkey",
            "United Kingdom",
            "Iceland",
            "Italy"
           ],
           "marker": {
            "color": [
             4021,
             973,
             1032,
             95,
             346,
             326,
             6076,
             66219,
             3552,
             5675,
             77,
             850,
             184,
             1070,
             35,
             1154,
             1489,
             1583,
             5912,
             3440,
             10,
             7908
            ],
            "coloraxis": "coloraxis",
            "symbol": "circle"
           },
           "mode": "markers",
           "name": "",
           "showlegend": false,
           "type": "scattergeo"
          }
         ],
         "name": "2016-April"
        },
        {
         "data": [
          {
           "geo": "geo",
           "hovertemplate": "<b>%{hovertext}</b><br><br>Year-Month=2016-May<br>Country=%{location}<br>Refugees=%{marker.color}<extra></extra>",
           "hovertext": [
            "Austria",
            "Belgium",
            "Bulgaria",
            "Czech Rep.",
            "Denmark",
            "Finland",
            "France",
            "Germany",
            "Greece",
            "Hungary",
            "Luxembourg",
            "Netherlands",
            "Norway",
            "Poland",
            "Portugal",
            "Spain",
            "Sweden",
            "Switzerland",
            "Turkey",
            "United Kingdom",
            "Iceland",
            "Italy"
           ],
           "legendgroup": "",
           "locationmode": "country names",
           "locations": [
            "Austria",
            "Belgium",
            "Bulgaria",
            "Czech Rep.",
            "Denmark",
            "Finland",
            "France",
            "Germany",
            "Greece",
            "Hungary",
            "Luxembourg",
            "Netherlands",
            "Norway",
            "Poland",
            "Portugal",
            "Spain",
            "Sweden",
            "Switzerland",
            "Turkey",
            "United Kingdom",
            "Iceland",
            "Italy"
           ],
           "marker": {
            "color": [
             3758,
             780,
             1069,
             50,
             345,
             263,
             6355,
             59665,
             4191,
             4584,
             72,
             927,
             177,
             1310,
             169,
             1275,
             1397,
             1736,
             4904,
             3138,
             38,
             9052
            ],
            "coloraxis": "coloraxis",
            "symbol": "circle"
           },
           "mode": "markers",
           "name": "",
           "showlegend": false,
           "type": "scattergeo"
          }
         ],
         "name": "2016-May"
        },
        {
         "data": [
          {
           "geo": "geo",
           "hovertemplate": "<b>%{hovertext}</b><br><br>Year-Month=2016-June<br>Country=%{location}<br>Refugees=%{marker.color}<extra></extra>",
           "hovertext": [
            "Austria",
            "Belgium",
            "Bulgaria",
            "Czech Rep.",
            "Denmark",
            "Finland",
            "France",
            "Germany",
            "Greece",
            "Hungary",
            "Luxembourg",
            "Netherlands",
            "Norway",
            "Poland",
            "Portugal",
            "Spain",
            "Sweden",
            "Switzerland",
            "Turkey",
            "United Kingdom",
            "Iceland",
            "Italy"
           ],
           "legendgroup": "",
           "locationmode": "country names",
           "locations": [
            "Austria",
            "Belgium",
            "Bulgaria",
            "Czech Rep.",
            "Denmark",
            "Finland",
            "France",
            "Germany",
            "Greece",
            "Hungary",
            "Luxembourg",
            "Netherlands",
            "Norway",
            "Poland",
            "Portugal",
            "Spain",
            "Sweden",
            "Switzerland",
            "Turkey",
            "United Kingdom",
            "Iceland",
            "Italy"
           ],
           "marker": {
            "color": [
             3026,
             734,
             1367,
             61,
             415,
             284,
             6184,
             78578,
             0,
             4578,
             109,
             951,
             197,
             1396,
             152,
             1448,
             1383,
             2176,
             4530,
             2985,
             15,
             9926
            ],
            "coloraxis": "coloraxis",
            "symbol": "circle"
           },
           "mode": "markers",
           "name": "",
           "showlegend": false,
           "type": "scattergeo"
          }
         ],
         "name": "2016-June"
        },
        {
         "data": [
          {
           "geo": "geo",
           "hovertemplate": "<b>%{hovertext}</b><br><br>Year-Month=2016-July<br>Country=%{location}<br>Refugees=%{marker.color}<extra></extra>",
           "hovertext": [
            "Austria",
            "Belgium",
            "Bulgaria",
            "Czech Rep.",
            "Denmark",
            "Finland",
            "France",
            "Germany",
            "Greece",
            "Hungary",
            "Luxembourg",
            "Netherlands",
            "Norway",
            "Poland",
            "Portugal",
            "Spain",
            "Sweden",
            "Switzerland",
            "Turkey",
            "United Kingdom",
            "Iceland",
            "Italy"
           ],
           "legendgroup": "",
           "locationmode": "country names",
           "locations": [
            "Austria",
            "Belgium",
            "Bulgaria",
            "Czech Rep.",
            "Denmark",
            "Finland",
            "France",
            "Germany",
            "Greece",
            "Hungary",
            "Luxembourg",
            "Netherlands",
            "Norway",
            "Poland",
            "Portugal",
            "Spain",
            "Sweden",
            "Switzerland",
            "Turkey",
            "United Kingdom",
            "Iceland",
            "Italy"
           ],
           "marker": {
            "color": [
             2910,
             1041,
             1497,
             60,
             356,
             279,
             6151,
             76498,
             0,
             1725,
             93,
             1338,
             220,
             1025,
             56,
             983,
             1455,
             2291,
             4409,
             2791,
             22,
             10860
            ],
            "coloraxis": "coloraxis",
            "symbol": "circle"
           },
           "mode": "markers",
           "name": "",
           "showlegend": false,
           "type": "scattergeo"
          }
         ],
         "name": "2016-July"
        },
        {
         "data": [
          {
           "geo": "geo",
           "hovertemplate": "<b>%{hovertext}</b><br><br>Year-Month=2016-August<br>Country=%{location}<br>Refugees=%{marker.color}<extra></extra>",
           "hovertext": [
            "Austria",
            "Belgium",
            "Bulgaria",
            "Czech Rep.",
            "Denmark",
            "Finland",
            "France",
            "Germany",
            "Greece",
            "Hungary",
            "Luxembourg",
            "Netherlands",
            "Norway",
            "Poland",
            "Portugal",
            "Spain",
            "Sweden",
            "Switzerland",
            "Turkey",
            "United Kingdom",
            "Iceland",
            "Italy"
           ],
           "legendgroup": "",
           "locationmode": "country names",
           "locations": [
            "Austria",
            "Belgium",
            "Bulgaria",
            "Czech Rep.",
            "Denmark",
            "Finland",
            "France",
            "Germany",
            "Greece",
            "Hungary",
            "Luxembourg",
            "Netherlands",
            "Norway",
            "Poland",
            "Portugal",
            "Spain",
            "Sweden",
            "Switzerland",
            "Turkey",
            "United Kingdom",
            "Iceland",
            "Italy"
           ],
           "marker": {
            "color": [
             3070,
             1195,
             2734,
             74,
             271,
             409,
             7129,
             92069,
             0,
             1236,
             160,
             1604,
             245,
             741,
             31,
             1188,
             1649,
             2254,
             7303,
             3021,
             50,
             11266
            ],
            "coloraxis": "coloraxis",
            "symbol": "circle"
           },
           "mode": "markers",
           "name": "",
           "showlegend": false,
           "type": "scattergeo"
          }
         ],
         "name": "2016-August"
        },
        {
         "data": [
          {
           "geo": "geo",
           "hovertemplate": "<b>%{hovertext}</b><br><br>Year-Month=2016-September<br>Country=%{location}<br>Refugees=%{marker.color}<extra></extra>",
           "hovertext": [
            "Austria",
            "Belgium",
            "Bulgaria",
            "Czech Rep.",
            "Denmark",
            "Finland",
            "France",
            "Germany",
            "Greece",
            "Hungary",
            "Luxembourg",
            "Netherlands",
            "Norway",
            "Poland",
            "Portugal",
            "Spain",
            "Sweden",
            "Switzerland",
            "Turkey",
            "United Kingdom",
            "Iceland",
            "Italy"
           ],
           "legendgroup": "",
           "locationmode": "country names",
           "locations": [
            "Austria",
            "Belgium",
            "Bulgaria",
            "Czech Rep.",
            "Denmark",
            "Finland",
            "France",
            "Germany",
            "Greece",
            "Hungary",
            "Luxembourg",
            "Netherlands",
            "Norway",
            "Poland",
            "Portugal",
            "Spain",
            "Sweden",
            "Switzerland",
            "Turkey",
            "United Kingdom",
            "Iceland",
            "Italy"
           ],
           "marker": {
            "color": [
             2440,
             1111,
             2050,
             81,
             291,
             455,
             6914,
             76457,
             0,
             1029,
             157,
             1859,
             225,
             597,
             147,
             1455,
             1727,
             2034,
             6791,
             3150,
             140,
             12316
            ],
            "coloraxis": "coloraxis",
            "symbol": "circle"
           },
           "mode": "markers",
           "name": "",
           "showlegend": false,
           "type": "scattergeo"
          }
         ],
         "name": "2016-September"
        },
        {
         "data": [
          {
           "geo": "geo",
           "hovertemplate": "<b>%{hovertext}</b><br><br>Year-Month=2016-October<br>Country=%{location}<br>Refugees=%{marker.color}<extra></extra>",
           "hovertext": [
            "Austria",
            "Belgium",
            "Bulgaria",
            "Czech Rep.",
            "Denmark",
            "Finland",
            "France",
            "Germany",
            "Greece",
            "Hungary",
            "Luxembourg",
            "Netherlands",
            "Norway",
            "Poland",
            "Portugal",
            "Spain",
            "Sweden",
            "Switzerland",
            "Turkey",
            "United Kingdom",
            "Iceland",
            "Italy"
           ],
           "legendgroup": "",
           "locationmode": "country names",
           "locations": [
            "Austria",
            "Belgium",
            "Bulgaria",
            "Czech Rep.",
            "Denmark",
            "Finland",
            "France",
            "Germany",
            "Greece",
            "Hungary",
            "Luxembourg",
            "Netherlands",
            "Norway",
            "Poland",
            "Portugal",
            "Spain",
            "Sweden",
            "Switzerland",
            "Turkey",
            "United Kingdom",
            "Iceland",
            "Italy"
           ],
           "marker": {
            "color": [
             2427,
             1269,
             2490,
             97,
             301,
             262,
             7038,
             32344,
             0,
             1132,
             220,
             1940,
             225,
             373,
             132,
             1721,
             1811,
             1933,
             8200,
             2817,
             184,
             13703
            ],
            "coloraxis": "coloraxis",
            "symbol": "circle"
           },
           "mode": "markers",
           "name": "",
           "showlegend": false,
           "type": "scattergeo"
          }
         ],
         "name": "2016-October"
        },
        {
         "data": [
          {
           "geo": "geo",
           "hovertemplate": "<b>%{hovertext}</b><br><br>Year-Month=2016-November<br>Country=%{location}<br>Refugees=%{marker.color}<extra></extra>",
           "hovertext": [
            "Austria",
            "Belgium",
            "Bulgaria",
            "Czech Rep.",
            "Denmark",
            "Finland",
            "France",
            "Germany",
            "Greece",
            "Hungary",
            "Luxembourg",
            "Netherlands",
            "Norway",
            "Poland",
            "Portugal",
            "Spain",
            "Sweden",
            "Switzerland",
            "Turkey",
            "United Kingdom",
            "Iceland",
            "Italy"
           ],
           "legendgroup": "",
           "locationmode": "country names",
           "locations": [
            "Austria",
            "Belgium",
            "Bulgaria",
            "Czech Rep.",
            "Denmark",
            "Finland",
            "France",
            "Germany",
            "Greece",
            "Hungary",
            "Luxembourg",
            "Netherlands",
            "Norway",
            "Poland",
            "Portugal",
            "Spain",
            "Sweden",
            "Switzerland",
            "Turkey",
            "United Kingdom",
            "Iceland",
            "Italy"
           ],
           "marker": {
            "color": [
             2144,
             1214,
             1718,
             44,
             262,
             223,
             6115,
             25856,
             0,
             648,
             105,
             1655,
             182,
             358,
             72,
             1934,
             1670,
             1789,
             8559,
             2994,
             236,
             13418
            ],
            "coloraxis": "coloraxis",
            "symbol": "circle"
           },
           "mode": "markers",
           "name": "",
           "showlegend": false,
           "type": "scattergeo"
          }
         ],
         "name": "2016-November"
        },
        {
         "data": [
          {
           "geo": "geo",
           "hovertemplate": "<b>%{hovertext}</b><br><br>Year-Month=2016-December<br>Country=%{location}<br>Refugees=%{marker.color}<extra></extra>",
           "hovertext": [
            "Austria",
            "Belgium",
            "Bulgaria",
            "Czech Rep.",
            "Denmark",
            "Finland",
            "France",
            "Germany",
            "Greece",
            "Hungary",
            "Luxembourg",
            "Netherlands",
            "Norway",
            "Poland",
            "Portugal",
            "Spain",
            "Sweden",
            "Switzerland",
            "Turkey",
            "United Kingdom",
            "Iceland",
            "Italy"
           ],
           "legendgroup": "",
           "locationmode": "country names",
           "locations": [
            "Austria",
            "Belgium",
            "Bulgaria",
            "Czech Rep.",
            "Denmark",
            "Finland",
            "France",
            "Germany",
            "Greece",
            "Hungary",
            "Luxembourg",
            "Netherlands",
            "Norway",
            "Poland",
            "Portugal",
            "Spain",
            "Sweden",
            "Switzerland",
            "Turkey",
            "United Kingdom",
            "Iceland",
            "Italy"
           ],
           "marker": {
            "color": [
             2209,
             1128,
             780,
             44,
             208,
             223,
             0,
             18925,
             0,
             553,
             150,
             1473,
             362,
             0,
             96,
             1607,
             1527,
             1618,
             6461,
             3180,
             88,
             10954
            ],
            "coloraxis": "coloraxis",
            "symbol": "circle"
           },
           "mode": "markers",
           "name": "",
           "showlegend": false,
           "type": "scattergeo"
          }
         ],
         "name": "2016-December"
        },
        {
         "data": [
          {
           "geo": "geo",
           "hovertemplate": "<b>%{hovertext}</b><br><br>Year-Month=2017-January<br>Country=%{location}<br>Refugees=%{marker.color}<extra></extra>",
           "hovertext": [
            "Austria",
            "Belgium",
            "Bulgaria",
            "Czech Rep.",
            "Denmark",
            "Finland",
            "France",
            "Germany",
            "Greece",
            "Hungary",
            "Luxembourg",
            "Netherlands",
            "Norway",
            "Poland",
            "Portugal",
            "Spain",
            "Sweden",
            "Switzerland",
            "Turkey",
            "United Kingdom",
            "Iceland",
            "Italy"
           ],
           "legendgroup": "",
           "locationmode": "country names",
           "locations": [
            "Austria",
            "Belgium",
            "Bulgaria",
            "Czech Rep.",
            "Denmark",
            "Finland",
            "France",
            "Germany",
            "Greece",
            "Hungary",
            "Luxembourg",
            "Netherlands",
            "Norway",
            "Poland",
            "Portugal",
            "Spain",
            "Sweden",
            "Switzerland",
            "Turkey",
            "United Kingdom",
            "Iceland",
            "Italy"
           ],
           "marker": {
            "color": [
             1979,
             1088,
             368,
             85,
             199,
             0,
             6993,
             16005,
             0,
             450,
             173,
             1177,
             570,
             318,
             209,
             2083,
             1482,
             1445,
             6543,
             2746,
             43,
             11524
            ],
            "coloraxis": "coloraxis",
            "symbol": "circle"
           },
           "mode": "markers",
           "name": "",
           "showlegend": false,
           "type": "scattergeo"
          }
         ],
         "name": "2017-January"
        },
        {
         "data": [
          {
           "geo": "geo",
           "hovertemplate": "<b>%{hovertext}</b><br><br>Year-Month=2017-February<br>Country=%{location}<br>Refugees=%{marker.color}<extra></extra>",
           "hovertext": [
            "Austria",
            "Belgium",
            "Bulgaria",
            "Czech Rep.",
            "Denmark",
            "Finland",
            "France",
            "Germany",
            "Greece",
            "Hungary",
            "Luxembourg",
            "Netherlands",
            "Norway",
            "Poland",
            "Portugal",
            "Spain",
            "Sweden",
            "Switzerland",
            "Turkey",
            "United Kingdom",
            "Iceland",
            "Italy"
           ],
           "legendgroup": "",
           "locationmode": "country names",
           "locations": [
            "Austria",
            "Belgium",
            "Bulgaria",
            "Czech Rep.",
            "Denmark",
            "Finland",
            "France",
            "Germany",
            "Greece",
            "Hungary",
            "Luxembourg",
            "Netherlands",
            "Norway",
            "Poland",
            "Portugal",
            "Spain",
            "Sweden",
            "Switzerland",
            "Turkey",
            "United Kingdom",
            "Iceland",
            "Italy"
           ],
           "marker": {
            "color": [
             1797,
             1027,
             344,
             69,
             176,
             0,
             6993,
             14909,
             0,
             336,
             164,
             1103,
             189,
             276,
             194,
             2268,
             1257,
             1322,
             6284,
             2399,
             43,
             11781
            ],
            "coloraxis": "coloraxis",
            "symbol": "circle"
           },
           "mode": "markers",
           "name": "",
           "showlegend": false,
           "type": "scattergeo"
          }
         ],
         "name": "2017-February"
        },
        {
         "data": [
          {
           "geo": "geo",
           "hovertemplate": "<b>%{hovertext}</b><br><br>Year-Month=2017-March<br>Country=%{location}<br>Refugees=%{marker.color}<extra></extra>",
           "hovertext": [
            "Austria",
            "Belgium",
            "Bulgaria",
            "Czech Rep.",
            "Denmark",
            "Finland",
            "France",
            "Germany",
            "Greece",
            "Hungary",
            "Luxembourg",
            "Netherlands",
            "Norway",
            "Poland",
            "Portugal",
            "Spain",
            "Sweden",
            "Switzerland",
            "Turkey",
            "United Kingdom",
            "Iceland",
            "Italy"
           ],
           "legendgroup": "",
           "locationmode": "country names",
           "locations": [
            "Austria",
            "Belgium",
            "Bulgaria",
            "Czech Rep.",
            "Denmark",
            "Finland",
            "France",
            "Germany",
            "Greece",
            "Hungary",
            "Luxembourg",
            "Netherlands",
            "Norway",
            "Poland",
            "Portugal",
            "Spain",
            "Sweden",
            "Switzerland",
            "Turkey",
            "United Kingdom",
            "Iceland",
            "Italy"
           ],
           "marker": {
            "color": [
             1886,
             1315,
             494,
             56,
             222,
             0,
             7993,
             18028,
             0,
             0,
             181,
             1137,
             342,
             296,
             0,
             2459,
             1464,
             1449,
             9482,
             3074,
             70,
             13459
            ],
            "coloraxis": "coloraxis",
            "symbol": "circle"
           },
           "mode": "markers",
           "name": "",
           "showlegend": false,
           "type": "scattergeo"
          }
         ],
         "name": "2017-March"
        },
        {
         "data": [
          {
           "geo": "geo",
           "hovertemplate": "<b>%{hovertext}</b><br><br>Year-Month=2017-April<br>Country=%{location}<br>Refugees=%{marker.color}<extra></extra>",
           "hovertext": [
            "Austria",
            "Belgium",
            "Bulgaria",
            "Czech Rep.",
            "Denmark",
            "Finland",
            "France",
            "Germany",
            "Greece",
            "Hungary",
            "Luxembourg",
            "Netherlands",
            "Norway",
            "Poland",
            "Portugal",
            "Spain",
            "Sweden",
            "Switzerland",
            "Turkey",
            "United Kingdom",
            "Iceland",
            "Italy"
           ],
           "legendgroup": "",
           "locationmode": "country names",
           "locations": [
            "Austria",
            "Belgium",
            "Bulgaria",
            "Czech Rep.",
            "Denmark",
            "Finland",
            "France",
            "Germany",
            "Greece",
            "Hungary",
            "Luxembourg",
            "Netherlands",
            "Norway",
            "Poland",
            "Portugal",
            "Spain",
            "Sweden",
            "Switzerland",
            "Turkey",
            "United Kingdom",
            "Iceland",
            "Italy"
           ],
           "marker": {
            "color": [
             1695,
             1019,
             188,
             43,
             160,
             0,
             7109,
             13293,
             0,
             0,
             153,
             968,
             275,
             255,
             0,
             1935,
             1183,
             1174,
             5677,
             0,
             41,
             9371
            ],
            "coloraxis": "coloraxis",
            "symbol": "circle"
           },
           "mode": "markers",
           "name": "",
           "showlegend": false,
           "type": "scattergeo"
          }
         ],
         "name": "2017-April"
        },
        {
         "data": [
          {
           "geo": "geo",
           "hovertemplate": "<b>%{hovertext}</b><br><br>Year-Month=2017-May<br>Country=%{location}<br>Refugees=%{marker.color}<extra></extra>",
           "hovertext": [
            "Austria",
            "Belgium",
            "Bulgaria",
            "Czech Rep.",
            "Denmark",
            "Finland",
            "France",
            "Germany",
            "Greece",
            "Hungary",
            "Luxembourg",
            "Netherlands",
            "Norway",
            "Poland",
            "Portugal",
            "Spain",
            "Sweden",
            "Switzerland",
            "Turkey",
            "United Kingdom",
            "Iceland",
            "Italy"
           ],
           "legendgroup": "",
           "locationmode": "country names",
           "locations": [
            "Austria",
            "Belgium",
            "Bulgaria",
            "Czech Rep.",
            "Denmark",
            "Finland",
            "France",
            "Germany",
            "Greece",
            "Hungary",
            "Luxembourg",
            "Netherlands",
            "Norway",
            "Poland",
            "Portugal",
            "Spain",
            "Sweden",
            "Switzerland",
            "Turkey",
            "United Kingdom",
            "Iceland",
            "Italy"
           ],
           "marker": {
            "color": [
             1852,
             1243,
             239,
             96,
             249,
             0,
             6909,
             15073,
             0,
             0,
             147,
             1082,
             355,
             190,
             0,
             0,
             1354,
             1305,
             7661,
             0,
             61,
             0
            ],
            "coloraxis": "coloraxis",
            "symbol": "circle"
           },
           "mode": "markers",
           "name": "",
           "showlegend": false,
           "type": "scattergeo"
          }
         ],
         "name": "2017-May"
        }
       ],
       "layout": {
        "coloraxis": {
         "colorbar": {
          "title": {
           "text": "Refugees"
          }
         },
         "colorscale": [
          [
           0,
           "#0d0887"
          ],
          [
           0.1111111111111111,
           "#46039f"
          ],
          [
           0.2222222222222222,
           "#7201a8"
          ],
          [
           0.3333333333333333,
           "#9c179e"
          ],
          [
           0.4444444444444444,
           "#bd3786"
          ],
          [
           0.5555555555555556,
           "#d8576b"
          ],
          [
           0.6666666666666666,
           "#ed7953"
          ],
          [
           0.7777777777777778,
           "#fb9f3a"
          ],
          [
           0.8888888888888888,
           "#fdca26"
          ],
          [
           1,
           "#f0f921"
          ]
         ]
        },
        "geo": {
         "center": {},
         "domain": {
          "x": [
           0,
           1
          ],
          "y": [
           0,
           1
          ]
         },
         "projection": {
          "type": "natural earth"
         }
        },
        "height": 600,
        "legend": {
         "tracegroupgap": 0
        },
        "margin": {
         "b": 0,
         "l": 0,
         "r": 0
        },
        "sliders": [
         {
          "active": 0,
          "currentvalue": {
           "prefix": "Year-Month="
          },
          "len": 0.9,
          "pad": {
           "b": 10,
           "t": 60
          },
          "steps": [
           {
            "args": [
             [
              "1999-January"
             ],
             {
              "frame": {
               "duration": 0,
               "redraw": true
              },
              "fromcurrent": true,
              "mode": "immediate",
              "transition": {
               "duration": 0,
               "easing": "linear"
              }
             }
            ],
            "label": "1999-January",
            "method": "animate"
           },
           {
            "args": [
             [
              "1999-February"
             ],
             {
              "frame": {
               "duration": 0,
               "redraw": true
              },
              "fromcurrent": true,
              "mode": "immediate",
              "transition": {
               "duration": 0,
               "easing": "linear"
              }
             }
            ],
            "label": "1999-February",
            "method": "animate"
           },
           {
            "args": [
             [
              "1999-March"
             ],
             {
              "frame": {
               "duration": 0,
               "redraw": true
              },
              "fromcurrent": true,
              "mode": "immediate",
              "transition": {
               "duration": 0,
               "easing": "linear"
              }
             }
            ],
            "label": "1999-March",
            "method": "animate"
           },
           {
            "args": [
             [
              "1999-April"
             ],
             {
              "frame": {
               "duration": 0,
               "redraw": true
              },
              "fromcurrent": true,
              "mode": "immediate",
              "transition": {
               "duration": 0,
               "easing": "linear"
              }
             }
            ],
            "label": "1999-April",
            "method": "animate"
           },
           {
            "args": [
             [
              "1999-May"
             ],
             {
              "frame": {
               "duration": 0,
               "redraw": true
              },
              "fromcurrent": true,
              "mode": "immediate",
              "transition": {
               "duration": 0,
               "easing": "linear"
              }
             }
            ],
            "label": "1999-May",
            "method": "animate"
           },
           {
            "args": [
             [
              "1999-June"
             ],
             {
              "frame": {
               "duration": 0,
               "redraw": true
              },
              "fromcurrent": true,
              "mode": "immediate",
              "transition": {
               "duration": 0,
               "easing": "linear"
              }
             }
            ],
            "label": "1999-June",
            "method": "animate"
           },
           {
            "args": [
             [
              "1999-July"
             ],
             {
              "frame": {
               "duration": 0,
               "redraw": true
              },
              "fromcurrent": true,
              "mode": "immediate",
              "transition": {
               "duration": 0,
               "easing": "linear"
              }
             }
            ],
            "label": "1999-July",
            "method": "animate"
           },
           {
            "args": [
             [
              "1999-August"
             ],
             {
              "frame": {
               "duration": 0,
               "redraw": true
              },
              "fromcurrent": true,
              "mode": "immediate",
              "transition": {
               "duration": 0,
               "easing": "linear"
              }
             }
            ],
            "label": "1999-August",
            "method": "animate"
           },
           {
            "args": [
             [
              "1999-September"
             ],
             {
              "frame": {
               "duration": 0,
               "redraw": true
              },
              "fromcurrent": true,
              "mode": "immediate",
              "transition": {
               "duration": 0,
               "easing": "linear"
              }
             }
            ],
            "label": "1999-September",
            "method": "animate"
           },
           {
            "args": [
             [
              "1999-October"
             ],
             {
              "frame": {
               "duration": 0,
               "redraw": true
              },
              "fromcurrent": true,
              "mode": "immediate",
              "transition": {
               "duration": 0,
               "easing": "linear"
              }
             }
            ],
            "label": "1999-October",
            "method": "animate"
           },
           {
            "args": [
             [
              "1999-November"
             ],
             {
              "frame": {
               "duration": 0,
               "redraw": true
              },
              "fromcurrent": true,
              "mode": "immediate",
              "transition": {
               "duration": 0,
               "easing": "linear"
              }
             }
            ],
            "label": "1999-November",
            "method": "animate"
           },
           {
            "args": [
             [
              "1999-December"
             ],
             {
              "frame": {
               "duration": 0,
               "redraw": true
              },
              "fromcurrent": true,
              "mode": "immediate",
              "transition": {
               "duration": 0,
               "easing": "linear"
              }
             }
            ],
            "label": "1999-December",
            "method": "animate"
           },
           {
            "args": [
             [
              "2000-January"
             ],
             {
              "frame": {
               "duration": 0,
               "redraw": true
              },
              "fromcurrent": true,
              "mode": "immediate",
              "transition": {
               "duration": 0,
               "easing": "linear"
              }
             }
            ],
            "label": "2000-January",
            "method": "animate"
           },
           {
            "args": [
             [
              "2000-February"
             ],
             {
              "frame": {
               "duration": 0,
               "redraw": true
              },
              "fromcurrent": true,
              "mode": "immediate",
              "transition": {
               "duration": 0,
               "easing": "linear"
              }
             }
            ],
            "label": "2000-February",
            "method": "animate"
           },
           {
            "args": [
             [
              "2000-March"
             ],
             {
              "frame": {
               "duration": 0,
               "redraw": true
              },
              "fromcurrent": true,
              "mode": "immediate",
              "transition": {
               "duration": 0,
               "easing": "linear"
              }
             }
            ],
            "label": "2000-March",
            "method": "animate"
           },
           {
            "args": [
             [
              "2000-April"
             ],
             {
              "frame": {
               "duration": 0,
               "redraw": true
              },
              "fromcurrent": true,
              "mode": "immediate",
              "transition": {
               "duration": 0,
               "easing": "linear"
              }
             }
            ],
            "label": "2000-April",
            "method": "animate"
           },
           {
            "args": [
             [
              "2000-May"
             ],
             {
              "frame": {
               "duration": 0,
               "redraw": true
              },
              "fromcurrent": true,
              "mode": "immediate",
              "transition": {
               "duration": 0,
               "easing": "linear"
              }
             }
            ],
            "label": "2000-May",
            "method": "animate"
           },
           {
            "args": [
             [
              "2000-June"
             ],
             {
              "frame": {
               "duration": 0,
               "redraw": true
              },
              "fromcurrent": true,
              "mode": "immediate",
              "transition": {
               "duration": 0,
               "easing": "linear"
              }
             }
            ],
            "label": "2000-June",
            "method": "animate"
           },
           {
            "args": [
             [
              "2000-July"
             ],
             {
              "frame": {
               "duration": 0,
               "redraw": true
              },
              "fromcurrent": true,
              "mode": "immediate",
              "transition": {
               "duration": 0,
               "easing": "linear"
              }
             }
            ],
            "label": "2000-July",
            "method": "animate"
           },
           {
            "args": [
             [
              "2000-August"
             ],
             {
              "frame": {
               "duration": 0,
               "redraw": true
              },
              "fromcurrent": true,
              "mode": "immediate",
              "transition": {
               "duration": 0,
               "easing": "linear"
              }
             }
            ],
            "label": "2000-August",
            "method": "animate"
           },
           {
            "args": [
             [
              "2000-September"
             ],
             {
              "frame": {
               "duration": 0,
               "redraw": true
              },
              "fromcurrent": true,
              "mode": "immediate",
              "transition": {
               "duration": 0,
               "easing": "linear"
              }
             }
            ],
            "label": "2000-September",
            "method": "animate"
           },
           {
            "args": [
             [
              "2000-October"
             ],
             {
              "frame": {
               "duration": 0,
               "redraw": true
              },
              "fromcurrent": true,
              "mode": "immediate",
              "transition": {
               "duration": 0,
               "easing": "linear"
              }
             }
            ],
            "label": "2000-October",
            "method": "animate"
           },
           {
            "args": [
             [
              "2000-November"
             ],
             {
              "frame": {
               "duration": 0,
               "redraw": true
              },
              "fromcurrent": true,
              "mode": "immediate",
              "transition": {
               "duration": 0,
               "easing": "linear"
              }
             }
            ],
            "label": "2000-November",
            "method": "animate"
           },
           {
            "args": [
             [
              "2000-December"
             ],
             {
              "frame": {
               "duration": 0,
               "redraw": true
              },
              "fromcurrent": true,
              "mode": "immediate",
              "transition": {
               "duration": 0,
               "easing": "linear"
              }
             }
            ],
            "label": "2000-December",
            "method": "animate"
           },
           {
            "args": [
             [
              "2001-January"
             ],
             {
              "frame": {
               "duration": 0,
               "redraw": true
              },
              "fromcurrent": true,
              "mode": "immediate",
              "transition": {
               "duration": 0,
               "easing": "linear"
              }
             }
            ],
            "label": "2001-January",
            "method": "animate"
           },
           {
            "args": [
             [
              "2001-February"
             ],
             {
              "frame": {
               "duration": 0,
               "redraw": true
              },
              "fromcurrent": true,
              "mode": "immediate",
              "transition": {
               "duration": 0,
               "easing": "linear"
              }
             }
            ],
            "label": "2001-February",
            "method": "animate"
           },
           {
            "args": [
             [
              "2001-March"
             ],
             {
              "frame": {
               "duration": 0,
               "redraw": true
              },
              "fromcurrent": true,
              "mode": "immediate",
              "transition": {
               "duration": 0,
               "easing": "linear"
              }
             }
            ],
            "label": "2001-March",
            "method": "animate"
           },
           {
            "args": [
             [
              "2001-April"
             ],
             {
              "frame": {
               "duration": 0,
               "redraw": true
              },
              "fromcurrent": true,
              "mode": "immediate",
              "transition": {
               "duration": 0,
               "easing": "linear"
              }
             }
            ],
            "label": "2001-April",
            "method": "animate"
           },
           {
            "args": [
             [
              "2001-May"
             ],
             {
              "frame": {
               "duration": 0,
               "redraw": true
              },
              "fromcurrent": true,
              "mode": "immediate",
              "transition": {
               "duration": 0,
               "easing": "linear"
              }
             }
            ],
            "label": "2001-May",
            "method": "animate"
           },
           {
            "args": [
             [
              "2001-June"
             ],
             {
              "frame": {
               "duration": 0,
               "redraw": true
              },
              "fromcurrent": true,
              "mode": "immediate",
              "transition": {
               "duration": 0,
               "easing": "linear"
              }
             }
            ],
            "label": "2001-June",
            "method": "animate"
           },
           {
            "args": [
             [
              "2001-July"
             ],
             {
              "frame": {
               "duration": 0,
               "redraw": true
              },
              "fromcurrent": true,
              "mode": "immediate",
              "transition": {
               "duration": 0,
               "easing": "linear"
              }
             }
            ],
            "label": "2001-July",
            "method": "animate"
           },
           {
            "args": [
             [
              "2001-August"
             ],
             {
              "frame": {
               "duration": 0,
               "redraw": true
              },
              "fromcurrent": true,
              "mode": "immediate",
              "transition": {
               "duration": 0,
               "easing": "linear"
              }
             }
            ],
            "label": "2001-August",
            "method": "animate"
           },
           {
            "args": [
             [
              "2001-September"
             ],
             {
              "frame": {
               "duration": 0,
               "redraw": true
              },
              "fromcurrent": true,
              "mode": "immediate",
              "transition": {
               "duration": 0,
               "easing": "linear"
              }
             }
            ],
            "label": "2001-September",
            "method": "animate"
           },
           {
            "args": [
             [
              "2001-October"
             ],
             {
              "frame": {
               "duration": 0,
               "redraw": true
              },
              "fromcurrent": true,
              "mode": "immediate",
              "transition": {
               "duration": 0,
               "easing": "linear"
              }
             }
            ],
            "label": "2001-October",
            "method": "animate"
           },
           {
            "args": [
             [
              "2001-November"
             ],
             {
              "frame": {
               "duration": 0,
               "redraw": true
              },
              "fromcurrent": true,
              "mode": "immediate",
              "transition": {
               "duration": 0,
               "easing": "linear"
              }
             }
            ],
            "label": "2001-November",
            "method": "animate"
           },
           {
            "args": [
             [
              "2001-December"
             ],
             {
              "frame": {
               "duration": 0,
               "redraw": true
              },
              "fromcurrent": true,
              "mode": "immediate",
              "transition": {
               "duration": 0,
               "easing": "linear"
              }
             }
            ],
            "label": "2001-December",
            "method": "animate"
           },
           {
            "args": [
             [
              "2002-January"
             ],
             {
              "frame": {
               "duration": 0,
               "redraw": true
              },
              "fromcurrent": true,
              "mode": "immediate",
              "transition": {
               "duration": 0,
               "easing": "linear"
              }
             }
            ],
            "label": "2002-January",
            "method": "animate"
           },
           {
            "args": [
             [
              "2002-February"
             ],
             {
              "frame": {
               "duration": 0,
               "redraw": true
              },
              "fromcurrent": true,
              "mode": "immediate",
              "transition": {
               "duration": 0,
               "easing": "linear"
              }
             }
            ],
            "label": "2002-February",
            "method": "animate"
           },
           {
            "args": [
             [
              "2002-March"
             ],
             {
              "frame": {
               "duration": 0,
               "redraw": true
              },
              "fromcurrent": true,
              "mode": "immediate",
              "transition": {
               "duration": 0,
               "easing": "linear"
              }
             }
            ],
            "label": "2002-March",
            "method": "animate"
           },
           {
            "args": [
             [
              "2002-April"
             ],
             {
              "frame": {
               "duration": 0,
               "redraw": true
              },
              "fromcurrent": true,
              "mode": "immediate",
              "transition": {
               "duration": 0,
               "easing": "linear"
              }
             }
            ],
            "label": "2002-April",
            "method": "animate"
           },
           {
            "args": [
             [
              "2002-May"
             ],
             {
              "frame": {
               "duration": 0,
               "redraw": true
              },
              "fromcurrent": true,
              "mode": "immediate",
              "transition": {
               "duration": 0,
               "easing": "linear"
              }
             }
            ],
            "label": "2002-May",
            "method": "animate"
           },
           {
            "args": [
             [
              "2002-June"
             ],
             {
              "frame": {
               "duration": 0,
               "redraw": true
              },
              "fromcurrent": true,
              "mode": "immediate",
              "transition": {
               "duration": 0,
               "easing": "linear"
              }
             }
            ],
            "label": "2002-June",
            "method": "animate"
           },
           {
            "args": [
             [
              "2002-July"
             ],
             {
              "frame": {
               "duration": 0,
               "redraw": true
              },
              "fromcurrent": true,
              "mode": "immediate",
              "transition": {
               "duration": 0,
               "easing": "linear"
              }
             }
            ],
            "label": "2002-July",
            "method": "animate"
           },
           {
            "args": [
             [
              "2002-August"
             ],
             {
              "frame": {
               "duration": 0,
               "redraw": true
              },
              "fromcurrent": true,
              "mode": "immediate",
              "transition": {
               "duration": 0,
               "easing": "linear"
              }
             }
            ],
            "label": "2002-August",
            "method": "animate"
           },
           {
            "args": [
             [
              "2002-September"
             ],
             {
              "frame": {
               "duration": 0,
               "redraw": true
              },
              "fromcurrent": true,
              "mode": "immediate",
              "transition": {
               "duration": 0,
               "easing": "linear"
              }
             }
            ],
            "label": "2002-September",
            "method": "animate"
           },
           {
            "args": [
             [
              "2002-October"
             ],
             {
              "frame": {
               "duration": 0,
               "redraw": true
              },
              "fromcurrent": true,
              "mode": "immediate",
              "transition": {
               "duration": 0,
               "easing": "linear"
              }
             }
            ],
            "label": "2002-October",
            "method": "animate"
           },
           {
            "args": [
             [
              "2002-November"
             ],
             {
              "frame": {
               "duration": 0,
               "redraw": true
              },
              "fromcurrent": true,
              "mode": "immediate",
              "transition": {
               "duration": 0,
               "easing": "linear"
              }
             }
            ],
            "label": "2002-November",
            "method": "animate"
           },
           {
            "args": [
             [
              "2002-December"
             ],
             {
              "frame": {
               "duration": 0,
               "redraw": true
              },
              "fromcurrent": true,
              "mode": "immediate",
              "transition": {
               "duration": 0,
               "easing": "linear"
              }
             }
            ],
            "label": "2002-December",
            "method": "animate"
           },
           {
            "args": [
             [
              "2003-January"
             ],
             {
              "frame": {
               "duration": 0,
               "redraw": true
              },
              "fromcurrent": true,
              "mode": "immediate",
              "transition": {
               "duration": 0,
               "easing": "linear"
              }
             }
            ],
            "label": "2003-January",
            "method": "animate"
           },
           {
            "args": [
             [
              "2003-February"
             ],
             {
              "frame": {
               "duration": 0,
               "redraw": true
              },
              "fromcurrent": true,
              "mode": "immediate",
              "transition": {
               "duration": 0,
               "easing": "linear"
              }
             }
            ],
            "label": "2003-February",
            "method": "animate"
           },
           {
            "args": [
             [
              "2003-March"
             ],
             {
              "frame": {
               "duration": 0,
               "redraw": true
              },
              "fromcurrent": true,
              "mode": "immediate",
              "transition": {
               "duration": 0,
               "easing": "linear"
              }
             }
            ],
            "label": "2003-March",
            "method": "animate"
           },
           {
            "args": [
             [
              "2003-April"
             ],
             {
              "frame": {
               "duration": 0,
               "redraw": true
              },
              "fromcurrent": true,
              "mode": "immediate",
              "transition": {
               "duration": 0,
               "easing": "linear"
              }
             }
            ],
            "label": "2003-April",
            "method": "animate"
           },
           {
            "args": [
             [
              "2003-May"
             ],
             {
              "frame": {
               "duration": 0,
               "redraw": true
              },
              "fromcurrent": true,
              "mode": "immediate",
              "transition": {
               "duration": 0,
               "easing": "linear"
              }
             }
            ],
            "label": "2003-May",
            "method": "animate"
           },
           {
            "args": [
             [
              "2003-June"
             ],
             {
              "frame": {
               "duration": 0,
               "redraw": true
              },
              "fromcurrent": true,
              "mode": "immediate",
              "transition": {
               "duration": 0,
               "easing": "linear"
              }
             }
            ],
            "label": "2003-June",
            "method": "animate"
           },
           {
            "args": [
             [
              "2003-July"
             ],
             {
              "frame": {
               "duration": 0,
               "redraw": true
              },
              "fromcurrent": true,
              "mode": "immediate",
              "transition": {
               "duration": 0,
               "easing": "linear"
              }
             }
            ],
            "label": "2003-July",
            "method": "animate"
           },
           {
            "args": [
             [
              "2003-August"
             ],
             {
              "frame": {
               "duration": 0,
               "redraw": true
              },
              "fromcurrent": true,
              "mode": "immediate",
              "transition": {
               "duration": 0,
               "easing": "linear"
              }
             }
            ],
            "label": "2003-August",
            "method": "animate"
           },
           {
            "args": [
             [
              "2003-September"
             ],
             {
              "frame": {
               "duration": 0,
               "redraw": true
              },
              "fromcurrent": true,
              "mode": "immediate",
              "transition": {
               "duration": 0,
               "easing": "linear"
              }
             }
            ],
            "label": "2003-September",
            "method": "animate"
           },
           {
            "args": [
             [
              "2003-October"
             ],
             {
              "frame": {
               "duration": 0,
               "redraw": true
              },
              "fromcurrent": true,
              "mode": "immediate",
              "transition": {
               "duration": 0,
               "easing": "linear"
              }
             }
            ],
            "label": "2003-October",
            "method": "animate"
           },
           {
            "args": [
             [
              "2003-November"
             ],
             {
              "frame": {
               "duration": 0,
               "redraw": true
              },
              "fromcurrent": true,
              "mode": "immediate",
              "transition": {
               "duration": 0,
               "easing": "linear"
              }
             }
            ],
            "label": "2003-November",
            "method": "animate"
           },
           {
            "args": [
             [
              "2003-December"
             ],
             {
              "frame": {
               "duration": 0,
               "redraw": true
              },
              "fromcurrent": true,
              "mode": "immediate",
              "transition": {
               "duration": 0,
               "easing": "linear"
              }
             }
            ],
            "label": "2003-December",
            "method": "animate"
           },
           {
            "args": [
             [
              "2004-January"
             ],
             {
              "frame": {
               "duration": 0,
               "redraw": true
              },
              "fromcurrent": true,
              "mode": "immediate",
              "transition": {
               "duration": 0,
               "easing": "linear"
              }
             }
            ],
            "label": "2004-January",
            "method": "animate"
           },
           {
            "args": [
             [
              "2004-February"
             ],
             {
              "frame": {
               "duration": 0,
               "redraw": true
              },
              "fromcurrent": true,
              "mode": "immediate",
              "transition": {
               "duration": 0,
               "easing": "linear"
              }
             }
            ],
            "label": "2004-February",
            "method": "animate"
           },
           {
            "args": [
             [
              "2004-March"
             ],
             {
              "frame": {
               "duration": 0,
               "redraw": true
              },
              "fromcurrent": true,
              "mode": "immediate",
              "transition": {
               "duration": 0,
               "easing": "linear"
              }
             }
            ],
            "label": "2004-March",
            "method": "animate"
           },
           {
            "args": [
             [
              "2004-April"
             ],
             {
              "frame": {
               "duration": 0,
               "redraw": true
              },
              "fromcurrent": true,
              "mode": "immediate",
              "transition": {
               "duration": 0,
               "easing": "linear"
              }
             }
            ],
            "label": "2004-April",
            "method": "animate"
           },
           {
            "args": [
             [
              "2004-May"
             ],
             {
              "frame": {
               "duration": 0,
               "redraw": true
              },
              "fromcurrent": true,
              "mode": "immediate",
              "transition": {
               "duration": 0,
               "easing": "linear"
              }
             }
            ],
            "label": "2004-May",
            "method": "animate"
           },
           {
            "args": [
             [
              "2004-June"
             ],
             {
              "frame": {
               "duration": 0,
               "redraw": true
              },
              "fromcurrent": true,
              "mode": "immediate",
              "transition": {
               "duration": 0,
               "easing": "linear"
              }
             }
            ],
            "label": "2004-June",
            "method": "animate"
           },
           {
            "args": [
             [
              "2004-July"
             ],
             {
              "frame": {
               "duration": 0,
               "redraw": true
              },
              "fromcurrent": true,
              "mode": "immediate",
              "transition": {
               "duration": 0,
               "easing": "linear"
              }
             }
            ],
            "label": "2004-July",
            "method": "animate"
           },
           {
            "args": [
             [
              "2004-August"
             ],
             {
              "frame": {
               "duration": 0,
               "redraw": true
              },
              "fromcurrent": true,
              "mode": "immediate",
              "transition": {
               "duration": 0,
               "easing": "linear"
              }
             }
            ],
            "label": "2004-August",
            "method": "animate"
           },
           {
            "args": [
             [
              "2004-September"
             ],
             {
              "frame": {
               "duration": 0,
               "redraw": true
              },
              "fromcurrent": true,
              "mode": "immediate",
              "transition": {
               "duration": 0,
               "easing": "linear"
              }
             }
            ],
            "label": "2004-September",
            "method": "animate"
           },
           {
            "args": [
             [
              "2004-October"
             ],
             {
              "frame": {
               "duration": 0,
               "redraw": true
              },
              "fromcurrent": true,
              "mode": "immediate",
              "transition": {
               "duration": 0,
               "easing": "linear"
              }
             }
            ],
            "label": "2004-October",
            "method": "animate"
           },
           {
            "args": [
             [
              "2004-November"
             ],
             {
              "frame": {
               "duration": 0,
               "redraw": true
              },
              "fromcurrent": true,
              "mode": "immediate",
              "transition": {
               "duration": 0,
               "easing": "linear"
              }
             }
            ],
            "label": "2004-November",
            "method": "animate"
           },
           {
            "args": [
             [
              "2004-December"
             ],
             {
              "frame": {
               "duration": 0,
               "redraw": true
              },
              "fromcurrent": true,
              "mode": "immediate",
              "transition": {
               "duration": 0,
               "easing": "linear"
              }
             }
            ],
            "label": "2004-December",
            "method": "animate"
           },
           {
            "args": [
             [
              "2005-January"
             ],
             {
              "frame": {
               "duration": 0,
               "redraw": true
              },
              "fromcurrent": true,
              "mode": "immediate",
              "transition": {
               "duration": 0,
               "easing": "linear"
              }
             }
            ],
            "label": "2005-January",
            "method": "animate"
           },
           {
            "args": [
             [
              "2005-February"
             ],
             {
              "frame": {
               "duration": 0,
               "redraw": true
              },
              "fromcurrent": true,
              "mode": "immediate",
              "transition": {
               "duration": 0,
               "easing": "linear"
              }
             }
            ],
            "label": "2005-February",
            "method": "animate"
           },
           {
            "args": [
             [
              "2005-March"
             ],
             {
              "frame": {
               "duration": 0,
               "redraw": true
              },
              "fromcurrent": true,
              "mode": "immediate",
              "transition": {
               "duration": 0,
               "easing": "linear"
              }
             }
            ],
            "label": "2005-March",
            "method": "animate"
           },
           {
            "args": [
             [
              "2005-April"
             ],
             {
              "frame": {
               "duration": 0,
               "redraw": true
              },
              "fromcurrent": true,
              "mode": "immediate",
              "transition": {
               "duration": 0,
               "easing": "linear"
              }
             }
            ],
            "label": "2005-April",
            "method": "animate"
           },
           {
            "args": [
             [
              "2005-May"
             ],
             {
              "frame": {
               "duration": 0,
               "redraw": true
              },
              "fromcurrent": true,
              "mode": "immediate",
              "transition": {
               "duration": 0,
               "easing": "linear"
              }
             }
            ],
            "label": "2005-May",
            "method": "animate"
           },
           {
            "args": [
             [
              "2005-June"
             ],
             {
              "frame": {
               "duration": 0,
               "redraw": true
              },
              "fromcurrent": true,
              "mode": "immediate",
              "transition": {
               "duration": 0,
               "easing": "linear"
              }
             }
            ],
            "label": "2005-June",
            "method": "animate"
           },
           {
            "args": [
             [
              "2005-July"
             ],
             {
              "frame": {
               "duration": 0,
               "redraw": true
              },
              "fromcurrent": true,
              "mode": "immediate",
              "transition": {
               "duration": 0,
               "easing": "linear"
              }
             }
            ],
            "label": "2005-July",
            "method": "animate"
           },
           {
            "args": [
             [
              "2005-August"
             ],
             {
              "frame": {
               "duration": 0,
               "redraw": true
              },
              "fromcurrent": true,
              "mode": "immediate",
              "transition": {
               "duration": 0,
               "easing": "linear"
              }
             }
            ],
            "label": "2005-August",
            "method": "animate"
           },
           {
            "args": [
             [
              "2005-September"
             ],
             {
              "frame": {
               "duration": 0,
               "redraw": true
              },
              "fromcurrent": true,
              "mode": "immediate",
              "transition": {
               "duration": 0,
               "easing": "linear"
              }
             }
            ],
            "label": "2005-September",
            "method": "animate"
           },
           {
            "args": [
             [
              "2005-October"
             ],
             {
              "frame": {
               "duration": 0,
               "redraw": true
              },
              "fromcurrent": true,
              "mode": "immediate",
              "transition": {
               "duration": 0,
               "easing": "linear"
              }
             }
            ],
            "label": "2005-October",
            "method": "animate"
           },
           {
            "args": [
             [
              "2005-November"
             ],
             {
              "frame": {
               "duration": 0,
               "redraw": true
              },
              "fromcurrent": true,
              "mode": "immediate",
              "transition": {
               "duration": 0,
               "easing": "linear"
              }
             }
            ],
            "label": "2005-November",
            "method": "animate"
           },
           {
            "args": [
             [
              "2005-December"
             ],
             {
              "frame": {
               "duration": 0,
               "redraw": true
              },
              "fromcurrent": true,
              "mode": "immediate",
              "transition": {
               "duration": 0,
               "easing": "linear"
              }
             }
            ],
            "label": "2005-December",
            "method": "animate"
           },
           {
            "args": [
             [
              "2006-January"
             ],
             {
              "frame": {
               "duration": 0,
               "redraw": true
              },
              "fromcurrent": true,
              "mode": "immediate",
              "transition": {
               "duration": 0,
               "easing": "linear"
              }
             }
            ],
            "label": "2006-January",
            "method": "animate"
           },
           {
            "args": [
             [
              "2006-February"
             ],
             {
              "frame": {
               "duration": 0,
               "redraw": true
              },
              "fromcurrent": true,
              "mode": "immediate",
              "transition": {
               "duration": 0,
               "easing": "linear"
              }
             }
            ],
            "label": "2006-February",
            "method": "animate"
           },
           {
            "args": [
             [
              "2006-March"
             ],
             {
              "frame": {
               "duration": 0,
               "redraw": true
              },
              "fromcurrent": true,
              "mode": "immediate",
              "transition": {
               "duration": 0,
               "easing": "linear"
              }
             }
            ],
            "label": "2006-March",
            "method": "animate"
           },
           {
            "args": [
             [
              "2006-April"
             ],
             {
              "frame": {
               "duration": 0,
               "redraw": true
              },
              "fromcurrent": true,
              "mode": "immediate",
              "transition": {
               "duration": 0,
               "easing": "linear"
              }
             }
            ],
            "label": "2006-April",
            "method": "animate"
           },
           {
            "args": [
             [
              "2006-May"
             ],
             {
              "frame": {
               "duration": 0,
               "redraw": true
              },
              "fromcurrent": true,
              "mode": "immediate",
              "transition": {
               "duration": 0,
               "easing": "linear"
              }
             }
            ],
            "label": "2006-May",
            "method": "animate"
           },
           {
            "args": [
             [
              "2006-June"
             ],
             {
              "frame": {
               "duration": 0,
               "redraw": true
              },
              "fromcurrent": true,
              "mode": "immediate",
              "transition": {
               "duration": 0,
               "easing": "linear"
              }
             }
            ],
            "label": "2006-June",
            "method": "animate"
           },
           {
            "args": [
             [
              "2006-July"
             ],
             {
              "frame": {
               "duration": 0,
               "redraw": true
              },
              "fromcurrent": true,
              "mode": "immediate",
              "transition": {
               "duration": 0,
               "easing": "linear"
              }
             }
            ],
            "label": "2006-July",
            "method": "animate"
           },
           {
            "args": [
             [
              "2006-August"
             ],
             {
              "frame": {
               "duration": 0,
               "redraw": true
              },
              "fromcurrent": true,
              "mode": "immediate",
              "transition": {
               "duration": 0,
               "easing": "linear"
              }
             }
            ],
            "label": "2006-August",
            "method": "animate"
           },
           {
            "args": [
             [
              "2006-September"
             ],
             {
              "frame": {
               "duration": 0,
               "redraw": true
              },
              "fromcurrent": true,
              "mode": "immediate",
              "transition": {
               "duration": 0,
               "easing": "linear"
              }
             }
            ],
            "label": "2006-September",
            "method": "animate"
           },
           {
            "args": [
             [
              "2006-October"
             ],
             {
              "frame": {
               "duration": 0,
               "redraw": true
              },
              "fromcurrent": true,
              "mode": "immediate",
              "transition": {
               "duration": 0,
               "easing": "linear"
              }
             }
            ],
            "label": "2006-October",
            "method": "animate"
           },
           {
            "args": [
             [
              "2006-November"
             ],
             {
              "frame": {
               "duration": 0,
               "redraw": true
              },
              "fromcurrent": true,
              "mode": "immediate",
              "transition": {
               "duration": 0,
               "easing": "linear"
              }
             }
            ],
            "label": "2006-November",
            "method": "animate"
           },
           {
            "args": [
             [
              "2006-December"
             ],
             {
              "frame": {
               "duration": 0,
               "redraw": true
              },
              "fromcurrent": true,
              "mode": "immediate",
              "transition": {
               "duration": 0,
               "easing": "linear"
              }
             }
            ],
            "label": "2006-December",
            "method": "animate"
           },
           {
            "args": [
             [
              "2007-January"
             ],
             {
              "frame": {
               "duration": 0,
               "redraw": true
              },
              "fromcurrent": true,
              "mode": "immediate",
              "transition": {
               "duration": 0,
               "easing": "linear"
              }
             }
            ],
            "label": "2007-January",
            "method": "animate"
           },
           {
            "args": [
             [
              "2007-February"
             ],
             {
              "frame": {
               "duration": 0,
               "redraw": true
              },
              "fromcurrent": true,
              "mode": "immediate",
              "transition": {
               "duration": 0,
               "easing": "linear"
              }
             }
            ],
            "label": "2007-February",
            "method": "animate"
           },
           {
            "args": [
             [
              "2007-March"
             ],
             {
              "frame": {
               "duration": 0,
               "redraw": true
              },
              "fromcurrent": true,
              "mode": "immediate",
              "transition": {
               "duration": 0,
               "easing": "linear"
              }
             }
            ],
            "label": "2007-March",
            "method": "animate"
           },
           {
            "args": [
             [
              "2007-April"
             ],
             {
              "frame": {
               "duration": 0,
               "redraw": true
              },
              "fromcurrent": true,
              "mode": "immediate",
              "transition": {
               "duration": 0,
               "easing": "linear"
              }
             }
            ],
            "label": "2007-April",
            "method": "animate"
           },
           {
            "args": [
             [
              "2007-May"
             ],
             {
              "frame": {
               "duration": 0,
               "redraw": true
              },
              "fromcurrent": true,
              "mode": "immediate",
              "transition": {
               "duration": 0,
               "easing": "linear"
              }
             }
            ],
            "label": "2007-May",
            "method": "animate"
           },
           {
            "args": [
             [
              "2007-June"
             ],
             {
              "frame": {
               "duration": 0,
               "redraw": true
              },
              "fromcurrent": true,
              "mode": "immediate",
              "transition": {
               "duration": 0,
               "easing": "linear"
              }
             }
            ],
            "label": "2007-June",
            "method": "animate"
           },
           {
            "args": [
             [
              "2007-July"
             ],
             {
              "frame": {
               "duration": 0,
               "redraw": true
              },
              "fromcurrent": true,
              "mode": "immediate",
              "transition": {
               "duration": 0,
               "easing": "linear"
              }
             }
            ],
            "label": "2007-July",
            "method": "animate"
           },
           {
            "args": [
             [
              "2007-August"
             ],
             {
              "frame": {
               "duration": 0,
               "redraw": true
              },
              "fromcurrent": true,
              "mode": "immediate",
              "transition": {
               "duration": 0,
               "easing": "linear"
              }
             }
            ],
            "label": "2007-August",
            "method": "animate"
           },
           {
            "args": [
             [
              "2007-September"
             ],
             {
              "frame": {
               "duration": 0,
               "redraw": true
              },
              "fromcurrent": true,
              "mode": "immediate",
              "transition": {
               "duration": 0,
               "easing": "linear"
              }
             }
            ],
            "label": "2007-September",
            "method": "animate"
           },
           {
            "args": [
             [
              "2007-October"
             ],
             {
              "frame": {
               "duration": 0,
               "redraw": true
              },
              "fromcurrent": true,
              "mode": "immediate",
              "transition": {
               "duration": 0,
               "easing": "linear"
              }
             }
            ],
            "label": "2007-October",
            "method": "animate"
           },
           {
            "args": [
             [
              "2007-November"
             ],
             {
              "frame": {
               "duration": 0,
               "redraw": true
              },
              "fromcurrent": true,
              "mode": "immediate",
              "transition": {
               "duration": 0,
               "easing": "linear"
              }
             }
            ],
            "label": "2007-November",
            "method": "animate"
           },
           {
            "args": [
             [
              "2007-December"
             ],
             {
              "frame": {
               "duration": 0,
               "redraw": true
              },
              "fromcurrent": true,
              "mode": "immediate",
              "transition": {
               "duration": 0,
               "easing": "linear"
              }
             }
            ],
            "label": "2007-December",
            "method": "animate"
           },
           {
            "args": [
             [
              "2008-January"
             ],
             {
              "frame": {
               "duration": 0,
               "redraw": true
              },
              "fromcurrent": true,
              "mode": "immediate",
              "transition": {
               "duration": 0,
               "easing": "linear"
              }
             }
            ],
            "label": "2008-January",
            "method": "animate"
           },
           {
            "args": [
             [
              "2008-February"
             ],
             {
              "frame": {
               "duration": 0,
               "redraw": true
              },
              "fromcurrent": true,
              "mode": "immediate",
              "transition": {
               "duration": 0,
               "easing": "linear"
              }
             }
            ],
            "label": "2008-February",
            "method": "animate"
           },
           {
            "args": [
             [
              "2008-March"
             ],
             {
              "frame": {
               "duration": 0,
               "redraw": true
              },
              "fromcurrent": true,
              "mode": "immediate",
              "transition": {
               "duration": 0,
               "easing": "linear"
              }
             }
            ],
            "label": "2008-March",
            "method": "animate"
           },
           {
            "args": [
             [
              "2008-April"
             ],
             {
              "frame": {
               "duration": 0,
               "redraw": true
              },
              "fromcurrent": true,
              "mode": "immediate",
              "transition": {
               "duration": 0,
               "easing": "linear"
              }
             }
            ],
            "label": "2008-April",
            "method": "animate"
           },
           {
            "args": [
             [
              "2008-May"
             ],
             {
              "frame": {
               "duration": 0,
               "redraw": true
              },
              "fromcurrent": true,
              "mode": "immediate",
              "transition": {
               "duration": 0,
               "easing": "linear"
              }
             }
            ],
            "label": "2008-May",
            "method": "animate"
           },
           {
            "args": [
             [
              "2008-June"
             ],
             {
              "frame": {
               "duration": 0,
               "redraw": true
              },
              "fromcurrent": true,
              "mode": "immediate",
              "transition": {
               "duration": 0,
               "easing": "linear"
              }
             }
            ],
            "label": "2008-June",
            "method": "animate"
           },
           {
            "args": [
             [
              "2008-July"
             ],
             {
              "frame": {
               "duration": 0,
               "redraw": true
              },
              "fromcurrent": true,
              "mode": "immediate",
              "transition": {
               "duration": 0,
               "easing": "linear"
              }
             }
            ],
            "label": "2008-July",
            "method": "animate"
           },
           {
            "args": [
             [
              "2008-August"
             ],
             {
              "frame": {
               "duration": 0,
               "redraw": true
              },
              "fromcurrent": true,
              "mode": "immediate",
              "transition": {
               "duration": 0,
               "easing": "linear"
              }
             }
            ],
            "label": "2008-August",
            "method": "animate"
           },
           {
            "args": [
             [
              "2008-September"
             ],
             {
              "frame": {
               "duration": 0,
               "redraw": true
              },
              "fromcurrent": true,
              "mode": "immediate",
              "transition": {
               "duration": 0,
               "easing": "linear"
              }
             }
            ],
            "label": "2008-September",
            "method": "animate"
           },
           {
            "args": [
             [
              "2008-October"
             ],
             {
              "frame": {
               "duration": 0,
               "redraw": true
              },
              "fromcurrent": true,
              "mode": "immediate",
              "transition": {
               "duration": 0,
               "easing": "linear"
              }
             }
            ],
            "label": "2008-October",
            "method": "animate"
           },
           {
            "args": [
             [
              "2008-November"
             ],
             {
              "frame": {
               "duration": 0,
               "redraw": true
              },
              "fromcurrent": true,
              "mode": "immediate",
              "transition": {
               "duration": 0,
               "easing": "linear"
              }
             }
            ],
            "label": "2008-November",
            "method": "animate"
           },
           {
            "args": [
             [
              "2008-December"
             ],
             {
              "frame": {
               "duration": 0,
               "redraw": true
              },
              "fromcurrent": true,
              "mode": "immediate",
              "transition": {
               "duration": 0,
               "easing": "linear"
              }
             }
            ],
            "label": "2008-December",
            "method": "animate"
           },
           {
            "args": [
             [
              "2009-January"
             ],
             {
              "frame": {
               "duration": 0,
               "redraw": true
              },
              "fromcurrent": true,
              "mode": "immediate",
              "transition": {
               "duration": 0,
               "easing": "linear"
              }
             }
            ],
            "label": "2009-January",
            "method": "animate"
           },
           {
            "args": [
             [
              "2009-February"
             ],
             {
              "frame": {
               "duration": 0,
               "redraw": true
              },
              "fromcurrent": true,
              "mode": "immediate",
              "transition": {
               "duration": 0,
               "easing": "linear"
              }
             }
            ],
            "label": "2009-February",
            "method": "animate"
           },
           {
            "args": [
             [
              "2009-March"
             ],
             {
              "frame": {
               "duration": 0,
               "redraw": true
              },
              "fromcurrent": true,
              "mode": "immediate",
              "transition": {
               "duration": 0,
               "easing": "linear"
              }
             }
            ],
            "label": "2009-March",
            "method": "animate"
           },
           {
            "args": [
             [
              "2009-April"
             ],
             {
              "frame": {
               "duration": 0,
               "redraw": true
              },
              "fromcurrent": true,
              "mode": "immediate",
              "transition": {
               "duration": 0,
               "easing": "linear"
              }
             }
            ],
            "label": "2009-April",
            "method": "animate"
           },
           {
            "args": [
             [
              "2009-May"
             ],
             {
              "frame": {
               "duration": 0,
               "redraw": true
              },
              "fromcurrent": true,
              "mode": "immediate",
              "transition": {
               "duration": 0,
               "easing": "linear"
              }
             }
            ],
            "label": "2009-May",
            "method": "animate"
           },
           {
            "args": [
             [
              "2009-June"
             ],
             {
              "frame": {
               "duration": 0,
               "redraw": true
              },
              "fromcurrent": true,
              "mode": "immediate",
              "transition": {
               "duration": 0,
               "easing": "linear"
              }
             }
            ],
            "label": "2009-June",
            "method": "animate"
           },
           {
            "args": [
             [
              "2009-July"
             ],
             {
              "frame": {
               "duration": 0,
               "redraw": true
              },
              "fromcurrent": true,
              "mode": "immediate",
              "transition": {
               "duration": 0,
               "easing": "linear"
              }
             }
            ],
            "label": "2009-July",
            "method": "animate"
           },
           {
            "args": [
             [
              "2009-August"
             ],
             {
              "frame": {
               "duration": 0,
               "redraw": true
              },
              "fromcurrent": true,
              "mode": "immediate",
              "transition": {
               "duration": 0,
               "easing": "linear"
              }
             }
            ],
            "label": "2009-August",
            "method": "animate"
           },
           {
            "args": [
             [
              "2009-September"
             ],
             {
              "frame": {
               "duration": 0,
               "redraw": true
              },
              "fromcurrent": true,
              "mode": "immediate",
              "transition": {
               "duration": 0,
               "easing": "linear"
              }
             }
            ],
            "label": "2009-September",
            "method": "animate"
           },
           {
            "args": [
             [
              "2009-October"
             ],
             {
              "frame": {
               "duration": 0,
               "redraw": true
              },
              "fromcurrent": true,
              "mode": "immediate",
              "transition": {
               "duration": 0,
               "easing": "linear"
              }
             }
            ],
            "label": "2009-October",
            "method": "animate"
           },
           {
            "args": [
             [
              "2009-November"
             ],
             {
              "frame": {
               "duration": 0,
               "redraw": true
              },
              "fromcurrent": true,
              "mode": "immediate",
              "transition": {
               "duration": 0,
               "easing": "linear"
              }
             }
            ],
            "label": "2009-November",
            "method": "animate"
           },
           {
            "args": [
             [
              "2009-December"
             ],
             {
              "frame": {
               "duration": 0,
               "redraw": true
              },
              "fromcurrent": true,
              "mode": "immediate",
              "transition": {
               "duration": 0,
               "easing": "linear"
              }
             }
            ],
            "label": "2009-December",
            "method": "animate"
           },
           {
            "args": [
             [
              "2010-January"
             ],
             {
              "frame": {
               "duration": 0,
               "redraw": true
              },
              "fromcurrent": true,
              "mode": "immediate",
              "transition": {
               "duration": 0,
               "easing": "linear"
              }
             }
            ],
            "label": "2010-January",
            "method": "animate"
           },
           {
            "args": [
             [
              "2010-February"
             ],
             {
              "frame": {
               "duration": 0,
               "redraw": true
              },
              "fromcurrent": true,
              "mode": "immediate",
              "transition": {
               "duration": 0,
               "easing": "linear"
              }
             }
            ],
            "label": "2010-February",
            "method": "animate"
           },
           {
            "args": [
             [
              "2010-March"
             ],
             {
              "frame": {
               "duration": 0,
               "redraw": true
              },
              "fromcurrent": true,
              "mode": "immediate",
              "transition": {
               "duration": 0,
               "easing": "linear"
              }
             }
            ],
            "label": "2010-March",
            "method": "animate"
           },
           {
            "args": [
             [
              "2010-April"
             ],
             {
              "frame": {
               "duration": 0,
               "redraw": true
              },
              "fromcurrent": true,
              "mode": "immediate",
              "transition": {
               "duration": 0,
               "easing": "linear"
              }
             }
            ],
            "label": "2010-April",
            "method": "animate"
           },
           {
            "args": [
             [
              "2010-May"
             ],
             {
              "frame": {
               "duration": 0,
               "redraw": true
              },
              "fromcurrent": true,
              "mode": "immediate",
              "transition": {
               "duration": 0,
               "easing": "linear"
              }
             }
            ],
            "label": "2010-May",
            "method": "animate"
           },
           {
            "args": [
             [
              "2010-June"
             ],
             {
              "frame": {
               "duration": 0,
               "redraw": true
              },
              "fromcurrent": true,
              "mode": "immediate",
              "transition": {
               "duration": 0,
               "easing": "linear"
              }
             }
            ],
            "label": "2010-June",
            "method": "animate"
           },
           {
            "args": [
             [
              "2010-July"
             ],
             {
              "frame": {
               "duration": 0,
               "redraw": true
              },
              "fromcurrent": true,
              "mode": "immediate",
              "transition": {
               "duration": 0,
               "easing": "linear"
              }
             }
            ],
            "label": "2010-July",
            "method": "animate"
           },
           {
            "args": [
             [
              "2010-August"
             ],
             {
              "frame": {
               "duration": 0,
               "redraw": true
              },
              "fromcurrent": true,
              "mode": "immediate",
              "transition": {
               "duration": 0,
               "easing": "linear"
              }
             }
            ],
            "label": "2010-August",
            "method": "animate"
           },
           {
            "args": [
             [
              "2010-September"
             ],
             {
              "frame": {
               "duration": 0,
               "redraw": true
              },
              "fromcurrent": true,
              "mode": "immediate",
              "transition": {
               "duration": 0,
               "easing": "linear"
              }
             }
            ],
            "label": "2010-September",
            "method": "animate"
           },
           {
            "args": [
             [
              "2010-October"
             ],
             {
              "frame": {
               "duration": 0,
               "redraw": true
              },
              "fromcurrent": true,
              "mode": "immediate",
              "transition": {
               "duration": 0,
               "easing": "linear"
              }
             }
            ],
            "label": "2010-October",
            "method": "animate"
           },
           {
            "args": [
             [
              "2010-November"
             ],
             {
              "frame": {
               "duration": 0,
               "redraw": true
              },
              "fromcurrent": true,
              "mode": "immediate",
              "transition": {
               "duration": 0,
               "easing": "linear"
              }
             }
            ],
            "label": "2010-November",
            "method": "animate"
           },
           {
            "args": [
             [
              "2010-December"
             ],
             {
              "frame": {
               "duration": 0,
               "redraw": true
              },
              "fromcurrent": true,
              "mode": "immediate",
              "transition": {
               "duration": 0,
               "easing": "linear"
              }
             }
            ],
            "label": "2010-December",
            "method": "animate"
           },
           {
            "args": [
             [
              "2011-January"
             ],
             {
              "frame": {
               "duration": 0,
               "redraw": true
              },
              "fromcurrent": true,
              "mode": "immediate",
              "transition": {
               "duration": 0,
               "easing": "linear"
              }
             }
            ],
            "label": "2011-January",
            "method": "animate"
           },
           {
            "args": [
             [
              "2011-February"
             ],
             {
              "frame": {
               "duration": 0,
               "redraw": true
              },
              "fromcurrent": true,
              "mode": "immediate",
              "transition": {
               "duration": 0,
               "easing": "linear"
              }
             }
            ],
            "label": "2011-February",
            "method": "animate"
           },
           {
            "args": [
             [
              "2011-March"
             ],
             {
              "frame": {
               "duration": 0,
               "redraw": true
              },
              "fromcurrent": true,
              "mode": "immediate",
              "transition": {
               "duration": 0,
               "easing": "linear"
              }
             }
            ],
            "label": "2011-March",
            "method": "animate"
           },
           {
            "args": [
             [
              "2011-April"
             ],
             {
              "frame": {
               "duration": 0,
               "redraw": true
              },
              "fromcurrent": true,
              "mode": "immediate",
              "transition": {
               "duration": 0,
               "easing": "linear"
              }
             }
            ],
            "label": "2011-April",
            "method": "animate"
           },
           {
            "args": [
             [
              "2011-May"
             ],
             {
              "frame": {
               "duration": 0,
               "redraw": true
              },
              "fromcurrent": true,
              "mode": "immediate",
              "transition": {
               "duration": 0,
               "easing": "linear"
              }
             }
            ],
            "label": "2011-May",
            "method": "animate"
           },
           {
            "args": [
             [
              "2011-June"
             ],
             {
              "frame": {
               "duration": 0,
               "redraw": true
              },
              "fromcurrent": true,
              "mode": "immediate",
              "transition": {
               "duration": 0,
               "easing": "linear"
              }
             }
            ],
            "label": "2011-June",
            "method": "animate"
           },
           {
            "args": [
             [
              "2011-July"
             ],
             {
              "frame": {
               "duration": 0,
               "redraw": true
              },
              "fromcurrent": true,
              "mode": "immediate",
              "transition": {
               "duration": 0,
               "easing": "linear"
              }
             }
            ],
            "label": "2011-July",
            "method": "animate"
           },
           {
            "args": [
             [
              "2011-August"
             ],
             {
              "frame": {
               "duration": 0,
               "redraw": true
              },
              "fromcurrent": true,
              "mode": "immediate",
              "transition": {
               "duration": 0,
               "easing": "linear"
              }
             }
            ],
            "label": "2011-August",
            "method": "animate"
           },
           {
            "args": [
             [
              "2011-September"
             ],
             {
              "frame": {
               "duration": 0,
               "redraw": true
              },
              "fromcurrent": true,
              "mode": "immediate",
              "transition": {
               "duration": 0,
               "easing": "linear"
              }
             }
            ],
            "label": "2011-September",
            "method": "animate"
           },
           {
            "args": [
             [
              "2011-October"
             ],
             {
              "frame": {
               "duration": 0,
               "redraw": true
              },
              "fromcurrent": true,
              "mode": "immediate",
              "transition": {
               "duration": 0,
               "easing": "linear"
              }
             }
            ],
            "label": "2011-October",
            "method": "animate"
           },
           {
            "args": [
             [
              "2011-November"
             ],
             {
              "frame": {
               "duration": 0,
               "redraw": true
              },
              "fromcurrent": true,
              "mode": "immediate",
              "transition": {
               "duration": 0,
               "easing": "linear"
              }
             }
            ],
            "label": "2011-November",
            "method": "animate"
           },
           {
            "args": [
             [
              "2011-December"
             ],
             {
              "frame": {
               "duration": 0,
               "redraw": true
              },
              "fromcurrent": true,
              "mode": "immediate",
              "transition": {
               "duration": 0,
               "easing": "linear"
              }
             }
            ],
            "label": "2011-December",
            "method": "animate"
           },
           {
            "args": [
             [
              "2012-January"
             ],
             {
              "frame": {
               "duration": 0,
               "redraw": true
              },
              "fromcurrent": true,
              "mode": "immediate",
              "transition": {
               "duration": 0,
               "easing": "linear"
              }
             }
            ],
            "label": "2012-January",
            "method": "animate"
           },
           {
            "args": [
             [
              "2012-February"
             ],
             {
              "frame": {
               "duration": 0,
               "redraw": true
              },
              "fromcurrent": true,
              "mode": "immediate",
              "transition": {
               "duration": 0,
               "easing": "linear"
              }
             }
            ],
            "label": "2012-February",
            "method": "animate"
           },
           {
            "args": [
             [
              "2012-March"
             ],
             {
              "frame": {
               "duration": 0,
               "redraw": true
              },
              "fromcurrent": true,
              "mode": "immediate",
              "transition": {
               "duration": 0,
               "easing": "linear"
              }
             }
            ],
            "label": "2012-March",
            "method": "animate"
           },
           {
            "args": [
             [
              "2012-April"
             ],
             {
              "frame": {
               "duration": 0,
               "redraw": true
              },
              "fromcurrent": true,
              "mode": "immediate",
              "transition": {
               "duration": 0,
               "easing": "linear"
              }
             }
            ],
            "label": "2012-April",
            "method": "animate"
           },
           {
            "args": [
             [
              "2012-May"
             ],
             {
              "frame": {
               "duration": 0,
               "redraw": true
              },
              "fromcurrent": true,
              "mode": "immediate",
              "transition": {
               "duration": 0,
               "easing": "linear"
              }
             }
            ],
            "label": "2012-May",
            "method": "animate"
           },
           {
            "args": [
             [
              "2012-June"
             ],
             {
              "frame": {
               "duration": 0,
               "redraw": true
              },
              "fromcurrent": true,
              "mode": "immediate",
              "transition": {
               "duration": 0,
               "easing": "linear"
              }
             }
            ],
            "label": "2012-June",
            "method": "animate"
           },
           {
            "args": [
             [
              "2012-July"
             ],
             {
              "frame": {
               "duration": 0,
               "redraw": true
              },
              "fromcurrent": true,
              "mode": "immediate",
              "transition": {
               "duration": 0,
               "easing": "linear"
              }
             }
            ],
            "label": "2012-July",
            "method": "animate"
           },
           {
            "args": [
             [
              "2012-August"
             ],
             {
              "frame": {
               "duration": 0,
               "redraw": true
              },
              "fromcurrent": true,
              "mode": "immediate",
              "transition": {
               "duration": 0,
               "easing": "linear"
              }
             }
            ],
            "label": "2012-August",
            "method": "animate"
           },
           {
            "args": [
             [
              "2012-September"
             ],
             {
              "frame": {
               "duration": 0,
               "redraw": true
              },
              "fromcurrent": true,
              "mode": "immediate",
              "transition": {
               "duration": 0,
               "easing": "linear"
              }
             }
            ],
            "label": "2012-September",
            "method": "animate"
           },
           {
            "args": [
             [
              "2012-October"
             ],
             {
              "frame": {
               "duration": 0,
               "redraw": true
              },
              "fromcurrent": true,
              "mode": "immediate",
              "transition": {
               "duration": 0,
               "easing": "linear"
              }
             }
            ],
            "label": "2012-October",
            "method": "animate"
           },
           {
            "args": [
             [
              "2012-November"
             ],
             {
              "frame": {
               "duration": 0,
               "redraw": true
              },
              "fromcurrent": true,
              "mode": "immediate",
              "transition": {
               "duration": 0,
               "easing": "linear"
              }
             }
            ],
            "label": "2012-November",
            "method": "animate"
           },
           {
            "args": [
             [
              "2012-December"
             ],
             {
              "frame": {
               "duration": 0,
               "redraw": true
              },
              "fromcurrent": true,
              "mode": "immediate",
              "transition": {
               "duration": 0,
               "easing": "linear"
              }
             }
            ],
            "label": "2012-December",
            "method": "animate"
           },
           {
            "args": [
             [
              "2013-January"
             ],
             {
              "frame": {
               "duration": 0,
               "redraw": true
              },
              "fromcurrent": true,
              "mode": "immediate",
              "transition": {
               "duration": 0,
               "easing": "linear"
              }
             }
            ],
            "label": "2013-January",
            "method": "animate"
           },
           {
            "args": [
             [
              "2013-February"
             ],
             {
              "frame": {
               "duration": 0,
               "redraw": true
              },
              "fromcurrent": true,
              "mode": "immediate",
              "transition": {
               "duration": 0,
               "easing": "linear"
              }
             }
            ],
            "label": "2013-February",
            "method": "animate"
           },
           {
            "args": [
             [
              "2013-March"
             ],
             {
              "frame": {
               "duration": 0,
               "redraw": true
              },
              "fromcurrent": true,
              "mode": "immediate",
              "transition": {
               "duration": 0,
               "easing": "linear"
              }
             }
            ],
            "label": "2013-March",
            "method": "animate"
           },
           {
            "args": [
             [
              "2013-April"
             ],
             {
              "frame": {
               "duration": 0,
               "redraw": true
              },
              "fromcurrent": true,
              "mode": "immediate",
              "transition": {
               "duration": 0,
               "easing": "linear"
              }
             }
            ],
            "label": "2013-April",
            "method": "animate"
           },
           {
            "args": [
             [
              "2013-May"
             ],
             {
              "frame": {
               "duration": 0,
               "redraw": true
              },
              "fromcurrent": true,
              "mode": "immediate",
              "transition": {
               "duration": 0,
               "easing": "linear"
              }
             }
            ],
            "label": "2013-May",
            "method": "animate"
           },
           {
            "args": [
             [
              "2013-June"
             ],
             {
              "frame": {
               "duration": 0,
               "redraw": true
              },
              "fromcurrent": true,
              "mode": "immediate",
              "transition": {
               "duration": 0,
               "easing": "linear"
              }
             }
            ],
            "label": "2013-June",
            "method": "animate"
           },
           {
            "args": [
             [
              "2013-July"
             ],
             {
              "frame": {
               "duration": 0,
               "redraw": true
              },
              "fromcurrent": true,
              "mode": "immediate",
              "transition": {
               "duration": 0,
               "easing": "linear"
              }
             }
            ],
            "label": "2013-July",
            "method": "animate"
           },
           {
            "args": [
             [
              "2013-August"
             ],
             {
              "frame": {
               "duration": 0,
               "redraw": true
              },
              "fromcurrent": true,
              "mode": "immediate",
              "transition": {
               "duration": 0,
               "easing": "linear"
              }
             }
            ],
            "label": "2013-August",
            "method": "animate"
           },
           {
            "args": [
             [
              "2013-September"
             ],
             {
              "frame": {
               "duration": 0,
               "redraw": true
              },
              "fromcurrent": true,
              "mode": "immediate",
              "transition": {
               "duration": 0,
               "easing": "linear"
              }
             }
            ],
            "label": "2013-September",
            "method": "animate"
           },
           {
            "args": [
             [
              "2013-October"
             ],
             {
              "frame": {
               "duration": 0,
               "redraw": true
              },
              "fromcurrent": true,
              "mode": "immediate",
              "transition": {
               "duration": 0,
               "easing": "linear"
              }
             }
            ],
            "label": "2013-October",
            "method": "animate"
           },
           {
            "args": [
             [
              "2013-November"
             ],
             {
              "frame": {
               "duration": 0,
               "redraw": true
              },
              "fromcurrent": true,
              "mode": "immediate",
              "transition": {
               "duration": 0,
               "easing": "linear"
              }
             }
            ],
            "label": "2013-November",
            "method": "animate"
           },
           {
            "args": [
             [
              "2013-December"
             ],
             {
              "frame": {
               "duration": 0,
               "redraw": true
              },
              "fromcurrent": true,
              "mode": "immediate",
              "transition": {
               "duration": 0,
               "easing": "linear"
              }
             }
            ],
            "label": "2013-December",
            "method": "animate"
           },
           {
            "args": [
             [
              "2014-January"
             ],
             {
              "frame": {
               "duration": 0,
               "redraw": true
              },
              "fromcurrent": true,
              "mode": "immediate",
              "transition": {
               "duration": 0,
               "easing": "linear"
              }
             }
            ],
            "label": "2014-January",
            "method": "animate"
           },
           {
            "args": [
             [
              "2014-February"
             ],
             {
              "frame": {
               "duration": 0,
               "redraw": true
              },
              "fromcurrent": true,
              "mode": "immediate",
              "transition": {
               "duration": 0,
               "easing": "linear"
              }
             }
            ],
            "label": "2014-February",
            "method": "animate"
           },
           {
            "args": [
             [
              "2014-March"
             ],
             {
              "frame": {
               "duration": 0,
               "redraw": true
              },
              "fromcurrent": true,
              "mode": "immediate",
              "transition": {
               "duration": 0,
               "easing": "linear"
              }
             }
            ],
            "label": "2014-March",
            "method": "animate"
           },
           {
            "args": [
             [
              "2014-April"
             ],
             {
              "frame": {
               "duration": 0,
               "redraw": true
              },
              "fromcurrent": true,
              "mode": "immediate",
              "transition": {
               "duration": 0,
               "easing": "linear"
              }
             }
            ],
            "label": "2014-April",
            "method": "animate"
           },
           {
            "args": [
             [
              "2014-May"
             ],
             {
              "frame": {
               "duration": 0,
               "redraw": true
              },
              "fromcurrent": true,
              "mode": "immediate",
              "transition": {
               "duration": 0,
               "easing": "linear"
              }
             }
            ],
            "label": "2014-May",
            "method": "animate"
           },
           {
            "args": [
             [
              "2014-June"
             ],
             {
              "frame": {
               "duration": 0,
               "redraw": true
              },
              "fromcurrent": true,
              "mode": "immediate",
              "transition": {
               "duration": 0,
               "easing": "linear"
              }
             }
            ],
            "label": "2014-June",
            "method": "animate"
           },
           {
            "args": [
             [
              "2014-July"
             ],
             {
              "frame": {
               "duration": 0,
               "redraw": true
              },
              "fromcurrent": true,
              "mode": "immediate",
              "transition": {
               "duration": 0,
               "easing": "linear"
              }
             }
            ],
            "label": "2014-July",
            "method": "animate"
           },
           {
            "args": [
             [
              "2014-August"
             ],
             {
              "frame": {
               "duration": 0,
               "redraw": true
              },
              "fromcurrent": true,
              "mode": "immediate",
              "transition": {
               "duration": 0,
               "easing": "linear"
              }
             }
            ],
            "label": "2014-August",
            "method": "animate"
           },
           {
            "args": [
             [
              "2014-September"
             ],
             {
              "frame": {
               "duration": 0,
               "redraw": true
              },
              "fromcurrent": true,
              "mode": "immediate",
              "transition": {
               "duration": 0,
               "easing": "linear"
              }
             }
            ],
            "label": "2014-September",
            "method": "animate"
           },
           {
            "args": [
             [
              "2014-October"
             ],
             {
              "frame": {
               "duration": 0,
               "redraw": true
              },
              "fromcurrent": true,
              "mode": "immediate",
              "transition": {
               "duration": 0,
               "easing": "linear"
              }
             }
            ],
            "label": "2014-October",
            "method": "animate"
           },
           {
            "args": [
             [
              "2014-November"
             ],
             {
              "frame": {
               "duration": 0,
               "redraw": true
              },
              "fromcurrent": true,
              "mode": "immediate",
              "transition": {
               "duration": 0,
               "easing": "linear"
              }
             }
            ],
            "label": "2014-November",
            "method": "animate"
           },
           {
            "args": [
             [
              "2014-December"
             ],
             {
              "frame": {
               "duration": 0,
               "redraw": true
              },
              "fromcurrent": true,
              "mode": "immediate",
              "transition": {
               "duration": 0,
               "easing": "linear"
              }
             }
            ],
            "label": "2014-December",
            "method": "animate"
           },
           {
            "args": [
             [
              "2015-January"
             ],
             {
              "frame": {
               "duration": 0,
               "redraw": true
              },
              "fromcurrent": true,
              "mode": "immediate",
              "transition": {
               "duration": 0,
               "easing": "linear"
              }
             }
            ],
            "label": "2015-January",
            "method": "animate"
           },
           {
            "args": [
             [
              "2015-February"
             ],
             {
              "frame": {
               "duration": 0,
               "redraw": true
              },
              "fromcurrent": true,
              "mode": "immediate",
              "transition": {
               "duration": 0,
               "easing": "linear"
              }
             }
            ],
            "label": "2015-February",
            "method": "animate"
           },
           {
            "args": [
             [
              "2015-March"
             ],
             {
              "frame": {
               "duration": 0,
               "redraw": true
              },
              "fromcurrent": true,
              "mode": "immediate",
              "transition": {
               "duration": 0,
               "easing": "linear"
              }
             }
            ],
            "label": "2015-March",
            "method": "animate"
           },
           {
            "args": [
             [
              "2015-April"
             ],
             {
              "frame": {
               "duration": 0,
               "redraw": true
              },
              "fromcurrent": true,
              "mode": "immediate",
              "transition": {
               "duration": 0,
               "easing": "linear"
              }
             }
            ],
            "label": "2015-April",
            "method": "animate"
           },
           {
            "args": [
             [
              "2015-May"
             ],
             {
              "frame": {
               "duration": 0,
               "redraw": true
              },
              "fromcurrent": true,
              "mode": "immediate",
              "transition": {
               "duration": 0,
               "easing": "linear"
              }
             }
            ],
            "label": "2015-May",
            "method": "animate"
           },
           {
            "args": [
             [
              "2015-June"
             ],
             {
              "frame": {
               "duration": 0,
               "redraw": true
              },
              "fromcurrent": true,
              "mode": "immediate",
              "transition": {
               "duration": 0,
               "easing": "linear"
              }
             }
            ],
            "label": "2015-June",
            "method": "animate"
           },
           {
            "args": [
             [
              "2015-July"
             ],
             {
              "frame": {
               "duration": 0,
               "redraw": true
              },
              "fromcurrent": true,
              "mode": "immediate",
              "transition": {
               "duration": 0,
               "easing": "linear"
              }
             }
            ],
            "label": "2015-July",
            "method": "animate"
           },
           {
            "args": [
             [
              "2015-August"
             ],
             {
              "frame": {
               "duration": 0,
               "redraw": true
              },
              "fromcurrent": true,
              "mode": "immediate",
              "transition": {
               "duration": 0,
               "easing": "linear"
              }
             }
            ],
            "label": "2015-August",
            "method": "animate"
           },
           {
            "args": [
             [
              "2015-September"
             ],
             {
              "frame": {
               "duration": 0,
               "redraw": true
              },
              "fromcurrent": true,
              "mode": "immediate",
              "transition": {
               "duration": 0,
               "easing": "linear"
              }
             }
            ],
            "label": "2015-September",
            "method": "animate"
           },
           {
            "args": [
             [
              "2015-October"
             ],
             {
              "frame": {
               "duration": 0,
               "redraw": true
              },
              "fromcurrent": true,
              "mode": "immediate",
              "transition": {
               "duration": 0,
               "easing": "linear"
              }
             }
            ],
            "label": "2015-October",
            "method": "animate"
           },
           {
            "args": [
             [
              "2015-November"
             ],
             {
              "frame": {
               "duration": 0,
               "redraw": true
              },
              "fromcurrent": true,
              "mode": "immediate",
              "transition": {
               "duration": 0,
               "easing": "linear"
              }
             }
            ],
            "label": "2015-November",
            "method": "animate"
           },
           {
            "args": [
             [
              "2015-December"
             ],
             {
              "frame": {
               "duration": 0,
               "redraw": true
              },
              "fromcurrent": true,
              "mode": "immediate",
              "transition": {
               "duration": 0,
               "easing": "linear"
              }
             }
            ],
            "label": "2015-December",
            "method": "animate"
           },
           {
            "args": [
             [
              "2016-January"
             ],
             {
              "frame": {
               "duration": 0,
               "redraw": true
              },
              "fromcurrent": true,
              "mode": "immediate",
              "transition": {
               "duration": 0,
               "easing": "linear"
              }
             }
            ],
            "label": "2016-January",
            "method": "animate"
           },
           {
            "args": [
             [
              "2016-February"
             ],
             {
              "frame": {
               "duration": 0,
               "redraw": true
              },
              "fromcurrent": true,
              "mode": "immediate",
              "transition": {
               "duration": 0,
               "easing": "linear"
              }
             }
            ],
            "label": "2016-February",
            "method": "animate"
           },
           {
            "args": [
             [
              "2016-March"
             ],
             {
              "frame": {
               "duration": 0,
               "redraw": true
              },
              "fromcurrent": true,
              "mode": "immediate",
              "transition": {
               "duration": 0,
               "easing": "linear"
              }
             }
            ],
            "label": "2016-March",
            "method": "animate"
           },
           {
            "args": [
             [
              "2016-April"
             ],
             {
              "frame": {
               "duration": 0,
               "redraw": true
              },
              "fromcurrent": true,
              "mode": "immediate",
              "transition": {
               "duration": 0,
               "easing": "linear"
              }
             }
            ],
            "label": "2016-April",
            "method": "animate"
           },
           {
            "args": [
             [
              "2016-May"
             ],
             {
              "frame": {
               "duration": 0,
               "redraw": true
              },
              "fromcurrent": true,
              "mode": "immediate",
              "transition": {
               "duration": 0,
               "easing": "linear"
              }
             }
            ],
            "label": "2016-May",
            "method": "animate"
           },
           {
            "args": [
             [
              "2016-June"
             ],
             {
              "frame": {
               "duration": 0,
               "redraw": true
              },
              "fromcurrent": true,
              "mode": "immediate",
              "transition": {
               "duration": 0,
               "easing": "linear"
              }
             }
            ],
            "label": "2016-June",
            "method": "animate"
           },
           {
            "args": [
             [
              "2016-July"
             ],
             {
              "frame": {
               "duration": 0,
               "redraw": true
              },
              "fromcurrent": true,
              "mode": "immediate",
              "transition": {
               "duration": 0,
               "easing": "linear"
              }
             }
            ],
            "label": "2016-July",
            "method": "animate"
           },
           {
            "args": [
             [
              "2016-August"
             ],
             {
              "frame": {
               "duration": 0,
               "redraw": true
              },
              "fromcurrent": true,
              "mode": "immediate",
              "transition": {
               "duration": 0,
               "easing": "linear"
              }
             }
            ],
            "label": "2016-August",
            "method": "animate"
           },
           {
            "args": [
             [
              "2016-September"
             ],
             {
              "frame": {
               "duration": 0,
               "redraw": true
              },
              "fromcurrent": true,
              "mode": "immediate",
              "transition": {
               "duration": 0,
               "easing": "linear"
              }
             }
            ],
            "label": "2016-September",
            "method": "animate"
           },
           {
            "args": [
             [
              "2016-October"
             ],
             {
              "frame": {
               "duration": 0,
               "redraw": true
              },
              "fromcurrent": true,
              "mode": "immediate",
              "transition": {
               "duration": 0,
               "easing": "linear"
              }
             }
            ],
            "label": "2016-October",
            "method": "animate"
           },
           {
            "args": [
             [
              "2016-November"
             ],
             {
              "frame": {
               "duration": 0,
               "redraw": true
              },
              "fromcurrent": true,
              "mode": "immediate",
              "transition": {
               "duration": 0,
               "easing": "linear"
              }
             }
            ],
            "label": "2016-November",
            "method": "animate"
           },
           {
            "args": [
             [
              "2016-December"
             ],
             {
              "frame": {
               "duration": 0,
               "redraw": true
              },
              "fromcurrent": true,
              "mode": "immediate",
              "transition": {
               "duration": 0,
               "easing": "linear"
              }
             }
            ],
            "label": "2016-December",
            "method": "animate"
           },
           {
            "args": [
             [
              "2017-January"
             ],
             {
              "frame": {
               "duration": 0,
               "redraw": true
              },
              "fromcurrent": true,
              "mode": "immediate",
              "transition": {
               "duration": 0,
               "easing": "linear"
              }
             }
            ],
            "label": "2017-January",
            "method": "animate"
           },
           {
            "args": [
             [
              "2017-February"
             ],
             {
              "frame": {
               "duration": 0,
               "redraw": true
              },
              "fromcurrent": true,
              "mode": "immediate",
              "transition": {
               "duration": 0,
               "easing": "linear"
              }
             }
            ],
            "label": "2017-February",
            "method": "animate"
           },
           {
            "args": [
             [
              "2017-March"
             ],
             {
              "frame": {
               "duration": 0,
               "redraw": true
              },
              "fromcurrent": true,
              "mode": "immediate",
              "transition": {
               "duration": 0,
               "easing": "linear"
              }
             }
            ],
            "label": "2017-March",
            "method": "animate"
           },
           {
            "args": [
             [
              "2017-April"
             ],
             {
              "frame": {
               "duration": 0,
               "redraw": true
              },
              "fromcurrent": true,
              "mode": "immediate",
              "transition": {
               "duration": 0,
               "easing": "linear"
              }
             }
            ],
            "label": "2017-April",
            "method": "animate"
           },
           {
            "args": [
             [
              "2017-May"
             ],
             {
              "frame": {
               "duration": 0,
               "redraw": true
              },
              "fromcurrent": true,
              "mode": "immediate",
              "transition": {
               "duration": 0,
               "easing": "linear"
              }
             }
            ],
            "label": "2017-May",
            "method": "animate"
           }
          ],
          "x": 0.1,
          "xanchor": "left",
          "y": 0,
          "yanchor": "top"
         }
        ],
        "template": {
         "data": {
          "bar": [
           {
            "error_x": {
             "color": "#2a3f5f"
            },
            "error_y": {
             "color": "#2a3f5f"
            },
            "marker": {
             "line": {
              "color": "#E5ECF6",
              "width": 0.5
             },
             "pattern": {
              "fillmode": "overlay",
              "size": 10,
              "solidity": 0.2
             }
            },
            "type": "bar"
           }
          ],
          "barpolar": [
           {
            "marker": {
             "line": {
              "color": "#E5ECF6",
              "width": 0.5
             },
             "pattern": {
              "fillmode": "overlay",
              "size": 10,
              "solidity": 0.2
             }
            },
            "type": "barpolar"
           }
          ],
          "carpet": [
           {
            "aaxis": {
             "endlinecolor": "#2a3f5f",
             "gridcolor": "white",
             "linecolor": "white",
             "minorgridcolor": "white",
             "startlinecolor": "#2a3f5f"
            },
            "baxis": {
             "endlinecolor": "#2a3f5f",
             "gridcolor": "white",
             "linecolor": "white",
             "minorgridcolor": "white",
             "startlinecolor": "#2a3f5f"
            },
            "type": "carpet"
           }
          ],
          "choropleth": [
           {
            "colorbar": {
             "outlinewidth": 0,
             "ticks": ""
            },
            "type": "choropleth"
           }
          ],
          "contour": [
           {
            "colorbar": {
             "outlinewidth": 0,
             "ticks": ""
            },
            "colorscale": [
             [
              0,
              "#0d0887"
             ],
             [
              0.1111111111111111,
              "#46039f"
             ],
             [
              0.2222222222222222,
              "#7201a8"
             ],
             [
              0.3333333333333333,
              "#9c179e"
             ],
             [
              0.4444444444444444,
              "#bd3786"
             ],
             [
              0.5555555555555556,
              "#d8576b"
             ],
             [
              0.6666666666666666,
              "#ed7953"
             ],
             [
              0.7777777777777778,
              "#fb9f3a"
             ],
             [
              0.8888888888888888,
              "#fdca26"
             ],
             [
              1,
              "#f0f921"
             ]
            ],
            "type": "contour"
           }
          ],
          "contourcarpet": [
           {
            "colorbar": {
             "outlinewidth": 0,
             "ticks": ""
            },
            "type": "contourcarpet"
           }
          ],
          "heatmap": [
           {
            "colorbar": {
             "outlinewidth": 0,
             "ticks": ""
            },
            "colorscale": [
             [
              0,
              "#0d0887"
             ],
             [
              0.1111111111111111,
              "#46039f"
             ],
             [
              0.2222222222222222,
              "#7201a8"
             ],
             [
              0.3333333333333333,
              "#9c179e"
             ],
             [
              0.4444444444444444,
              "#bd3786"
             ],
             [
              0.5555555555555556,
              "#d8576b"
             ],
             [
              0.6666666666666666,
              "#ed7953"
             ],
             [
              0.7777777777777778,
              "#fb9f3a"
             ],
             [
              0.8888888888888888,
              "#fdca26"
             ],
             [
              1,
              "#f0f921"
             ]
            ],
            "type": "heatmap"
           }
          ],
          "heatmapgl": [
           {
            "colorbar": {
             "outlinewidth": 0,
             "ticks": ""
            },
            "colorscale": [
             [
              0,
              "#0d0887"
             ],
             [
              0.1111111111111111,
              "#46039f"
             ],
             [
              0.2222222222222222,
              "#7201a8"
             ],
             [
              0.3333333333333333,
              "#9c179e"
             ],
             [
              0.4444444444444444,
              "#bd3786"
             ],
             [
              0.5555555555555556,
              "#d8576b"
             ],
             [
              0.6666666666666666,
              "#ed7953"
             ],
             [
              0.7777777777777778,
              "#fb9f3a"
             ],
             [
              0.8888888888888888,
              "#fdca26"
             ],
             [
              1,
              "#f0f921"
             ]
            ],
            "type": "heatmapgl"
           }
          ],
          "histogram": [
           {
            "marker": {
             "pattern": {
              "fillmode": "overlay",
              "size": 10,
              "solidity": 0.2
             }
            },
            "type": "histogram"
           }
          ],
          "histogram2d": [
           {
            "colorbar": {
             "outlinewidth": 0,
             "ticks": ""
            },
            "colorscale": [
             [
              0,
              "#0d0887"
             ],
             [
              0.1111111111111111,
              "#46039f"
             ],
             [
              0.2222222222222222,
              "#7201a8"
             ],
             [
              0.3333333333333333,
              "#9c179e"
             ],
             [
              0.4444444444444444,
              "#bd3786"
             ],
             [
              0.5555555555555556,
              "#d8576b"
             ],
             [
              0.6666666666666666,
              "#ed7953"
             ],
             [
              0.7777777777777778,
              "#fb9f3a"
             ],
             [
              0.8888888888888888,
              "#fdca26"
             ],
             [
              1,
              "#f0f921"
             ]
            ],
            "type": "histogram2d"
           }
          ],
          "histogram2dcontour": [
           {
            "colorbar": {
             "outlinewidth": 0,
             "ticks": ""
            },
            "colorscale": [
             [
              0,
              "#0d0887"
             ],
             [
              0.1111111111111111,
              "#46039f"
             ],
             [
              0.2222222222222222,
              "#7201a8"
             ],
             [
              0.3333333333333333,
              "#9c179e"
             ],
             [
              0.4444444444444444,
              "#bd3786"
             ],
             [
              0.5555555555555556,
              "#d8576b"
             ],
             [
              0.6666666666666666,
              "#ed7953"
             ],
             [
              0.7777777777777778,
              "#fb9f3a"
             ],
             [
              0.8888888888888888,
              "#fdca26"
             ],
             [
              1,
              "#f0f921"
             ]
            ],
            "type": "histogram2dcontour"
           }
          ],
          "mesh3d": [
           {
            "colorbar": {
             "outlinewidth": 0,
             "ticks": ""
            },
            "type": "mesh3d"
           }
          ],
          "parcoords": [
           {
            "line": {
             "colorbar": {
              "outlinewidth": 0,
              "ticks": ""
             }
            },
            "type": "parcoords"
           }
          ],
          "pie": [
           {
            "automargin": true,
            "type": "pie"
           }
          ],
          "scatter": [
           {
            "fillpattern": {
             "fillmode": "overlay",
             "size": 10,
             "solidity": 0.2
            },
            "type": "scatter"
           }
          ],
          "scatter3d": [
           {
            "line": {
             "colorbar": {
              "outlinewidth": 0,
              "ticks": ""
             }
            },
            "marker": {
             "colorbar": {
              "outlinewidth": 0,
              "ticks": ""
             }
            },
            "type": "scatter3d"
           }
          ],
          "scattercarpet": [
           {
            "marker": {
             "colorbar": {
              "outlinewidth": 0,
              "ticks": ""
             }
            },
            "type": "scattercarpet"
           }
          ],
          "scattergeo": [
           {
            "marker": {
             "colorbar": {
              "outlinewidth": 0,
              "ticks": ""
             }
            },
            "type": "scattergeo"
           }
          ],
          "scattergl": [
           {
            "marker": {
             "colorbar": {
              "outlinewidth": 0,
              "ticks": ""
             }
            },
            "type": "scattergl"
           }
          ],
          "scattermapbox": [
           {
            "marker": {
             "colorbar": {
              "outlinewidth": 0,
              "ticks": ""
             }
            },
            "type": "scattermapbox"
           }
          ],
          "scatterpolar": [
           {
            "marker": {
             "colorbar": {
              "outlinewidth": 0,
              "ticks": ""
             }
            },
            "type": "scatterpolar"
           }
          ],
          "scatterpolargl": [
           {
            "marker": {
             "colorbar": {
              "outlinewidth": 0,
              "ticks": ""
             }
            },
            "type": "scatterpolargl"
           }
          ],
          "scatterternary": [
           {
            "marker": {
             "colorbar": {
              "outlinewidth": 0,
              "ticks": ""
             }
            },
            "type": "scatterternary"
           }
          ],
          "surface": [
           {
            "colorbar": {
             "outlinewidth": 0,
             "ticks": ""
            },
            "colorscale": [
             [
              0,
              "#0d0887"
             ],
             [
              0.1111111111111111,
              "#46039f"
             ],
             [
              0.2222222222222222,
              "#7201a8"
             ],
             [
              0.3333333333333333,
              "#9c179e"
             ],
             [
              0.4444444444444444,
              "#bd3786"
             ],
             [
              0.5555555555555556,
              "#d8576b"
             ],
             [
              0.6666666666666666,
              "#ed7953"
             ],
             [
              0.7777777777777778,
              "#fb9f3a"
             ],
             [
              0.8888888888888888,
              "#fdca26"
             ],
             [
              1,
              "#f0f921"
             ]
            ],
            "type": "surface"
           }
          ],
          "table": [
           {
            "cells": {
             "fill": {
              "color": "#EBF0F8"
             },
             "line": {
              "color": "white"
             }
            },
            "header": {
             "fill": {
              "color": "#C8D4E3"
             },
             "line": {
              "color": "white"
             }
            },
            "type": "table"
           }
          ]
         },
         "layout": {
          "annotationdefaults": {
           "arrowcolor": "#2a3f5f",
           "arrowhead": 0,
           "arrowwidth": 1
          },
          "autotypenumbers": "strict",
          "coloraxis": {
           "colorbar": {
            "outlinewidth": 0,
            "ticks": ""
           }
          },
          "colorscale": {
           "diverging": [
            [
             0,
             "#8e0152"
            ],
            [
             0.1,
             "#c51b7d"
            ],
            [
             0.2,
             "#de77ae"
            ],
            [
             0.3,
             "#f1b6da"
            ],
            [
             0.4,
             "#fde0ef"
            ],
            [
             0.5,
             "#f7f7f7"
            ],
            [
             0.6,
             "#e6f5d0"
            ],
            [
             0.7,
             "#b8e186"
            ],
            [
             0.8,
             "#7fbc41"
            ],
            [
             0.9,
             "#4d9221"
            ],
            [
             1,
             "#276419"
            ]
           ],
           "sequential": [
            [
             0,
             "#0d0887"
            ],
            [
             0.1111111111111111,
             "#46039f"
            ],
            [
             0.2222222222222222,
             "#7201a8"
            ],
            [
             0.3333333333333333,
             "#9c179e"
            ],
            [
             0.4444444444444444,
             "#bd3786"
            ],
            [
             0.5555555555555556,
             "#d8576b"
            ],
            [
             0.6666666666666666,
             "#ed7953"
            ],
            [
             0.7777777777777778,
             "#fb9f3a"
            ],
            [
             0.8888888888888888,
             "#fdca26"
            ],
            [
             1,
             "#f0f921"
            ]
           ],
           "sequentialminus": [
            [
             0,
             "#0d0887"
            ],
            [
             0.1111111111111111,
             "#46039f"
            ],
            [
             0.2222222222222222,
             "#7201a8"
            ],
            [
             0.3333333333333333,
             "#9c179e"
            ],
            [
             0.4444444444444444,
             "#bd3786"
            ],
            [
             0.5555555555555556,
             "#d8576b"
            ],
            [
             0.6666666666666666,
             "#ed7953"
            ],
            [
             0.7777777777777778,
             "#fb9f3a"
            ],
            [
             0.8888888888888888,
             "#fdca26"
            ],
            [
             1,
             "#f0f921"
            ]
           ]
          },
          "colorway": [
           "#636efa",
           "#EF553B",
           "#00cc96",
           "#ab63fa",
           "#FFA15A",
           "#19d3f3",
           "#FF6692",
           "#B6E880",
           "#FF97FF",
           "#FECB52"
          ],
          "font": {
           "color": "#2a3f5f"
          },
          "geo": {
           "bgcolor": "white",
           "lakecolor": "white",
           "landcolor": "#E5ECF6",
           "showlakes": true,
           "showland": true,
           "subunitcolor": "white"
          },
          "hoverlabel": {
           "align": "left"
          },
          "hovermode": "closest",
          "mapbox": {
           "style": "light"
          },
          "paper_bgcolor": "white",
          "plot_bgcolor": "#E5ECF6",
          "polar": {
           "angularaxis": {
            "gridcolor": "white",
            "linecolor": "white",
            "ticks": ""
           },
           "bgcolor": "#E5ECF6",
           "radialaxis": {
            "gridcolor": "white",
            "linecolor": "white",
            "ticks": ""
           }
          },
          "scene": {
           "xaxis": {
            "backgroundcolor": "#E5ECF6",
            "gridcolor": "white",
            "gridwidth": 2,
            "linecolor": "white",
            "showbackground": true,
            "ticks": "",
            "zerolinecolor": "white"
           },
           "yaxis": {
            "backgroundcolor": "#E5ECF6",
            "gridcolor": "white",
            "gridwidth": 2,
            "linecolor": "white",
            "showbackground": true,
            "ticks": "",
            "zerolinecolor": "white"
           },
           "zaxis": {
            "backgroundcolor": "#E5ECF6",
            "gridcolor": "white",
            "gridwidth": 2,
            "linecolor": "white",
            "showbackground": true,
            "ticks": "",
            "zerolinecolor": "white"
           }
          },
          "shapedefaults": {
           "line": {
            "color": "#2a3f5f"
           }
          },
          "ternary": {
           "aaxis": {
            "gridcolor": "white",
            "linecolor": "white",
            "ticks": ""
           },
           "baxis": {
            "gridcolor": "white",
            "linecolor": "white",
            "ticks": ""
           },
           "bgcolor": "#E5ECF6",
           "caxis": {
            "gridcolor": "white",
            "linecolor": "white",
            "ticks": ""
           }
          },
          "title": {
           "x": 0.05
          },
          "xaxis": {
           "automargin": true,
           "gridcolor": "white",
           "linecolor": "white",
           "ticks": "",
           "title": {
            "standoff": 15
           },
           "zerolinecolor": "white",
           "zerolinewidth": 2
          },
          "yaxis": {
           "automargin": true,
           "gridcolor": "white",
           "linecolor": "white",
           "ticks": "",
           "title": {
            "standoff": 15
           },
           "zerolinecolor": "white",
           "zerolinewidth": 2
          }
         }
        },
        "title": {
         "text": "Aantal vluchtelingen per land en maand"
        },
        "updatemenus": [
         {
          "buttons": [
           {
            "args": [
             null,
             {
              "frame": {
               "duration": 500,
               "redraw": true
              },
              "fromcurrent": true,
              "mode": "immediate",
              "transition": {
               "duration": 500,
               "easing": "linear"
              }
             }
            ],
            "label": "&#9654;",
            "method": "animate"
           },
           {
            "args": [
             [
              null
             ],
             {
              "frame": {
               "duration": 0,
               "redraw": true
              },
              "fromcurrent": true,
              "mode": "immediate",
              "transition": {
               "duration": 0,
               "easing": "linear"
              }
             }
            ],
            "label": "&#9724;",
            "method": "animate"
           }
          ],
          "direction": "left",
          "pad": {
           "r": 10,
           "t": 70
          },
          "showactive": false,
          "type": "buttons",
          "x": 0.1,
          "xanchor": "right",
          "y": 0,
          "yanchor": "top"
         }
        ]
       }
      }
     },
     "metadata": {},
     "output_type": "display_data"
    }
   ],
   "source": [
    "# Combine 'Year' and 'Month' columns into a single 'Year-Month' column\n",
    "pmpc_df[\"Year-Month\"] = pmpc_df[\"Year\"].astype(str) + \"-\" + pmpc_df[\"Month\"].astype(str)\n",
    "\n",
    "# Reshape the DataFrame from wide to long format\n",
    "melted_df = pd.melt(pmpc_df, id_vars=[\"Year-Month\"], value_vars=pmpc_df.columns[2:], var_name=\"Country\", value_name=\"Refugees\")\n",
    "\n",
    "# Bubble Map with animation\n",
    "fig = px.scatter_geo(melted_df, locations=\"Country\", locationmode=\"country names\",\n",
    "                     hover_name=\"Country\", color=\"Refugees\",\n",
    "                     projection=\"natural earth\", title=\"Aantal vluchtelingen per land en maand\",\n",
    "                     animation_frame=\"Year-Month\")\n",
    "\n",
    "# Adjust the bubble size based on the number of refugees\n",
    "fig.update_traces(marker=dict(sizemode=\"area\", sizeref=1, sizemin=3))\n",
    "\n",
    "# Set layout options\n",
    "fig.update_layout(height=600, margin=dict(r=0, l=0, b=0))\n",
    "\n",
    "# Show the plot\n",
    "fig.show()"
   ]
  },
  {
   "attachments": {},
   "cell_type": "markdown",
   "metadata": {},
   "source": [
    "### Annual influx of refugees to the Netherlands"
   ]
  },
  {
   "cell_type": "code",
   "execution_count": 18,
   "metadata": {
    "tags": [
     "hide-input"
    ]
   },
   "outputs": [
    {
     "data": {
      "application/vnd.plotly.v1+json": {
       "config": {
        "plotlyServerURL": "https://plot.ly"
       },
       "data": [
        {
         "dimensions": [
          {
           "label": "Country",
           "values": [
            "France",
            "Switzerland",
            "Italy",
            "Belgium",
            "France",
            "France",
            "Finland",
            "Portugal",
            "Italy",
            "Italy",
            "Italy",
            "France",
            "Austria",
            "France",
            "France",
            "Turkey",
            "Switzerland",
            "Italy",
            "Italy",
            "France",
            "France",
            "France",
            "France",
            "Italy",
            "Spain",
            "Switzerland",
            "Luxembourg",
            "France",
            "Turkey",
            "Spain",
            "France",
            "Sweden",
            "Italy",
            "Finland",
            "France",
            "Finland",
            "France",
            "France",
            "France",
            "Italy",
            "Switzerland",
            "France",
            "France",
            "Italy",
            "Finland",
            "France",
            "France",
            "Italy",
            "Italy",
            "Italy",
            "France",
            "Switzerland",
            "Italy",
            "Austria",
            "France",
            "Spain",
            "Austria",
            "Switzerland",
            "Finland",
            "France",
            "Switzerland",
            "Finland",
            "Finland",
            "Finland",
            "Italy",
            "Switzerland",
            "Norway",
            "Finland",
            "Italy",
            "France",
            "France",
            "Italy",
            "France",
            "France",
            "Turkey",
            "Spain",
            "France",
            "Italy",
            "France",
            "Portugal",
            "Italy",
            "Italy",
            "Finland",
            "Finland",
            "France",
            "Italy",
            "Portugal",
            "France",
            "France",
            "France",
            "France",
            "Turkey",
            "Austria",
            "Portugal",
            "Austria",
            "Bulgaria",
            "Italy",
            "Italy",
            "France",
            "Finland",
            "Italy",
            "France",
            "Luxembourg",
            "France",
            "France",
            "Poland",
            "Switzerland",
            "Switzerland",
            "Switzerland",
            "Italy",
            "France",
            "Luxembourg",
            "Italy",
            "Italy",
            "Finland",
            "Sweden",
            "France",
            "Denmark",
            "Sweden",
            "Italy",
            "Finland",
            "France",
            "France",
            "France",
            "France",
            "Finland",
            "France",
            "Switzerland",
            "Portugal",
            "Luxembourg",
            "Finland",
            "Turkey",
            "Spain",
            "Italy",
            "France",
            "France",
            "Finland",
            "Finland",
            "France",
            "Italy",
            "France",
            "Italy",
            "Finland",
            "France",
            "Sweden",
            "Sweden",
            "France",
            "Switzerland",
            "France",
            "Luxembourg",
            "Italy",
            "Austria",
            "Switzerland",
            "Turkey",
            "France",
            "Italy",
            "Spain",
            "Switzerland",
            "Italy",
            "Switzerland",
            "France",
            "France",
            "Netherlands",
            "Italy",
            "Italy",
            "Luxembourg",
            "Italy",
            "France",
            "Italy",
            "France",
            "Italy",
            "Italy",
            "France",
            "Finland",
            "France",
            "Turkey",
            "France",
            "Finland",
            "Luxembourg",
            "Sweden",
            "Finland",
            "Greece",
            "Italy",
            "Italy",
            "Finland",
            "Portugal",
            "Switzerland",
            "France",
            "France",
            "Netherlands",
            "Finland",
            "Switzerland",
            "Belgium",
            "Italy",
            "France",
            "Sweden",
            "Italy",
            "Finland",
            "Netherlands",
            "France",
            "Spain",
            "Sweden",
            "Turkey",
            "Italy",
            "Spain",
            "Finland",
            "Italy",
            "Austria",
            "Italy",
            "France",
            "Italy",
            "Spain",
            "Finland",
            "Finland",
            "Italy",
            "Sweden",
            "France",
            "Spain",
            "France",
            "France",
            "Finland",
            "Switzerland",
            "France",
            "Switzerland",
            "Finland",
            "France",
            "France",
            "Italy",
            "France",
            "France",
            "Italy",
            "Sweden",
            "Portugal",
            "Sweden",
            "France",
            "Italy",
            "France",
            "Luxembourg",
            "Sweden",
            "Italy",
            "Bulgaria",
            "Finland",
            "France",
            "Italy",
            "France",
            "Switzerland",
            "Switzerland",
            "France",
            "Finland",
            "France",
            "Belgium",
            "Finland",
            "Switzerland",
            "France",
            "Sweden",
            "Italy",
            "France",
            "Finland",
            "Denmark",
            "Belgium",
            "Norway",
            "Finland",
            "France",
            "Italy",
            "France",
            "France",
            "Finland",
            "Switzerland",
            "France",
            "Austria",
            "Luxembourg",
            "Belgium",
            "Italy",
            "Finland",
            "France",
            "Finland",
            "Finland",
            "Austria",
            "Italy",
            "France",
            "France",
            "France",
            "France",
            "Portugal",
            "Belgium",
            "Italy",
            "France",
            "France",
            "Italy",
            "France",
            "Italy",
            "Austria",
            "Italy",
            "France",
            "Austria",
            "France",
            "France",
            "France",
            "Finland",
            "Italy",
            "France",
            "France",
            "Italy",
            "France",
            "Sweden",
            "France",
            "Italy",
            "Austria",
            "Turkey",
            "Switzerland",
            "Spain",
            "Netherlands",
            "Turkey",
            "Italy",
            "Sweden",
            "Switzerland",
            "Denmark",
            "France",
            "Spain",
            "France",
            "Italy",
            "Italy",
            "Finland",
            "Luxembourg",
            "Finland",
            "Luxembourg",
            "Italy",
            "Austria"
           ]
          },
          {
           "label": "Gender",
           "values": [
            "Man",
            "Vrouw",
            "Man",
            "Man",
            "Man",
            "Vrouw",
            "Man",
            "Vrouw",
            "Man",
            "Vrouw",
            "Vrouw",
            "Man",
            "Vrouw",
            "Vrouw",
            "Man",
            "Vrouw",
            "Vrouw",
            "Vrouw",
            "Man",
            "Vrouw",
            "Man",
            "Vrouw",
            "Man",
            "Man",
            "Man",
            "Vrouw",
            "Vrouw",
            "Man",
            "Vrouw",
            "Vrouw",
            "Man",
            "Man",
            "Vrouw",
            "Man",
            "Man",
            "Man",
            "Man",
            "Vrouw",
            "Vrouw",
            "Vrouw",
            "Man",
            "Man",
            "Man",
            "Man",
            "Vrouw",
            "Vrouw",
            "Vrouw",
            "Vrouw",
            "Vrouw",
            "Man",
            "Man",
            "Man",
            "Man",
            "Man",
            "Vrouw",
            "Man",
            "Vrouw",
            "Vrouw",
            "Vrouw",
            "Man",
            "Vrouw",
            "Vrouw",
            "Vrouw",
            "Vrouw",
            "Man",
            "Man",
            "Vrouw",
            "Man",
            "Man",
            "Man",
            "Man",
            "Vrouw",
            "Vrouw",
            "Vrouw",
            "Vrouw",
            "Vrouw",
            "Man",
            "Man",
            "Vrouw",
            "Man",
            "Vrouw",
            "Man",
            "Vrouw",
            "Man",
            "Man",
            "Man",
            "Man",
            "Vrouw",
            "Man",
            "Man",
            "Vrouw",
            "Man",
            "Vrouw",
            "Man",
            "Vrouw",
            "Vrouw",
            "Vrouw",
            "Man",
            "Man",
            "Man",
            "Vrouw",
            "Vrouw",
            "Man",
            "Vrouw",
            "Man",
            "Man",
            "Vrouw",
            "Man",
            "Man",
            "Man",
            "Vrouw",
            "Man",
            "Vrouw",
            "Vrouw",
            "Vrouw",
            "Vrouw",
            "Man",
            "Man",
            "Man",
            "Man",
            "Vrouw",
            "Man",
            "Man",
            "Vrouw",
            "Man",
            "Vrouw",
            "Man",
            "Man",
            "Vrouw",
            "Man",
            "Man",
            "Man",
            "Vrouw",
            "Man",
            "Vrouw",
            "Vrouw",
            "Man",
            "Man",
            "Vrouw",
            "Vrouw",
            "Man",
            "Man",
            "Vrouw",
            "Man",
            "Man",
            "Vrouw",
            "Vrouw",
            "Man",
            "Man",
            "Vrouw",
            "Vrouw",
            "Vrouw",
            "Man",
            "Vrouw",
            "Vrouw",
            "Vrouw",
            "Man",
            "Man",
            "Vrouw",
            "Vrouw",
            "Man",
            "Vrouw",
            "Man",
            "Man",
            "Man",
            "Vrouw",
            "Vrouw",
            "Man",
            "Man",
            "Man",
            "Vrouw",
            "Vrouw",
            "Man",
            "Vrouw",
            "Man",
            "Man",
            "Vrouw",
            "Vrouw",
            "Man",
            "Vrouw",
            "Vrouw",
            "Vrouw",
            "Man",
            "Man",
            "Man",
            "Vrouw",
            "Vrouw",
            "Vrouw",
            "Man",
            "Vrouw",
            "Man",
            "Man",
            "Man",
            "Vrouw",
            "Vrouw",
            "Man",
            "Vrouw",
            "Vrouw",
            "Vrouw",
            "Man",
            "Vrouw",
            "Vrouw",
            "Vrouw",
            "Vrouw",
            "Vrouw",
            "Man",
            "Man",
            "Vrouw",
            "Vrouw",
            "Man",
            "Vrouw",
            "Man",
            "Vrouw",
            "Man",
            "Vrouw",
            "Vrouw",
            "Man",
            "Vrouw",
            "Man",
            "Vrouw",
            "Vrouw",
            "Vrouw",
            "Man",
            "Vrouw",
            "Vrouw",
            "Man",
            "Vrouw",
            "Man",
            "Vrouw",
            "Man",
            "Vrouw",
            "Vrouw",
            "Vrouw",
            "Man",
            "Man",
            "Vrouw",
            "Vrouw",
            "Vrouw",
            "Vrouw",
            "Man",
            "Man",
            "Vrouw",
            "Vrouw",
            "Vrouw",
            "Man",
            "Vrouw",
            "Man",
            "Vrouw",
            "Vrouw",
            "Vrouw",
            "Vrouw",
            "Man",
            "Vrouw",
            "Vrouw",
            "Man",
            "Man",
            "Vrouw",
            "Man",
            "Man",
            "Man",
            "Vrouw",
            "Man",
            "Man",
            "Man",
            "Vrouw",
            "Vrouw",
            "Man",
            "Vrouw",
            "Vrouw",
            "Man",
            "Vrouw",
            "Vrouw",
            "Man",
            "Man",
            "Man",
            "Vrouw",
            "Man",
            "Man",
            "Vrouw",
            "Man",
            "Vrouw",
            "Man",
            "Man",
            "Man",
            "Vrouw",
            "Man",
            "Vrouw",
            "Vrouw",
            "Man",
            "Vrouw",
            "Vrouw",
            "Vrouw",
            "Man",
            "Vrouw",
            "Man",
            "Man",
            "Vrouw",
            "Man",
            "Man",
            "Man",
            "Vrouw",
            "Man",
            "Vrouw",
            "Vrouw",
            "Man",
            "Vrouw",
            "Man",
            "Man",
            "Vrouw",
            "Vrouw",
            "Man",
            "Man",
            "Vrouw",
            "Man",
            "Man",
            "Man",
            "Vrouw",
            "Man",
            "Vrouw",
            "Man",
            "Man",
            "Man",
            "Vrouw",
            "Vrouw",
            "Vrouw",
            "Vrouw",
            "Vrouw",
            "Vrouw"
           ]
          },
          {
           "label": "Age",
           "values": [
            "0-18",
            "19-30",
            "0-18",
            "19-30",
            "0-18",
            "31-45",
            "61+",
            "61+",
            "31-45",
            "19-30",
            "19-30",
            "46-60",
            "19-30",
            "61+",
            "46-60",
            "19-30",
            "46-60",
            "0-18",
            "19-30",
            "19-30",
            "19-30",
            "61+",
            "61+",
            "46-60",
            "31-45",
            "61+",
            "0-18",
            "31-45",
            "31-45",
            "0-18",
            "0-18",
            "31-45",
            "46-60",
            "46-60",
            "61+",
            "46-60",
            "19-30",
            "31-45",
            "61+",
            "0-18",
            "61+",
            "0-18",
            "46-60",
            "0-18",
            "31-45",
            "31-45",
            "61+",
            "31-45",
            "19-30",
            "0-18",
            "19-30",
            "31-45",
            "46-60",
            "31-45",
            "19-30",
            "46-60",
            "61+",
            "46-60",
            "46-60",
            "19-30",
            "19-30",
            "0-18",
            "0-18",
            "0-18",
            "0-18",
            "61+",
            "61+",
            "0-18",
            "46-60",
            "46-60",
            "31-45",
            "46-60",
            "19-30",
            "0-18",
            "19-30",
            "46-60",
            "31-45",
            "61+",
            "46-60",
            "19-30",
            "46-60",
            "0-18",
            "19-30",
            "61+",
            "19-30",
            "46-60",
            "31-45",
            "61+",
            "61+",
            "61+",
            "0-18",
            "19-30",
            "61+",
            "61+",
            "19-30",
            "61+",
            "19-30",
            "19-30",
            "19-30",
            "31-45",
            "19-30",
            "0-18",
            "19-30",
            "31-45",
            "46-60",
            "0-18",
            "61+",
            "61+",
            "31-45",
            "46-60",
            "46-60",
            "0-18",
            "19-30",
            "0-18",
            "31-45",
            "61+",
            "46-60",
            "0-18",
            "46-60",
            "31-45",
            "0-18",
            "19-30",
            "46-60",
            "19-30",
            "61+",
            "19-30",
            "46-60",
            "19-30",
            "46-60",
            "0-18",
            "19-30",
            "46-60",
            "19-30",
            "0-18",
            "31-45",
            "31-45",
            "31-45",
            "0-18",
            "0-18",
            "19-30",
            "0-18",
            "61+",
            "46-60",
            "19-30",
            "0-18",
            "31-45",
            "19-30",
            "19-30",
            "31-45",
            "46-60",
            "31-45",
            "61+",
            "46-60",
            "31-45",
            "61+",
            "31-45",
            "31-45",
            "19-30",
            "19-30",
            "46-60",
            "46-60",
            "46-60",
            "31-45",
            "46-60",
            "46-60",
            "0-18",
            "46-60",
            "19-30",
            "0-18",
            "19-30",
            "19-30",
            "61+",
            "61+",
            "19-30",
            "61+",
            "46-60",
            "46-60",
            "46-60",
            "31-45",
            "61+",
            "61+",
            "31-45",
            "46-60",
            "31-45",
            "19-30",
            "19-30",
            "19-30",
            "0-18",
            "46-60",
            "46-60",
            "61+",
            "61+",
            "19-30",
            "19-30",
            "46-60",
            "0-18",
            "0-18",
            "0-18",
            "0-18",
            "19-30",
            "61+",
            "46-60",
            "61+",
            "31-45",
            "0-18",
            "61+",
            "31-45",
            "0-18",
            "0-18",
            "0-18",
            "19-30",
            "46-60",
            "46-60",
            "0-18",
            "61+",
            "0-18",
            "31-45",
            "0-18",
            "61+",
            "19-30",
            "46-60",
            "46-60",
            "46-60",
            "46-60",
            "19-30",
            "31-45",
            "19-30",
            "31-45",
            "46-60",
            "31-45",
            "0-18",
            "0-18",
            "0-18",
            "61+",
            "31-45",
            "61+",
            "61+",
            "0-18",
            "46-60",
            "31-45",
            "19-30",
            "19-30",
            "0-18",
            "19-30",
            "61+",
            "61+",
            "19-30",
            "0-18",
            "31-45",
            "31-45",
            "19-30",
            "46-60",
            "31-45",
            "61+",
            "19-30",
            "19-30",
            "61+",
            "46-60",
            "19-30",
            "31-45",
            "31-45",
            "19-30",
            "61+",
            "0-18",
            "61+",
            "46-60",
            "19-30",
            "31-45",
            "46-60",
            "46-60",
            "46-60",
            "19-30",
            "0-18",
            "46-60",
            "31-45",
            "46-60",
            "19-30",
            "46-60",
            "61+",
            "19-30",
            "19-30",
            "19-30",
            "61+",
            "0-18",
            "31-45",
            "19-30",
            "46-60",
            "46-60",
            "61+",
            "0-18",
            "0-18",
            "46-60",
            "31-45",
            "46-60",
            "0-18",
            "61+",
            "31-45",
            "46-60",
            "0-18",
            "19-30",
            "46-60",
            "31-45",
            "19-30",
            "61+",
            "61+",
            "31-45",
            "61+",
            "46-60",
            "46-60",
            "19-30",
            "19-30",
            "31-45",
            "19-30",
            "61+",
            "19-30",
            "61+",
            "0-18",
            "0-18",
            "0-18",
            "61+",
            "46-60",
            "0-18",
            "61+",
            "46-60",
            "61+",
            "19-30",
            "31-45",
            "31-45"
           ]
          }
         ],
         "domain": {
          "x": [
           0,
           1
          ],
          "y": [
           0,
           1
          ]
         },
         "name": "",
         "type": "parcats"
        }
       ],
       "layout": {
        "legend": {
         "tracegroupgap": 0
        },
        "margin": {
         "t": 60
        },
        "template": {
         "data": {
          "bar": [
           {
            "error_x": {
             "color": "#2a3f5f"
            },
            "error_y": {
             "color": "#2a3f5f"
            },
            "marker": {
             "line": {
              "color": "#E5ECF6",
              "width": 0.5
             },
             "pattern": {
              "fillmode": "overlay",
              "size": 10,
              "solidity": 0.2
             }
            },
            "type": "bar"
           }
          ],
          "barpolar": [
           {
            "marker": {
             "line": {
              "color": "#E5ECF6",
              "width": 0.5
             },
             "pattern": {
              "fillmode": "overlay",
              "size": 10,
              "solidity": 0.2
             }
            },
            "type": "barpolar"
           }
          ],
          "carpet": [
           {
            "aaxis": {
             "endlinecolor": "#2a3f5f",
             "gridcolor": "white",
             "linecolor": "white",
             "minorgridcolor": "white",
             "startlinecolor": "#2a3f5f"
            },
            "baxis": {
             "endlinecolor": "#2a3f5f",
             "gridcolor": "white",
             "linecolor": "white",
             "minorgridcolor": "white",
             "startlinecolor": "#2a3f5f"
            },
            "type": "carpet"
           }
          ],
          "choropleth": [
           {
            "colorbar": {
             "outlinewidth": 0,
             "ticks": ""
            },
            "type": "choropleth"
           }
          ],
          "contour": [
           {
            "colorbar": {
             "outlinewidth": 0,
             "ticks": ""
            },
            "colorscale": [
             [
              0,
              "#0d0887"
             ],
             [
              0.1111111111111111,
              "#46039f"
             ],
             [
              0.2222222222222222,
              "#7201a8"
             ],
             [
              0.3333333333333333,
              "#9c179e"
             ],
             [
              0.4444444444444444,
              "#bd3786"
             ],
             [
              0.5555555555555556,
              "#d8576b"
             ],
             [
              0.6666666666666666,
              "#ed7953"
             ],
             [
              0.7777777777777778,
              "#fb9f3a"
             ],
             [
              0.8888888888888888,
              "#fdca26"
             ],
             [
              1,
              "#f0f921"
             ]
            ],
            "type": "contour"
           }
          ],
          "contourcarpet": [
           {
            "colorbar": {
             "outlinewidth": 0,
             "ticks": ""
            },
            "type": "contourcarpet"
           }
          ],
          "heatmap": [
           {
            "colorbar": {
             "outlinewidth": 0,
             "ticks": ""
            },
            "colorscale": [
             [
              0,
              "#0d0887"
             ],
             [
              0.1111111111111111,
              "#46039f"
             ],
             [
              0.2222222222222222,
              "#7201a8"
             ],
             [
              0.3333333333333333,
              "#9c179e"
             ],
             [
              0.4444444444444444,
              "#bd3786"
             ],
             [
              0.5555555555555556,
              "#d8576b"
             ],
             [
              0.6666666666666666,
              "#ed7953"
             ],
             [
              0.7777777777777778,
              "#fb9f3a"
             ],
             [
              0.8888888888888888,
              "#fdca26"
             ],
             [
              1,
              "#f0f921"
             ]
            ],
            "type": "heatmap"
           }
          ],
          "heatmapgl": [
           {
            "colorbar": {
             "outlinewidth": 0,
             "ticks": ""
            },
            "colorscale": [
             [
              0,
              "#0d0887"
             ],
             [
              0.1111111111111111,
              "#46039f"
             ],
             [
              0.2222222222222222,
              "#7201a8"
             ],
             [
              0.3333333333333333,
              "#9c179e"
             ],
             [
              0.4444444444444444,
              "#bd3786"
             ],
             [
              0.5555555555555556,
              "#d8576b"
             ],
             [
              0.6666666666666666,
              "#ed7953"
             ],
             [
              0.7777777777777778,
              "#fb9f3a"
             ],
             [
              0.8888888888888888,
              "#fdca26"
             ],
             [
              1,
              "#f0f921"
             ]
            ],
            "type": "heatmapgl"
           }
          ],
          "histogram": [
           {
            "marker": {
             "pattern": {
              "fillmode": "overlay",
              "size": 10,
              "solidity": 0.2
             }
            },
            "type": "histogram"
           }
          ],
          "histogram2d": [
           {
            "colorbar": {
             "outlinewidth": 0,
             "ticks": ""
            },
            "colorscale": [
             [
              0,
              "#0d0887"
             ],
             [
              0.1111111111111111,
              "#46039f"
             ],
             [
              0.2222222222222222,
              "#7201a8"
             ],
             [
              0.3333333333333333,
              "#9c179e"
             ],
             [
              0.4444444444444444,
              "#bd3786"
             ],
             [
              0.5555555555555556,
              "#d8576b"
             ],
             [
              0.6666666666666666,
              "#ed7953"
             ],
             [
              0.7777777777777778,
              "#fb9f3a"
             ],
             [
              0.8888888888888888,
              "#fdca26"
             ],
             [
              1,
              "#f0f921"
             ]
            ],
            "type": "histogram2d"
           }
          ],
          "histogram2dcontour": [
           {
            "colorbar": {
             "outlinewidth": 0,
             "ticks": ""
            },
            "colorscale": [
             [
              0,
              "#0d0887"
             ],
             [
              0.1111111111111111,
              "#46039f"
             ],
             [
              0.2222222222222222,
              "#7201a8"
             ],
             [
              0.3333333333333333,
              "#9c179e"
             ],
             [
              0.4444444444444444,
              "#bd3786"
             ],
             [
              0.5555555555555556,
              "#d8576b"
             ],
             [
              0.6666666666666666,
              "#ed7953"
             ],
             [
              0.7777777777777778,
              "#fb9f3a"
             ],
             [
              0.8888888888888888,
              "#fdca26"
             ],
             [
              1,
              "#f0f921"
             ]
            ],
            "type": "histogram2dcontour"
           }
          ],
          "mesh3d": [
           {
            "colorbar": {
             "outlinewidth": 0,
             "ticks": ""
            },
            "type": "mesh3d"
           }
          ],
          "parcoords": [
           {
            "line": {
             "colorbar": {
              "outlinewidth": 0,
              "ticks": ""
             }
            },
            "type": "parcoords"
           }
          ],
          "pie": [
           {
            "automargin": true,
            "type": "pie"
           }
          ],
          "scatter": [
           {
            "fillpattern": {
             "fillmode": "overlay",
             "size": 10,
             "solidity": 0.2
            },
            "type": "scatter"
           }
          ],
          "scatter3d": [
           {
            "line": {
             "colorbar": {
              "outlinewidth": 0,
              "ticks": ""
             }
            },
            "marker": {
             "colorbar": {
              "outlinewidth": 0,
              "ticks": ""
             }
            },
            "type": "scatter3d"
           }
          ],
          "scattercarpet": [
           {
            "marker": {
             "colorbar": {
              "outlinewidth": 0,
              "ticks": ""
             }
            },
            "type": "scattercarpet"
           }
          ],
          "scattergeo": [
           {
            "marker": {
             "colorbar": {
              "outlinewidth": 0,
              "ticks": ""
             }
            },
            "type": "scattergeo"
           }
          ],
          "scattergl": [
           {
            "marker": {
             "colorbar": {
              "outlinewidth": 0,
              "ticks": ""
             }
            },
            "type": "scattergl"
           }
          ],
          "scattermapbox": [
           {
            "marker": {
             "colorbar": {
              "outlinewidth": 0,
              "ticks": ""
             }
            },
            "type": "scattermapbox"
           }
          ],
          "scatterpolar": [
           {
            "marker": {
             "colorbar": {
              "outlinewidth": 0,
              "ticks": ""
             }
            },
            "type": "scatterpolar"
           }
          ],
          "scatterpolargl": [
           {
            "marker": {
             "colorbar": {
              "outlinewidth": 0,
              "ticks": ""
             }
            },
            "type": "scatterpolargl"
           }
          ],
          "scatterternary": [
           {
            "marker": {
             "colorbar": {
              "outlinewidth": 0,
              "ticks": ""
             }
            },
            "type": "scatterternary"
           }
          ],
          "surface": [
           {
            "colorbar": {
             "outlinewidth": 0,
             "ticks": ""
            },
            "colorscale": [
             [
              0,
              "#0d0887"
             ],
             [
              0.1111111111111111,
              "#46039f"
             ],
             [
              0.2222222222222222,
              "#7201a8"
             ],
             [
              0.3333333333333333,
              "#9c179e"
             ],
             [
              0.4444444444444444,
              "#bd3786"
             ],
             [
              0.5555555555555556,
              "#d8576b"
             ],
             [
              0.6666666666666666,
              "#ed7953"
             ],
             [
              0.7777777777777778,
              "#fb9f3a"
             ],
             [
              0.8888888888888888,
              "#fdca26"
             ],
             [
              1,
              "#f0f921"
             ]
            ],
            "type": "surface"
           }
          ],
          "table": [
           {
            "cells": {
             "fill": {
              "color": "#EBF0F8"
             },
             "line": {
              "color": "white"
             }
            },
            "header": {
             "fill": {
              "color": "#C8D4E3"
             },
             "line": {
              "color": "white"
             }
            },
            "type": "table"
           }
          ]
         },
         "layout": {
          "annotationdefaults": {
           "arrowcolor": "#2a3f5f",
           "arrowhead": 0,
           "arrowwidth": 1
          },
          "autotypenumbers": "strict",
          "coloraxis": {
           "colorbar": {
            "outlinewidth": 0,
            "ticks": ""
           }
          },
          "colorscale": {
           "diverging": [
            [
             0,
             "#8e0152"
            ],
            [
             0.1,
             "#c51b7d"
            ],
            [
             0.2,
             "#de77ae"
            ],
            [
             0.3,
             "#f1b6da"
            ],
            [
             0.4,
             "#fde0ef"
            ],
            [
             0.5,
             "#f7f7f7"
            ],
            [
             0.6,
             "#e6f5d0"
            ],
            [
             0.7,
             "#b8e186"
            ],
            [
             0.8,
             "#7fbc41"
            ],
            [
             0.9,
             "#4d9221"
            ],
            [
             1,
             "#276419"
            ]
           ],
           "sequential": [
            [
             0,
             "#0d0887"
            ],
            [
             0.1111111111111111,
             "#46039f"
            ],
            [
             0.2222222222222222,
             "#7201a8"
            ],
            [
             0.3333333333333333,
             "#9c179e"
            ],
            [
             0.4444444444444444,
             "#bd3786"
            ],
            [
             0.5555555555555556,
             "#d8576b"
            ],
            [
             0.6666666666666666,
             "#ed7953"
            ],
            [
             0.7777777777777778,
             "#fb9f3a"
            ],
            [
             0.8888888888888888,
             "#fdca26"
            ],
            [
             1,
             "#f0f921"
            ]
           ],
           "sequentialminus": [
            [
             0,
             "#0d0887"
            ],
            [
             0.1111111111111111,
             "#46039f"
            ],
            [
             0.2222222222222222,
             "#7201a8"
            ],
            [
             0.3333333333333333,
             "#9c179e"
            ],
            [
             0.4444444444444444,
             "#bd3786"
            ],
            [
             0.5555555555555556,
             "#d8576b"
            ],
            [
             0.6666666666666666,
             "#ed7953"
            ],
            [
             0.7777777777777778,
             "#fb9f3a"
            ],
            [
             0.8888888888888888,
             "#fdca26"
            ],
            [
             1,
             "#f0f921"
            ]
           ]
          },
          "colorway": [
           "#636efa",
           "#EF553B",
           "#00cc96",
           "#ab63fa",
           "#FFA15A",
           "#19d3f3",
           "#FF6692",
           "#B6E880",
           "#FF97FF",
           "#FECB52"
          ],
          "font": {
           "color": "#2a3f5f"
          },
          "geo": {
           "bgcolor": "white",
           "lakecolor": "white",
           "landcolor": "#E5ECF6",
           "showlakes": true,
           "showland": true,
           "subunitcolor": "white"
          },
          "hoverlabel": {
           "align": "left"
          },
          "hovermode": "closest",
          "mapbox": {
           "style": "light"
          },
          "paper_bgcolor": "white",
          "plot_bgcolor": "#E5ECF6",
          "polar": {
           "angularaxis": {
            "gridcolor": "white",
            "linecolor": "white",
            "ticks": ""
           },
           "bgcolor": "#E5ECF6",
           "radialaxis": {
            "gridcolor": "white",
            "linecolor": "white",
            "ticks": ""
           }
          },
          "scene": {
           "xaxis": {
            "backgroundcolor": "#E5ECF6",
            "gridcolor": "white",
            "gridwidth": 2,
            "linecolor": "white",
            "showbackground": true,
            "ticks": "",
            "zerolinecolor": "white"
           },
           "yaxis": {
            "backgroundcolor": "#E5ECF6",
            "gridcolor": "white",
            "gridwidth": 2,
            "linecolor": "white",
            "showbackground": true,
            "ticks": "",
            "zerolinecolor": "white"
           },
           "zaxis": {
            "backgroundcolor": "#E5ECF6",
            "gridcolor": "white",
            "gridwidth": 2,
            "linecolor": "white",
            "showbackground": true,
            "ticks": "",
            "zerolinecolor": "white"
           }
          },
          "shapedefaults": {
           "line": {
            "color": "#2a3f5f"
           }
          },
          "ternary": {
           "aaxis": {
            "gridcolor": "white",
            "linecolor": "white",
            "ticks": ""
           },
           "baxis": {
            "gridcolor": "white",
            "linecolor": "white",
            "ticks": ""
           },
           "bgcolor": "#E5ECF6",
           "caxis": {
            "gridcolor": "white",
            "linecolor": "white",
            "ticks": ""
           }
          },
          "title": {
           "x": 0.05
          },
          "xaxis": {
           "automargin": true,
           "gridcolor": "white",
           "linecolor": "white",
           "ticks": "",
           "title": {
            "standoff": 15
           },
           "zerolinecolor": "white",
           "zerolinewidth": 2
          },
          "yaxis": {
           "automargin": true,
           "gridcolor": "white",
           "linecolor": "white",
           "ticks": "",
           "title": {
            "standoff": 15
           },
           "zerolinecolor": "white",
           "zerolinewidth": 2
          }
         }
        },
        "title": {
         "text": "Asielzoekers per Land"
        },
        "xaxis": {
         "title": {
          "text": "Kenmerken"
         }
        },
        "yaxis": {
         "title": {
          "text": "Aantal"
         }
        }
       }
      }
     },
     "metadata": {},
     "output_type": "display_data"
    }
   ],
   "source": [
    "# Gegevens inlezen vanuit CSV-bestand\n",
    "asi_df = pd.read_csv(\"data/asylum_seekers_info.csv\")\n",
    "\n",
    "asi_df = asi_df.drop(['Year', 'Month'], axis=1)\n",
    "# Parallel Categories Diagram maken met behulp van Plotly Express\n",
    "fig = px.parallel_categories(asi_df, dimensions=['Country','Gender','Age'], color_continuous_scale=px.colors.qualitative.Dark24)\n",
    "\n",
    "# Grafiek opmaken\n",
    "fig.update_layout(title=\"Asielzoekers per Land\")\n",
    "fig.update_xaxes(title=\"Kenmerken\")\n",
    "fig.update_yaxes(title=\"Aantal\")\n",
    "\n",
    "# Grafiek weergeven\n",
    "fig.show()\n"
   ]
  },
  {
   "attachments": {},
   "cell_type": "markdown",
   "metadata": {},
   "source": [
    "# Reflection\n",
    "\n",
    "Our TA indicated that we were well on our way, but needed to make it more of a story. We also needed to add more different types of charts, because we all had roughly the same charts. "
   ]
  },
  {
   "attachments": {},
   "cell_type": "markdown",
   "metadata": {},
   "source": [
    "# Work distribution\n",
    "\n",
    "* Niffyn Trouw:\n",
    "    - Performed extensive analysis and pre-processing of the dataset.\n",
    "    - Assisted in writing several arguments.\n",
    "* Max Kowalchuk:\n",
    "    - Made most of the initial plots for the draft, which were still changed and modified after feedback.\n",
    "    - This much of the dataset and preprocessing, and wrote about this section.\n",
    "    - Further helped write several arguments, as well as the introduction\n",
    "* Thomas van Zuilen:\n",
    "    - Created a Jupyter Book and published it on GitHub Pages.\n",
    "    - Adapted the graphs to ensure compatibility with the Jupyter Book and fulfilled the specified requirements.\n",
    "    - Provided additional assistance in crafting compelling arguments."
   ]
  }
 ],
 "metadata": {
  "celltoolbar": "Tags",
  "colab": {
   "provenance": []
  },
  "kernelspec": {
   "display_name": "Python 3 (ipykernel)",
   "language": "python",
   "name": "python3"
  },
  "language_info": {
   "codemirror_mode": {
    "name": "ipython",
    "version": 3
   },
   "file_extension": ".py",
   "mimetype": "text/x-python",
   "name": "python",
   "nbconvert_exporter": "python",
   "pygments_lexer": "ipython3",
   "version": "3.9.16"
  }
 },
 "nbformat": 4,
 "nbformat_minor": 1
}
